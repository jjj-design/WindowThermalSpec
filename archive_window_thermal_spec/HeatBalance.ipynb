{
 "cells": [
  {
   "cell_type": "code",
   "execution_count": 1,
   "metadata": {},
   "outputs": [
    {
     "name": "stdout",
     "output_type": "stream",
     "text": [
      "Importing Jupyter notebook from PaneResistance.ipynb\n",
      "Importing Jupyter notebook from ClosedCavityResistance.ipynb\n",
      "Importing Jupyter notebook from SurfaceResistance.ipynb\n"
     ]
    }
   ],
   "source": [
    "from collections import namedtuple\n",
    "import csv\n",
    "import math\n",
    "import numpy as np\n",
    "import matplotlib.pyplot as plt\n",
    "\n",
    "import nbimporter\n",
    "import PaneResistance as PR\n",
    "import ClosedCavityResistance as CCR\n",
    "import SurfaceResistance as SR"
   ]
  },
  {
   "cell_type": "markdown",
   "metadata": {},
   "source": [
    "# グレージング複合体の熱平衡を計算するモジュール"
   ]
  },
  {
   "cell_type": "markdown",
   "metadata": {},
   "source": [
    "## 1. Functions  "
   ]
  },
  {
   "cell_type": "markdown",
   "metadata": {
    "collapsed": true
   },
   "source": [
    "グレージング複合体の熱平衡モデルによって面材間の表面温度と熱抵抗を計算する。"
   ]
  },
  {
   "cell_type": "markdown",
   "metadata": {},
   "source": [
    "### 入力値  \n",
    "\n",
    "$ d_{gl,j,l} $ ：層$j$の面材を構成する材料$l$の厚さ (m)  \n",
    "$ \\lambda_{gl,j,l} $ ：層$j$の面材を構成する材料$l$の熱伝導率 [W/(m･K)]  \n",
    "$ I_{\\alpha,j} $ ：層$j$の面材の吸収日射量 (W/m<sup>2</sup>)  \n",
    "$ \\epsilon_{gl,f} $ ：層$j$の面材の正面側の放射率  \n",
    "$ \\epsilon_{gl,b} $ ：層$j$の面材の背面側の放射率  \n",
    "$ d_{gap,j} $ ：層$j-1$と層$j$の面材間の中空層の厚さ (m)  \n",
    "gas1：気体1の種類flag（0：空気、1：アルゴン、2：SF6、3：クリプトン）  \n",
    "gas2：気体2の種類flag（0：空気、1：アルゴン、2：SF6、3：クリプトン）  \n",
    "gasratio1：気体1の容積割合（0.0～1.0）  \n",
    "gasdir：中空層の熱流方向flag（0：中空層が垂直で熱流方向が水平、1：中空層が水平で熱流方向が上向き、2：中空層が45度で熱流方向が上向き）  \n",
    "season：季節のflag（夏期：0、冬期：1）  \n",
    "$ \\theta_{ex} $ ：外気温 (℃)  \n",
    "$ \\theta_{in} $ ：室温 (℃)  "
   ]
  },
  {
   "cell_type": "markdown",
   "metadata": {},
   "source": [
    "### 出力値\n",
    "$ \\theta_{f,j} $ ：層$j$の面材の正面側表面温度 (℃)  \n",
    "$ \\theta_{b,j} $ ：層$j$の面材の背面側表面温度 (℃)  \n",
    "$ R_{s,j-1,j} $ ：層$j-1$と層$j$の面材間の中空層の熱抵抗 (m<sup>2</sup>･K/W)  \n",
    "$ R_{sur, ex} $ ：屋外側表面熱伝達抵抗 (m<sup>2</sup>･K/W)  \n",
    "$ R_{sur, in} $ ：室内側表面熱伝達抵抗 (m<sup>2</sup>･K/W)  "
   ]
  },
  {
   "cell_type": "markdown",
   "metadata": {},
   "source": [
    "### 計算方法  \n",
    "\n",
    "#### データ構造と値の範囲  \n",
    "\n",
    "$ d_{gl} $・$ \\lambda_{gl} $・$ I_{\\alpha} $・$ \\epsilon_{gl,f} $・$ \\epsilon_{gl,b} $の組み合わせをグレージング層の物性値のクラス『glp＿input』と定義する。  \n",
    "$ d_{gap} $・gas1・gas2・gasratio1・gasdirの組み合わせをグレージング層間の中空層の物性値のクラス『gpp＿input』と定義する。   \n",
    "season・$ \\theta_{ex} $・$ \\theta_{in} $の組み合わせを気象条件のクラス『wp＿input』と定義する。  \n"
   ]
  },
  {
   "cell_type": "code",
   "execution_count": 2,
   "metadata": {},
   "outputs": [],
   "source": [
    "class glp_input():\n",
    "    def __init__( self, d, lmd, ia, epf, epb ):\n",
    "        self.d = d\n",
    "        self.lmd = lmd\n",
    "        self.ia = ia\n",
    "        self.epf = epf\n",
    "        self.epb = epb\n",
    "        \n",
    "#d：グレージング層jの厚さ(m)\n",
    "#lmd：グレージング層jの熱伝導率[W/(m・K)]\n",
    "#ia：グレージング層jの吸収日射量(W/m2)\n",
    "#epf：グレージング層jの正面側の放射率\n",
    "#epb：グレージング層jの背面側の放射率\n",
    "\n",
    "class gpp_input():\n",
    "    def __init__( self, d, gas1, gas2, gas1ratio, gasdir ):\n",
    "        self.d = d\n",
    "        self.gas1 = gas1\n",
    "        self.gas2 = gas2\n",
    "        self.gas1ratio = gas1ratio\n",
    "        self.gasdir = gasdir\n",
    "        \n",
    "#d：グレージング層間の中空層の厚さ(m)\n",
    "#gas1：気体1の種類flag（0：空気、1：アルゴン、2：SF6、3：クリプトン）\n",
    "#gas2：気体2の種類flag（0：空気、1：アルゴン、2：SF6、3：クリプトン）\n",
    "#gas1ratio：気体1の容積割合（0.0～1.0）\n",
    "#gasdir：中空層の熱流方向flag（0：中空層が垂直で熱流方向が水平、1：中空層が水平で熱流方向が上向き、2：中空層が45度で熱流方向が上向き）\n",
    "\n",
    "class wp_input():\n",
    "    def __init__( self, season, te, ti ):\n",
    "        self.season = season\n",
    "        self.te = te\n",
    "        self.ti = ti\n",
    "\n",
    "#season：季節のflag（夏期：0、冬期：1）\n",
    "#te：外気温(℃)\n",
    "#ti：室温（℃）"
   ]
  },
  {
   "cell_type": "markdown",
   "metadata": {},
   "source": [
    "#### 表面温度と熱抵抗の収束計算  \n",
    "\n",
    "各面材間における日射吸収と熱伝達との熱平衡の計算方法を以下に示す。  \n",
    "\n",
    "（参考：JIS A 2103：2014 5.4.4 面材間の中空層の熱抵抗）  "
   ]
  },
  {
   "cell_type": "markdown",
   "metadata": {},
   "source": [
    "$$\n",
    "\\begin{eqnarray}\n",
    " &\\displaystyle \\frac{I_{\\alpha,j}}{2} = \\frac{\\theta_{f,j} - \\theta_{b,j-1}}{R_{s,j}(\\theta_{b,j-1}, \\theta_{f,j})} + \\frac{\\theta_{f,j} - \\theta_{b,j}}{R_{gl,j}}& \\qquad\\qquad\\text{(1)} \\nonumber\\\\\n",
    " \\nonumber \\\\\n",
    " &\\displaystyle \\frac{I_{\\alpha,j}}{2} = \\frac{\\theta_{b,j} - \\theta_{f,j}}{R_{gl,j}} + \\frac{\\theta_{b,j} - \\theta_{f,j+1}}{R_{s,j+1}(\\theta_{b,j}, \\theta_{f,j+1})}& \\qquad\\qquad\\text{(2)} \\nonumber\\\\\n",
    "\\end{eqnarray}\n",
    "$$"
   ]
  },
  {
   "cell_type": "markdown",
   "metadata": {},
   "source": [
    "ここで、  \n",
    "\n",
    "$ I_{\\alpha,j} $ ：層$j$での吸収日射量 (W/m<sup>2</sup>)  \n",
    "$ \\theta_{f,j} $ ：層$j$の面材の正面側表面温度 (℃)  \n",
    "$ \\theta_{b,j} $ ：層$j$の面材の背面側表面温度 (℃)  \n",
    "$ R_{gl,j} $ ：層$j$の面材の熱抵抗 (m<sup>2</sup>･K/W)  \n",
    "$ R_{s,j}(\\theta_{b,j-1}, \\theta_{f,j}) $ ：層$j-1$と層$j$の面材間の中空層の熱抵抗 (m<sup>2</sup>･K/W) \n",
    "\n",
    "である。 \n",
    "\n",
    "$ \\theta_{b,-1} = \\theta_{ex} $、$ \\theta_{f,n} = \\theta_{in} $、$ R_{s, 0} = R_{sur, ex} $、$ R_{s, n} = R_{sur, in} $として、式(1)と式(2)から得られる$n$層のグレージング複合体の熱平衡の連立方程式を以下に示す。  "
   ]
  },
  {
   "cell_type": "markdown",
   "metadata": {},
   "source": [
    "$$ \n",
    "\\begin{pmatrix} \n",
    " \\frac{1}{R_{sur, ex}}+\\frac{1}{R_{gl, 0}} &-\\frac{1}{R_{gl, 0}} &&&&& \\\\\n",
    " -\\frac{1}{R_{gl, 0}} &\\frac{1}{R_{gl, 0}}+\\frac{1}{R_{s, 1}} &-\\frac{1}{R_{s, 1}} &&&& \\\\\n",
    " &-\\frac{1}{R_{s, 1}} &\\frac{1}{R_{s, 1}}+\\frac{1}{R_{gl, 1}} &-\\frac{1}{R_{gl, 1}} &&O& \\\\\n",
    " &&-\\frac{1}{R_{gl, 1}} &\\frac{1}{R_{gl, 1}}+\\frac{1}{R_{s, 2}} &&& \\\\\n",
    " &&&&&\\ddots&& \\\\\n",
    " &&&&\\ddots&&& \\\\\n",
    " &O&&\\ddots&&&& \\\\\n",
    " &&&&&\\frac{1}{R_{s, n-1}}+\\frac{1}{R_{gl, n-1}} &-\\frac{1}{R_{gl, n-1}}  \\\\\n",
    " &&&&&-\\frac{1}{R_{gl, n-1}} &\\frac{1}{R_{gl, n-1}}+\\frac{1}{R_{sur, in}}  \\\\\n",
    "\\end{pmatrix} \n",
    "\\begin{pmatrix} \n",
    " \\theta_{f, 0} \\\\\n",
    " \\theta_{b, 0} \\\\\n",
    " \\theta_{f, 1} \\\\\n",
    " \\vdots \\\\\n",
    " \\vdots \\\\\n",
    " \\vdots \\\\\n",
    " \\theta_{b, n-1} \\\\\n",
    "\\end{pmatrix} \n",
    "= \n",
    "\\begin{pmatrix} \n",
    " \\frac{I_{\\alpha, 0}}{2} + \\frac{\\theta_{ex}}{R_{sur, ex}} \\\\ \n",
    " \\frac{I_{\\alpha, 0}}{2} \\\\\n",
    " \\frac{I_{\\alpha, 1}}{2} \\\\ \n",
    " \\frac{I_{\\alpha, 1}}{2} \\\\\n",
    " \\vdots \\\\\n",
    " \\vdots \\\\\n",
    " \\vdots \\\\\n",
    " \\frac{I_{\\alpha, n-1}}{2} \\\\ \n",
    " \\frac{I_{\\alpha, n-1}}{2} + \\frac{\\theta_{in}}{R_{sur, in}} \\\\\n",
    "\\end{pmatrix} \n",
    "\\qquad\\qquad\\text{(3)}\n",
    "$$"
   ]
  },
  {
   "cell_type": "markdown",
   "metadata": {},
   "source": [
    "![image1.png][attached1]\n",
    "[attached1]:img\\image1.png  \n",
    "\n",
    "<div style=\"text-align: center;\">\n",
    "$n$層のグレージング複合体の熱平衡モデル\n",
    "</div>\n",
    "\n",
    "ここで、$ R_{gl,j} $ = $ R_{2j+1} $、$ R_{s,j}(\\theta_{b,j-1}, \\theta_{f,j}) $ = $ R_{2j} $、$ \\theta_{f,j} $ = $ \\theta_{2j+1} $、$ \\theta_{b,j} $ = $ \\theta_{2(j+1)} $、$ \\frac{I_{\\alpha,j}}{2} = q_{\\alpha,2j+1} $、$ \\frac{I_{\\alpha,j}}{2} = q_{\\alpha,2(j+1)} $と置き換えた場合の面材と中空層の層の番号の関係を以下に示す。"
   ]
  },
  {
   "cell_type": "markdown",
   "metadata": {},
   "source": [
    "$$ \n",
    "\\begin{pmatrix} \n",
    " \\frac{1}{R_{0}}+\\frac{1}{R_{1}} & -\\frac{1}{R_{1}} &&&&& \\\\\n",
    " -\\frac{1}{R_{1}} & \\frac{1}{R_{1}}+\\frac{1}{R_{2}} & -\\frac{1}{R_{2}} &&&& \\\\\n",
    " &-\\frac{1}{R_{2}} & \\frac{1}{R_{2}}+\\frac{1}{R_{3}} & -\\frac{1}{R_{3}} &&O& \\\\\n",
    " &&-\\frac{1}{R_{3}} & \\frac{1}{R_{3}}+\\frac{1}{R_{4}} &&& \\\\\n",
    " &&&&&\\ddots&& \\\\\n",
    " &&&&\\ddots&&& \\\\\n",
    " &O&&\\ddots&&&& \\\\\n",
    " &&&&& \\frac{1}{R_{2(n-1)}}+\\frac{1}{R_{2(n-1)+1}} & -\\frac{1}{R_{2(n-1)+1}}  \\\\\n",
    " &&&&&-\\frac{1}{R_{2(n-1)+1}} & \\frac{1}{R_{2(n-1)+1}}+\\frac{1}{R_{2n}}  \\\\\n",
    "\\end{pmatrix} \n",
    "\\begin{pmatrix} \n",
    " \\theta_{1} \\\\\n",
    " \\theta_{2} \\\\\n",
    " \\theta_{3} \\\\\n",
    " \\vdots \\\\\n",
    " \\vdots \\\\\n",
    " \\vdots \\\\\n",
    " \\theta_{2n} \\\\\n",
    "\\end{pmatrix} \n",
    "= \n",
    "\\begin{pmatrix} \n",
    " \\frac{q_{\\alpha,1}}{2} + \\frac{\\theta_{0}}{R_{0}} \\\\ \n",
    " \\frac{q_{\\alpha,2}}{2} \\\\\n",
    " \\frac{q_{\\alpha,3}}{2} \\\\ \n",
    " \\frac{q_{\\alpha,4}}{2} \\\\\n",
    " \\vdots \\\\\n",
    " \\vdots \\\\\n",
    " \\vdots \\\\\n",
    " \\frac{q_{\\alpha,2(n-1)+1}}{2} \\\\ \n",
    " \\frac{q_{\\alpha,2n}}{2} + \\frac{\\theta_{2n+1}}{R_{2n}} \\\\\n",
    "\\end{pmatrix} \n",
    "\\qquad\\qquad\\text{(4)}\n",
    "$$"
   ]
  },
  {
   "cell_type": "markdown",
   "metadata": {},
   "source": [
    "![image2.png][attached2]\n",
    "[attached2]:img\\image2.png\n",
    "\n",
    "<div style=\"text-align: center;\">\n",
    "$n$層のグレージング複合体の熱平衡モデル（記号置換後）\n",
    "</div>\n",
    "\n",
    "式(4)の左辺の熱抵抗$R$に関する行列は正定値対称行列であるため、修正コレスキー分解によって熱抵抗$R$及び温度$\\theta$を求める。"
   ]
  },
  {
   "cell_type": "code",
   "execution_count": 3,
   "metadata": {},
   "outputs": [],
   "source": [
    "def Heat_balance(L, M, N):\n",
    "    \n",
    "    #面材の層数\n",
    "    n = len(L.d)\n",
    "    \n",
    "    #面材の熱抵抗\n",
    "    Rgl = np.zeros(n)\n",
    "    for i in range(n):\n",
    "        Rgl_in = PR.gl_input(L.d[i], L.lmd[i])\n",
    "        Rgl[i] = PR.Glazing_Resistance(Rgl_in)\n",
    "    \n",
    "    q_a = np.zeros(2 * n + 1)\n",
    "    q_a[0] = 0.\n",
    "    for i in range(1, n + 1):   \n",
    "        q_a[2 * (i - 1) + 1] = L.ia[i - 1] / 2.\n",
    "        q_a[2 * i] = L.ia[i - 1] / 2.\n",
    "        \n",
    "    r_t = np.zeros(2 * n + 2)\n",
    "    told = np.zeros(2 * n + 2)\n",
    "    r_R = np.zeros(2 * n + 1)\n",
    "    Rold = np.zeros(2 * n + 1)\n",
    "\n",
    "    #温度の初期値\n",
    "    for i in range(0, 2 * n + 2):\n",
    "        r_t[i] = N.te +(N.ti - N.te) * i / (2 * n + 1)\n",
    "        told[i] = r_t[i]\n",
    "\n",
    "    while True:\n",
    "        #前回の温度\n",
    "        for i in range(2 * n + 2):\n",
    "            told[i] = r_t[i]\n",
    "    \n",
    "        #前回の熱抵抗\n",
    "        for i in range(2 * n + 1):\n",
    "            Rold[i] = r_R[i]\n",
    "\n",
    "        #面材間の中空層の熱抵抗\n",
    "        Rs = np.zeros(n - 1)\n",
    "        for i in range(n - 1):\n",
    "            Rs_in = CCR.gap_input(r_t[2 * (i + 1)], r_t[2 * (i + 1) + 1], L.epb[i], L.epf[i + 1], \\\n",
    "                                                       M.d[i], M.gas1[i], M.gas2[i], M.gas1ratio[i], M.gasdir[i])\n",
    "            Rs[i] = CCR.Gap_Resistance(Rs_in)\n",
    "\n",
    "        #表面熱伝達抵抗（0：夏期室内、1：夏期屋外、2：冬期室内、3：冬期屋外）\n",
    "        Rsur_in = [SR.shc_input(r_t[1], N.te, L.epf[0], 2 * N.season + 1), \n",
    "                   SR.shc_input(r_t[2 * n], N.ti, L.epb[n - 1], 2 * N.season)]\n",
    "        \n",
    "        Rsur = np.zeros(len(Rsur_in))\n",
    "        for i in range(len(Rsur_in)):\n",
    "            Rsur[i] = SR.Surface_Resistance(Rsur_in[i])\n",
    "\n",
    "        #熱抵抗の配列\n",
    "        r_R[0] = Rsur[0]\n",
    "        for i in range(n):\n",
    "            r_R[2 * i + 1] = Rgl[i]\n",
    "        for i in range(n - 1):\n",
    "            r_R[2 * (i + 1)] = Rs[i]\n",
    "        r_R[2 * n] = Rsur[1]\n",
    "\n",
    "        #行列式の生成\n",
    "        ca = np.zeros((2 * n, 2 * n))\n",
    "        cb = np.zeros((2 * n))\n",
    "        cx = np.zeros((2 * n))\n",
    "\n",
    "        for i in range(2 * n + 1):\n",
    "            if r_R[i] == 0.:\n",
    "                r_R[i] = 10. ** (-10.)\n",
    "        for i in range(2 * n):\n",
    "            ca[i][i] = 1/ r_R[i] + 1/ r_R[i + 1]\n",
    "            if i == 0:\n",
    "                cb[i] = q_a[i + 1] + r_t[i] / r_R[i]\n",
    "            elif i == 2 * n - 1:\n",
    "                cb[i] = q_a[i + 1] + r_t[i + 2] / r_R[i + 1]\n",
    "            else:\n",
    "                cb[i] = q_a[i + 1]\n",
    "\n",
    "        for i in range(2 * n - 1):\n",
    "            ca[i + 1][i] = - 1/ r_R[i + 1]\n",
    "            ca[i][i + 1] = - 1/ r_R[i + 1]\n",
    "        #修正コレスキー分解\n",
    "        cx = modified_Cholesky_decomposition(ca, cb)\n",
    "\n",
    "        #表面温度の取得\n",
    "        for i in range(0, 2 * n):\n",
    "            r_t[i + 1] = cx[i]\n",
    "\n",
    "        #温度の収束判定\n",
    "        tcdt = 1\n",
    "        cdt =  np.zeros(2 * n + 2)\n",
    "        for i in range(2 * n + 2):\n",
    "            if abs(r_t[i] - told[i]) < 10 **(-10):\n",
    "                cdt[i] = 1\n",
    "            else:\n",
    "                cdt[i] = 0\n",
    "            tcdt = tcdt * cdt[i]\n",
    "\n",
    "        #熱抵抗の収束判定\n",
    "        tcdR = 1\n",
    "        cdR =  np.zeros(2 * n + 1)\n",
    "        for i in range(0, 2 * n + 1):\n",
    "            if abs(r_R[i] - Rold[i]) < 10 **(-10):\n",
    "                cdR[i] = 1\n",
    "            else:\n",
    "                cdR[i] = 0\n",
    "            tcdR = tcdR * cdR[i]\n",
    "\n",
    "        tcd = tcdt + tcdR\n",
    "        if tcd == 2:\n",
    "            break\n",
    "\n",
    "    return r_t, r_R"
   ]
  },
  {
   "cell_type": "markdown",
   "metadata": {},
   "source": [
    "#### 修正コレスキー分解\n",
    "\n",
    "修正コレスキー分解の解法を以下に示す。  "
   ]
  },
  {
   "cell_type": "markdown",
   "metadata": {},
   "source": [
    "$$\n",
    "\\begin{eqnarray}\n",
    " &\\displaystyle \\boldsymbol{Ax} = \\boldsymbol{b}& \\qquad\\qquad\\text{(5)} \\nonumber\\\\\n",
    "\\end{eqnarray}\n",
    "$$"
   ]
  },
  {
   "cell_type": "markdown",
   "metadata": {},
   "source": [
    "ここで、"
   ]
  },
  {
   "cell_type": "markdown",
   "metadata": {},
   "source": [
    "$ \n",
    "\\boldsymbol{A}=\n",
    "\\begin{pmatrix} \n",
    " a_{1,1} & a_{1,2} & \\cdots & a_{1,n} \\\\\n",
    " a_{2,1} & a_{2,2} & \\cdots & a_{2,n} \\\\\n",
    " \\vdots  & \\vdots  & \\ddots & \\vdots  \\\\\n",
    " a_{n,1} & a_{n,2} & \\cdots & a_{n,n} \\\\\n",
    "\\end{pmatrix}\n",
    "$\n",
    "、\n",
    "$\n",
    "\\boldsymbol{x}=\n",
    "\\begin{pmatrix} \n",
    " x_{1} \\\\\n",
    " x_{2} \\\\\n",
    " \\vdots \\\\\n",
    " x_{n} \\\\\n",
    "\\end{pmatrix}\n",
    "$\n",
    "、\n",
    "$\n",
    "\\boldsymbol{b}=\n",
    "\\begin{pmatrix} \n",
    " b_{1} \\\\\n",
    " b_{2} \\\\\n",
    " \\vdots \\\\\n",
    " b_{n} \\\\\n",
    "\\end{pmatrix}\n",
    "$"
   ]
  },
  {
   "cell_type": "markdown",
   "metadata": {},
   "source": [
    "ただし、\n",
    "$\n",
    "\\begin{eqnarray}\n",
    " \\displaystyle a_{i,j} = a_{j,i} \\nonumber\\\\\n",
    "\\end{eqnarray}\n",
    "$"
   ]
  },
  {
   "cell_type": "markdown",
   "metadata": {},
   "source": [
    "行列$\\boldsymbol{A}$を以下のように分解する。"
   ]
  },
  {
   "cell_type": "markdown",
   "metadata": {},
   "source": [
    "$$\n",
    "\\begin{eqnarray}\n",
    " &\\displaystyle \\boldsymbol{A} = \\boldsymbol{LDL}^T& \\qquad\\qquad\\text{(6)} \\nonumber\\\\\n",
    "\\end{eqnarray}\n",
    "$$"
   ]
  },
  {
   "cell_type": "markdown",
   "metadata": {},
   "source": [
    "ここで、"
   ]
  },
  {
   "cell_type": "markdown",
   "metadata": {},
   "source": [
    "$ \n",
    "\\boldsymbol{L}=\n",
    "\\begin{pmatrix} \n",
    " 1 &&&& \\\\\n",
    " l_{2,1} & 1 &&O& \\\\\n",
    " l_{3,1} & l_{3,2} & 1 && \\\\\n",
    " \\vdots  & \\vdots  & \\vdots  & \\ddots & \\\\\n",
    " l_{n,1} & l_{n,2} & l_{n,3} & \\cdots & 1 \\\\\n",
    "\\end{pmatrix}\n",
    "$\n",
    "、\n",
    "$\n",
    "\\boldsymbol{D}=\n",
    "\\begin{pmatrix} \n",
    " d_{1,1} &&&& \\\\\n",
    " & d_{2,2} &&O& \\\\\n",
    " && \\ddots && \\\\\n",
    " &O&& \\ddots & \\\\\n",
    " &&&& d_{n,n} \\\\\n",
    "\\end{pmatrix}\n",
    "$\n",
    "、\n",
    "$\n",
    "\\boldsymbol{L}^T=\n",
    "\\begin{pmatrix} \n",
    " 1 & l_{1,2} & l_{1,3} & \\cdots & l_{1,n} \\\\\n",
    " & 1 & l_{2,2} & \\cdots & l_{2,n} \\\\\n",
    " && 1 & \\cdots & l_{3,n} \\\\\n",
    " &O&& \\ddots &\\vdots \\\\\n",
    " &&&& 1 \\\\\n",
    "\\end{pmatrix}\n",
    "$  "
   ]
  },
  {
   "cell_type": "markdown",
   "metadata": {},
   "source": [
    "ただし、\n",
    "$\n",
    "\\begin{eqnarray}\n",
    " \\displaystyle l_{i,j} = l_{j,i} \\nonumber\\\\\n",
    "\\end{eqnarray}\n",
    "$"
   ]
  },
  {
   "cell_type": "markdown",
   "metadata": {},
   "source": [
    "この関係を整理すると、以下のようになる。"
   ]
  },
  {
   "cell_type": "markdown",
   "metadata": {},
   "source": [
    "$$\n",
    "\\begin{eqnarray}\n",
    " &\\displaystyle d_{1,1} = a_{1,1}& \\qquad\\qquad\\text{(7)} \\nonumber\\\\\n",
    " \\nonumber \\\\\n",
    " &\\displaystyle l_{k,i} = \\frac{a_{k,i} - \\sum_{j=1}^{i-1} l_{k,j} \\cdot l_{i,j} \\cdot d_{j,j}}{d_{i,i}}& \\qquad\\qquad\\text{(8)} \\nonumber\\\\\n",
    " \\nonumber \\\\\n",
    " &\\displaystyle d_{k,k} = a_{k,k} - \\sum_{i=1}^{k-1} l_{k,i}^2 \\cdot d_{i,i}& \\qquad\\qquad\\text{(9)} \\nonumber\\\\\n",
    "\\end{eqnarray}\n",
    "$$"
   ]
  },
  {
   "cell_type": "markdown",
   "metadata": {},
   "source": [
    "式(6)より、 "
   ]
  },
  {
   "cell_type": "markdown",
   "metadata": {},
   "source": [
    "$$\n",
    "\\begin{eqnarray}\n",
    " &\\displaystyle \\boldsymbol{LDL}^T \\boldsymbol{x} = \\boldsymbol{b}& \\qquad\\qquad\\text{(10)} \\nonumber\\\\\n",
    "\\end{eqnarray}\n",
    "$$"
   ]
  },
  {
   "cell_type": "markdown",
   "metadata": {},
   "source": [
    "$\n",
    "\\begin{eqnarray}\n",
    " \\displaystyle \\boldsymbol{DL}^T \\boldsymbol{x} = \\boldsymbol{y}\\nonumber\\\\\n",
    "\\end{eqnarray}\n",
    "$\n",
    "とすると、"
   ]
  },
  {
   "cell_type": "markdown",
   "metadata": {},
   "source": [
    "$$\n",
    "\\begin{eqnarray}\n",
    " &\\displaystyle \\boldsymbol{Ly} = \\boldsymbol{b}& \\qquad\\qquad\\text{(11)} \\nonumber\\\\\n",
    "\\end{eqnarray}\n",
    "$$"
   ]
  },
  {
   "cell_type": "markdown",
   "metadata": {},
   "source": [
    "ここで、  "
   ]
  },
  {
   "cell_type": "markdown",
   "metadata": {},
   "source": [
    "$ \n",
    "\\boldsymbol{y}=\n",
    "\\begin{pmatrix} \n",
    " y_{1} \\\\\n",
    " y_{2} \\\\\n",
    " \\vdots \\\\\n",
    " y_{n} \\\\\n",
    "\\end{pmatrix}\n",
    "$"
   ]
  },
  {
   "cell_type": "markdown",
   "metadata": {},
   "source": [
    "この関係を整理すると、以下のようになる。  "
   ]
  },
  {
   "cell_type": "markdown",
   "metadata": {},
   "source": [
    "$$\n",
    "\\begin{eqnarray}\n",
    " &\\displaystyle y_i = b_i \\quad (i=1)& \\qquad\\qquad\\text{(12)} \\nonumber\\\\\n",
    " \\nonumber \\\\\n",
    " &\\displaystyle y_i = b_i - \\sum_{j=1}^{n-1} l_{i,j} \\cdot y_j \\quad (2\\leq i \\leq n)& \\qquad\\qquad\\text{(13)} \\nonumber\\\\\n",
    " \\nonumber \\\\\n",
    " &\\displaystyle x_i = \\frac{y_i}{d_{i,i}} \\quad (i=n)& \\qquad\\qquad\\text{(14)} \\nonumber\\\\\n",
    " \\nonumber \\\\\n",
    " &\\displaystyle x_i = \\frac{y_i - d_{i,i} \\cdot \\sum_{j=i+1}^{n} l_{j,i} \\cdot x_j}{d_{i,i}} \\quad (1\\leq i \\leq n-1)& \\qquad\\qquad\\text{(15)} \\nonumber\\\\\n",
    "\\end{eqnarray}\n",
    "$$"
   ]
  },
  {
   "cell_type": "code",
   "execution_count": 4,
   "metadata": {},
   "outputs": [],
   "source": [
    "#修正コレスキー分解\n",
    "def modified_Cholesky_decomposition(a, b):\n",
    "\n",
    "    n = len(a)\n",
    "    d = np.zeros(n)\n",
    "    l = np.zeros((n,n))\n",
    "    x = np.zeros(n)\n",
    "    y = np.zeros(n)\n",
    "\n",
    "    d[0] = a[0][0]\n",
    "\n",
    "    for i in range(n):\n",
    "        l[i][i] = 1.\n",
    "\n",
    "    for k in range(1,n):\n",
    "        s = 0.\n",
    "        t = 0.\n",
    "        for i in range(k):\n",
    "            for j in range(i):\n",
    "                s -= l[k][j] * l[i][j] * d[j]\n",
    "            l[k][i] = (a[k][i] + s) / d[i]\n",
    "\n",
    "        for i in range(k):\n",
    "            t -= l[k][i] ** 2. * d[i]\n",
    "\n",
    "        d[k] = a[k][k] + t\n",
    "\n",
    "    y[0] = b[0]\n",
    "    for i in range(1,n):\n",
    "        u = 0.\n",
    "        for j in range(n-1):\n",
    "            u -= l[i][j] * y[j]\n",
    "\n",
    "        y[i] = b[i] + u\n",
    "\n",
    "    x[n-1] = y[n-1] / d[n-1]\n",
    "    for i in range(n-2,-1,-1):\n",
    "        v = 0.\n",
    "        for j in range(n-1,i,-1):\n",
    "            v -= l[j][i] * x[j]\n",
    "\n",
    "        x[i] = y[i] / d[i] + v\n",
    "\n",
    "    return x"
   ]
  },
  {
   "cell_type": "markdown",
   "metadata": {},
   "source": [
    "#### Example"
   ]
  },
  {
   "cell_type": "code",
   "execution_count": 5,
   "metadata": {},
   "outputs": [
    {
     "name": "stdout",
     "output_type": "stream",
     "text": [
      "tglz [30.         30.26096248 30.24131152 29.33911229 29.31060289 27.37569226\n",
      " 27.32979106 25.        ]\n",
      "Rglz [0.07521376 0.015      0.14815071 0.003      0.14980114 0.003\n",
      " 0.1317437 ]\n"
     ]
    }
   ],
   "source": [
    "if __name__ == '__main__':\n",
    "\n",
    "    #グレージングの厚さ\n",
    "    gl_d = [[0.003, 0.006], [0.003], [0.003]]\n",
    "\n",
    "    #グレージングの熱伝導率\n",
    "    gl_lmd = [[1., 0.5], [1.], [1.]]\n",
    "\n",
    "    #各層の吸収日射量\n",
    "    gl_ia = [9.55935027, 6.8267886, 4.76774099]\n",
    "\n",
    "    #各層の正面側の放射率\n",
    "    gl_epf = [0.837, 0.837, 0.837]\n",
    "\n",
    "    #各層の背面側の放射率\n",
    "    gl_epb = [0.837, 0.837, 0.837]\n",
    "\n",
    "    #中空層の厚さ\n",
    "    gp_d = [0.012, 0.012]\n",
    "\n",
    "    #中空層の気体1の種類flag（0：空気、1：アルゴン、2：SF6、3：クリプトン）\n",
    "    gp_gas1 = [0, 0]\n",
    "\n",
    "    #中空層の気体2の種類flag（0：空気、1：アルゴン、2：SF6、3：クリプトン）\n",
    "    gp_gas2 = [0, 0]\n",
    "\n",
    "    # 中空層の気体1の容積割合（0.0～1.0）\n",
    "    gp_gas1r = [1., 1.]\n",
    "\n",
    "    # 中空層の熱流方向flag（0：中空層が垂直で熱流方向が水平、1：中空層が水平で熱流方向が上向き、2：中空層が45度で熱流方向が上向き）\n",
    "    gp_dir = [0, 0]\n",
    "\n",
    "    season = 0 #夏期：0、冬期：1\n",
    "    if season == 0:\n",
    "        te = 30.  #外気温\n",
    "        ti = 25.  #室温\n",
    "    elif season == 1:\n",
    "        te = 0.   #外気温\n",
    "        ti = 20.  #室温\n",
    "\n",
    "    glp_in = glp_input(gl_d, gl_lmd, gl_ia, gl_epf, gl_epb)\n",
    "    gpp_in = gpp_input(gp_d, gp_gas1, gp_gas2, gp_gas1r, gp_dir)\n",
    "    wp_in = wp_input(season, te, ti)\n",
    "\n",
    "    hbr = Heat_balance(glp_in, gpp_in, wp_in)\n",
    "\n",
    "    tglz = hbr[0][0 : 2 * (len(gl_d) + 1)]\n",
    "    Rglz = hbr[1][0 : 2 * len(gl_d) + 1]\n",
    "\n",
    "    print ('tglz', tglz)\n",
    "    print ('Rglz', Rglz)"
   ]
  }
 ],
 "metadata": {
  "kernelspec": {
   "display_name": "Python 3",
   "language": "python",
   "name": "python3"
  },
  "language_info": {
   "codemirror_mode": {
    "name": "ipython",
    "version": 3
   },
   "file_extension": ".py",
   "mimetype": "text/x-python",
   "name": "python",
   "nbconvert_exporter": "python",
   "pygments_lexer": "ipython3",
   "version": "3.6.4"
  }
 },
 "nbformat": 4,
 "nbformat_minor": 2
}
