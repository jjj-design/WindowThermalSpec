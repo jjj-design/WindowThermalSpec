{
 "cells": [
  {
   "cell_type": "code",
   "execution_count": 1,
   "metadata": {},
   "outputs": [],
   "source": [
    "from collections import namedtuple\n",
    "import csv\n",
    "import math\n",
    "import numpy as np\n",
    "import matplotlib.pyplot as plt"
   ]
  },
  {
   "cell_type": "markdown",
   "metadata": {},
   "source": [
    "# ロールスクリーンの斜入射特性を計算するモジュール"
   ]
  },
  {
   "cell_type": "markdown",
   "metadata": {},
   "source": [
    "## 1. Functions  "
   ]
  },
  {
   "cell_type": "markdown",
   "metadata": {},
   "source": [
    "垂直入射時のロールスクリーンの日射透過率及び日射反射率から任意の入射角におけるロールスクリーンの日射透過率及び日射反射率を計算する。"
   ]
  },
  {
   "cell_type": "markdown",
   "metadata": {},
   "source": [
    "### 入力値  \n",
    "$ \\tau_{0,f} $ ：ロールスクリーンの正面側からの入射光に対する垂直入射時の日射透過率  \n",
    "$ \\tau_{0,b} $ ：ロールスクリーンの背面側からの入射光に対する垂直入射時の日射透過率  \n",
    "$ \\rho_{0,f} $ ：ロールスクリーンの正面側からの入射光に対する垂直入射時の日射反射率  \n",
    "$ \\rho_{0,b} $ ：ロールスクリーンの背面側からの入射光に対する垂直入射時の日射反射率  \n",
    "$ \\phi$        ：日射の入射角（°）"
   ]
  },
  {
   "cell_type": "markdown",
   "metadata": {},
   "source": [
    "### 出力値\n",
    "$ \\tau_{\\phi,f} $ ：ロールスクリーンの正面側からの入射光に対する入射角$\\phi$の日射透過率  \n",
    "$ \\tau_{\\phi,b} $ ：ロールスクリーンの背面側からの入射光に対する入射角$\\phi$の日射透過率  \n",
    "$ \\rho_{\\phi,f} $ ：ロールスクリーンの正面側からの入射光に対する入射角$\\phi$の日射反射率  \n",
    "$ \\rho_{\\phi,b} $ ：ロールスクリーンの背面側からの入射光に対する入射角$\\phi$の日射反射率"
   ]
  },
  {
   "cell_type": "markdown",
   "metadata": {},
   "source": [
    "### 計算方法  \n",
    "\n",
    "#### データ構造と値の範囲  \n",
    "\n",
    "$\\tau_{0,f}$・$\\tau_{0,b}$・$\\rho_{0,f}$の組み合わせをクラス『role＿input』と定義する。  \n",
    "全ての値は0.0以上1.0以下の値をとる。  \n",
    "$\\tau_{0,f}$ と $\\rho_{0,f}$ の合計は1.0を超えない。  \n",
    "$\\tau_{0,b}$ と $\\rho_{0,b}$ の合計は1.0を超えない。  "
   ]
  },
  {
   "cell_type": "code",
   "execution_count": 2,
   "metadata": {},
   "outputs": [],
   "source": [
    "class role_input():\n",
    "    def __init__( self, TRS0f, TRS0b, REF0f, REF0b ):\n",
    "        self.TRS0f = TRS0f\n",
    "        self.TRS0b = TRS0b\n",
    "        self.REF0f = REF0f\n",
    "        self.REF0b = REF0b\n",
    "        \n",
    "# TRS0f：正面側からの入射光に対する垂直入射時の日射透過率\n",
    "# TRS0b：背面側からの入射光に対する垂直入射時の日射透過率\n",
    "# REF0f：正面側からの入射光に対する垂直入射時の日射反射率\n",
    "# REF0b：背面側からの入射光に対する垂直入射時の日射反射率"
   ]
  },
  {
   "cell_type": "markdown",
   "metadata": {},
   "source": [
    "#### 入射角φの日射透過率及び日射反射率の計算\n",
    "\n",
    "入射角によって日射特性が変化しないロールスクリーンの日射透過率及び日射反射率の計算方法を以下に示す。  "
   ]
  },
  {
   "cell_type": "markdown",
   "metadata": {},
   "source": [
    "$$\n",
    "\\begin{eqnarray}\n",
    " &\\displaystyle \\tau_{\\phi,f} = \\tau_{0,f}& \\qquad\\qquad\\text{(1)} \\nonumber\\\\\n",
    " \\nonumber \\\\\n",
    " &\\displaystyle \\tau_{\\phi,b} = \\tau_{0,b}& \\qquad\\qquad\\text{(2)} \\nonumber\\\\\n",
    " \\nonumber \\\\\n",
    " &\\displaystyle \\rho_{\\phi,f} = \\rho_{0,f}& \\qquad\\qquad\\text{(3)} \\nonumber\\\\\n",
    " \\nonumber \\\\\n",
    " &\\displaystyle \\rho_{\\phi,b} = \\rho_{0,b}& \\qquad\\qquad\\text{(4)} \\nonumber \n",
    "\\end{eqnarray}\n",
    "$$"
   ]
  },
  {
   "cell_type": "code",
   "execution_count": 3,
   "metadata": {},
   "outputs": [],
   "source": [
    "# 入射角φの日射透過率及び日射反射率の計算\n",
    "def role_ang_prop(L, phi):\n",
    "    return L.TRS0f, L.TRS0b, L.REF0f, L.REF0b"
   ]
  },
  {
   "cell_type": "markdown",
   "metadata": {},
   "source": [
    "#### Example"
   ]
  },
  {
   "cell_type": "code",
   "execution_count": 4,
   "metadata": {},
   "outputs": [
    {
     "data": {
      "image/png": "[encoded data removed]",
      "text/plain": [
       "<matplotlib.figure.Figure at 0x9087da0>"
      ]
     },
     "metadata": {},
     "output_type": "display_data"
    }
   ],
   "source": [
    "if __name__ == '__main__':\n",
    "\n",
    "    role_result = np.zeros((5,91))\n",
    "    rl_in = role_input(0.3, 0.3, 0.63, 0.63)\n",
    "\n",
    "    for j in range(0, 91):\n",
    "        phi = j\n",
    "        role_result[0][j] = phi\n",
    "        role_result[1][j] = role_ang_prop(rl_in, phi)[0]\n",
    "        role_result[2][j] = role_ang_prop(rl_in, phi)[1]\n",
    "        role_result[3][j] = role_ang_prop(rl_in, phi)[2]\n",
    "        role_result[4][j] = role_ang_prop(rl_in, phi)[3]\n",
    "\n",
    "    #np.savetxt('role_result.csv', np.transpose(role_result), fmt='%.10f', delimiter=',')\n",
    "\n",
    "    #グラフの描画\n",
    "    graph_num = 2\n",
    "    ax = np.empty(graph_num, dtype = np.object)\n",
    "    fig = plt.figure(figsize = (15, 5 * ((graph_num + 1) // 2)))\n",
    "    plt.style.use('ggplot')\n",
    "\n",
    "    gpc = ['C0', 'C1']\n",
    "    gxd = [[role_result[0][0:91], role_result[0][0:91]], [role_result[0][0:91], role_result[0][0:91]]]\n",
    "    gyd = [[role_result[1][0:91], role_result[2][0:91]], [role_result[3][0:91], role_result[4][0:91]]]\n",
    "    gxl = 'φ[°]'\n",
    "    gyl = ['τ (°)', 'ρ (°)']\n",
    "    gxt = [10 * i for i in range(10)]\n",
    "    gyt = [0.1 * i for i in range(11)]\n",
    "\n",
    "    for i in range(graph_num):   \n",
    "        ax[i] = fig.add_subplot((graph_num + 1) // 2, 2, i + 1)\n",
    "        for j in range(2):\n",
    "            ax[i].plot(gxd[i][j], gyd[i][j], color = gpc[j])\n",
    "        ax[i].set_xticks(gxt)\n",
    "        ax[i].set_yticks(gyt)\n",
    "        ax[i].set_xlabel(gxl, fontsize = 12)\n",
    "        ax[i].set_ylabel(gyl[i], fontsize = 12)\n",
    "\n",
    "    plt.show()"
   ]
  },
  {
   "cell_type": "code",
   "execution_count": null,
   "metadata": {},
   "outputs": [],
   "source": []
  }
 ],
 "metadata": {
  "kernelspec": {
   "display_name": "Python 3",
   "language": "python",
   "name": "python3"
  },
  "language_info": {
   "codemirror_mode": {
    "name": "ipython",
    "version": 3
   },
   "file_extension": ".py",
   "mimetype": "text/x-python",
   "name": "python",
   "nbconvert_exporter": "python",
   "pygments_lexer": "ipython3",
   "version": "3.6.4"
  }
 },
 "nbformat": 4,
 "nbformat_minor": 2
}
