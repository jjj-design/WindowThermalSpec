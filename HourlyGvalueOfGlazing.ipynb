{
 "cells": [
  {
   "cell_type": "code",
   "execution_count": 1,
   "metadata": {},
   "outputs": [],
   "source": [
    "from collections import namedtuple\n",
    "import csv\n",
    "import math\n",
    "import numpy as np\n",
    "import matplotlib.pyplot as plt"
   ]
  },
  {
   "cell_type": "markdown",
   "metadata": {},
   "source": [
    "# グレージング複合体の日射熱取得率を計算するモジュール"
   ]
  },
  {
   "cell_type": "markdown",
   "metadata": {},
   "source": [
    "## 1. Functions  "
   ]
  },
  {
   "cell_type": "markdown",
   "metadata": {},
   "source": [
    "開口面入射日射量と開口面透過日射量及び室内側へ流入する吸収日射量からグレージング複合体の日射熱取得率を計算する。"
   ]
  },
  {
   "cell_type": "markdown",
   "metadata": {},
   "source": [
    "### 入力値  \n",
    "\n",
    "$ I_{in} $ ：開口面入射日射量 [MJ/(m<sup>2</sup>･h)]  \n",
    "$ I_{\\tau} $ ：開口面透過日射量 [MJ/(m<sup>2</sup>･h)]  \n",
    "$ I_{qi} $ ：室内側へ流入する吸収日射量 [MJ/(m<sup>2</sup>･h)]  "
   ]
  },
  {
   "cell_type": "markdown",
   "metadata": {},
   "source": [
    "### 出力値  \n",
    "\n",
    "$ \\eta_{glz} $ ：グレージングの日射熱取得率  "
   ]
  },
  {
   "cell_type": "markdown",
   "metadata": {},
   "source": [
    "### 計算方法  \n",
    "\n",
    "#### データ構造と値の範囲  \n",
    "$ I_{T} $・$ I_{\\tau} $・$ I_{qi} $の組み合わせをクラス『ghg＿input』と定義する。  \n"
   ]
  },
  {
   "cell_type": "code",
   "execution_count": 2,
   "metadata": {},
   "outputs": [],
   "source": [
    "class ghg_input():\n",
    "    def __init__( self, Iin, Itau, Iqi ):\n",
    "        self.Iin = Iin\n",
    "        self.Itau = Itau\n",
    "        self.Iqi = Iqi\n",
    "        \n",
    "#Iin：開口面入射日射量 [MJ/(m2･h)] \n",
    "#Itau：開口面透過日射量 [MJ/(m2･h)] \n",
    "#Iqi：室内側へ流入する吸収日射量 [MJ/(m2･h)] "
   ]
  },
  {
   "cell_type": "markdown",
   "metadata": {},
   "source": [
    "#### 時別の日射熱取得率\n",
    "\n",
    "時別の日射熱取得率$\\eta_{glz}$の計算方法を以下に示す。  "
   ]
  },
  {
   "cell_type": "markdown",
   "metadata": {},
   "source": [
    "$$\n",
    "\\begin{eqnarray}\n",
    " &\\displaystyle \\eta_{glz} = \\frac {I_{\\tau} + I_{qi}}{I_{T}}& \\qquad\\qquad\\text{(1)} \\nonumber\\\\\n",
    "\\end{eqnarray}\n",
    "$$"
   ]
  },
  {
   "cell_type": "code",
   "execution_count": 3,
   "metadata": {},
   "outputs": [],
   "source": [
    "def hourly_gvalue_glazing(L):\n",
    "    if L.Iin > 0.:\n",
    "        r_ghg = (L.Itau + L.Iqi)/ L.Iin\n",
    "    else:\n",
    "        r_ghg = 0.\n",
    "        \n",
    "    return r_ghg"
   ]
  },
  {
   "cell_type": "markdown",
   "metadata": {},
   "source": [
    "#### Example"
   ]
  },
  {
   "cell_type": "code",
   "execution_count": 4,
   "metadata": {},
   "outputs": [
    {
     "name": "stdout",
     "output_type": "stream",
     "text": [
      "0.6376996461641715\n"
     ]
    }
   ],
   "source": [
    "if __name__ == '__main__':\n",
    "\n",
    "    ghg_in = ghg_input(804.5053722499999 * 3600. / 10. ** 6., 418.407541795 * 3600. / 10. ** 6., 94.625249426 * 3600. / 10. ** 6.)\n",
    "    ghg = hourly_gvalue_glazing(ghg_in)\n",
    "\n",
    "    print(ghg)"
   ]
  }
 ],
 "metadata": {
  "kernelspec": {
   "display_name": "Python 3",
   "language": "python",
   "name": "python3"
  },
  "language_info": {
   "codemirror_mode": {
    "name": "ipython",
    "version": 3
   },
   "file_extension": ".py",
   "mimetype": "text/x-python",
   "name": "python",
   "nbconvert_exporter": "python",
   "pygments_lexer": "ipython3",
   "version": "3.6.4"
  }
 },
 "nbformat": 4,
 "nbformat_minor": 2
}
