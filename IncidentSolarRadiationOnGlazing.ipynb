{
 "cells": [
  {
   "cell_type": "code",
   "execution_count": 1,
   "metadata": {},
   "outputs": [],
   "source": [
    "from collections import namedtuple\n",
    "import csv\n",
    "import math\n",
    "import numpy as np\n",
    "import matplotlib.pyplot as plt"
   ]
  },
  {
   "cell_type": "markdown",
   "metadata": {},
   "source": [
    "# 開口面入射日射量を計算するモジュール"
   ]
  },
  {
   "cell_type": "markdown",
   "metadata": {},
   "source": [
    "## 1. Functions  "
   ]
  },
  {
   "cell_type": "markdown",
   "metadata": {},
   "source": [
    "斜面直達日射量、斜面天空日射量、斜面地表面反射日射量から開口面入射日射量を計算する。"
   ]
  },
  {
   "cell_type": "markdown",
   "metadata": {},
   "source": [
    "### 入力値  \n",
    "\n",
    "$ I_{T,b} $ ：斜面（開口面）直達日射量 (W/m<sup>2</sup>)  \n",
    "$ I_{T,d} $ ：斜面（開口面）天空日射量 (W/m<sup>2</sup>)  \n",
    "$ I_{T,r} $ ：斜面（開口面）地表面反射日射量 (W/m<sup>2</sup>)  "
   ]
  },
  {
   "cell_type": "markdown",
   "metadata": {},
   "source": [
    "### 出力値  \n",
    "\n",
    "$ I_{T} $ ：開口面入射日射量 (W/m<sup>2</sup>)  "
   ]
  },
  {
   "cell_type": "markdown",
   "metadata": {},
   "source": [
    "### 計算方法  \n",
    "\n",
    "#### データ構造と値の範囲  \n",
    "\n",
    "$ I_{T,b} $・$ I_{T,d} $・$ I_{T,r} $ の組み合わせを入力条件として1つの変数（タプル）で表し\"ita_input\"とする。  "
   ]
  },
  {
   "cell_type": "code",
   "execution_count": 2,
   "metadata": {},
   "outputs": [],
   "source": [
    "#class ita_input(namedtuple('ita_input','ita_Itb ita_Itd ita_Itr')):\n",
    "#    __slots__ = ()\n",
    "\n",
    "#ita_Itb：斜面（開口面）直達日射量 (W/m2)\n",
    "#ita_Itd：斜面（開口面）天空日射量 (W/m2)\n",
    "#ita_Itr：斜面（開口面）地表面反射日射量 (W/m2)"
   ]
  },
  {
   "cell_type": "code",
   "execution_count": 3,
   "metadata": {},
   "outputs": [],
   "source": [
    "class ita_input():\n",
    "    def __init__( self, Itb, Itd, Itr ):\n",
    "        self.Itb = Itb\n",
    "        self.Itd = Itd\n",
    "        self.Itr = Itr\n",
    "        \n",
    "#Itb：斜面（開口面）直達日射量 (W/m2)\n",
    "#Itd：斜面（開口面）天空日射量 (W/m2)\n",
    "#Itr：斜面（開口面）地表面反射日射量 (W/m2)"
   ]
  },
  {
   "cell_type": "markdown",
   "metadata": {},
   "source": [
    "#### 開口面入射日射量の計算\n",
    "\n",
    "開口面入射日射量の計算方法を以下に示す。\n",
    "\n",
    "$ \\begin{align}I_{T} = I_{T,b} + I_{T,d} + I_{T,r} \\end{align}$ ･･････････････････････････････････････････････････････････････････････････････ (5.1.4.2-a)  "
   ]
  },
  {
   "cell_type": "code",
   "execution_count": 4,
   "metadata": {},
   "outputs": [],
   "source": [
    "def incident_sol(L):\n",
    "    \n",
    "    #return L.ita_Itb + L.ita_Itd + L.ita_Itr\n",
    "    return L.Itb + L.Itd + L.Itr"
   ]
  },
  {
   "cell_type": "markdown",
   "metadata": {},
   "source": [
    "#### Example"
   ]
  },
  {
   "cell_type": "code",
   "execution_count": 5,
   "metadata": {},
   "outputs": [
    {
     "name": "stdout",
     "output_type": "stream",
     "text": [
      "804.5053722499999\n"
     ]
    }
   ],
   "source": [
    "if __name__ == '__main__':\n",
    "\n",
    "    ita_in = ita_input(2.6840261248 * 10. ** 6. / 3600., 0.1181932153 * 10. ** 6. / 3600., 0.094 * 10. ** 6. / 3600.)\n",
    "\n",
    "    I_in = incident_sol(ita_in)                           #斜面（開口面）全天日射量\n",
    "\n",
    "    print (I_in)"
   ]
  },
  {
   "cell_type": "code",
   "execution_count": null,
   "metadata": {},
   "outputs": [],
   "source": []
  }
 ],
 "metadata": {
  "kernelspec": {
   "display_name": "Python 3",
   "language": "python",
   "name": "python3"
  },
  "language_info": {
   "codemirror_mode": {
    "name": "ipython",
    "version": 3
   },
   "file_extension": ".py",
   "mimetype": "text/x-python",
   "name": "python",
   "nbconvert_exporter": "python",
   "pygments_lexer": "ipython3",
   "version": "3.6.4"
  }
 },
 "nbformat": 4,
 "nbformat_minor": 2
}
