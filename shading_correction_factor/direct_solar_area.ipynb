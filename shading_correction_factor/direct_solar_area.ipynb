{
 "cells": [
  {
   "cell_type": "code",
   "execution_count": 1,
   "metadata": {},
   "outputs": [],
   "source": [
    "import numpy as np"
   ]
  },
  {
   "cell_type": "markdown",
   "metadata": {},
   "source": [
    "## B.1 太陽がx+側に位置する際のオーバーハングによる影の面積の算定式 (仕様書6.3.1 式(15))"
   ]
  },
  {
   "cell_type": "markdown",
   "metadata": {},
   "source": [
    "$$\n",
    "A_{oh0+}(x,y) = \\left\\{\n",
    "\\begin{array}{ll}\n",
    "0 \\hspace{24pt}(z_{y+}=0)\n",
    "\\\\\n",
    "\\dfrac{1}{2} (x_{3y+} + x_2 / 2 - x) \\dfrac{z_{y+} \\tan h_{S,d,t} / \\cos A_{ZW,j,d,t}}{z_{y+} \\tan | A_{ZW,j,d,t} |} (x_{3y+} + x_2 / 2 - x)\n",
    "\\\\\n",
    "\\hspace{30pt} \\left( \\begin{array}{ll}\n",
    "x_{3y+} + x_2 / 2 - x < z_{y+} \\tan | A_{ZW,j,d,t} | \\\\\n",
    "y_{1} + y_2 / 2 - y \\geq \\dfrac{z_{y+} \\tan h_{S,d,t} / \\cos A_{ZW,j,d,t}}{z_{y+} \\tan | A_{ZW,j,d,t} |} (x_{3y+} + x_2 / 2 - x) \n",
    "\\end{array} \\right)\n",
    "\\\\\n",
    "\\Bigl\\{ (x_{3y+} + x_2 / 2 - x) - \\dfrac{1}{2} (y_{1} + y_2 / 2 - y) \\frac{z_{y+} \\tan | A_{ZW,j,d,t} |}{z_{y+} \\tan h_{S,d,t} / \\cos A_{ZW,j,d,t}} \\Bigr\\} (y_{1} + y_2 / 2 - y)\n",
    "\\\\\n",
    "\\hspace{30pt} \\left( \\begin{array}{ll}\n",
    "x_{3y+} + x_2 / 2 - x > \\dfrac{z_{y+} \\tan | A_{ZW,j,d,t} |}{z_{y+} \\tan h_{S,d,t} / \\cos A_{ZW,j,d,t}} (y_{1} + y_2 / 2 - y) \\\\\n",
    "y_{1} + y_2 / 2 - y < z_{y+} \\tan h_{S,d,t} / \\cos A_{ZW,j,d,t}\n",
    "\\end{array} \\right)\n",
    "\\\\\n",
    "( x_{3y+} + x_2 / 2 - x - \\dfrac{1}{2} z_{y+} \\tan | A_{ZW,j,d,t} | ) z_{y+} \\tan h_{S,d,t} / \\cos A_{ZW,j,d,t}\n",
    "\\\\\n",
    "\\hspace{30pt} \\left( \\begin{array}{ll}\n",
    "x_{3y+} + x_2 / 2 - x \\geq z_{y+} \\tan | A_{ZW,j,d,t} | \\\\\n",
    "y_{1} + y_2 / 2 - y \\geq z_{y+} \\tan h_{S,d,t} / \\cos A_{ZW,j,d,t}\n",
    "\\end{array} \\right)\n",
    "\\end{array}\n",
    "\\right.  \\qquad (15) \n",
    "$$"
   ]
  },
  {
   "cell_type": "code",
   "execution_count": 2,
   "metadata": {},
   "outputs": [],
   "source": [
    "def calc_Aoh0p(XX, YY, WSSize, Azw, hs):\n",
    "    [X1, X2, X3, X1yp, X1ym, X3yp, X3ym, Y1, Y2, Y3, Y1xp, Y1xm, Y3xp, Y3xm, Zxp, Zxm, Zyp, Zym] = WSSize\n",
    "    \n",
    "    X_th = X3yp + X2 / 2 - XX\n",
    "    Y_th = Y1 + Y2 / 2 - YY\n",
    "    X_th_Z = Zyp * np.tan(abs(np.radians(Azw)))  \n",
    "    Y_th_Z = Zyp * np.tan(np.radians(hs)) / np.cos(np.radians(Azw))\n",
    "        \n",
    "    if X_th_Z == 0 or Y_th_Z <= 0:\n",
    "        Aoh0p = 0    # 式(15)条件1 と 日よけが影を落とさない条件をあわせて処理\n",
    "    else:\n",
    "        Aoh0p = calc_Aoh0p00(X_th, Y_th, X_th_Z, Y_th_Z)\n",
    "        \n",
    "    return Aoh0p\n",
    "        \n",
    "    \n",
    "def calc_Aoh0p00(X_th, Y_th, X_th_Z, Y_th_Z):\n",
    "    \n",
    "    if (X_th >= X_th_Z and Y_th >= Y_th_Z):\n",
    "        Aoh0p00 = (X_th - X_th_Z / 2) * Y_th_Z       # 式(15)条件4\n",
    "    elif Y_th * X_th_Z >= X_th * Y_th_Z:\n",
    "        Aoh0p00 = X_th ** 2 * Y_th_Z / X_th_Z / 2       # 式(15)条件2\n",
    "    else:\n",
    "        Aoh0p00 = (X_th - Y_th / 2 * X_th_Z / Y_th_Z) * Y_th      # 式(15)条件3    \n",
    "        \n",
    "    return Aoh0p00"
   ]
  },
  {
   "cell_type": "markdown",
   "metadata": {},
   "source": [
    "## B.2 太陽がx+側に位置する際のサイドフィンによる影の面積の算定式 (仕様書6.3.1 式(16))"
   ]
  },
  {
   "cell_type": "markdown",
   "metadata": {},
   "source": [
    "$$\n",
    "A_{sf0+}(x,y) = \\left\\{\n",
    "\\begin{array}{ll}\n",
    "0 \\hspace{24pt}(z_{x+}=0)\n",
    "\\\\\n",
    "\\dfrac{1}{2} (y_{1x+} + y_2 / 2 - y) \\dfrac{z_{x+} \\tan | A_{ZW,j,d,t} |}{z_{x+} \\tan h_{S,d,t} / \\cos A_{ZW,j,d,t}} (y_{1x+} + y_2 / 2 - y)\n",
    "\\\\\n",
    "\\hspace{30pt} \\left( \\begin{array}{ll}\n",
    "y_{1x+} + y_2 / 2 - y < z_{x+} \\tan h_{S,d,t} / \\cos A_{ZW,j,d,t} \\\\\n",
    "x_{3} + x_2 / 2 - x \\geq \\dfrac{z_{x+} \\tan | A_{ZW,j,d,t} |}{z_{x+} \\tan h_{S,d,t} / \\cos A_{ZW,j,d,t}} (y_{1x+} + y_2 / 2 - y) \n",
    "\\end{array} \\right)\n",
    "\\\\\n",
    "\\Bigl\\{ (y_{1x+} + y_2 / 2 - y) - \\dfrac{1}{2} (x_{3} + x_2 / 2 - x) \\dfrac{z_{x+} \\tan h_{S,d,t} / \\cos A_{ZW,j,d,t}}{z_{x+} \\tan | A_{ZW,j,d,t} |} \\Bigr\\} (x_{3} + x_2 / 2 - x)\n",
    "\\\\\n",
    "\\hspace{30pt} \\left( \\begin{array}{ll}\n",
    "y_{1x+} + y_2 / 2 - y > \\dfrac{z_{x+} \\tan h_{S,d,t} / \\cos A_{ZW,j,d,t}}{z_{x+} \\tan | A_{ZW,j,d,t} |} (x_{3} + x_2 / 2 - x) \\\\\n",
    "x_{3} + x_2 / 2 - x < z_{x+} \\tan | A_{ZW,j,d,t} |\n",
    "\\end{array} \\right)\n",
    "\\\\\n",
    "( y_{1x+} + y_2 / 2 - y - \\dfrac{1}{2} z_{x+} \\tan h_{S,d,t} / \\cos A_{ZW,j,d,t} ) \\; z_{x+} \\tan | A_{ZW,j,d,t} |\n",
    "\\\\\n",
    "\\hspace{30pt} \\left( \\begin{array}{ll}\n",
    "y_{1x+} + y_2 / 2 - y \\geq z_{x+} \\tan h_{S,d,t} / \\cos A_{ZW,j,d,t} \\\\\n",
    "x_{3} + x_2 / 2 - x \\geq z_{x+} \\tan | A_{ZW,j,d,t} |\n",
    "\\end{array} \\right)\n",
    "\\end{array}\n",
    "\\right.  \\qquad (16) \n",
    "$$\n",
    "\n",
    "- コード中では、座標を入れ替えて、`calc_Aoh0p00`を叩くことで対応\n",
    "  - 式$(15)$の変数 → 式$(16)$の変数\n",
    "  - $x$ → $y$\n",
    "  - $x_2$ → $y_2$\n",
    "  - $x_{3y+}$ → $y_{1x+}$\n",
    "  - $y$ → $x$\n",
    "  - $y_1$ → $x_3$\n",
    "  - $y_2$ → $x_2$\n",
    "  - $z_{y+} \\tan h_{S,d,t} / \\cos A_{ZW,j,d,t}$ → $z_{x+} \\tan | A_{ZW,j,d,t} |$\n",
    "  - $z_{y+} \\tan | A_{ZW,j,d,t} |$ → $z_{x+} \\tan h_{S,d,t} / \\cos A_{ZW,j,d,t}$"
   ]
  },
  {
   "cell_type": "code",
   "execution_count": 3,
   "metadata": {},
   "outputs": [],
   "source": [
    "def calc_Asf0p(XX, YY, WSSize, Azw, hs):\n",
    "    \n",
    "    [X1, X2, X3, X1yp, X1ym, X3yp, X3ym, Y1, Y2, Y3, Y1xp, Y1xm, Y3xp, Y3xm, Zxp, Zxm, Zyp, Zym] = WSSize\n",
    "    \n",
    "    X_th = Y1xp + Y2 / 2 - YY\n",
    "    Y_th = X3 + X2 / 2 - XX\n",
    "    X_th_Z = Zxp * np.tan(np.radians(hs)) / np.cos(np.radians(Azw))  \n",
    "    Y_th_Z = Zxp * np.tan(abs(np.radians(Azw)))\n",
    "       \n",
    "    if X_th_Z == 0 or Y_th_Z <= 0:\n",
    "        Aoh0p = 0    # 式(16)条件1 と 日よけが影を落とさない条件をあわせて処理\n",
    "    else:\n",
    "        Aoh0p = calc_Aoh0p00(X_th, Y_th, X_th_Z, Y_th_Z)\n",
    "        \n",
    "    return Aoh0p"
   ]
  },
  {
   "cell_type": "markdown",
   "metadata": {},
   "source": [
    "## B.3 太陽がx+側に位置する際の日射が射す部分の面積の計算式 (仕様書6.3.1 式(14))"
   ]
  },
  {
   "cell_type": "markdown",
   "metadata": {},
   "source": [
    "$$ \\begin{align}\n",
    "A_{wind,j,x+,d,t} &= (x_2 + x_3)(y_1 + y_2) - A_{oh0+}(-x_2 / 2, -y_2 / 2) - A_{sf0+}(-x_2 / 2, -y_2 / 2) \\\\\n",
    "&- \\{ (x_2 + x_3) y_1 - A_{oh0+}(-x_2 / 2, y_2 / 2) - A_{sf0+}(-x_2 / 2, y_2 / 2) \\} \\\\\n",
    "&- \\{ x_3 (y_1 + y_2) - A_{oh0+}( x_2 / 2, -y_2 / 2) - A_{sf0+}( x_2 / 2, -y_2 / 2) \\} \\\\\n",
    "&+ x_3 y_1 - A_{oh0+}( x_2 / 2, y_2 / 2) - A_{sf0+}( x_2 / 2, y_2 / 2) \\qquad \\qquad \\qquad (14) \\\\\n",
    "\\end{align} $$"
   ]
  },
  {
   "cell_type": "code",
   "execution_count": 4,
   "metadata": {},
   "outputs": [],
   "source": [
    "def calc_Axp(WSSize, Azw, hs):\n",
    "    \n",
    "    [X1, X2, X3, X1yp, X1ym, X3yp, X3ym, Y1, Y2, Y3, Y1xp, Y1xm, Y3xp, Y3xm, Zxp, Zxm, Zyp, Zym] = WSSize\n",
    "    \n",
    "    if hs > 0 and -90 < Azw < 0:\n",
    "        Axp = ( (X2 + X3) * (Y1 + Y2) \n",
    "               - calc_Aoh0p(-X2/2, -Y2/2, WSSize, Azw, hs) \n",
    "               - calc_Asf0p(-X2/2, -Y2/2, WSSize, Azw, hs) )\\\n",
    "            - ( (X2 + X3) * Y1        \n",
    "               - calc_Aoh0p(-X2/2,  Y2/2, WSSize, Azw, hs) \n",
    "               - calc_Asf0p(-X2/2,  Y2/2, WSSize, Azw, hs) ) \\\n",
    "            - ( X3 * (Y1 + Y2)        \n",
    "               - calc_Aoh0p( X2/2, -Y2/2, WSSize, Azw, hs) \n",
    "               - calc_Asf0p( X2/2, -Y2/2, WSSize, Azw, hs) ) \\\n",
    "            + ( X3 * Y1               \n",
    "               - calc_Aoh0p( X2/2,  Y2/2, WSSize, Azw, hs) \n",
    "               - calc_Asf0p( X2/2,  Y2/2, WSSize, Azw, hs) )       \n",
    "        Axp = max(0, min(Axp, X2 * Y2))    #負値は0に、X2*Y2を超える場合はX2*Y2で頭打ち\n",
    "    else:\n",
    "        Axp = 0\n",
    "        \n",
    "    return Axp"
   ]
  },
  {
   "cell_type": "markdown",
   "metadata": {},
   "source": [
    "## B.4 太陽がx-側に位置する際のオーバーハングによる影の面積の算定式 (仕様書6.3.2 式(19))"
   ]
  },
  {
   "cell_type": "markdown",
   "metadata": {},
   "source": [
    "$$\n",
    "A_{oh0-}(x,y) = \\left\\{\n",
    "\\begin{array}{ll}\n",
    "0 \\hspace{24pt}(z_{y+}=0)\n",
    "\\\\\n",
    "\\dfrac{1}{2} (x_{1y+} + x_2 / 2 + x) \\dfrac{z_{y+} \\tan h_{S,d,t} / \\cos A_{ZW,j,d,t}}{z_{y+} \\tan A_{ZW,j,d,t}} (x_{1y+} + x_2 / 2 + x)\n",
    "\\\\\n",
    "\\hspace{30pt} \\left( \\begin{array}{ll}\n",
    "x_{1y+} + x_2 / 2 + x < z_{y+} \\tan A_{ZW,j,d,t} \\\\\n",
    "y_{1} + y_2 / 2 - y \\geq \\dfrac{z_{y+} \\tan h_{S,d,t} / \\cos A_{ZW,j,d,t}}{z_{y+} \\tan A_{ZW,j,d,t}} (x_{1y+} + x_2 / 2 + x) \n",
    "\\end{array} \\right)\n",
    "\\\\\n",
    "\\Bigl\\{ (x_{1y+} + x_2 / 2 + x) - \\dfrac{1}{2} (y_{1} + y_2 / 2 - y) \\dfrac{z_{y+} \\tan A_{ZW,j,d,t}}{z_{y+} \\tan h_{S,d,t} / \\cos A_{ZW,j,d,t}} \\Bigr\\} (y_{1} + y_2 / 2 - y)\n",
    "\\\\\n",
    "\\hspace{30pt} \\left( \\begin{array}{ll}\n",
    "x_{1y+} + x_2 / 2 + x > \\dfrac{z_{y+} \\tan A_{ZW,j,d,t}}{z_{y+} \\tan h_{S,d,t} / \\cos A_{ZW,j,d,t}} (y_{1} + y_2 / 2 - y) \\\\\n",
    "y_{1} + y_2 / 2 - y < z_{y+} \\tan h_{S,d,t} / \\cos A_{ZW,j,d,t}\n",
    "\\end{array} \\right)\n",
    "\\\\\n",
    "( x_{1y+} + x_2 / 2 + x - \\dfrac{1}{2} z_{y+} \\tan A_{ZW,j,d,t} ) z_{y+} \\tan h_{S,d,t} / \\cos A_{ZW,j,d,t}\n",
    "\\\\\n",
    "\\hspace{30pt} \\left( \\begin{array}{ll}\n",
    "x_{1y+} + x_2 / 2 + x \\geq z_{y+} \\tan A_{ZW,j,d,t} \\\\\n",
    "y_{1} + y_2 / 2 - y \\geq z_{y+} \\tan h_{S,d,t} / \\cos A_{ZW,j,d,t}\n",
    "\\end{array} \\right)\n",
    "\\end{array}\n",
    "\\right.  \\qquad (19) \n",
    "$$\n",
    "\n",
    "- コード中では、座標を入れ替えて、`calc_Aoh0p00`を叩くことで対応\n",
    "  - 式$(15)$の変数 → 式$(19)$の変数\n",
    "  - $x$ → $-x$\n",
    "  - $x_{3y+}$ → $x_{1y+}$\n",
    "  - $A_{ZW,j,d,t}$ → $-A_{ZW,j,d,t}$"
   ]
  },
  {
   "cell_type": "code",
   "execution_count": 5,
   "metadata": {},
   "outputs": [],
   "source": [
    "def calc_Aoh0m(XX, YY, WSSize, Azw, hs):\n",
    "    \n",
    "    [X1, X2, X3, X1yp, X1ym, X3yp, X3ym, Y1, Y2, Y3, Y1xp, Y1xm, Y3xp, Y3xm, Zxp, Zxm, Zyp, Zym] = WSSize\n",
    "    \n",
    "    X_th = X1yp + X2 / 2 + XX\n",
    "    Y_th = Y1 + Y2 / 2 - YY\n",
    "    X_th_Z = Zyp * np.tan(abs(np.radians(Azw)))  \n",
    "    Y_th_Z = Zyp * np.tan(np.radians(hs)) / np.cos(np.radians(Azw))\n",
    "        \n",
    "    if X_th_Z == 0 or Y_th_Z <= 0:\n",
    "        Aoh0m = 0    # 式(19)条件1 と 日よけが影を落とさない条件をあわせて処理\n",
    "    else:\n",
    "        Aoh0m = calc_Aoh0p00(X_th, Y_th, X_th_Z, Y_th_Z)\n",
    "        \n",
    "    return Aoh0m"
   ]
  },
  {
   "cell_type": "markdown",
   "metadata": {},
   "source": [
    "## B.5 太陽がx-側に位置する際のサイドフィンによる影の面積の算定式 (仕様書6.3.2 式(20))"
   ]
  },
  {
   "cell_type": "markdown",
   "metadata": {},
   "source": [
    "$$\n",
    "A_{sf0-}(x, y) = \\left\\{\n",
    "\\begin{array}{ll}\n",
    "0 \\hspace{24pt}(z_{x-}=0)\n",
    "\\\\\n",
    "\\dfrac{1}{2} (y_{1x-} + y_2 / 2 - y) \\dfrac{z_{x-} \\tan A_{ZW,j,d,t}}{z_{x-} \\tan h_{S,d,t} / \\cos A_{ZW,j,d,t}} (y_{1x-} + y_2 / 2 - y)\n",
    "\\\\\n",
    "\\hspace{30pt} \\left( \\begin{array}{ll}\n",
    "y_{1x-} + y_2 / 2 - y < z_{x-} \\tan h_{S,d,t} / \\cos A_{ZW,j,d,t} \\\\\n",
    "x_{1} + x_2 / 2 + x \\geq \\dfrac{z_{x-} \\tan A_{ZW,j,d,t}}{z_{x-} \\tan h_{S,d,t} / \\cos A_{ZW,j,d,t}} (y_{1x-} + y_2 / 2 - y) \n",
    "\\end{array} \\right)\n",
    "\\\\\n",
    "\\Bigl\\{ (y_{1x-} + y_2 / 2 - y) - \\dfrac{1}{2} (x_{1} + x_2 / 2 + x) \\dfrac{z_{x-} \\tan h_{S,d,t} / \\cos A_{ZW,j,d,t}}{z_{x-} \\tan A_{ZW,j,d,t} } \\Bigr\\} (x_{1} + x_2 / 2 + x)\n",
    "\\\\\n",
    "\\hspace{30pt} \\left( \\begin{array}{ll}\n",
    "y_{1x-} + y_2 / 2 - y > \\dfrac{z_{x-} \\tan h_{S,d,t} / \\cos A_{ZW,j,d,t}}{z_{x-} \\tan A_{ZW,j,d,t}} (x_{1} + x_2 / 2 + x) \\\\\n",
    "x_{1} + x_2 / 2 + x < z_{x-} \\tan A_{ZW,j,d,t}\n",
    "\\end{array} \\right)\n",
    "\\\\\n",
    "( y_{1x-} + y_2 / 2 - y - \\dfrac{1}{2} z_{x-} \\tan h_{S,d,t} / \\cos A_{ZW,j,d,t} ) \\; z_{x-} \\tan A_{ZW,j,d,t}\n",
    "\\\\\n",
    "\\hspace{30pt} \\left( \\begin{array}{ll}\n",
    "y_{1x-} + y_2 / 2 - y \\geq z_{x-} \\tan h_{S,d,t} / \\cos A_{ZW,j,d,t} \\\\\n",
    "x_{1} + x_2 / 2 + x \\geq z_{x-} \\tan A_{ZW,j,d,t}\n",
    "\\end{array} \\right)\n",
    "\\end{array}\n",
    "\\right.  \\qquad (20) \n",
    "$$\n",
    "\n",
    "- コード中では、座標を入れ替えて、`calc_Aoh0p00`を叩くことで対応\n",
    "  - 式$(15)$の変数 → 式$(16)$の変数 → 式$(20)$の変数\n",
    "  - $x$            → $y$            → $y$\n",
    "  - $x_2$          → $y_2$          → $y_2$\n",
    "  - $x_{3y+}$      → $y_{1x+}$      → $y_{1x-}$\n",
    "  - $y$            → $x$            → $-x$\n",
    "  - $y_1$          → $x_3$          → $x_1$\n",
    "  - $y_2$          → $x_2$          → $x_2$\n",
    "  - $z_{y+} \\tan h_{S,d,t} / \\cos A_{ZW,j,d,t}$ → $z_{x+} \\tan | A_{ZW,j,d,t} |$ → $z_{x-} \\tan A_{ZW,j,d,t}$\n",
    "  - $z_{y+} \\tan | A_{ZW,j,d,t} |$ → $z_{x+} \\tan h_{S,d,t} / \\cos A_{ZW,j,d,t}$ → $z_{x-} \\tan h_{S,d,t} / \\cos A_{ZW,j,d,t}$"
   ]
  },
  {
   "cell_type": "code",
   "execution_count": 6,
   "metadata": {},
   "outputs": [],
   "source": [
    "def calc_Asf0m(XX, YY, WSSize, Azw, hs):\n",
    "    \n",
    "    [X1, X2, X3, X1yp, X1ym, X3yp, X3ym, Y1, Y2, Y3, Y1xp, Y1xm, Y3xp, Y3xm, Zxp, Zxm, Zyp, Zym] = WSSize\n",
    "    \n",
    "    X_th = Y1xm + Y2 / 2 - YY\n",
    "    Y_th = X1 + X2 / 2 + XX\n",
    "    X_th_Z = Zxm * np.tan(np.radians(hs)) / np.cos(np.radians(Azw))  \n",
    "    Y_th_Z = Zxm * np.tan(abs(np.radians(Azw)))\n",
    "       \n",
    "    if X_th_Z == 0 or Y_th_Z <= 0:\n",
    "        Asf0m = 0    # 式(20)条件1 と 日よけが影を落とさない条件をあわせて処理\n",
    "    else:\n",
    "        Asf0m = calc_Aoh0p00(X_th, Y_th, X_th_Z, Y_th_Z)\n",
    "        \n",
    "    return Asf0m"
   ]
  },
  {
   "cell_type": "markdown",
   "metadata": {},
   "source": [
    "## B.6 太陽がx-側に位置する際の日射が射す部分の面積の計算式 (仕様書6.3.2 式(18))"
   ]
  },
  {
   "cell_type": "markdown",
   "metadata": {},
   "source": [
    "$$ \\begin{align}\n",
    "A_{wind,j,x-,d,t} &= (x_1 + x_2)(y_1 + y_2) - A_{oh0-}( x_2 / 2, -y_2 / 2) - A_{sf0-}( x_2 / 2, -y_2 / 2) \\\\\n",
    "&- \\{ (x_1 + x_2) y_1 - A_{oh0-}( x_2 / 2, y_2 / 2) - A_{sf0-}( x_2 / 2, y_2 / 2) \\} \\\\\n",
    "&- \\{ x_1 (y_1 + y_2) - A_{oh0-}(-x_2 / 2, -y_2 / 2) - A_{sf0-}(-x_2 / 2, -y_2 / 2) \\} \\\\\n",
    "&+ x_1 y_1 - A_{oh0-}(-x_2 / 2, y_2 / 2) - A_{sf0-}(-x_2 / 2, y_2 / 2) \\qquad \\qquad \\qquad (18) \\\\\n",
    "\\end{align} $$"
   ]
  },
  {
   "cell_type": "code",
   "execution_count": 7,
   "metadata": {},
   "outputs": [],
   "source": [
    "def calc_Axm(WSSize, Azw, hs):\n",
    "    \n",
    "    [X1, X2, X3, X1yp, X1ym, X3yp, X3ym, Y1, Y2, Y3, Y1xp, Y1xm, Y3xp, Y3xm, Zxp, Zxm, Zyp, Zym] = WSSize\n",
    "\n",
    "    if hs > 0 and 0 <= Azw < 90:\n",
    "        Axm = ( (X1 + X2) * (Y1 + Y2) \n",
    "               - calc_Aoh0m( X2/2, -Y2/2, WSSize, Azw, hs) \n",
    "               - calc_Asf0m( X2/2, -Y2/2, WSSize, Azw, hs) )\\\n",
    "            - ( (X1 + X2) * Y1        \n",
    "               - calc_Aoh0m( X2/2,  Y2/2, WSSize, Azw, hs) \n",
    "               - calc_Asf0m( X2/2,  Y2/2, WSSize, Azw, hs) ) \\\n",
    "            - ( X1 * (Y1 + Y2)        \n",
    "               - calc_Aoh0m(-X2/2, -Y2/2, WSSize, Azw, hs) \n",
    "               - calc_Asf0m(-X2/2, -Y2/2, WSSize, Azw, hs) ) \\\n",
    "            + ( X1 * Y1               \n",
    "               - calc_Aoh0m(-X2/2,  Y2/2, WSSize, Azw, hs) \n",
    "               - calc_Asf0m(-X2/2,  Y2/2, WSSize, Azw, hs) )       \n",
    "        Axm = max(0, min(Axm, X2 * Y2))    #負値は0に、X2*Y2を超える場合はX2*Y2で頭打ち\n",
    "    else:\n",
    "        Axm = 0\n",
    "        \n",
    "    return Axm"
   ]
  },
  {
   "cell_type": "markdown",
   "metadata": {},
   "source": [
    "## B.7 直達日射が窓に射す部分の面積の計算"
   ]
  },
  {
   "cell_type": "markdown",
   "metadata": {},
   "source": [
    "- 太陽高度$h_{S,d,t}[deg]$が、$h_{S,d,t}>0°$で計算\n",
    "- 窓面の法線ベクトルと太陽位置とのなす水平面上の角度$A_{ZW,j,d,t}$に応じて以下。\n",
    "  - $-90°<A_{ZW,j,d,t} < 0°$：$A_{wind,j,x-,d,t}$を計算($A_{wind,j,x+,d,t} = 0$)\n",
    "  - $0°\\leq A_{ZW,j,d,t} < 90°$：$A_{wind,j,x+,d,t}$を計算($A_{wind,j,x-,d,t} = 0$)"
   ]
  },
  {
   "cell_type": "code",
   "execution_count": 8,
   "metadata": {},
   "outputs": [],
   "source": [
    "def calc_Ax(WSSize, Azw, hs):\n",
    "\n",
    "    if hs > 0 and -90 < Azw < 0:\n",
    "        Ax = calc_Axp(WSSize, Azw, hs)\n",
    "    elif hs > 0 and 0 <= Azw < 90:\n",
    "        Ax = calc_Axm(WSSize, Azw, hs)\n",
    "    else:\n",
    "        Ax = 0\n",
    "        \n",
    "    return Ax"
   ]
  },
  {
   "cell_type": "code",
   "execution_count": null,
   "metadata": {},
   "outputs": [],
   "source": []
  }
 ],
 "metadata": {
  "kernelspec": {
   "display_name": "Python 3",
   "language": "python",
   "name": "python3"
  },
  "language_info": {
   "codemirror_mode": {
    "name": "ipython",
    "version": 3
   },
   "file_extension": ".py",
   "mimetype": "text/x-python",
   "name": "python",
   "nbconvert_exporter": "python",
   "pygments_lexer": "ipython3",
   "version": "3.6.5"
  }
 },
 "nbformat": 4,
 "nbformat_minor": 2
}
