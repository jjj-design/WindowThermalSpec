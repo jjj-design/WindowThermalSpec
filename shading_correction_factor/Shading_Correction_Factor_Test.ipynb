{
 "cells": [
  {
   "cell_type": "code",
   "execution_count": 1,
   "metadata": {},
   "outputs": [],
   "source": [
    "# import nbimporter\n",
    "# import climate"
   ]
  },
  {
   "cell_type": "markdown",
   "metadata": {},
   "source": [
    "# 日よけ効果係数算定ツール Test\n",
    "\n",
    "\n",
    "- 一次目標：日よけ効果係数算定ツールのpython上での再現\n"
   ]
  },
  {
   "cell_type": "markdown",
   "metadata": {},
   "source": [
    "## A. 窓まわりの設定(仕様書5)と太陽位置の算定(仕様書6.2)"
   ]
  },
  {
   "cell_type": "markdown",
   "metadata": {},
   "source": [
    "### A.1 日時\n",
    "\n",
    "- 日付`NDay`は1/1からの通しの日数\n",
    "- 時刻`NHour`は整数, 0時～23時が基本。12/31のみ24時あり\n",
    "- 時刻`TT`は、時間分割`MM`における時刻\n",
    "  - `MM`：1時間の内の$(1/$ `NDT`$)$間隔の順番, 正時が`MM`$=0$, `MM`$=0～$ `NDT`$-1$\n",
    "\n",
    "\n",
    "- 時刻`Hour01`は、前時刻の`MM` $=$ `NDT`$/2～$同時刻の`MM` $=$ `NDT`$/2-1$の時間分割を、その正時に属するものとして扱うための時刻 → 時間毎の効果係数を算定するために使用するだけ"
   ]
  },
  {
   "cell_type": "code",
   "execution_count": 2,
   "metadata": {
    "scrolled": false
   },
   "outputs": [
    {
     "ename": "ModuleNotFoundError",
     "evalue": "No module named 'Shading_Correction_Factor_Modules'",
     "output_type": "error",
     "traceback": [
      "\u001b[1;31m---------------------------------------------------------------------------\u001b[0m",
      "\u001b[1;31mModuleNotFoundError\u001b[0m                       Traceback (most recent call last)",
      "\u001b[1;32m<ipython-input-2-6fb6ae189034>\u001b[0m in \u001b[0;36m<module>\u001b[1;34m()\u001b[0m\n\u001b[0;32m      2\u001b[0m \u001b[1;31m# \\確認.xlsx \"NDayNHour\"シート → \\NDayNHour.csv を作成 → \\TestConfig01 下に置いて読み込み → 計算\u001b[0m\u001b[1;33m\u001b[0m\u001b[1;33m\u001b[0m\u001b[0m\n\u001b[0;32m      3\u001b[0m \u001b[1;33m\u001b[0m\u001b[0m\n\u001b[1;32m----> 4\u001b[1;33m \u001b[1;32mimport\u001b[0m \u001b[0mShading_Correction_Factor_Modules\u001b[0m \u001b[1;32mas\u001b[0m \u001b[0mSCFModule\u001b[0m\u001b[1;33m\u001b[0m\u001b[0m\n\u001b[0m\u001b[0;32m      5\u001b[0m \u001b[1;32mimport\u001b[0m \u001b[0mpandas\u001b[0m \u001b[1;32mas\u001b[0m \u001b[0mpd\u001b[0m\u001b[1;33m\u001b[0m\u001b[0m\n\u001b[0;32m      6\u001b[0m \u001b[1;32mimport\u001b[0m \u001b[0msys\u001b[0m\u001b[1;33m\u001b[0m\u001b[0m\n",
      "\u001b[1;31mModuleNotFoundError\u001b[0m: No module named 'Shading_Correction_Factor_Modules'"
     ]
    }
   ],
   "source": [
    "\"\"\" 日時 Test \"\"\"\n",
    "# \\確認.xlsx \"NDayNHour\"シート → \\NDayNHour.csv を作成 → \\TestConfig01 下に置いて読み込み → 計算\n",
    "\n",
    "import Shading_Correction_Factor_Modules as SCFModule\n",
    "import pandas as pd\n",
    "import sys\n",
    "csv_input = pd.read_csv(filepath_or_buffer=\"./TestConfig01/NDayNHour.csv\", encoding=\"ms932\", sep=\",\")\n",
    "if csv_input.columns[0]!=\"Hour00\":\n",
    "    sys.exit(\"ファイル内に貼り付けたテスト条件が違います\")\n",
    "for i in range(len(csv_input)):\n",
    "    [Hour00, NDayA, NHourA] = csv_input.values[i]\n",
    "    [NDay, NHour] = SCFModule.calc_NDayNHour(Hour00)\n",
    "    print('Hour00 = {}: NDay = {}, 期待値 = {}, 残差 = {}, NHour = {}, 期待値 = {}, 残差 = {}'\n",
    "          .format( Hour00, NDay, NDayA, NDay - NDayA, NHour, NHourA, NHour - NHourA ))"
   ]
  },
  {
   "cell_type": "code",
   "execution_count": null,
   "metadata": {},
   "outputs": [],
   "source": [
    "\"\"\" 時刻TT Test \"\"\"\n",
    "\n",
    "import Shading_Correction_Factor_Modules as SCFModule\n",
    "NDT=6\n",
    "for NHour in range(0,24):\n",
    "    for MM in range(0,NDT):\n",
    "        print(NHour, MM, SCFModule.calc_TT(NHour, NDT, MM))"
   ]
  },
  {
   "cell_type": "markdown",
   "metadata": {},
   "source": [
    "### A.2 赤緯の計算 (仕様書6.2 式(4))\n",
    "\n",
    "- 赤緯$\\delta_d [deg]$, $N$: 1月1日を$N=1$とした年頭からの通しの日数$[day]$\n",
    "  - 右辺の余弦のかっこ内の角度は$radian$単位となっているので注意\n",
    "  \n",
    "$$ \\begin{align}\n",
    "\\delta_d = (180 / \\pi) & \\{0.006322 - 0.405748 \\cos (2 \\pi N / 366 + 0.153231)\\\\\n",
    "& - 0.005880 \\cos (4 \\pi N / 366 + 0.207099)\\\\\n",
    "& - 0.003233 \\cos (6 \\pi N / 366 + 0.620129) \\} \\qquad \\qquad \\qquad (4) \\\\\n",
    "\\end{align} $$"
   ]
  },
  {
   "cell_type": "code",
   "execution_count": null,
   "metadata": {
    "scrolled": true
   },
   "outputs": [],
   "source": [
    "\"\"\" 式(4) Test \"\"\"\n",
    "# \\確認.xlsx \"式(4)deltad\"シート → \\deltad.csv を作成 → \\TestConfig01 下に置いて読み込み → 計算\n",
    "\n",
    "import Shading_Correction_Factor_Modules as SCFModule\n",
    "import pandas as pd\n",
    "import sys\n",
    "csv_input = pd.read_csv(filepath_or_buffer=\"./TestConfig01/deltad.csv\", encoding=\"ms932\", sep=\",\")\n",
    "if csv_input.columns[0]!=\"deltad_case\":\n",
    "    sys.exit(\"ファイル内に貼り付けたテスト条件が違います\")\n",
    "for i in range(len(csv_input)):\n",
    "    [case, NDay, deltadA] = csv_input.values[i]\n",
    "    deltad = SCFModule.calc_deltad(NDay)\n",
    "    print('case{}: deltad = {}, 期待値 = {}, 残差 = {}'.format( int(case), deltad, deltadA, deltad - deltadA ))    "
   ]
  },
  {
   "cell_type": "markdown",
   "metadata": {},
   "source": [
    "### A.3 均時差の計算 (仕様書6.2 式(6))\n",
    "\n",
    "- 均時差$e_d[hour]$, $N$: 1月1日を$N=1$とした年頭からの通しの日数$[day]$\n",
    "  - 右辺の余弦のかっこ内の角度は$radian$単位となっているので注意\n",
    "\n",
    "$$ \\begin{align}\n",
    "e_d = -0.000279 &+ 0.122772 \\cos (2 \\pi N / 366 + 1.498311)\\\\\n",
    "& - 0.165458 \\cos (4 \\pi N / 366 - 1.261546)\\\\\n",
    "& - 0.005354 \\cos (6 \\pi N / 366 - 1.1571) \\} \\qquad \\qquad \\qquad (6) \\\\\n",
    "\\end{align} $$"
   ]
  },
  {
   "cell_type": "code",
   "execution_count": null,
   "metadata": {
    "scrolled": true
   },
   "outputs": [],
   "source": [
    "\"\"\" 式(6) Test \"\"\"\n",
    "# \\確認.xlsx \"式(6)eed\"シート → \\eed.csv を作成 → \\TestConfig01 下に置いて読み込み → 計算\n",
    "\n",
    "import Shading_Correction_Factor_Modules as SCFModule\n",
    "import pandas as pd\n",
    "import sys\n",
    "csv_input = pd.read_csv(filepath_or_buffer=\"./TestConfig01/eed.csv\", encoding=\"ms932\", sep=\",\")\n",
    "if csv_input.columns[0]!=\"eed_case\":\n",
    "    sys.exit(\"ファイル内に貼り付けたテスト条件が違います\")\n",
    "for i in range(len(csv_input)):\n",
    "    [case, NDay, eedA] = csv_input.values[i]\n",
    "    eed = SCFModule.calc_eed(NDay)\n",
    "    print('case{}: eed = {}, 期待値 = {}, 残差 = {}'.format( int(case), eed, eedA, eed - eedA ))   "
   ]
  },
  {
   "cell_type": "markdown",
   "metadata": {},
   "source": [
    "### A.4 時角の計算 (仕様書6.2 式(7))\n",
    "\n",
    "- 時角$T_{d,t}[deg]$, 時刻$t[hour]$, 均時差$e_d[hour]$, 経度$L[deg]$\n",
    "\n",
    "$$T_{d,t} = (t + e_d - 12) \\times 15 + (L - 135)\\qquad (7) $$"
   ]
  },
  {
   "cell_type": "code",
   "execution_count": null,
   "metadata": {
    "scrolled": true
   },
   "outputs": [],
   "source": [
    "\"\"\" 式(7) Test \"\"\"\n",
    "# \\確認.xlsx \"式(7)Tdt\"シート → \\Tdt.csv を作成 → \\TestConfig01 下に置いて読み込み → 計算\n",
    "\n",
    "import Shading_Correction_Factor_Modules as SCFModule\n",
    "import pandas as pd\n",
    "import sys\n",
    "csv_input = pd.read_csv(filepath_or_buffer=\"./TestConfig01/Tdt.csv\", encoding=\"ms932\", sep=\",\")\n",
    "if csv_input.columns[0]!=\"Tdt_case\":\n",
    "    sys.exit(\"ファイル内に貼り付けたテスト条件が違います\")\n",
    "for i in range(len(csv_input)):\n",
    "    [case, Longitude, NDay, TT, TdtA] = csv_input.values[i]\n",
    "    Tdt = SCFModule.calc_Tdt(Longitude, SCFModule.calc_eed(NDay), TT)\n",
    "    print('case{}: Tdt = {}, 期待値 = {}, 残差 = {}'.format( int(case), Tdt, TdtA, Tdt - TdtA ))   "
   ]
  },
  {
   "cell_type": "markdown",
   "metadata": {},
   "source": [
    "### A.5 太陽高度の正弦の計算 (仕様書6.2 式(8))\n",
    "\n",
    "- 太陽高度$h_{S,d,t}[deg]$, 緯度$\\phi[deg]$, 赤緯$\\delta_d[deg]$,時角$T_{d,t}[deg]$\n",
    "\n",
    "$$\\sin h_{S,d,t} = max[0, \\sin \\phi \\sin \\delta_d + \\cos \\phi \\cos \\delta_d \\cos T_{d,t}] \\qquad (8) $$"
   ]
  },
  {
   "cell_type": "code",
   "execution_count": null,
   "metadata": {
    "scrolled": true
   },
   "outputs": [],
   "source": [
    "\"\"\" 式(8) Test \"\"\"\n",
    "# \\確認.xlsx \"式(8)sinh,式(9)cosh\"シート → \\sinh.csv を作成 → \\TestConfig01 下に置いて読み込み → 計算\n",
    "\n",
    "import Shading_Correction_Factor_Modules as SCFModule\n",
    "import pandas as pd\n",
    "import sys\n",
    "csv_input = pd.read_csv(filepath_or_buffer=\"./TestConfig01/sinh.csv\", encoding=\"ms932\", sep=\",\")\n",
    "if csv_input.columns[0]!=\"sinh_case\":\n",
    "    sys.exit(\"ファイル内に貼り付けたテスト条件が違います\")\n",
    "for i in range(len(csv_input)):\n",
    "    [case, Latitude, Longitude, NDay, TT, sinhA] = csv_input.values[i]\n",
    "    sinh = SCFModule.calc_sinh(Latitude, SCFModule.calc_deltad(NDay)\n",
    "                               , SCFModule.calc_Tdt(Longitude, SCFModule.calc_eed(NDay), TT) )\n",
    "    print('case{}: sinh = {}, 期待値 = {}, 残差 = {}'.format( int(case), sinh, sinhA, sinh - sinhA ))   \n",
    "    "
   ]
  },
  {
   "cell_type": "markdown",
   "metadata": {},
   "source": [
    "### A.6 太陽高度とその余弦の計算 (仕様書6.2 式(9))\n",
    "\n",
    "- 太陽高度$h_{S,d,t}[deg]$\n",
    "\n",
    "$$\\cos h_{S,d,t} = (1 - \\sin ^2 h_{S,d,t})^{0.5} \\qquad (9) $$\n",
    "\n",
    "- 式(8), (9)より、$h_{S,d,t} = \\tan^{-1} (\\sin h_{S,d,t} / \\cos h_{S,d,t})$"
   ]
  },
  {
   "cell_type": "code",
   "execution_count": null,
   "metadata": {
    "scrolled": true
   },
   "outputs": [],
   "source": [
    "\"\"\" 式sdt(calc_co(9)+α Test \"\"\"\n",
    "# \\確認.xlsx \"式(8)～式(12)\"シート → \\cosh.csv を作成 → \\TestConfig01 下に置いて読み込み → 計算\n",
    "\n",
    "import Shading_Correction_Factor_Modules as SCFModule\n",
    "import pandas as pd\n",
    "import sys\n",
    "csv_input = pd.read_csv(filepath_or_buffer=\"./TestConfig01/cosh.csv\", encoding=\"ms932\", sep=\",\")\n",
    "if csv_input.columns[0]!=\"cosh_case\":\n",
    "    sys.exit(\"ファイル内に貼り付けたテスト条件が違います\")\n",
    "for i in range(len(csv_input)):\n",
    "    [case, Latitude, Longitude, NDay, TT, coshA] = csv_input.values[i]\n",
    "    sinh = SCFModule.calc_sinh(Latitude, SCFModule.calc_deltad(NDay)\n",
    "                               , SCFModule.calc_Tdt(Longitude, SCFModule.calc_eed(NDay), TT) )\n",
    "    cosh = SCFModule.calc_cosh(sinh)\n",
    "    print('case{}: cosh = {}, 期待値 = {}, 残差 = {}'.format( int(case), cosh, coshA, cosh - coshA ))   \n",
    "\n",
    "print()    \n",
    "\n",
    "csv_input = pd.read_csv(filepath_or_buffer=\"./TestConfig01/hsdt.csv\", encoding=\"ms932\", sep=\",\")\n",
    "if csv_input.columns[0]!=\"hsdt_case\":\n",
    "    sys.exit(\"ファイル内に貼り付けたテスト条件が違います\")\n",
    "for i in range(len(csv_input)):\n",
    "    [case, Latitude, Longitude, NDay, TT, hsdtA] = csv_input.values[i]\n",
    "    sinh = SCFModule.calc_sinh(Latitude, SCFModule.calc_deltad(NDay)\n",
    "                               , SCFModule.calc_Tdt(Longitude, SCFModule.calc_eed(NDay), TT) )\n",
    "    cosh = SCFModule.calc_cosh(sinh)\n",
    "    hsdt = SCFModule.calc_hsdt(cosh, sinh)\n",
    "    print('case{}: hsdt = {}, 期待値 = {}, 残差 = {}'.format( int(case), hsdt, hsdtA, hsdt - hsdtA ))   "
   ]
  },
  {
   "cell_type": "markdown",
   "metadata": {},
   "source": [
    "### A.7 太陽方位角の計算 (仕様書6.2 式(10)～(12))\n",
    "\n",
    "- 太陽方位角$A_{ZS,d,t}[deg]$, 太陽高度$h_{S,d,t}[deg]$, 赤緯$\\delta_d[deg]$, 時角$T_{d,t}[deg]$, 緯度$\\phi[deg]$\n",
    "\n",
    "$$\\sin A_{ZS,d,t} = \\cos \\delta_d \\sin T_{d,t} / \\cos h_{S,d,t} \\qquad (10) $$\n",
    "\n",
    "$$\\cos A_{ZS,d,t} = (\\sin h_{S,d,t} \\sin \\phi - \\sin \\delta_d) / (\\cos h_{S,d,t} \\cos \\phi) \\qquad (11) $$\n",
    "\n",
    "$$\n",
    "A_{ZS,d,t} = \\left\\{\n",
    "\\begin{array}{ll}\n",
    "\\tan^{-1} (\\sin A_{ZS,d,t} / \\cos A_{ZS,d,t}) + 180 \\hspace{24pt} (\\sin A_{ZS,d,t} > 0, \\cos A_{ZS,d,t} < 0)\n",
    "\\\\\n",
    "\\tan^{-1} (\\sin A_{ZS,d,t} / \\cos A_{ZS,d,t}) - 180 \\hspace{24pt} (\\sin A_{ZS,d,t} < 0, \\cos A_{ZS,d,t} < 0)\n",
    "\\\\\n",
    "90 \\hspace{136pt} (\\sin A_{ZS,d,t} = 1, \\cos A_{ZS,d,t} = 0)\n",
    "\\\\\n",
    "-90 \\hspace{130pt} (\\sin A_{ZS,d,t} = -1, \\cos A_{ZS,d,t} = 0)\n",
    "\\\\\n",
    "\\tan^{-1} (\\sin A_{ZS,d,t} / \\cos A_{ZS,d,t}) \\hspace{48pt} (other)\n",
    "\\end{array}\n",
    "\\right.  \\qquad (12) \n",
    "$$\n"
   ]
  },
  {
   "cell_type": "code",
   "execution_count": null,
   "metadata": {
    "scrolled": true
   },
   "outputs": [],
   "source": [
    "\"\"\" 式(10)～(12) Test \"\"\"\n",
    "# \\確認.xlsx \"式(8)～式(12)\"シート → \\Azsdt.csv を作成 → \\TestConfig01 下に置いて読み込み → 計算\n",
    "\n",
    "import Shading_Correction_Factor_Modules as SCFModule\n",
    "import pandas as pd\n",
    "import sys\n",
    "csv_input = pd.read_csv(filepath_or_buffer=\"./TestConfig01/Azsdt.csv\", encoding=\"ms932\", sep=\",\")\n",
    "if csv_input.columns[0]!=\"Azsdt_case\":\n",
    "    sys.exit(\"ファイル内に貼り付けたテスト条件が違います\")\n",
    "for i in range(len(csv_input)):\n",
    "    [case, Latitude, Longitude, NDay, TT, AzsdtA] = csv_input.values[i]\n",
    "    deltad = SCFModule.calc_deltad(NDay)\n",
    "    eed = SCFModule.calc_eed(NDay)\n",
    "    Tdt = SCFModule.calc_Tdt(Longitude, eed, TT) \n",
    "    sinh = SCFModule.calc_sinh(Latitude, deltad, Tdt)\n",
    "    cosh = SCFModule.calc_cosh(sinh)\n",
    "    Azsdt = SCFModule.calc_Azsdt(Latitude, deltad, Tdt, sinh, cosh)\n",
    "    print('case{}: Azsdt = {}, 期待値 = {}, 残差 = {}'.format( int(case), Azsdt, AzsdtA, Azsdt - AzsdtA ))  "
   ]
  },
  {
   "cell_type": "markdown",
   "metadata": {},
   "source": [
    "### A.8 窓面の方位 (仕様書5.2 図4)\n",
    "\n",
    "- 窓面の方位は、以下の通り\n",
    "  - 北北東：$-157.5°$, 北東：$-135°$, …, 東：$-90°$, …, 南：$0°$, …, 西：$+90°$, …,北：$+180°$\n",
    "  - 角度指定も可：$-180°< A_{ZW,j} \\leq +180°$\n",
    "  - デフォルトは8方位指定"
   ]
  },
  {
   "cell_type": "code",
   "execution_count": 6,
   "metadata": {},
   "outputs": [
    {
     "name": "stdout",
     "output_type": "stream",
     "text": [
      "方位：北北東: Azwj = -157.5, 期待値 = -157.5, 残差 = 0.0\n",
      "方位：北東: Azwj = -135.0, 期待値 = -135.0, 残差 = 0.0\n",
      "方位：東北東: Azwj = -112.5, 期待値 = -112.5, 残差 = 0.0\n",
      "方位：東: Azwj = -90.0, 期待値 = -90.0, 残差 = 0.0\n",
      "方位：東南東: Azwj = -67.5, 期待値 = -67.5, 残差 = 0.0\n",
      "方位：南東: Azwj = -45.0, 期待値 = -45.0, 残差 = 0.0\n",
      "方位：南南東: Azwj = -22.5, 期待値 = -22.5, 残差 = 0.0\n",
      "方位：南: Azwj = 0.0, 期待値 = 0.0, 残差 = 0.0\n",
      "方位：南南西: Azwj = 22.5, 期待値 = 22.5, 残差 = 0.0\n",
      "方位：南西: Azwj = 45.0, 期待値 = 45.0, 残差 = 0.0\n",
      "方位：西南西: Azwj = 67.5, 期待値 = 67.5, 残差 = 0.0\n",
      "方位：西: Azwj = 90.0, 期待値 = 90.0, 残差 = 0.0\n",
      "方位：西北西: Azwj = 112.5, 期待値 = 112.5, 残差 = 0.0\n",
      "方位：北西: Azwj = 135.0, 期待値 = 135.0, 残差 = 0.0\n",
      "方位：北北西: Azwj = 157.5, 期待値 = 157.5, 残差 = 0.0\n",
      "方位：北: Azwj = 180.0, 期待値 = 180.0, 残差 = 0.0\n",
      "方位：-179: Azwj = -179.0, 期待値 = -179.0, 残差 = 0.0\n",
      "方位：180: Azwj = 180.0, 期待値 = 180.0, 残差 = 0.0\n"
     ]
    },
    {
     "ename": "SystemExit",
     "evalue": "窓面方位の入力が不適切です",
     "output_type": "error",
     "traceback": [
      "An exception has occurred, use %tb to see the full traceback.\n",
      "\u001b[1;31mSystemExit\u001b[0m\u001b[1;31m:\u001b[0m 窓面方位の入力が不適切です\n"
     ]
    },
    {
     "name": "stderr",
     "output_type": "stream",
     "text": [
      "C:\\Users\\miura\\Anaconda3\\lib\\site-packages\\IPython\\core\\interactiveshell.py:2971: UserWarning: To exit: use 'exit', 'quit', or Ctrl-D.\n",
      "  warn(\"To exit: use 'exit', 'quit', or Ctrl-D.\", stacklevel=1)\n"
     ]
    }
   ],
   "source": [
    "\"\"\" 窓面の方位 (仕様書5. 図4) Test \"\"\"\n",
    "# \\確認.xlsx \"窓面方位Azwj\"シート → \\Azwj.csv を作成 → \\TestConfig01 下に置いて読み込み → 計算\n",
    "\n",
    "import Shading_Correction_Factor_Modules as SCFModule\n",
    "import pandas as pd\n",
    "import sys\n",
    "csv_input = pd.read_csv(filepath_or_buffer=\"./TestConfig01/Azwj.csv\", encoding=\"ms932\", sep=\",\")\n",
    "if csv_input.columns[0]!=\"方位\":\n",
    "    sys.exit(\"ファイル内に貼り付けたテスト条件が違います\")\n",
    "for i in range(len(csv_input)):\n",
    "    [Azimuth, AzwjA] = csv_input.values[i]\n",
    "    Azwj = SCFModule.calc_Azwj(Azimuth)\n",
    "    print('方位：{}: Azwj = {}, 期待値 = {}, 残差 = {}'.format( Azimuth, Azwj, AzwjA, Azwj - AzwjA ))  "
   ]
  },
  {
   "cell_type": "code",
   "execution_count": 5,
   "metadata": {
    "scrolled": true
   },
   "outputs": [
    {
     "name": "stdout",
     "output_type": "stream",
     "text": [
      "方位：北北東: Azwj = -157.5, 期待値 = -157.5, 残差 = 0.0\n",
      "方位：北東: Azwj = -135.0, 期待値 = -135.0, 残差 = 0.0\n",
      "方位：東北東: Azwj = -112.5, 期待値 = -112.5, 残差 = 0.0\n",
      "方位：東: Azwj = -90.0, 期待値 = -90.0, 残差 = 0.0\n",
      "方位：東南東: Azwj = -67.5, 期待値 = -67.5, 残差 = 0.0\n",
      "方位：南東: Azwj = -45.0, 期待値 = -45.0, 残差 = 0.0\n",
      "方位：南南東: Azwj = -22.5, 期待値 = -22.5, 残差 = 0.0\n",
      "方位：南: Azwj = 0.0, 期待値 = 0.0, 残差 = 0.0\n",
      "方位：南南西: Azwj = 22.5, 期待値 = 22.5, 残差 = 0.0\n",
      "方位：南西: Azwj = 45.0, 期待値 = 45.0, 残差 = 0.0\n",
      "方位：西南西: Azwj = 67.5, 期待値 = 67.5, 残差 = 0.0\n",
      "方位：西: Azwj = 90.0, 期待値 = 90.0, 残差 = 0.0\n",
      "方位：西北西: Azwj = 112.5, 期待値 = 112.5, 残差 = 0.0\n",
      "方位：北西: Azwj = 135.0, 期待値 = 135.0, 残差 = 0.0\n",
      "方位：北北西: Azwj = 157.5, 期待値 = 157.5, 残差 = 0.0\n",
      "方位：北: Azwj = 180.0, 期待値 = 180.0, 残差 = 0.0\n",
      "方位：-179: Azwj = -179.0, 期待値 = -179.0, 残差 = 0.0\n",
      "方位：180: Azwj = 180.0, 期待値 = 180.0, 残差 = 0.0\n"
     ]
    },
    {
     "ename": "SystemExit",
     "evalue": "窓面方位の入力が不適切です",
     "output_type": "error",
     "traceback": [
      "An exception has occurred, use %tb to see the full traceback.\n",
      "\u001b[1;31mSystemExit\u001b[0m\u001b[1;31m:\u001b[0m 窓面方位の入力が不適切です\n"
     ]
    },
    {
     "name": "stderr",
     "output_type": "stream",
     "text": [
      "C:\\Users\\miura\\Anaconda3\\lib\\site-packages\\IPython\\core\\interactiveshell.py:2971: UserWarning: To exit: use 'exit', 'quit', or Ctrl-D.\n",
      "  warn(\"To exit: use 'exit', 'quit', or Ctrl-D.\", stacklevel=1)\n"
     ]
    }
   ],
   "source": [
    "\"\"\" 窓面の方位 (仕様書5. 図4) Test \"\"\"\n",
    "# \\確認.xlsx \"窓面方位Azwj\"シート → \\Azwj.csv を作成 → \\TestConfig01 下に置いて読み込み → 計算\n",
    "\n",
    "import Shading_Correction_Factor_Modules as SCFModule\n",
    "import pandas as pd\n",
    "import sys\n",
    "csv_input = pd.read_csv(filepath_or_buffer=\"./TestConfig01/Azwj.csv\", encoding=\"ms932\", sep=\",\")\n",
    "if csv_input.columns[0]!=\"方位\":\n",
    "    sys.exit(\"ファイル内に貼り付けたテスト条件が違います\")\n",
    "for i in range(len(csv_input)):\n",
    "    [Azimuth, AzwjA] = csv_input.values[i]\n",
    "    Azwj = SCFModule.calc_Azwj(Azimuth)\n",
    "    print('方位：{}: Azwj = {}, 期待値 = {}, 残差 = {}'.format( Azimuth, Azwj, AzwjA, Azwj - AzwjA ))  "
   ]
  },
  {
   "cell_type": "markdown",
   "metadata": {},
   "source": [
    "### A.9 窓面の法線ベクトルと太陽位置とのなす水平面上の角度の計算 (仕様書6.2 式(1))\n",
    "\n",
    "- 窓面の法線ベクトルと太陽位置とのなす水平面上の角度$A_{ZW,j,d,t}[deg]$, 太陽方位角$A_{ZS,d,t}[deg]$, 外壁$j$の方位角$A_{ZW,j}[deg]$\n",
    "\n",
    "$$\n",
    "A_{ZW,j,d,t} = \\left\\{\n",
    "\\begin{array}{ll}\n",
    "A_{ZS,d,t} - A_{ZW,j} \\hspace{48pt} (-180 < A_{ZS,d,t} - A_{ZW,j} \\leq 180)\n",
    "\\\\\n",
    "A_{ZS,d,t} - A_{ZW,j} + 360 \\hspace{24pt} (A_{ZS,d,t} - A_{ZW,j} \\leq -180)\n",
    "\\\\\n",
    "A_{ZS,d,t} - A_{ZW,j} - 360 \\hspace{24pt} (A_{ZS,d,t} - A_{ZW,j} \\geq 180)\n",
    "\\end{array}\n",
    "\\right.  \\qquad (1) \n",
    "$$"
   ]
  },
  {
   "cell_type": "code",
   "execution_count": null,
   "metadata": {},
   "outputs": [],
   "source": [
    "\"\"\" 式(1) Test \"\"\"\n",
    "# \\確認.xlsx \"式(1)Azwjdt\"シート → \\Azwjdt.csv を作成 → \\TestConfig01 下に置いて読み込み → 計算\n",
    "\n",
    "import Shading_Correction_Factor_Modules as SCFModule\n",
    "import pandas as pd\n",
    "import sys\n",
    "csv_input = pd.read_csv(filepath_or_buffer=\"./TestConfig01/Azwjdt.csv\", encoding=\"ms932\", sep=\",\")\n",
    "if csv_input.columns[0]!=\"Azwjdt_case\":\n",
    "    sys.exit(\"ファイル内に貼り付けたテスト条件が違います\")\n",
    "for i in range(len(csv_input)):\n",
    "    [case, Azwj, Latitude, Longitude, NDay, TT, AzwjdtA] = csv_input.values[i]\n",
    "    deltad = SCFModule.calc_deltad(NDay)\n",
    "    eed = SCFModule.calc_eed(NDay)\n",
    "    Tdt = SCFModule.calc_Tdt(Longitude, eed, TT) \n",
    "    sinh = SCFModule.calc_sinh(Latitude, deltad, Tdt)\n",
    "    cosh = SCFModule.calc_cosh(sinh)\n",
    "    Azsdt = SCFModule.calc_Azsdt(Latitude, deltad, Tdt, sinh, cosh)\n",
    "    Azwjdt = SCFModule.calc_Azwjdt(Azwj, Azsdt)\n",
    "    print('case{}: Azwjdt = {}, 期待値 = {}, 残差 = {}'.format( int(case), Azwjdt, AzwjdtA, Azwjdt - AzwjdtA ))  "
   ]
  },
  {
   "cell_type": "markdown",
   "metadata": {},
   "source": [
    "### A.10 窓まわり寸法のデータの持たせ方デフォルト (仕様書5.1 図2)"
   ]
  },
  {
   "cell_type": "code",
   "execution_count": null,
   "metadata": {
    "scrolled": true
   },
   "outputs": [],
   "source": [
    "\"\"\" set_WSSize Test \"\"\"\n",
    "# \\確認.xlsx \"式(1)WSSize\"シート → \\WSSize.csv を作成 → \\TestConfig01 下に置いて読み込み → 計算\n",
    "\n",
    "import Shading_Correction_Factor_Modules as SCFModule\n",
    "import pandas as pd\n",
    "import sys\n",
    "csv_input = pd.read_csv(filepath_or_buffer=\"./TestConfig01/WSSize.csv\", encoding=\"ms932\", sep=\",\")\n",
    "if csv_input.columns[0]!=\"WSSize_case\":\n",
    "    sys.exit(\"ファイル内に貼り付けたテスト条件が違います\")\n",
    "for i in range(len(csv_input)):\n",
    "    case = csv_input.values[i][0]\n",
    "    WSSizeA = csv_input.values[i][1:19]\n",
    "    # print(WSSizeA)\n",
    "    WSSize1 = csv_input.values[i][19:]\n",
    "    WSSize = SCFModule.set_WSSize(WSSize1)\n",
    "    # print(WSSize)\n",
    "    difWSSize = WSSize - WSSizeA\n",
    "    max(max(difWSSize),abs(min(difWSSize)))\n",
    "    \n",
    "    print('case{}: 残差 = {}'.format( int(case), max(max(difWSSize),abs(min(difWSSize))) ))  "
   ]
  },
  {
   "cell_type": "markdown",
   "metadata": {},
   "source": [
    "## B. 直達日射が窓に射す面積の計算 (仕様書6.3)"
   ]
  },
  {
   "cell_type": "markdown",
   "metadata": {},
   "source": [
    "### B.1 太陽がx+側に位置する際のオーバーハングによる影の面積の算定式 (仕様書6.3.1 式(15))\n",
    "\n",
    "$$\n",
    "A_{oh0+}(x,y) = \\left\\{\n",
    "\\begin{array}{ll}\n",
    "0 \\hspace{24pt}(z_{y+}=0)\n",
    "\\\\\n",
    "\\dfrac{1}{2} (x_{3y+} + x_2 / 2 - x) \\dfrac{z_{y+} \\tan h_{S,d,t} / \\cos A_{ZW,j,d,t}}{z_{y+} \\tan | A_{ZW,j,d,t} |} (x_{3y+} + x_2 / 2 - x)\n",
    "\\\\\n",
    "\\hspace{30pt} \\left( \\begin{array}{ll}\n",
    "x_{3y+} + x_2 / 2 - x < z_{y+} \\tan | A_{ZW,j,d,t} | \\\\\n",
    "y_{1} + y_2 / 2 - y \\geq \\dfrac{z_{y+} \\tan h_{S,d,t} / \\cos A_{ZW,j,d,t}}{z_{y+} \\tan | A_{ZW,j,d,t} |} (x_{3y+} + x_2 / 2 - x) \n",
    "\\end{array} \\right)\n",
    "\\\\\n",
    "\\Bigl\\{ (x_{3y+} + x_2 / 2 - x) - \\dfrac{1}{2} (y_{1} + y_2 / 2 - y) \\frac{z_{y+} \\tan | A_{ZW,j,d,t} |}{z_{y+} \\tan h_{S,d,t} / \\cos A_{ZW,j,d,t}} \\Bigr\\} (y_{1} + y_2 / 2 - y)\n",
    "\\\\\n",
    "\\hspace{30pt} \\left( \\begin{array}{ll}\n",
    "x_{3y+} + x_2 / 2 - x > \\dfrac{z_{y+} \\tan | A_{ZW,j,d,t} |}{z_{y+} \\tan h_{S,d,t} / \\cos A_{ZW,j,d,t}} (y_{1} + y_2 / 2 - y) \\\\\n",
    "y_{1} + y_2 / 2 - y < z_{y+} \\tan h_{S,d,t} / \\cos A_{ZW,j,d,t}\n",
    "\\end{array} \\right)\n",
    "\\\\\n",
    "( x_{3y+} + x_2 / 2 - x - \\dfrac{1}{2} z_{y+} \\tan | A_{ZW,j,d,t} | ) z_{y+} \\tan h_{S,d,t} / \\cos A_{ZW,j,d,t}\n",
    "\\\\\n",
    "\\hspace{30pt} \\left( \\begin{array}{ll}\n",
    "x_{3y+} + x_2 / 2 - x \\geq z_{y+} \\tan | A_{ZW,j,d,t} | \\\\\n",
    "y_{1} + y_2 / 2 - y \\geq z_{y+} \\tan h_{S,d,t} / \\cos A_{ZW,j,d,t}\n",
    "\\end{array} \\right)\n",
    "\\end{array}\n",
    "\\right.  \\qquad (15) \n",
    "$$"
   ]
  },
  {
   "cell_type": "code",
   "execution_count": null,
   "metadata": {
    "scrolled": true
   },
   "outputs": [],
   "source": [
    "\"\"\" 式(15) Test \"\"\"\n",
    "# \\確認.xlsx \"式(15)Aoh0p\"シート → \\Aoh0p.csv を作成 → \\TestConfig01 下に置いて読み込み → 計算\n",
    "\n",
    "import Shading_Correction_Factor_Modules as SCFModule\n",
    "import pandas as pd\n",
    "import sys\n",
    "csv_input = pd.read_csv(filepath_or_buffer=\"./TestConfig01/Aoh0p.csv\", encoding=\"ms932\", sep=\",\")\n",
    "if csv_input.columns[0]!=\"Aoh0p_case\":\n",
    "    sys.exit(\"ファイル内に貼り付けたテスト条件が違います\")\n",
    "for i in range(len(csv_input)):\n",
    "    [case, XX, YY]= csv_input.values[i][0:3]\n",
    "    WSSize = csv_input.values[i][3:-3]\n",
    "    [Azw, hs, Aoh0pA] = csv_input.values[i][-3:]\n",
    "    Aoh0p = SCFModule.calc_Aoh0p(XX, YY, WSSize, Azw, hs)\n",
    "\n",
    "    print('case{}: Aohop = {}, 期待値 = {}, 残差 = {}'.format( int(case), Aoh0p, Aoh0pA, Aoh0p - Aoh0pA ))    "
   ]
  },
  {
   "cell_type": "markdown",
   "metadata": {},
   "source": [
    "### B.2 太陽がx+側に位置する際のサイドフィンによる影の面積の算定式 (仕様書6.3.1 式(16))\n",
    "\n",
    "$$\n",
    "A_{sf0+}(x,y) = \\left\\{\n",
    "\\begin{array}{ll}\n",
    "0 \\hspace{24pt}(z_{x+}=0)\n",
    "\\\\\n",
    "\\dfrac{1}{2} (y_{1x+} + y_2 / 2 - y) \\dfrac{z_{x+} \\tan | A_{ZW,j,d,t} |}{z_{x+} \\tan h_{S,d,t} / \\cos A_{ZW,j,d,t}} (y_{1x+} + y_2 / 2 - y)\n",
    "\\\\\n",
    "\\hspace{30pt} \\left( \\begin{array}{ll}\n",
    "y_{1x+} + y_2 / 2 - y < z_{x+} \\tan h_{S,d,t} / \\cos A_{ZW,j,d,t} \\\\\n",
    "x_{3} + x_2 / 2 - x \\geq \\dfrac{z_{x+} \\tan | A_{ZW,j,d,t} |}{z_{x+} \\tan h_{S,d,t} / \\cos A_{ZW,j,d,t}} (y_{1x+} + y_2 / 2 - y) \n",
    "\\end{array} \\right)\n",
    "\\\\\n",
    "\\Bigl\\{ (y_{1x+} + y_2 / 2 - y) - \\dfrac{1}{2} (x_{3} + x_2 / 2 - x) \\dfrac{z_{x+} \\tan h_{S,d,t} / \\cos A_{ZW,j,d,t}}{z_{x+} \\tan | A_{ZW,j,d,t} |} \\Bigr\\} (x_{3} + x_2 / 2 - x)\n",
    "\\\\\n",
    "\\hspace{30pt} \\left( \\begin{array}{ll}\n",
    "y_{1x+} + y_2 / 2 - y > \\dfrac{z_{x+} \\tan h_{S,d,t} / \\cos A_{ZW,j,d,t}}{z_{x+} \\tan | A_{ZW,j,d,t} |} (x_{3} + x_2 / 2 - x) \\\\\n",
    "x_{3} + x_2 / 2 - x < z_{x+} \\tan | A_{ZW,j,d,t} |\n",
    "\\end{array} \\right)\n",
    "\\\\\n",
    "( y_{1x+} + y_2 / 2 - y - \\dfrac{1}{2} z_{x+} \\tan h_{S,d,t} / \\cos A_{ZW,j,d,t} ) \\; z_{x+} \\tan | A_{ZW,j,d,t} |\n",
    "\\\\\n",
    "\\hspace{30pt} \\left( \\begin{array}{ll}\n",
    "y_{1x+} + y_2 / 2 - y \\geq z_{x+} \\tan h_{S,d,t} / \\cos A_{ZW,j,d,t} \\\\\n",
    "x_{3} + x_2 / 2 - x \\geq z_{x+} \\tan | A_{ZW,j,d,t} |\n",
    "\\end{array} \\right)\n",
    "\\end{array}\n",
    "\\right.  \\qquad (16) \n",
    "$$\n",
    "\n",
    "- コード中では、座標を入れ替えて、`calc_Aoh0p00`を叩くことで対応\n",
    "  - 式$(15)$の変数 → 式$(16)$の変数\n",
    "  - $x$ → $y$\n",
    "  - $x_2$ → $y_2$\n",
    "  - $x_{3y+}$ → $y_{1x+}$\n",
    "  - $y$ → $x$\n",
    "  - $y_1$ → $x_3$\n",
    "  - $y_2$ → $x_2$\n",
    "  - $z_{y+} \\tan h_{S,d,t} / \\cos A_{ZW,j,d,t}$ → $z_{x+} \\tan | A_{ZW,j,d,t} |$\n",
    "  - $z_{y+} \\tan | A_{ZW,j,d,t} |$ → $z_{x+} \\tan h_{S,d,t} / \\cos A_{ZW,j,d,t}$"
   ]
  },
  {
   "cell_type": "code",
   "execution_count": null,
   "metadata": {
    "scrolled": true
   },
   "outputs": [],
   "source": [
    "\"\"\" 式(16) Test \"\"\"\n",
    "# \\確認.xlsx \"式(16)Asf0p\"シート → \\Asf0p.csv を作成 → \\TestConfig01 下に置いて読み込み → 計算\n",
    "\n",
    "import Shading_Correction_Factor_Modules as SCFModule\n",
    "import pandas as pd\n",
    "import sys\n",
    "csv_input = pd.read_csv(filepath_or_buffer=\"./TestConfig01/Asf0p.csv\", encoding=\"ms932\", sep=\",\")\n",
    "if csv_input.columns[0]!=\"Asf0p_case\":\n",
    "    sys.exit(\"ファイル内に貼り付けたテスト条件が違います\")\n",
    "for i in range(len(csv_input)):\n",
    "    [case, XX, YY]= csv_input.values[i][0:3]\n",
    "    WSSize = csv_input.values[i][3:-3]\n",
    "    [Azw, hs, Asf0pA] = csv_input.values[i][-3:]\n",
    "    Asf0p = SCFModule.calc_Asf0p(XX, YY, WSSize, Azw, hs)\n",
    "\n",
    "    print('case{}: Asfop = {}, 期待値 = {}, 残差 = {}'.format( int(case), Asf0p, Asf0pA, Asf0p - Asf0pA ))   "
   ]
  },
  {
   "cell_type": "markdown",
   "metadata": {},
   "source": [
    "### B.3 太陽がx+側に位置する際の日射が射す部分の面積の計算式 (仕様書6.3.1 式(14))\n",
    "\n",
    "$$ \\begin{align}\n",
    "A_{wind,j,x+,d,t} &= (x_2 + x_3)(y_1 + y_2) - A_{oh0+}(-x_2 / 2, -y_2 / 2) - A_{sf0+}(-x_2 / 2, -y_2 / 2) \\\\\n",
    "&- \\{ (x_2 + x_3) y_1 - A_{oh0+}(-x_2 / 2, y_2 / 2) - A_{sf0+}(-x_2 / 2, y_2 / 2) \\} \\\\\n",
    "&- \\{ x_3 (y_1 + y_2) - A_{oh0+}( x_2 / 2, -y_2 / 2) - A_{sf0+}( x_2 / 2, -y_2 / 2) \\} \\\\\n",
    "&+ x_3 y_1 - A_{oh0+}( x_2 / 2, y_2 / 2) - A_{sf0+}( x_2 / 2, y_2 / 2) \\qquad \\qquad \\qquad (14) \\\\\n",
    "\\end{align} $$"
   ]
  },
  {
   "cell_type": "code",
   "execution_count": null,
   "metadata": {
    "scrolled": true
   },
   "outputs": [],
   "source": [
    "\"\"\" 式(14) Test \"\"\"\n",
    "# \\確認.xlsx \"式(14)Axp\"シート → \\Axp.csv を作成 → \\TestConfig01 下に置いて読み込み → 計算\n",
    "\n",
    "import Shading_Correction_Factor_Modules as SCFModule\n",
    "import pandas as pd\n",
    "import sys\n",
    "csv_input = pd.read_csv(filepath_or_buffer=\"./TestConfig01/Axp.csv\", encoding=\"ms932\", sep=\",\")\n",
    "if csv_input.columns[0]!=\"Axp_case\":\n",
    "    sys.exit(\"ファイル内に貼り付けたテスト条件が違います\")\n",
    "for i in range(len(csv_input)):\n",
    "    case = csv_input.values[i][0]\n",
    "    WSSize = csv_input.values[i][1:-3]\n",
    "    [Azw, hs, AxpA] = csv_input.values[i][-3:]\n",
    "    Axp = SCFModule.calc_Axp(WSSize, Azw, hs)\n",
    "\n",
    "    print('case{}: Axp = {}, 期待値 = {}, 残差 = {}'.format( int(case), Axp, AxpA, Axp - AxpA ))"
   ]
  },
  {
   "cell_type": "markdown",
   "metadata": {},
   "source": [
    "### B.4 太陽がx-側に位置する際のオーバーハングによる影の面積の算定式 (仕様書6.3.2 式(19))\n",
    "\n",
    "$$\n",
    "A_{oh0-}(x,y) = \\left\\{\n",
    "\\begin{array}{ll}\n",
    "0 \\hspace{24pt}(z_{y+}=0)\n",
    "\\\\\n",
    "\\dfrac{1}{2} (x_{1y+} + x_2 / 2 + x) \\dfrac{z_{y+} \\tan h_{S,d,t} / \\cos A_{ZW,j,d,t}}{z_{y+} \\tan A_{ZW,j,d,t}} (x_{1y+} + x_2 / 2 + x)\n",
    "\\\\\n",
    "\\hspace{30pt} \\left( \\begin{array}{ll}\n",
    "x_{1y+} + x_2 / 2 + x < z_{y+} \\tan A_{ZW,j,d,t} \\\\\n",
    "y_{1} + y_2 / 2 - y \\geq \\dfrac{z_{y+} \\tan h_{S,d,t} / \\cos A_{ZW,j,d,t}}{z_{y+} \\tan A_{ZW,j,d,t}} (x_{1y+} + x_2 / 2 + x) \n",
    "\\end{array} \\right)\n",
    "\\\\\n",
    "\\Bigl\\{ (x_{1y+} + x_2 / 2 + x) - \\dfrac{1}{2} (y_{1} + y_2 / 2 - y) \\dfrac{z_{y+} \\tan A_{ZW,j,d,t}}{z_{y+} \\tan h_{S,d,t} / \\cos A_{ZW,j,d,t}} \\Bigr\\} (y_{1} + y_2 / 2 - y)\n",
    "\\\\\n",
    "\\hspace{30pt} \\left( \\begin{array}{ll}\n",
    "x_{1y+} + x_2 / 2 + x > \\dfrac{z_{y+} \\tan A_{ZW,j,d,t}}{z_{y+} \\tan h_{S,d,t} / \\cos A_{ZW,j,d,t}} (y_{1} + y_2 / 2 - y) \\\\\n",
    "y_{1} + y_2 / 2 - y < z_{y+} \\tan h_{S,d,t} / \\cos A_{ZW,j,d,t}\n",
    "\\end{array} \\right)\n",
    "\\\\\n",
    "( x_{1y+} + x_2 / 2 + x - \\dfrac{1}{2} z_{y+} \\tan A_{ZW,j,d,t} ) z_{y+} \\tan h_{S,d,t} / \\cos A_{ZW,j,d,t}\n",
    "\\\\\n",
    "\\hspace{30pt} \\left( \\begin{array}{ll}\n",
    "x_{1y+} + x_2 / 2 + x \\geq z_{y+} \\tan A_{ZW,j,d,t} \\\\\n",
    "y_{1} + y_2 / 2 - y \\geq z_{y+} \\tan h_{S,d,t} / \\cos A_{ZW,j,d,t}\n",
    "\\end{array} \\right)\n",
    "\\end{array}\n",
    "\\right.  \\qquad (19) \n",
    "$$\n",
    "\n",
    "- コード中では、座標を入れ替えて、`calc_Aoh0p00`を叩くことで対応\n",
    "  - 式$(15)$の変数 → 式$(19)$の変数\n",
    "  - $x$ → $-x$\n",
    "  - $x_{3y+}$ → $x_{1y+}$\n",
    "  - $A_{ZW,j,d,t}$ → $-A_{ZW,j,d,t}$"
   ]
  },
  {
   "cell_type": "code",
   "execution_count": null,
   "metadata": {
    "scrolled": true
   },
   "outputs": [],
   "source": [
    "\"\"\" 式(19) Test \"\"\"\n",
    "# \\確認.xlsx \"式(19)Aoh0m\"シート → \\Aoh0m.csv を作成 → \\TestConfig01 下に置いて読み込み → 計算\n",
    "\n",
    "import Shading_Correction_Factor_Modules as SCFModule\n",
    "import pandas as pd\n",
    "import sys\n",
    "csv_input = pd.read_csv(filepath_or_buffer=\"./TestConfig01/Aoh0m.csv\", encoding=\"ms932\", sep=\",\")\n",
    "if csv_input.columns[0]!=\"Aoh0m_case\":\n",
    "    sys.exit(\"ファイル内に貼り付けたテスト条件が違います\")\n",
    "for i in range(len(csv_input)):\n",
    "    [case, XX, YY]= csv_input.values[i][0:3]\n",
    "    WSSize = csv_input.values[i][3:-3]\n",
    "    [Azw, hs, Aoh0mA] = csv_input.values[i][-3:]\n",
    "    Aoh0m = SCFModule.calc_Aoh0m(XX, YY, WSSize, Azw, hs)\n",
    "\n",
    "    print('case{}: Aoh0m = {}, 期待値 = {}, 残差 = {}'.format( int(case), Aoh0m, Aoh0mA, Aoh0m - Aoh0mA ))"
   ]
  },
  {
   "cell_type": "markdown",
   "metadata": {},
   "source": [
    "### B.5 太陽がx-側に位置する際のサイドフィンによる影の面積の算定式 (仕様書6.3.2 式(20))\n",
    "\n",
    "$$\n",
    "A_{sf0-}(x, y) = \\left\\{\n",
    "\\begin{array}{ll}\n",
    "0 \\hspace{24pt}(z_{x-}=0)\n",
    "\\\\\n",
    "\\dfrac{1}{2} (y_{1x-} + y_2 / 2 - y) \\dfrac{z_{x-} \\tan A_{ZW,j,d,t}}{z_{x-} \\tan h_{S,d,t} / \\cos A_{ZW,j,d,t}} (y_{1x-} + y_2 / 2 - y)\n",
    "\\\\\n",
    "\\hspace{30pt} \\left( \\begin{array}{ll}\n",
    "y_{1x-} + y_2 / 2 - y < z_{x-} \\tan h_{S,d,t} / \\cos A_{ZW,j,d,t} \\\\\n",
    "x_{1} + x_2 / 2 + x \\geq \\dfrac{z_{x-} \\tan A_{ZW,j,d,t}}{z_{x-} \\tan h_{S,d,t} / \\cos A_{ZW,j,d,t}} (y_{1x-} + y_2 / 2 - y) \n",
    "\\end{array} \\right)\n",
    "\\\\\n",
    "\\Bigl\\{ (y_{1x-} + y_2 / 2 - y) - \\dfrac{1}{2} (x_{1} + x_2 / 2 + x) \\dfrac{z_{x-} \\tan h_{S,d,t} / \\cos A_{ZW,j,d,t}}{z_{x-} \\tan A_{ZW,j,d,t} } \\Bigr\\} (x_{1} + x_2 / 2 + x)\n",
    "\\\\\n",
    "\\hspace{30pt} \\left( \\begin{array}{ll}\n",
    "y_{1x-} + y_2 / 2 - y > \\dfrac{z_{x-} \\tan h_{S,d,t} / \\cos A_{ZW,j,d,t}}{z_{x-} \\tan A_{ZW,j,d,t}} (x_{1} + x_2 / 2 + x) \\\\\n",
    "x_{1} + x_2 / 2 + x < z_{x-} \\tan A_{ZW,j,d,t}\n",
    "\\end{array} \\right)\n",
    "\\\\\n",
    "( y_{1x-} + y_2 / 2 - y - \\dfrac{1}{2} z_{x-} \\tan h_{S,d,t} / \\cos A_{ZW,j,d,t} ) \\; z_{x-} \\tan A_{ZW,j,d,t}\n",
    "\\\\\n",
    "\\hspace{30pt} \\left( \\begin{array}{ll}\n",
    "y_{1x-} + y_2 / 2 - y \\geq z_{x-} \\tan h_{S,d,t} / \\cos A_{ZW,j,d,t} \\\\\n",
    "x_{1} + x_2 / 2 + x \\geq z_{x-} \\tan A_{ZW,j,d,t}\n",
    "\\end{array} \\right)\n",
    "\\end{array}\n",
    "\\right.  \\qquad (20) \n",
    "$$\n",
    "\n",
    "- コード中では、座標を入れ替えて、`calc_Aoh0p00`を叩くことで対応\n",
    "  - 式$(15)$の変数 → 式$(16)$の変数 → 式$(20)$の変数\n",
    "  - $x$            → $y$            → $y$\n",
    "  - $x_2$          → $y_2$          → $y_2$\n",
    "  - $x_{3y+}$      → $y_{1x+}$      → $y_{1x-}$\n",
    "  - $y$            → $x$            → $-x$\n",
    "  - $y_1$          → $x_3$          → $x_1$\n",
    "  - $y_2$          → $x_2$          → $x_2$\n",
    "  - $z_{y+} \\tan h_{S,d,t} / \\cos A_{ZW,j,d,t}$ → $z_{x+} \\tan | A_{ZW,j,d,t} |$ → $z_{x-} \\tan A_{ZW,j,d,t}$\n",
    "  - $z_{y+} \\tan | A_{ZW,j,d,t} |$ → $z_{x+} \\tan h_{S,d,t} / \\cos A_{ZW,j,d,t}$ → $z_{x-} \\tan h_{S,d,t} / \\cos A_{ZW,j,d,t}$"
   ]
  },
  {
   "cell_type": "code",
   "execution_count": null,
   "metadata": {
    "scrolled": true
   },
   "outputs": [],
   "source": [
    "\"\"\" 式(20) Test \"\"\"\n",
    "# \\確認.xlsx \"式(20)Asf0m\"シート → \\Asf0m.csv を作成 → \\TestConfig01 下に置いて読み込み → 計算\n",
    "\n",
    "import Shading_Correction_Factor_Modules as SCFModule\n",
    "import pandas as pd\n",
    "import sys\n",
    "csv_input = pd.read_csv(filepath_or_buffer=\"./TestConfig01/Asf0m.csv\", encoding=\"ms932\", sep=\",\")\n",
    "if csv_input.columns[0]!=\"Asf0m_case\":\n",
    "    sys.exit(\"ファイル内に貼り付けたテスト条件が違います\")\n",
    "for i in range(len(csv_input)):\n",
    "    [case, XX, YY]= csv_input.values[i][0:3]\n",
    "    WSSize = csv_input.values[i][3:-3]\n",
    "    [Azw, hs, Asf0mA] = csv_input.values[i][-3:]\n",
    "    Asf0m = SCFModule.calc_Asf0m(XX, YY, WSSize, Azw, hs)\n",
    "\n",
    "    print('case{}: Asfom = {}, 期待値 = {}, 残差 = {}'.format( int(case), Asf0m, Asf0mA, Asf0m - Asf0mA ))"
   ]
  },
  {
   "cell_type": "markdown",
   "metadata": {},
   "source": [
    "### B.6 太陽がx-側に位置する際の日射が射す部分の面積の計算式 (仕様書6.3.2 式(18))\n",
    "\n",
    "$$ \\begin{align}\n",
    "A_{wind,j,x-,d,t} &= (x_1 + x_2)(y_1 + y_2) - A_{oh0-}( x_2 / 2, -y_2 / 2) - A_{sf0-}( x_2 / 2, -y_2 / 2) \\\\\n",
    "&- \\{ (x_1 + x_2) y_1 - A_{oh0-}( x_2 / 2, y_2 / 2) - A_{sf0-}( x_2 / 2, y_2 / 2) \\} \\\\\n",
    "&- \\{ x_1 (y_1 + y_2) - A_{oh0-}(-x_2 / 2, -y_2 / 2) - A_{sf0-}(-x_2 / 2, -y_2 / 2) \\} \\\\\n",
    "&+ x_1 y_1 - A_{oh0-}(-x_2 / 2, y_2 / 2) - A_{sf0-}(-x_2 / 2, y_2 / 2) \\qquad \\qquad \\qquad (18) \\\\\n",
    "\\end{align} $$"
   ]
  },
  {
   "cell_type": "code",
   "execution_count": null,
   "metadata": {
    "scrolled": true
   },
   "outputs": [],
   "source": [
    "\"\"\" 式(18) Test \"\"\"\n",
    "# \\確認.xlsx \"式(18)Axm\"シート → \\Axm.csv を作成 → \\TestConfig01 下に置いて読み込み → 計算\n",
    "\n",
    "import Shading_Correction_Factor_Modules as SCFModule\n",
    "import pandas as pd\n",
    "import sys\n",
    "csv_input = pd.read_csv(filepath_or_buffer=\"./TestConfig01/Axm.csv\", encoding=\"ms932\", sep=\",\")\n",
    "if csv_input.columns[0]!=\"Axm_case\":\n",
    "    sys.exit(\"ファイル内に貼り付けたテスト条件が違います\")\n",
    "for i in range(len(csv_input)):\n",
    "    case = csv_input.values[i][0]\n",
    "    WSSize = csv_input.values[i][1:-3]\n",
    "    [Azw, hs, AxmA] = csv_input.values[i][-3:]\n",
    "    Axm = SCFModule.calc_Axm(WSSize, Azw, hs)\n",
    "\n",
    "    print('case{}: Axm = {}, 期待値 = {}, 残差 = {}'.format( int(case), Axm, AxmA, Axm - AxmA ))"
   ]
  },
  {
   "cell_type": "markdown",
   "metadata": {},
   "source": [
    "### B.7 直達日射が窓に射す部分の面積の計算\n",
    "\n",
    "- 太陽高度$h_{S,d,t}[deg]$が、$h_{S,d,t}>0°$で計算\n",
    "- 窓面の法線ベクトルと太陽位置とのなす水平面上の角度$A_{ZW,j,d,t}$に応じて以下。\n",
    "  - $-90°<A_{ZW,j,d,t} < 0°$：$A_{wind,j,x-,d,t}$を計算($A_{wind,j,x+,d,t} = 0$)\n",
    "  - $0°\\leq A_{ZW,j,d,t} < 90°$：$A_{wind,j,x+,d,t}$を計算($A_{wind,j,x-,d,t} = 0$)\n"
   ]
  },
  {
   "cell_type": "markdown",
   "metadata": {},
   "source": [
    "## C. 天空日射・反射日射の効果係数 (仕様書6.4, 6.5)"
   ]
  },
  {
   "cell_type": "markdown",
   "metadata": {},
   "source": [
    "### C.1 形態係数算定のための関数$\\;f_A\\;$ (仕様書6.4 式(23))\n",
    "\n",
    "$$ \\begin{align}\n",
    "f_{A}(x_a,x_b,y_a,y_b,z_a) &= \\frac{x_b \\sqrt{y_b^2+z_a^2}}{2} \\tan^{-1} \\frac{x_b}{\\sqrt{y_b^2+z_a^2}}\n",
    "- \\frac{x_b \\sqrt{y_a^2+z_a^2}}{2} \\tan^{-1} \\frac{x_b}{\\sqrt{y_a^2+z_a^2}} \\\\\n",
    "&- \\frac{x_a \\sqrt{y_b^2+z_a^2}}{2} \\tan^{-1} \\frac{x_a}{\\sqrt{y_b^2+z_a^2}}\n",
    "+ \\frac{x_a \\sqrt{y_a^2+z_a^2}}{2} \\tan^{-1} \\frac{x_a}{\\sqrt{y_a^2+z_a^2}} \\\\\n",
    "&+ \\frac{x_b^2 - y_b^2 - z_a^2}{8} \\log (x_b^2 + y_b^2 + z_a^2) - \\frac{x_b^2 - y_a^2 - z_a^2}{8} \\log (x_b^2 + y_a^2 + z_a^2) \\\\\n",
    "&- \\frac{x_a^2 - y_b^2 - z_a^2}{8} \\log (x_a^2 + y_b^2 + z_a^2) + \\frac{x_a^2 - y_a^2 - z_a^2}{8} \\log (x_a^2 + y_a^2 + z_a^2) \n",
    "\\qquad \\qquad \\qquad (23) \\\\\n",
    "\\end{align} $$"
   ]
  },
  {
   "cell_type": "code",
   "execution_count": null,
   "metadata": {
    "scrolled": true
   },
   "outputs": [],
   "source": [
    "\"\"\" 式(23) Test \"\"\"\n",
    "# \\確認.xlsx \"式(23)fA\"シート → \\fA.csv を作成 → \\TestConfig01 下に置いて読み込み → 計算\n",
    "\n",
    "import Shading_Correction_Factor_Modules as SCFModule\n",
    "import pandas as pd\n",
    "import sys\n",
    "csv_input = pd.read_csv(filepath_or_buffer=\"./TestConfig01/fA.csv\", encoding=\"ms932\", sep=\",\")\n",
    "if csv_input.columns[0]!=\"fA_case\":\n",
    "    sys.exit(\"ファイル内に貼り付けたテスト条件が違います\")\n",
    "for i in range(len(csv_input)):\n",
    "    [case, xa, xb, ya, yb, za, fAA] = csv_input.values[i]\n",
    "    fA = SCFModule.calc_fa(xa, xb, ya, yb, za)\n",
    "    print('case{}: fA = {}, 期待値 = {}, 残差 = {}'.format( int(case), fA, fAA, fA - fAA ))"
   ]
  },
  {
   "cell_type": "markdown",
   "metadata": {},
   "source": [
    "### C.2 天空に対する形態係数 (仕様書6.4 式(22))\n",
    "\n",
    "$$ \\begin{align}\n",
    "\\phi_{j,y+} = (\\pi A_{wind,j})^{-1} \\{ & \\hspace{2pt} f_A(x_{3y+}, x_2 + x_{3y+}, y_1, y_1 + y_2, z_{y+}) + f_A(y_{1x+}, y_{1x+} + y_2, x_{3}, x_2 + x_{3}, z_{x+}) \\\\\n",
    "+ & \\hspace{2pt} f_A(x_{1y+}, x_{1y+} + x_2, y_1, y_1 + y_2, z_{y+}) + f_A(y_{1x-}, y_{1x-} + y_2, x_{1}, x_1 + x_2, z_{x-}) \\\\ \n",
    "+ & \\hspace{2pt} f_A(x_{3}, x_2 + x_{3}, y_1, y_1 + y_2, 0) + f_A(y_{1}, y_{1} + y_2, x_{3}, x_2 + x_{3}, 0) \\\\\n",
    "+ & \\hspace{2pt} f_A(x_{1}, x_{1} + x_2, y_1, y_1 + y_2, 0) + f_A(y_{1}, y_{1} + y_2, x_{1}, x_1 + x_2, 0) \\\\ \n",
    "- & \\hspace{2pt} f_A(x_{3y+}, x_2 + x_{3y+}, y_1, y_1 + y_2, 0) - f_A(y_{1x+}, y_{1x+} + y_2, x_{3}, x_2 + x_{3}, 0) \\\\\n",
    "- & \\hspace{2pt} f_A(x_{1y+}, x_{1y+} + x_2, y_1, y_1 + y_2, 0) - f_A(y_{1x-}, y_{1x-} + y_2, x_{1}, x_1 + x_2, 0) \\qquad (22) \\\\\n",
    "\\end{align} $$"
   ]
  },
  {
   "cell_type": "code",
   "execution_count": null,
   "metadata": {
    "scrolled": true
   },
   "outputs": [],
   "source": [
    "\"\"\" 式(22) Test \"\"\"\n",
    "# \\確認.xlsx \"式(22)phiyp\"シート → \\phiyp.csv を作成 → \\TestConfig01 下に置いて読み込み → 計算\n",
    "\n",
    "import Shading_Correction_Factor_Modules as SCFModule\n",
    "import pandas as pd\n",
    "import sys\n",
    "csv_input = pd.read_csv(filepath_or_buffer=\"./TestConfig01/phiyp.csv\", encoding=\"ms932\", sep=\",\")\n",
    "if csv_input.columns[0]!=\"phiyp_case\":\n",
    "    sys.exit(\"ファイル内に貼り付けたテスト条件が違います\")\n",
    "for i in range(len(csv_input)):\n",
    "    case = csv_input.values[i][0]\n",
    "    WSSize = csv_input.values[i][1:-1]\n",
    "    phiypA = csv_input.values[i][-1]\n",
    "    phiyp = SCFModule.calc_phiyp(WSSize)\n",
    "\n",
    "    print('case{}: phiyp = {}, 期待値 = {}, 残差 = {}'.format( int(case), phiyp, phiypA, phiyp - phiypA ))"
   ]
  },
  {
   "cell_type": "markdown",
   "metadata": {},
   "source": [
    "### C.3 天空日射の効果係数 (仕様書6.4 式(21))\n",
    "\n",
    "$$\\gamma_{isr,j,y+} = 2 \\phi_{j,y+} \\qquad (21) $$"
   ]
  },
  {
   "cell_type": "markdown",
   "metadata": {},
   "source": [
    "### C.4 地面に対する形態係数 (仕様書6.5 式(25))\n",
    "\n",
    "$$ \\begin{align}\n",
    "\\phi_{j,y-} = (\\pi A_{wind,j})^{-1} \\{ & \\hspace{2pt} f_A(x_{3y-}, x_2 + x_{3y-}, y_3, y_2 + y_3, z_{y-}) + f_A(y_{3x+}, y_2 + y_{3x+}, x_{3}, x_2 + x_{3}, z_{x+}) \\\\\n",
    "+ & \\hspace{2pt} f_A(x_{1y-}, x_{1y-} + x_2, y_3, y_2 + y_3, z_{y-}) + f_A(y_{3x-}, y_2 + y_{3x-}, x_{1}, x_1 + x_2, z_{x-}) \\\\ \n",
    "+ & \\hspace{2pt} f_A(x_{3}, x_2 + x_{3}, y_3, y_2 + y_3, 0) + f_A(y_{3}, y_{2} + y_3, x_{3}, x_2 + x_{3}, 0) \\\\\n",
    "+ & \\hspace{2pt} f_A(x_{1}, x_{1} + x_2, y_3, y_2 + y_3, 0) + f_A(y_{3}, y_{2} + y_3, x_{1}, x_1 + x_2, 0) \\\\ \n",
    "- & \\hspace{2pt} f_A(x_{3y-}, x_2 + x_{3y-}, y_3, y_2 + y_3, 0) - f_A(y_{3x+}, y_2 + y_{3x+}, x_{3}, x_2 + x_{3}, 0) \\\\\n",
    "- & \\hspace{2pt} f_A(x_{1y-}, x_{1y-} + x_2, y_3, y_2 + y_3, 0) - f_A(y_{3x-}, y_2 + y_{3x-}, x_{1}, x_1 + x_2, 0) \\qquad (25) \\\\\n",
    "\\end{align} $$"
   ]
  },
  {
   "cell_type": "code",
   "execution_count": null,
   "metadata": {},
   "outputs": [],
   "source": [
    "\"\"\" 式(25) Test \"\"\"\n",
    "# \\確認.xlsx \"式(25)phiym\"シート → \\phiym.csv を作成 → \\TestConfig01 下に置いて読み込み → 計算\n",
    "\n",
    "import Shading_Correction_Factor_Modules as SCFModule\n",
    "import pandas as pd\n",
    "import sys\n",
    "csv_input = pd.read_csv(filepath_or_buffer=\"./TestConfig01/phiym.csv\", encoding=\"ms932\", sep=\",\")\n",
    "if csv_input.columns[0]!=\"phiym_case\":\n",
    "    sys.exit(\"ファイル内に貼り付けたテスト条件が違います\")\n",
    "for i in range(len(csv_input)):\n",
    "    case = csv_input.values[i][0]\n",
    "    WSSize = csv_input.values[i][1:-1]\n",
    "    phiymA = csv_input.values[i][-1]\n",
    "    phiym = SCFModule.calc_phiym(WSSize)\n",
    "\n",
    "    print('case{}: phiym = {}, 期待値 = {}, 残差 = {}'.format( int(case), phiym, phiymA, phiym - phiymA ))"
   ]
  },
  {
   "cell_type": "markdown",
   "metadata": {},
   "source": [
    "### C.5 反射日射の効果係数 (仕様書6.5 式(24))\n",
    "\n",
    "$$\\gamma_{isr,j,y-} = 2 \\phi_{j,y-} \\qquad (24) $$"
   ]
  },
  {
   "cell_type": "markdown",
   "metadata": {},
   "source": [
    "## D. 地点と日射量\n"
   ]
  },
  {
   "cell_type": "markdown",
   "metadata": {},
   "source": [
    "### D.3 正時±30分で太陽が地平線上にある時間刻み数のカウント (仕様書6.2 式(3)及び図5中の$n_H$の計算)\n",
    "\n",
    "- 算定ツール標準の時間分割数$n_{\\Delta t}$は、$6$ ($10$分刻み)\n",
    "  - $1$時間を$1$分割もしくは$2$以上の偶数で分割する\n",
    "  \n",
    "  \n",
    "- 正時$\\pm 30$分間で太陽が地平線上にある(太陽高度$>0$)時間刻み数をカウントして、$n_H$を計算"
   ]
  },
  {
   "cell_type": "code",
   "execution_count": null,
   "metadata": {
    "scrolled": true
   },
   "outputs": [],
   "source": [
    "\"\"\" 式(3),図5中のNhの計算 Test \"\"\"\n",
    "# \\確認.xlsx \"式(3)中Nh\"シート → \\Nh.csv を作成 → \\TestConfig01 下に置いて読み込み → 計算\n",
    "\n",
    "import Shading_Correction_Factor_Modules as SCFModule\n",
    "import pandas as pd\n",
    "import sys\n",
    "csv_input = pd.read_csv(filepath_or_buffer=\"./TestConfig01/Nh.csv\", encoding=\"ms932\", sep=\",\")\n",
    "if csv_input.columns[0]!=\"Nh_case\":\n",
    "    sys.exit(\"ファイル内に貼り付けたテスト条件が違います\")\n",
    "for i in range(len(csv_input)):\n",
    "    [case, Latitude, Longitude, NDay, NHour, NDT, NhA] = csv_input.values[i]  \n",
    "    Nh = SCFModule.calc_Nh(Latitude, Longitude, NDay, NHour, NDT)\n",
    "    print('case{}: Nh = {}, 期待値 = {}, 残差 = {}'.format( int(case), Nh, NhA, Nh - NhA ))\n",
    "\n",
    "print ('NDT = {} のときには Nh = {} か {}'.format( 1, SCFModule.calc_Nh(35, 135, 121, 6, 1)\n",
    "                                            , SCFModule.calc_Nh(35, 135, 121, 5, 1) ))\n",
    " \n",
    "print(SCFModule.calc_Nh(35, 135, 121, 6, 5)) #奇数分割時のエラー確認"
   ]
  },
  {
   "cell_type": "markdown",
   "metadata": {},
   "source": [
    "### D.4 $1/n_{\\Delta t}$時間間隔での日射量 (仕様書6.2 式(3)の計算, 図5参照)\n",
    "\n",
    "- 算定ツール標準の時間分割数$n_{\\Delta t}$は、$6$ ($10$分刻み)\n",
    "- 正時$\\pm 30$分間で太陽が地平線上にある(太陽高度$>0$)時間刻み数をカウントして、$n_H$を計算\n",
    "- 法線面直達日射量, 水平面天空日射量をそれぞれに適用し、時間刻みにおける日射量を算定する"
   ]
  },
  {
   "cell_type": "code",
   "execution_count": 4,
   "metadata": {},
   "outputs": [
    {
     "name": "stdout",
     "output_type": "stream",
     "text": [
      "Importing Jupyter notebook from Shading_Correction_Factor_Modules.ipynb\n",
      "Importing Jupyter notebook from climate.ipynb\n",
      "case1: Sdhm = 0, 期待値 = 0.0, 残差 = 0.0\n",
      "case2: Sdhm = 0, 期待値 = 0.0, 残差 = 0.0\n",
      "case3: Sdhm = 0, 期待値 = 0.0, 残差 = 0.0\n",
      "case4: Sdhm = 0, 期待値 = 0.0, 残差 = 0.0\n",
      "case5: Sdhm = 0, 期待値 = 0.0, 残差 = 0.0\n",
      "case6: Sdhm = 0, 期待値 = 0.0, 残差 = 0.0\n",
      "case7: Sdhm = 0, 期待値 = 0.0, 残差 = 0.0\n",
      "case8: Sdhm = 0, 期待値 = 0.0, 残差 = 0.0\n",
      "case9: Sdhm = 0, 期待値 = 0.0, 残差 = 0.0\n",
      "case10: Sdhm = 0, 期待値 = 0.0, 残差 = 0.0\n",
      "case11: Sdhm = 0, 期待値 = 0.0, 残差 = 0.0\n",
      "case12: Sdhm = 0, 期待値 = 0.0, 残差 = 0.0\n",
      "case13: Sdhm = 0, 期待値 = 0.0, 残差 = 0.0\n",
      "case14: Sdhm = 0, 期待値 = 0.0, 残差 = 0.0\n",
      "case15: Sdhm = 0, 期待値 = 0.0, 残差 = 0.0\n",
      "case16: Sdhm = 0, 期待値 = 0.0, 残差 = 0.0\n",
      "case17: Sdhm = 0, 期待値 = 0.0, 残差 = 0.0\n",
      "case18: Sdhm = 0, 期待値 = 0.0, 残差 = 0.0\n",
      "case19: Sdhm = 0.5714285714285714, 期待値 = 0.5714285714285711, 残差 = 3.3306690738754696e-16\n",
      "case20: Sdhm = 0.5714285714285714, 期待値 = 0.5714285714285711, 残差 = 3.3306690738754696e-16\n",
      "case21: Sdhm = 0.5714285714285714, 期待値 = 0.5714285714285711, 残差 = 3.3306690738754696e-16\n",
      "case22: Sdhm = 1.869047619047619, 期待値 = 1.86904761904762, 残差 = -8.881784197001252e-16\n",
      "case23: Sdhm = 3.1666666666666665, 期待値 = 3.1666666666666696, 残差 = -3.1086244689504383e-15\n",
      "case24: Sdhm = 3.1666666666666665, 期待値 = 3.1666666666666696, 残差 = -3.1086244689504383e-15\n",
      "case25: Sdhm = 3.1666666666666665, 期待値 = 3.1666666666666696, 残差 = -3.1086244689504383e-15\n",
      "case26: Sdhm = 3.1666666666666665, 期待値 = 3.1666666666666696, 残差 = -3.1086244689504383e-15\n",
      "case27: Sdhm = 3.1666666666666665, 期待値 = 3.1666666666666696, 残差 = -3.1086244689504383e-15\n",
      "case28: Sdhm = 4.75, 期待値 = 4.75, 残差 = 0.0\n",
      "case29: Sdhm = 6.333333333333333, 期待値 = 6.33333333333333, 残差 = 2.6645352591003757e-15\n",
      "case30: Sdhm = 6.333333333333333, 期待値 = 6.33333333333333, 残差 = 2.6645352591003757e-15\n",
      "case31: Sdhm = 6.333333333333333, 期待値 = 6.33333333333333, 残差 = 2.6645352591003757e-15\n",
      "case32: Sdhm = 6.333333333333333, 期待値 = 6.33333333333333, 残差 = 2.6645352591003757e-15\n",
      "case33: Sdhm = 6.333333333333333, 期待値 = 6.33333333333333, 残差 = 2.6645352591003757e-15\n",
      "case34: Sdhm = 8.333333333333334, 期待値 = 8.33333333333333, 残差 = 3.552713678800501e-15\n",
      "case35: Sdhm = 10.333333333333334, 期待値 = 10.3333333333333, 残差 = 3.375077994860476e-14\n",
      "case36: Sdhm = 10.333333333333334, 期待値 = 10.3333333333333, 残差 = 3.375077994860476e-14\n",
      "case37: Sdhm = 10.333333333333334, 期待値 = 10.3333333333333, 残差 = 3.375077994860476e-14\n",
      "case38: Sdhm = 10.333333333333334, 期待値 = 10.3333333333333, 残差 = 3.375077994860476e-14\n",
      "case39: Sdhm = 10.333333333333334, 期待値 = 10.3333333333333, 残差 = 3.375077994860476e-14\n",
      "case40: Sdhm = 15.75, 期待値 = 15.75, 残差 = 0.0\n",
      "case41: Sdhm = 21.166666666666668, 期待値 = 21.1666666666667, 残差 = -3.197442310920451e-14\n",
      "case42: Sdhm = 21.166666666666668, 期待値 = 21.1666666666667, 残差 = -3.197442310920451e-14\n",
      "case43: Sdhm = 21.166666666666668, 期待値 = 21.1666666666667, 残差 = -3.197442310920451e-14\n",
      "case44: Sdhm = 21.166666666666668, 期待値 = 21.1666666666667, 残差 = -3.197442310920451e-14\n",
      "case45: Sdhm = 21.166666666666668, 期待値 = 21.1666666666667, 残差 = -3.197442310920451e-14\n",
      "case46: Sdhm = 21.916666666666668, 期待値 = 21.9166666666667, 残差 = -3.197442310920451e-14\n",
      "case47: Sdhm = 22.666666666666668, 期待値 = 22.6666666666667, 残差 = -3.197442310920451e-14\n",
      "case48: Sdhm = 22.666666666666668, 期待値 = 22.6666666666667, 残差 = -3.197442310920451e-14\n",
      "case49: Sdhm = 22.666666666666668, 期待値 = 22.6666666666667, 残差 = -3.197442310920451e-14\n",
      "case50: Sdhm = 22.666666666666668, 期待値 = 22.6666666666667, 残差 = -3.197442310920451e-14\n",
      "case51: Sdhm = 22.666666666666668, 期待値 = 22.6666666666667, 残差 = -3.197442310920451e-14\n",
      "case52: Sdhm = 20.333333333333336, 期待値 = 20.3333333333333, 残差 = 3.552713678800501e-14\n",
      "case53: Sdhm = 18.0, 期待値 = 18.0, 残差 = 0.0\n",
      "case54: Sdhm = 18.0, 期待値 = 18.0, 残差 = 0.0\n",
      "case55: Sdhm = 18.0, 期待値 = 18.0, 残差 = 0.0\n",
      "case56: Sdhm = 18.0, 期待値 = 18.0, 残差 = 0.0\n",
      "case57: Sdhm = 18.0, 期待値 = 18.0, 残差 = 0.0\n",
      "case58: Sdhm = 18.166666666666664, 期待値 = 18.1666666666667, 残差 = -3.552713678800501e-14\n",
      "case59: Sdhm = 18.333333333333332, 期待値 = 18.3333333333333, 残差 = 3.197442310920451e-14\n",
      "case60: Sdhm = 18.333333333333332, 期待値 = 18.3333333333333, 残差 = 3.197442310920451e-14\n",
      "case61: Sdhm = 18.333333333333332, 期待値 = 18.3333333333333, 残差 = 3.197442310920451e-14\n",
      "case62: Sdhm = 18.333333333333332, 期待値 = 18.3333333333333, 残差 = 3.197442310920451e-14\n",
      "case63: Sdhm = 18.333333333333332, 期待値 = 18.3333333333333, 残差 = 3.197442310920451e-14\n",
      "case64: Sdhm = 18.166666666666664, 期待値 = 18.1666666666667, 残差 = -3.552713678800501e-14\n",
      "case65: Sdhm = 18.0, 期待値 = 18.0, 残差 = 0.0\n",
      "case66: Sdhm = 18.0, 期待値 = 18.0, 残差 = 0.0\n",
      "case67: Sdhm = 18.0, 期待値 = 18.0, 残差 = 0.0\n",
      "case68: Sdhm = 18.0, 期待値 = 18.0, 残差 = 0.0\n",
      "case69: Sdhm = 18.0, 期待値 = 18.0, 残差 = 0.0\n",
      "case70: Sdhm = 17.333333333333336, 期待値 = 17.3333333333333, 残差 = 3.552713678800501e-14\n",
      "case71: Sdhm = 16.666666666666668, 期待値 = 16.6666666666667, 残差 = -3.197442310920451e-14\n",
      "case72: Sdhm = 16.666666666666668, 期待値 = 16.6666666666667, 残差 = -3.197442310920451e-14\n",
      "case73: Sdhm = 16.666666666666668, 期待値 = 16.6666666666667, 残差 = -3.197442310920451e-14\n",
      "case74: Sdhm = 16.666666666666668, 期待値 = 16.6666666666667, 残差 = -3.197442310920451e-14\n",
      "case75: Sdhm = 16.666666666666668, 期待値 = 16.6666666666667, 残差 = -3.197442310920451e-14\n",
      "case76: Sdhm = 18.916666666666668, 期待値 = 18.9166666666667, 残差 = -3.197442310920451e-14\n",
      "case77: Sdhm = 21.166666666666668, 期待値 = 21.1666666666667, 残差 = -3.197442310920451e-14\n",
      "case78: Sdhm = 21.166666666666668, 期待値 = 21.1666666666667, 残差 = -3.197442310920451e-14\n",
      "case79: Sdhm = 21.166666666666668, 期待値 = 21.1666666666667, 残差 = -3.197442310920451e-14\n",
      "case80: Sdhm = 21.166666666666668, 期待値 = 21.1666666666667, 残差 = -3.197442310920451e-14\n",
      "case81: Sdhm = 21.166666666666668, 期待値 = 21.1666666666667, 残差 = -3.197442310920451e-14\n",
      "case82: Sdhm = 18.75, 期待値 = 18.75, 残差 = 0.0\n",
      "case83: Sdhm = 16.333333333333332, 期待値 = 16.3333333333333, 残差 = 3.197442310920451e-14\n",
      "case84: Sdhm = 16.333333333333332, 期待値 = 16.3333333333333, 残差 = 3.197442310920451e-14\n",
      "case85: Sdhm = 16.333333333333332, 期待値 = 16.3333333333333, 残差 = 3.197442310920451e-14\n",
      "case86: Sdhm = 16.333333333333332, 期待値 = 16.3333333333333, 残差 = 3.197442310920451e-14\n",
      "case87: Sdhm = 16.333333333333332, 期待値 = 16.3333333333333, 残差 = 3.197442310920451e-14\n",
      "case88: Sdhm = 13.166666666666666, 期待値 = 13.166666666666698, 残差 = -3.197442310920451e-14\n",
      "case89: Sdhm = 10.0, 期待値 = 10.0, 残差 = 0.0\n",
      "case90: Sdhm = 10.0, 期待値 = 10.0, 残差 = 0.0\n",
      "case91: Sdhm = 10.0, 期待値 = 10.0, 残差 = 0.0\n",
      "case92: Sdhm = 10.0, 期待値 = 10.0, 残差 = 0.0\n",
      "case93: Sdhm = 10.0, 期待値 = 10.0, 残差 = 0.0\n",
      "case94: Sdhm = 8.416666666666666, 期待値 = 8.41666666666667, 残差 = -3.552713678800501e-15\n",
      "case95: Sdhm = 6.833333333333333, 期待値 = 6.83333333333333, 残差 = 2.6645352591003757e-15\n",
      "case96: Sdhm = 6.833333333333333, 期待値 = 6.83333333333333, 残差 = 2.6645352591003757e-15\n",
      "case97: Sdhm = 6.833333333333333, 期待値 = 6.83333333333333, 残差 = 2.6645352591003757e-15\n",
      "case98: Sdhm = 6.833333333333333, 期待値 = 6.83333333333333, 残差 = 2.6645352591003757e-15\n",
      "case99: Sdhm = 6.833333333333333, 期待値 = 6.83333333333333, 残差 = 2.6645352591003757e-15\n",
      "case100: Sdhm = 4.194444444444445, 期待値 = 4.19444444444444, 残差 = 4.440892098500626e-15\n",
      "case101: Sdhm = 1.5555555555555556, 期待値 = 1.55555555555556, 残差 = -4.440892098500626e-15\n",
      "case102: Sdhm = 1.5555555555555556, 期待値 = 1.55555555555556, 残差 = -4.440892098500626e-15\n",
      "case103: Sdhm = 1.5555555555555556, 期待値 = 1.55555555555556, 残差 = -4.440892098500626e-15\n",
      "case104: Sdhm = 1.5555555555555556, 期待値 = 1.55555555555556, 残差 = -4.440892098500626e-15\n",
      "case105: Sdhm = 0, 期待値 = 0.0, 残差 = 0.0\n",
      "case106: Sdhm = 0, 期待値 = 0.0, 残差 = 0.0\n",
      "case107: Sdhm = 0, 期待値 = 0.0, 残差 = 0.0\n",
      "case108: Sdhm = 0, 期待値 = 0.0, 残差 = 0.0\n",
      "case109: Sdhm = 0, 期待値 = 0.0, 残差 = 0.0\n",
      "case110: Sdhm = 0, 期待値 = 0.0, 残差 = 0.0\n",
      "case111: Sdhm = 0, 期待値 = 0.0, 残差 = 0.0\n",
      "case112: Sdhm = 0, 期待値 = 0.0, 残差 = 0.0\n",
      "case113: Sdhm = 0, 期待値 = 0.0, 残差 = 0.0\n",
      "case114: Sdhm = 0, 期待値 = 0.0, 残差 = 0.0\n"
     ]
    }
   ],
   "source": [
    "\"\"\" 式(3)の S'HM の計算 Test \"\"\"\n",
    "# \\確認.xlsx \"式(3)中Nh\"シート → \\Sdhm.csv を作成 → \\TestConfig01 下に置いて読み込み → 計算\n",
    "\n",
    "import nbimporter\n",
    "import Shading_Correction_Factor_Modules as SCFModule\n",
    "import pandas as pd\n",
    "import sys\n",
    "csv_input = pd.read_csv(filepath_or_buffer=\"./TestConfig01/Sdhm.csv\", encoding=\"ms932\", sep=\",\")\n",
    "if csv_input.columns[0]!=\"Sdhm_case\":\n",
    "    sys.exit(\"ファイル内に貼り付けたテスト条件が違います\")\n",
    "for i in range(len(csv_input)):\n",
    "    [case, MM, NDT, sinh, Sh, Shp, Nh, Nhp, SdhmA] = csv_input.values[i]  \n",
    "    Sdhm = SCFModule.calc_Sdhm(MM, NDT, sinh, Sh, Shp, Nh, Nhp)\n",
    "    print('case{}: Sdhm = {}, 期待値 = {}, 残差 = {}'.format( int(case), Sdhm, SdhmA, Sdhm - SdhmA ))"
   ]
  },
  {
   "cell_type": "markdown",
   "metadata": {},
   "source": [
    "### D.5 窓ガラスの入射角特性読み込み\n",
    "\n",
    "- `\\IncidentAngleCharacteristics.csv`\n",
    "  - $1$行目はヘッダ：\"入射角特性\", $\\eta_{max}$, $\\eta_{isr}$, $k_0$～$k_7$\n",
    "  - $2$行目以下に入射角特性のデータを記入\n",
    "    - $1$列：$ID$\n",
    "    - $2$列：直達日射に対する入射角特性最大値(入射角$0$) $\\eta_{max}$\n",
    "    - $3$列：天空・反射日射に対する入射角特性(遮蔽なしの場合) $\\eta_{isr}$\n",
    "    - $4～11$列：$\\eta_{j,d,t}(\\theta_{j,d,t})$ 算定式の係数$k_n$$(n=0～7)$\n",
    "       $$\\eta_{j,d,t}(\\theta_{j,d,t}) = \\sum_{n=0}^7 k_n \\cos^n \\theta_{j,d,t}$$\n",
    "  - デフォルトとして、以下を設定\n",
    "    - $ID=0$：日よけ効果係数内で入射角特性非考慮 → $\\eta_{j,d,t}(\\theta_{j,d,t}) = 1$\n",
    "    - $ID=1$：解説書の入射角特性(「平成25年度省エネルギー基準に準拠した算定・判断の方法及び解説 I 非住宅建築物 第二版(連合印刷センター, 平成26年○月○日)」, pp.168-170, 式(2.1.25),(2.1.28),(2.1.32))\n",
    "       $$\\eta_{j,d,t}(\\theta_{j,d,t}) = 2.3920 \\cos \\theta_{j,d,t} -3.8636 \\cos^3 \\theta_{j,d,t} + 3.7568 \\cos^5 \\theta_{j,d,t} - 1.3952 \\cos^7 \\theta_{j,d,t} $$\n",
    "    - 他の特性を入れる際には、$ID$を違えて、`\\IncidentAngleCharacteristics.csv` に追加する。"
   ]
  },
  {
   "cell_type": "code",
   "execution_count": null,
   "metadata": {
    "scrolled": true
   },
   "outputs": [],
   "source": [
    "\"\"\" \\IncidentAngleCharacteristics.csv の読み込みテスト \"\"\"\n",
    "\n",
    "import Shading_Correction_Factor_Modules as SCFModule\n",
    "print(SCFModule.input_IncidentAngleCharacteristics(0, \"./SCFConfig01/\", \"IncidentAngleCharacteristics.csv\"))\n",
    "print(SCFModule.input_IncidentAngleCharacteristics(1, \"./SCFConfig01/\", \"IncidentAngleCharacteristics.csv\"))\n",
    "print(SCFModule.input_IncidentAngleCharacteristics(2, \"./SCFConfig01/\", \"IncidentAngleCharacteristics.csv\"))"
   ]
  },
  {
   "cell_type": "markdown",
   "metadata": {},
   "source": [
    "### D.6 直達日射に対する窓ガラスの入射角特性 (緑本非住宅第二版pp.169 式(2.1.28)準拠)\n",
    "\n",
    "- 「平成25年度省エネルギー基準に準拠した算定・判断の方法及び解説 I 非住宅建築物 第二版(連合印刷センター, 平成26年○月○日)」pp.168-170参照\n",
    "- 入射角$\\theta_{j,d,t}[deg]$, 太陽高度$h_{S,d,t}[deg]$, 太陽方位角$A_{ZS,d,t}[deg]$, 外壁$j$の方位角$A_{ZW,i}[deg]$\n",
    "- 入射角特性算定式の係数$k_n$$(n=0～7)$, 日付$d$時刻$t$における入射角特性$\\eta_{j,d,t}$\n",
    "\n",
    "$$\\cos \\theta_{j,d,t} = \\cos h_{S,d,t} \\cos (A_{ZS,d,t} - A_{ZW,i}) \\qquad (2.1.26) $$\n",
    "$$\\eta_{j,d,t}(\\theta_{j,d,t}) = \\sum_{n=0}^7 k_n \\cos^n \\theta_{j,d,t} \\qquad (2.1.28') $$"
   ]
  },
  {
   "cell_type": "code",
   "execution_count": null,
   "metadata": {},
   "outputs": [],
   "source": [
    "\"\"\" 式(2.1.26),(2.1.28')の計算 Test \"\"\"\n",
    "# \\確認.xlsx \"式(1)Azwjdt\"シート → \\etajdt.csv を作成 → \\TestConfig01 下に置いて読み込み → 計算\n",
    "\n",
    "import Shading_Correction_Factor_Modules as SCFModule\n",
    "import pandas as pd\n",
    "import sys\n",
    "csv_input = pd.read_csv(filepath_or_buffer=\"./TestConfig01/etajdt.csv\", encoding=\"ms932\", sep=\",\")\n",
    "if csv_input.columns[0]!=\"etajdt_case\":\n",
    "    sys.exit(\"ファイル内に貼り付けたテスト条件が違います\")\n",
    "\n",
    "for i in range(len(csv_input)):\n",
    "    [case, Azwjdt, cosh] = csv_input.values[i][0:3]  \n",
    "    etakk = csv_input.values[i][3:11]\n",
    "    etajdtA = csv_input.values[i][-1] \n",
    "    costheta = SCFModule.calc_costheta(Azwjdt, cosh)\n",
    "    etajdt = SCFModule.calc_etajdt(costheta, etakk)\n",
    "    print('case{}: etajdt = {}, 期待値 = {}, 残差 = {}'.format( int(case), etajdt, etajdtA, etajdt - etajdtA ))\n"
   ]
  },
  {
   "cell_type": "markdown",
   "metadata": {},
   "source": [
    "## E. 日よけ効果係数\n",
    "\n",
    "### E.1 日よけ効果係数の算出 (仕様書6.1 式(2)準拠)\n",
    "\n",
    "- $\\gamma_{dsr,j,x+}$：窓等$j$に対して太陽が$x+$側に位置する際の直達日射に対する日よけ効果係数(式$(13)$)\n",
    "- $\\gamma_{dsr,j,x-}$：窓等$j$に対して太陽が$x-$側に位置する際の直達日射に対する日よけ効果係数(式$(17)$)\n",
    "- $\\gamma_{isr,j,y+}$：天空日射に対する日よけ効果係数(式$(21)$) → C.3参照\n",
    "- $\\gamma_{isr,j,y-}$：反射日射に対する日よけ効果係数(式$(24)$) → C.5参照\n",
    "- $\\eta_{j,d,t}$：日付$d$、時刻$t$における窓等$j$の入射角特性 → D.6参照\n",
    "- $S_{D,d,t}$：日付$d$、時刻$t$における法線面直達日射量$[kcal/m^2]$\n",
    "- $S_{S,d,t}$：日付$d$、時刻$t$における水平面天空日射量$[kcal/m^2]$\n",
    "- $\\eta_{isr}$：天空・反射日射に対する入射角特性(遮蔽なしの場合)$[-]$\n",
    "  - 緑本、仕様書では$\\;\\eta_{isr} = 0.808\\;$\n",
    "  \n",
    "  \n",
    "- 式(2)のうち、定数$0.5$は垂直面からみた天空・地表面の形態係数、$0.1$は地表面における日射反射率である。\n",
    "\n",
    "$$ \\begin{align}\n",
    "\\gamma_{wind,j} \n",
    "= \\big[&\\hspace{4pt}\\gamma_{dsr,j,x+} \\times \\sum_{-90<A_{ZW,j,d,t}<0, \\; h_{s,d,t}>0} \n",
    "        (S_{D,d,t} \\; \\eta_{j,d,t} \\cos h_{s,d,t} \\cos A_{ZW,j,d,t}) \\\\\n",
    "  + &\\hspace{4pt} \\gamma_{dsr,j,x-} \\times \\sum_{0 \\leq A_{ZW,j,d,t}<90, \\; h_{s,d,t}>0} \n",
    "        (S_{D,d,t} \\; \\eta_{j,d,t} \\cos h_{s,d,t} \\cos A_{ZW,j,d,t}) \\\\\n",
    "  + &\\hspace{4pt}\\gamma_{isr,j,y+} \\times \\sum (\\eta_{isr} \\times 0.5 \\times S_{S,d,t} \\\\\n",
    "  + &\\hspace{4pt}\\gamma_{isr,j,y-} \\times \\sum \\{\\eta_{isr} \\times 0.1 \\times 0.5 \n",
    "        \\times (S_{S,d,t} + S_{D,d,t} \\sin h_{s,d,t}) \\} \\big] \\\\\n",
    "\\big/ \\hspace{4pt} \\big[&\\sum_{-90<A_{ZW,j,d,t}<90, \\; h_{s,d,t}>0} (S_{D,d,t} \\; \\eta_{j,d,t} \\cos h_{s,d,t} \\cos A_{ZW,j,d,t}) \\\\\n",
    "    + &\\hspace{4pt}\\sum \\{\\eta_{isr} \\times 0.5 \\times S_{S,d,t} \n",
    "        +  \\eta_{isr} \\times 0.1 \\times 0.5 \\times (S_{S,d,t} + S_{D,d,t} \\sin h_{s,d,t}) \\} \\big] \\qquad (2)\n",
    "\\\\\n",
    "\\end{align} $$\n",
    "\n",
    "- $A_{wind,j}$：窓等$j$の面積($=x_2y_2$)$[m^2]$\n",
    "- $A_{wind,j,x+,d,t}$：太陽が$x+$側に位置する日付$d$、時刻$t$において窓等$j$の直達日射が当たる部分の面積$[m^2]$\n",
    "- $A_{wind,j,x-,d,t}$：太陽が$x-$側に位置する日付$d$、時刻$t$において窓等$j$の直達日射が当たる部分の面積$[m^2]$\n",
    "\n",
    "$$ \\begin{align}\n",
    "\\gamma_{dsr,j,x+} \n",
    "= \\big\\{ & \\sum_{-90<A_{ZW,j,d,t}<0, \\; h_{s,d,t}>0} (A_{wind,j,x+,d,t}\\hspace{2pt}  \n",
    "        S_{D,d,t} \\; \\eta_{j,d,t} \\cos h_{s,d,t} \\cos A_{ZW,j,d,t}) \\big\\} \\\\\n",
    "\\big/ \\big\\{ &\\hspace{2pt} A_{wind,j} \\sum_{-90<A_{ZW,j,d,t}<0, \\; h_{s,d,t}>0} (S_{D,d,t} \\; \\eta_{j,d,t} \\cos h_{s,d,t} \\cos A_{ZW,j,d,t})  \\} \\big\\} \\qquad (13)\n",
    "\\\\\n",
    "\\end{align} $$\n",
    "\n",
    "$$ \\begin{align}\n",
    "\\gamma_{dsr,j,x-} \n",
    "= \\big\\{ & \\sum_{0 \\leq A_{ZW,j,d,t}<90, \\; h_{s,d,t}>0} (A_{wind,j,x-,d,t} \\hspace{2pt} \n",
    "        S_{D,d,t} \\; \\eta_{j,d,t} \\cos h_{s,d,t} \\cos A_{ZW,j,d,t}) \\big\\} \\\\\n",
    "\\big/ \\big\\{ &\\hspace{2pt} A_{wind,j} \\sum_{0 \\leq A_{ZW,j,d,t}<90, \\; h_{s,d,t}>0} (S_{D,d,t} \\; \\eta_{j,d,t} \\cos h_{s,d,t} \\cos A_{ZW,j,d,t})  \\} \\big\\} \\qquad (17)\n",
    "\\\\\n",
    "\\end{align} $$\n"
   ]
  },
  {
   "cell_type": "markdown",
   "metadata": {},
   "source": [
    "\n",
    "### E.2 式(2)分子分母中の時刻$t$における各成分の計算"
   ]
  },
  {
   "cell_type": "markdown",
   "metadata": {},
   "source": [
    "\n",
    "### E.3 式(2)分子分母の期間積算処理\n",
    "\n",
    "- 式(2)中の時刻$t$における分子および分母を期間積算する。\n",
    "  - 暖房期、冷房期、非空調期\n",
    "  - 各月毎\n",
    "  - 各月、各時刻毎\n",
    "    - 時刻毎は正時$\\pm30$分としたいが、本ツール内でのデータの取り扱いからずれる。前時刻の`MM` $=$ `NDT`$/2～$同時刻の`MM` $=$ `NDT`$/2-1$の間を正時の積算値として計上する。\n",
    "    \n",
    "\n",
    "- `SCF[h][i][j]`に格納して積算\n",
    "  - `h`$=0$：分子, `h`$=1$：分母, `h`$=2$：効果係数\n",
    "  - `i`$=-2$：冷房期積算, `i`$=-1$：暖房期積算, `i`$=0$：非空調期積算, `i`$=1～12$：各月で積算\n",
    "  - `j`$=-1$：日積算, `j`$=0～24$：各時刻で積算  \n",
    "\n",
    "  \n",
    "\n"
   ]
  },
  {
   "cell_type": "markdown",
   "metadata": {},
   "source": [
    "## X. 日よけ効果係数算定ツール本体＋入出力\n"
   ]
  },
  {
   "cell_type": "markdown",
   "metadata": {},
   "source": [
    "\n",
    "### X.2 本体プログラムテスト"
   ]
  },
  {
   "cell_type": "markdown",
   "metadata": {},
   "source": [
    "#### X.2.1 まずは動くことを確認"
   ]
  },
  {
   "cell_type": "code",
   "execution_count": null,
   "metadata": {
    "scrolled": true
   },
   "outputs": [],
   "source": [
    "\"\"\" 日よけ効果係数計算プログラム本体 Test \"\"\"\n",
    "\n",
    "import Shading_Correction_Factor_Main as SCFMain\n",
    "\n",
    "Path00 = \"./SCFConfig01/\"  # 設定ファイルのあるパス\n",
    "FileName00 = \"Zone.csv\"    # 地点データのファイル\n",
    "FileName01 = \"IncidentAngleCharacteristics.csv\"   # 窓ガラスの入射角特性ファイル\n",
    "ClimateZone = 6            # 地域区分(1～8地域, 他、ユニークなID設定可)\n",
    "NDT = 6                    # 1時間の分割数,ツールの標準は6分割\n",
    "Azimuth = \"南\"             # 窓面の方位を16方位か、角度(-180°< Azimuth <= 180°)で入力\n",
    "etaID = 1                  # 入射角特性のデータセットのID\n",
    "WSSize = [1.1, 2.1, 0.9, 1.05, 1.07, 0.88, 0.85, 0.98, 2.05, 1.02, 0.96, 0.92, 1.01, 0.97, 0.24, 0.28, 0.21, 0.2]\n",
    "    # WSSize = [X1, X2, X3, X1yp, X1ym, X3yp, X3ym, Y1, Y2, Y3, Y1xp, Y1xm, Y3xp, Y3xm, Zxp, Zxm, Zyp, Zym]\n",
    "    # WSSize:窓および日よけの寸法一式\n",
    "\n",
    "SCF = SCFMain.Calc_ShadingCorrectionFactor(Path00, FileName00, FileName01\n",
    "                                           , ClimateZone, NDT, etaID, Azimuth, WSSize )\n",
    "                 \n",
    "    # SCF[h][i][j]\n",
    "    # h = 0：分子, h = 1：分母, h = 2：効果係数\n",
    "    # i = -2：冷房期積算, i = -1：暖房期積算, i = 0：非空調期積算,O\n",
    "    #         i = 1～12：各月で積算\n",
    "    # j = -1：日積算, j = 0～24：各時刻で積算             \n",
    "\n",
    "print('冷房期 = {}, 暖房期 = {}, 非空調期 = {}'.format( SCF[2][-2][-1], SCF[2][-1][-1], SCF[2][0][-1] ))\n",
    "for i in range(1,13):\n",
    "    for j in range(25):\n",
    "        print(i,j,SCF[0][i][j],SCF[1][i][j],SCF[2][i][j])"
   ]
  },
  {
   "cell_type": "markdown",
   "metadata": {},
   "source": [
    "#### X.2.2 本体プログラム計算過程デバッグ用"
   ]
  },
  {
   "cell_type": "code",
   "execution_count": null,
   "metadata": {},
   "outputs": [],
   "source": [
    "\"\"\" 日よけ効果係数計算プログラム本体 デバッグ用\"\"\"\n",
    "# ●● デバッグ用に本体プログラムをコピーして確認('180503) ●●\n",
    "# ●● ←付きコメント分はデバッグ作業時のメモ ●●\n",
    "\n",
    "import sys    # ●● Exit用に読み込み追加 ●●\n",
    "import Shading_Correction_Factor_Modules as SCFModule\n",
    "import nbimporter\n",
    "import climate\n",
    "\n",
    "# def Calc_ShadingCorrectionFactor(Path00, FileName00, FileName01, ClimateZone, NDT, etaID, Azimuth, WSSize ):\n",
    "# ●● ↑デバッグ用にコメントアウト ●●\n",
    "\n",
    "for iii in range(1):   # ●● ←デバッグ用ダミー ●●\n",
    "\n",
    "    \n",
    "    # ●● ↓デバッグ用に本来の引数を直接指定 ●●\n",
    "    \"\"\" 引数(の例) \"\"\"    \n",
    "    Path00 = \"./SCFConfig01/\"  # 設定ファイルのあるパス\n",
    "    FileName00 = \"Zone.csv\"    # 地点データのファイル\n",
    "    FileName01 = \"IncidentAngleCharacteristics.csv\"   # 窓ガラスの入射角特性ファイル\n",
    "    ClimateZone = 3            # 地域区分(1～8地域, 他、ユニークなID設定可)\n",
    "    # ●● ↑ 検証用の \\日除け効果係数算定シート(全対応)-9.xlsm は、3地域盛岡指定 ●●\n",
    "    NDT = 6                    # 1時間の分割数,ツールの標準は6分割\n",
    "    Azimuth = \"南\"             # 窓面の方位を16方位か、角度(-180°< zimuth <= 180°)で入力\n",
    "    etaID = 1                  # 入射角特性のデータセットのID\n",
    "    WSSize = [0.2,2, 0.2,0.2, 0.2, 0.2, 0.2, 0.2,2, 0.2,0.2, 0.2, 0.2, 0.2, 1,  0.5,1,  0.5]\n",
    "        # ●● ↑ 検証用の \\日除け効果係数算定シート(全対応)-9.xlsm の設定 ●●\n",
    "    # WSSize = [X1, X2, X3, X1yp, X1ym, X3yp, X3ym, Y1, Y2, Y3, Y1xp, Y1xm, Y3xp, Y3xm, Zxp, Zxm, Zyp, Zym]\n",
    "    # WSSize:窓および日よけの寸法一式\n",
    "    # ●● ↓ 検証用の \\日除け効果係数算定シート(全対応)-9.xlsm の設定の確認 ●●\n",
    "    # 0.2,2,0.2,0.2,0.2,0.2,0.2,0.2,2,0.2,0.2,0.2,0.2,0.2,1,0.5,1,0.5\n",
    "    # X1, X2,X3, X1yp,X1ym,X3yp,X3ym,Y1, Y2,Y3, Y1xp,Y1xm,Y3xp,Y3xm,Zxp,Zxm,Zyp,Zym\n",
    "    # 0.2,2, 0.2,0.2, 0.2, 0.2, 0.2, 0.2,2, 0.2,0.2, 0.2, 0.2, 0.2, 1,  0.5,1,  0.5\n",
    "    \n",
    "    \n",
    "    \"\"\" リストの初期設定 \"\"\"    \n",
    "    Nh = [0 for i in range(8761)]\n",
    "    SCF01 = [[[0 for j in range(NDT)] for i in range(8761)] for h in range(2)]\n",
    "    \n",
    "    \"\"\" \\Zone.csv から地点データの読み込み(D.1) \"\"\"\n",
    "        # Latitude:緯度, Longitude:経度\n",
    "    c = climate.Climate(ClimateZone)\n",
    "\n",
    "    Latitude  = c.latitude\n",
    "    Longitude = c.longitude\n",
    "        \n",
    "    \"\"\" 気象データ読み込み(D.2) \"\"\"\n",
    "        # SRHour[i][j]：1時間間隔データ\n",
    "        #               i=0：1/1 0時 ～ 8760：12/31 24時\n",
    "        #               j=0：月日時刻の5桁or6桁表記, j=1：法線面直達日射量[kcal/(m2h)]\n",
    "        #               j=2：水平面天空日射量[kcal/(m2h)], j=3：暖房冷房判定タグ(暖房期:1, 冷房期:2, 非空調期:0)\n",
    "    SRHour = c.SRHour\n",
    "    \n",
    "    \"\"\" 窓面の方位(A.8) \"\"\"\n",
    "        # Azwj:窓面の方位(-180°< Azwj <= 180°)\n",
    "    Azwj = SCFModule.calc_Azwj(Azimuth)\n",
    "    # print(Azwj)  # ●● ←デバッグ用\n",
    "        # ●● → 出力：0.0       → OK\n",
    "    # sys.exit(\"\")      # ●● ←デバッグ用\n",
    "    \n",
    "    \"\"\" 天空日射の効果係数(C.3) \"\"\"    \n",
    "        # gammayp:天空日射の効果係数, 天空の形態係数の2倍\n",
    "    gammayp = SCFModule.calc_gammayp(WSSize)\n",
    "\n",
    "    \"\"\" 反射日射の効果係数(C.5) \"\"\"    \n",
    "        # gammaym:反射日射の効果係数, 地面の形態係数の2倍\n",
    "    gammaym = SCFModule.calc_gammaym(WSSize)\n",
    "    # print(gammayp, gammaym)  # ●● ←デバッグ用\n",
    "        # ●● → 出力：0.583931809607 0.701354727231 \n",
    "        # ●● \\日除け効果係数算定シート(全対応)-9.xlsm「算定」シート セルKM8,KN9 より、\n",
    "        # ●●        「0.58393181」 「0.701354727」      → OK\n",
    "    # sys.exit(\"\")      # ●● ←デバッグ用\n",
    "\n",
    "    \"\"\" 窓ガラスの入射角特性読み込み(D.5) \"\"\"  \n",
    "        # etamax:直達日射に対する入射角特性最大値(入射角0)\n",
    "        # etaisr:天空・反射日射に対する入射角特性(遮蔽なしの場合)\n",
    "        # etakk:入射角特性の係数, (cosθ)^0 ～ (cosθ)^7 の各項の係数 \n",
    "    [etaID0, etamax, etaisr, etakk] = SCFModule.input_IncidentAngleCharacteristics(etaID, Path00, FileName01)    \n",
    "    # print(etaID0, etamax, etaisr, etakk)  # ●● ←デバッグ用\n",
    "        # ●● → 出力：1.0 0.88 0.808 [ 0.      2.392   0.     -3.8636  0.      3.7568  0.     -1.3952]\n",
    "        # ●● \\日除け効果係数算定シート(全対応)-9.xlsm「算定」シート セルM19 の計算式より、\n",
    "        # ●● cosθの係数：2.392, (cosθ)^3の係数：-3.8636, (cosθ)^5の係数：3.7568, (cosθ)^7の係数：-1.3952 \n",
    "        # ●● → OK\n",
    "    # sys.exit(\"\")      # ●● ←デバッグ用\n",
    "    \n",
    "    \"\"\" 窓面積算定 \"\"\"  \n",
    "        # Awj:窓面積[m2]\n",
    "    Awj = WSSize[1] * WSSize[8]    # Awj = X2 * Y2\n",
    "    # print(Awj)  # ●● ←デバッグ用\n",
    "        # ●● → 出力：4\n",
    "        # ●● X2 = 2, Y2 = 2 よりOK\n",
    "    # sys.exit(\"\")      # ●● ←デバッグ用\n",
    "    \n",
    "    \"\"\" +++++++++++++++++++++++++++++++++++ 1時間のループ【1回目】→ Nhを通しで計算するためだけ ++++ \"\"\"       \n",
    "    for Hour00 in range(8761):\n",
    "        \"\"\" 日時の計算(A.1)【1回目】 \"\"\"\n",
    "            # Hour00:1年間の通しの時刻, 1/1 0時がHour00=0, 12/31 24時がHour00=8760\n",
    "            # NDay:1/1を\"1\", 12/31を\"365\"とする年頭からの通しの日数\n",
    "            # NHour:時刻(0時～23時),12/31のみ24時あり\n",
    "        [NDay,NHour] = SCFModule.calc_NDayNHour(Hour00)\n",
    "        # print(Hour00,NDay,NHour)  # ●● ←デバッグ用\n",
    "            # ●● → \\確認(全体動作).xlsx「NDayNhour」シートで確認\n",
    "            # ●● → OK\n",
    "\n",
    "        \"\"\" 正時±30分で太陽が地平線上にある時間刻み数のカウント(D.3) \"\"\"\n",
    "            # Nh[Hour00]:正時±30分で太陽が地平線上にある時間刻み数のカウント数\n",
    "            # NDT:1時間の分割数,ツールの標準は6分割\n",
    "        Nh[Hour00] = SCFModule.calc_Nh(Latitude, Longitude, NDay, NHour, NDT)\n",
    "        # print(Hour00,Nh[Hour00])  # ●● ←デバッグ用\n",
    "            # ●● → \\確認(全体動作).xlsx「Nh」シートで確認\n",
    "            # ●● → OK        \n",
    "        \n",
    "    # sys.exit(\"\")      # ●● ←デバッグ用\n",
    "        \n",
    "    \"\"\" ++++++++++++++++++++++++++++++++++++++++++++++++++++++++++++++++ 1時間のループ【2回目】 ++++ \"\"\"       \n",
    "    for Hour00 in range(8760):      # ← 12/31 24時は回さないのでHour00=8759がループの最後\n",
    "        \"\"\" 日時の計算(A.1)【2回目】 \"\"\"\n",
    "        [NDay,NHour] = SCFModule.calc_NDayNHour(Hour00)    \n",
    "            # ●● 上で確認済み\n",
    "        \n",
    "        \"\"\" 赤緯の計算(A.2) \"\"\"\n",
    "            # delta_d:赤緯[deg]\n",
    "        deltad = SCFModule.calc_deltad(NDay)\n",
    "        # print(Hour00,deltad)  # ●● ←デバッグ用\n",
    "            # ●● → \\確認(全体動作).xlsx「deltad」シートで確認\n",
    "            # ●● → OK   \n",
    "            \n",
    "        \"\"\" 均時差の計算(A.3) \"\"\"\n",
    "            # eed:均時差[hour]\n",
    "        eed = SCFModule.calc_eed(NDay)\n",
    "        # print(Hour00,eed)  # ●● ←デバッグ用\n",
    "            # ●● → \\確認(全体動作).xlsx「eed」シートで確認\n",
    "            # ●● → OK           \n",
    "        \n",
    "        \"\"\" 「月」の計算(D.2) \"\"\"\n",
    "        Month = c.get_month(Hour00)\n",
    "            # ●● 省略\n",
    "        \n",
    "        \"\"\" +++++++++++++++++++++++++++++++++++++++++++++++++++++++++++++++ (1/NDT)時間のループ ++++ \"\"\" \n",
    "            # MM:1時間の内の(1/NDT)間隔の順番, 正時がMM=0, MM=0～NDT-1\n",
    "        for MM in range(NDT):\n",
    "            \"\"\" 時刻TTの計算(A.1) \"\"\"\n",
    "                # TT:時間分割MM毎の時刻[hour]\n",
    "            TT = SCFModule.calc_TT(NHour, NDT, MM)\n",
    "\n",
    "            \"\"\" 時角の計算(A.4) \"\"\"\n",
    "                # Tdt:時角[deg]\n",
    "            Tdt = SCFModule.calc_Tdt(Longitude, eed, TT)\n",
    "            # print(Hour00,MM,Tdt)  # ●● ←デバッグ用\n",
    "                # ●● → \\確認(全体動作).xlsx「Tdt」シートで確認\n",
    "                # ●● → OK \n",
    "            \n",
    "            \"\"\" 太陽高度とその正弦,余弦の計算(A.5,A.6) \"\"\"\n",
    "                # hsdt:太陽高度hsdt[deg], sinh:hsdtの正弦, cosh:hsdtの余弦\n",
    "            sinh = SCFModule.calc_sinh(Latitude, deltad, Tdt)\n",
    "            cosh = SCFModule.calc_cosh(sinh)\n",
    "            hsdt = SCFModule.calc_hsdt(cosh, sinh)\n",
    "            # print(Hour00,MM,sinh, cosh, hsdt)  # ●● ←デバッグ用\n",
    "                # ●● → \\確認(全体動作).xlsx「hsdt」シートで確認\n",
    "                # ●● → OK             \n",
    "            \n",
    "            \"\"\" 太陽方位角の計算(A.7) \"\"\"\n",
    "                # Azsdt:太陽方位角[deg]\n",
    "            Azsdt = SCFModule.calc_Azsdt(Latitude, deltad, Tdt, sinh, cosh)\n",
    "            \n",
    "            \"\"\" 窓面の法線ベクトルと太陽位置とのなす水平面上の角度の計算(A.9) \"\"\"\n",
    "                # Azwjdt:窓面の法線ベクトルと太陽位置とのなす水平面上の角度[deg]\n",
    "            Azwjdt = SCFModule.calc_Azwjdt(Azwj, Azsdt)\n",
    "            # print(Hour00,MM,Azsdt, Azwjdt)  # ●● ←デバッグ用\n",
    "                # ●● → \\確認(全体動作).xlsx「Azsdt」シートで確認\n",
    "                # ●● → OK              \n",
    "            \n",
    "            \"\"\" (1/NDT)分割MM番目の法線面直達日射量, 水平面天空日射量(D.4) \"\"\"\n",
    "                # Sddhm:(1/NDT)分割MM番目における法線面直達日射量[kcal/m2]\n",
    "                # Ssdhm:(1/NDT)分割MM番目における水平面天空日射量[kcal/m2]\n",
    "            Sddhm = SCFModule.calc_Sdhm(MM, NDT, sinh, SRHour[Hour00][1], SRHour[Hour00+1][1]\n",
    "                    , Nh[Hour00], Nh[Hour00+1])\n",
    "            Ssdhm = SCFModule.calc_Sdhm(MM, NDT, sinh, SRHour[Hour00][2], SRHour[Hour00+1][2]\n",
    "                    , Nh[Hour00], Nh[Hour00+1]) \n",
    "            # print(Hour00,MM,Sddhm, Ssdhm)  # ●● ←デバッグ用\n",
    "                # ●● → \\確認(全体動作).xlsx「SddhmSsdhm」シートで確認\n",
    "                # ●● → OK                \n",
    "            \n",
    "            \"\"\" 直達日射の入射角(D.6) \"\"\"\n",
    "                # costheta:直達入射の窓面への入射角の余弦  \n",
    "            costheta = SCFModule.calc_costheta(Azwjdt, cosh)\n",
    "   \n",
    "            \"\"\" 直達日射に対する窓ガラスの入射角特性(D.6) \"\"\"\n",
    "                # etajdt:日付NDay,時刻TTにおける入射角特性\n",
    "            etajdt = SCFModule.calc_etajdt(costheta, etakk)\n",
    "            # print(Hour00,MM,costheta,etajdt)  # ●● ←デバッグ用\n",
    "                # ●● → \\確認(全体動作).xlsx「costheta,etajdt」シートで確認\n",
    "                # ●● → OK   \n",
    "            \n",
    "            \"\"\" 直達日射が窓に射す部分の面積の計算(B.7) \"\"\"\n",
    "                # Ax:直達日射が窓に射す部分の面積[m2]\n",
    "            Ax = SCFModule.calc_Ax(WSSize, Azwjdt, hsdt)\n",
    "            # print(Hour00,MM,Ax if Sddhm>0 else 0)  # ●● ←デバッグ用\n",
    "            # ●● → \\確認(全体動作).xlsx「Ax」シートで確認\n",
    "                # ●● → Sddhm > 0 の条件を課す(実際の問題にならない)ことで、 \n",
    "                # ●●    \\日除け効果係数算定シート(全対応)-9.xlsm 「算定」シート DN列 と一致 → OK\n",
    "            \n",
    "            \"\"\" 日よけ効果係数算定式の時刻TTにおける分子分母(E.2) \"\"\"\n",
    "                # SCF00[0]:(2)式の分子への加算分(窓面積をかけた値として)     \n",
    "                # SCF00[1]:(2)式の分母への加算分(窓面積をかけた値として)\n",
    "            [SCF01[0][Hour00][MM],SCF01[1][Hour00][MM]] \\\n",
    "                = SCFModule.calc_SCF00(Sddhm, Ssdhm, etajdt, etaisr, costheta, sinh, Awj, Ax, gammayp, gammaym)\n",
    "            # print(Hour00,MM,SCF01[0][Hour00][MM],SCF01[1][Hour00][MM])  # ●● ←デバッグ用        \n",
    "                # ●● → \\確認(全体動作).xlsx「SCF01」シートで確認\n",
    "                # ●● → OK  \n",
    "            \n",
    "    SCF = SCFModule.Output_ShadingCorrectionFactor(SRHour, NDT, SCF01)\n",
    "    \n",
    "#     return SCF   # ●● ←デバッグ用にコメントアウト ●●\n",
    "\n",
    "    # SCF[h][i][j]\n",
    "    # h = 0：分子, h = 1：分母, h = 2：効果係数\n",
    "    # i = -2：冷房期積算, i = -1：暖房期積算, i = 0：非空調期積算,\n",
    "    #         i = 1～12：各月で積算\n",
    "    # j = -1：日積算, j = 0～24：各時刻で積算             \n",
    "\n",
    "print('冷房期 = {}, 暖房期 = {}, 非空調期 = {}'.format( SCF[2][-2][-1], SCF[2][-1][-1], SCF[2][0][-1] ))\n",
    "for i in range(1,13):\n",
    "    for j in range(25):\n",
    "        print(i,j,SCF[0][i][j],SCF[1][i][j],SCF[2][i][j])\n",
    "            # ●● → \\確認(全体動作).xlsx「SCF01」シートの52568行以下で確認\n",
    "            # ●● → OK"
   ]
  },
  {
   "cell_type": "markdown",
   "metadata": {},
   "source": [
    "#### X.2.3 \\日除け効果係数算定シート(全対応)-9.xlsm の「算定」シート セルEC8～FD29 全96ケースで確認(Test兼用)"
   ]
  },
  {
   "cell_type": "code",
   "execution_count": null,
   "metadata": {
    "scrolled": true
   },
   "outputs": [],
   "source": [
    "\"\"\" 日よけ効果係数計算プログラム本体 Test \"\"\"\n",
    "# \\確認.xlsx \"本体テスト1\"シート → \\AllTest01.csv を作成 → \\TestConfig01 下に置いて読み込み → 計算\n",
    "\n",
    "import Shading_Correction_Factor_Main as SCFMain\n",
    "import pandas as pd\n",
    "import sys\n",
    "csv_input = pd.read_csv(filepath_or_buffer=\"./TestConfig01/AllTest01.csv\", encoding=\"ms932\", sep=\",\")\n",
    "if csv_input.columns[0]!=\"AllTest01_case\":\n",
    "    sys.exit(\"ファイル内に貼り付けたテスト条件が違います\")\n",
    "for i in range(len(csv_input)):\n",
    "    [case, Path00, FileName00, FileName01, ClimateZone, NDT, etaID, Azimuth] \\\n",
    "        = csv_input.values[i][0:8]\n",
    "    WSSize = csv_input.values[i][8:-2]\n",
    "    [SCFhA, SCFcA] = csv_input.values[i][-2:]\n",
    "    SCF = SCFMain.Calc_ShadingCorrectionFactor(Path00, FileName00, FileName01\n",
    "                                               , ClimateZone, NDT, etaID, Azimuth, WSSize )\n",
    "        # SCF[h][i][j]\n",
    "        # h = 0：分子, h = 1：分母, h = 2：効果係数\n",
    "        # i = -2：冷房期積算, i = -1：暖房期積算, i = 0：非空調期積算,\n",
    "        #         i = 1～12：各月で積算\n",
    "        # j = -1：日積算, j = 0～24：各時刻で積算             \n",
    "    [SCFh, SCFc] = [SCF[2][-1][-1], SCF[2][-2][-1]]\n",
    "    print('case = {}: SCFh = {}, 期待値 = {}, 残差 = {}, SCFc = {}, 期待値 = {}, 残差 = {}'\n",
    "          .format( case, SCFh, SCFhA, SCFh - SCFhA, SCFc, SCFcA, SCFc - SCFcA ))"
   ]
  },
  {
   "cell_type": "code",
   "execution_count": null,
   "metadata": {},
   "outputs": [],
   "source": []
  }
 ],
 "metadata": {
  "kernelspec": {
   "display_name": "Python 3",
   "language": "python",
   "name": "python3"
  },
  "language_info": {
   "codemirror_mode": {
    "name": "ipython",
    "version": 3
   },
   "file_extension": ".py",
   "mimetype": "text/x-python",
   "name": "python",
   "nbconvert_exporter": "python",
   "pygments_lexer": "ipython3",
   "version": "3.6.5"
  }
 },
 "nbformat": 4,
 "nbformat_minor": 2
}
