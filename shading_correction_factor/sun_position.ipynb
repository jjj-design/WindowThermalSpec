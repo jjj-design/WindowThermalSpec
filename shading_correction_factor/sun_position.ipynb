{
 "cells": [
  {
   "cell_type": "code",
   "execution_count": 1,
   "metadata": {},
   "outputs": [],
   "source": [
    "import numpy as np"
   ]
  },
  {
   "cell_type": "markdown",
   "metadata": {},
   "source": [
    "## A.1 日時"
   ]
  },
  {
   "cell_type": "markdown",
   "metadata": {},
   "source": [
    "- 日付`NDay`は1/1からの通しの日数\n",
    "- 時刻`NHour`は整数, 0時～23時が基本。12/31のみ24時あり\n",
    "- 時刻`TT`は、時間分割`MM`における時刻\n",
    "  - `MM`：1時間の内の$(1/$ `NDT`$)$間隔の順番, 正時が`MM`$=0$, `MM`$=0～$ `NDT`$-1$\n",
    "\n",
    "\n",
    "- 時刻`Hour01`は、前時刻の`MM` $=$ `NDT`$/2～$同時刻の`MM` $=$ `NDT`$/2-1$の時間分割を、その正時に属するものとして扱うための時刻 → 時間毎の効果係数を算定するために使用するだけ"
   ]
  },
  {
   "cell_type": "code",
   "execution_count": 2,
   "metadata": {},
   "outputs": [],
   "source": [
    "def calc_NDayNHour(Hour00):\n",
    "    if Hour00==8760:\n",
    "        [NDay, NHour] = [365, 24]\n",
    "    else:\n",
    "        NDay = Hour00//24 + 1\n",
    "        NHour = Hour00 - (NDay - 1) * 24 \n",
    "\n",
    "    return [NDay,NHour]"
   ]
  },
  {
   "cell_type": "code",
   "execution_count": 3,
   "metadata": {},
   "outputs": [],
   "source": [
    "def calc_TT(NHour, NDT, MM):\n",
    "    TT = NHour + MM / float(NDT)\n",
    "    return TT"
   ]
  },
  {
   "cell_type": "code",
   "execution_count": 4,
   "metadata": {},
   "outputs": [],
   "source": [
    "def calc_Hour01(TT):\n",
    "    Hour01 = int(TT + 0.5)\n",
    "    return Hour01"
   ]
  },
  {
   "cell_type": "markdown",
   "metadata": {},
   "source": [
    "## A.2 赤緯の計算 (仕様書6.2 式(4))"
   ]
  },
  {
   "cell_type": "markdown",
   "metadata": {},
   "source": [
    "- 赤緯$\\delta_d [deg]$, $N$: 1月1日を$N=1$とした年頭からの通しの日数$[day]$\n",
    "  - 右辺の余弦のかっこ内の角度は$radian$単位となっているので注意\n",
    "  \n",
    "$$ \\begin{align}\n",
    "\\delta_d = (180 / \\pi) & \\{0.006322 - 0.405748 \\cos (2 \\pi N / 366 + 0.153231)\\\\\n",
    "& - 0.005880 \\cos (4 \\pi N / 366 + 0.207099)\\\\\n",
    "& - 0.003233 \\cos (6 \\pi N / 366 + 0.620129) \\} \\qquad \\qquad \\qquad (4) \\\\\n",
    "\\end{align} $$"
   ]
  },
  {
   "cell_type": "code",
   "execution_count": 5,
   "metadata": {},
   "outputs": [],
   "source": [
    "def calc_deltad(NDay):\n",
    "    deltad = (180 / np.pi) * (0.006322 - 0.405748 * np.cos(2 * np.pi * float(NDay) / 366 + 0.153231)\n",
    "                                       - 0.005880 * np.cos(4 * np.pi * float(NDay) / 366 + 0.207099)\n",
    "                                       - 0.003233 * np.cos(6 * np.pi * float(NDay) / 366 + 0.620129))\n",
    "    \n",
    "    return deltad"
   ]
  },
  {
   "cell_type": "markdown",
   "metadata": {},
   "source": [
    "## A.3 均時差の計算 (仕様書6.2 式(6))"
   ]
  },
  {
   "cell_type": "markdown",
   "metadata": {},
   "source": [
    "- 均時差$e_d[hour]$, $N$: 1月1日を$N=1$とした年頭からの通しの日数$[day]$\n",
    "  - 右辺の余弦のかっこ内の角度は$radian$単位となっているので注意\n",
    "\n",
    "$$ \\begin{align}\n",
    "e_d = -0.000279 &+ 0.122772 \\cos (2 \\pi N / 366 + 1.498311)\\\\\n",
    "& - 0.165458 \\cos (4 \\pi N / 366 - 1.261546)\\\\\n",
    "& - 0.005354 \\cos (6 \\pi N / 366 - 1.1571) \\} \\qquad \\qquad \\qquad (6) \\\\\n",
    "\\end{align} $$"
   ]
  },
  {
   "cell_type": "code",
   "execution_count": 6,
   "metadata": {},
   "outputs": [],
   "source": [
    "def calc_eed(NDay):\n",
    "    eed = ( -0.000279 + 0.122772 * np.cos(2 * np.pi * NDay / 366 + 1.498311)\n",
    "                      - 0.165458 * np.cos(4 * np.pi * NDay / 366 - 1.261546)\n",
    "                      - 0.005354 * np.cos(6 * np.pi * NDay / 366 - 1.1571)   )\n",
    "    return eed"
   ]
  },
  {
   "cell_type": "markdown",
   "metadata": {},
   "source": [
    "## A.4 時角の計算 (仕様書6.2 式(7))"
   ]
  },
  {
   "cell_type": "markdown",
   "metadata": {},
   "source": [
    "- 時角$T_{d,t}[deg]$, 時刻$t[hour]$, 均時差$e_d[hour]$, 経度$L[deg]$\n",
    "\n",
    "$$T_{d,t} = (t + e_d - 12) \\times 15 + (L - 135)\\qquad (7) $$"
   ]
  },
  {
   "cell_type": "code",
   "execution_count": 7,
   "metadata": {},
   "outputs": [],
   "source": [
    "def calc_Tdt(Longitude, eed, TT):\n",
    "    \n",
    "    Tdt = ( TT + eed - 12) * 15 +(Longitude - 135)\n",
    "    \n",
    "    return Tdt"
   ]
  },
  {
   "cell_type": "markdown",
   "metadata": {},
   "source": [
    "## A.5 太陽高度の正弦の計算 (仕様書6.2 式(8)"
   ]
  },
  {
   "cell_type": "markdown",
   "metadata": {},
   "source": [
    "- 太陽高度$h_{S,d,t}[deg]$, 緯度$\\phi[deg]$, 赤緯$\\delta_d[deg]$,時角$T_{d,t}[deg]$\n",
    "\n",
    "$$\\sin h_{S,d,t} = max[0, \\sin \\phi \\sin \\delta_d + \\cos \\phi \\cos \\delta_d \\cos T_{d,t}] \\qquad (8) $$"
   ]
  },
  {
   "cell_type": "code",
   "execution_count": 8,
   "metadata": {},
   "outputs": [],
   "source": [
    "def calc_sinh(Latitude, deltad, Tdt):\n",
    "    \n",
    "    sinh = max(0, \n",
    "               np.sin(np.radians(Latitude)) * np.sin(np.radians(deltad)) \n",
    "                 + np.cos(np.radians(Latitude)) * np.cos(np.radians(deltad)) * np.cos(np.radians(Tdt)) )\n",
    "   \n",
    "    return sinh"
   ]
  },
  {
   "cell_type": "markdown",
   "metadata": {},
   "source": [
    "## A.6 太陽高度とその余弦の計算 (仕様書6.2 式(9))"
   ]
  },
  {
   "cell_type": "markdown",
   "metadata": {},
   "source": [
    "- 太陽高度$h_{S,d,t}[deg]$\n",
    "\n",
    "$$\\cos h_{S,d,t} = (1 - \\sin ^2 h_{S,d,t})^{0.5} \\qquad (9) $$\n",
    "\n",
    "- 式(8), (9)より、$h_{S,d,t} = \\tan^{-1} (\\sin h_{S,d,t} / \\cos h_{S,d,t})$"
   ]
  },
  {
   "cell_type": "code",
   "execution_count": 9,
   "metadata": {},
   "outputs": [],
   "source": [
    "def calc_cosh(sinh):\n",
    "    \n",
    "    cosh = (1 - sinh**2) **0.5\n",
    "   \n",
    "    return cosh"
   ]
  },
  {
   "cell_type": "code",
   "execution_count": 10,
   "metadata": {},
   "outputs": [],
   "source": [
    "def calc_hsdt(cosh, sinh):\n",
    "    \n",
    "    hsdt = np.rad2deg(np.arctan( sinh / cosh ))\n",
    "    \n",
    "    return hsdt"
   ]
  },
  {
   "cell_type": "markdown",
   "metadata": {},
   "source": [
    "## A.7 太陽方位角の計算 (仕様書6.2 式(10)～(12))"
   ]
  },
  {
   "cell_type": "markdown",
   "metadata": {},
   "source": [
    "- 太陽方位角$A_{ZS,d,t}[deg]$, 太陽高度$h_{S,d,t}[deg]$, 赤緯$\\delta_d[deg]$, 時角$T_{d,t}[deg]$, 緯度$\\phi[deg]$\n",
    "\n",
    "$$\\sin A_{ZS,d,t} = \\cos \\delta_d \\sin T_{d,t} / \\cos h_{S,d,t} \\qquad (10) $$\n",
    "\n",
    "$$\\cos A_{ZS,d,t} = (\\sin h_{S,d,t} \\sin \\phi - \\sin \\delta_d) / (\\cos h_{S,d,t} \\cos \\phi) \\qquad (11) $$\n",
    "\n",
    "$$\n",
    "A_{ZS,d,t} = \\left\\{\n",
    "\\begin{array}{ll}\n",
    "\\tan^{-1} (\\sin A_{ZS,d,t} / \\cos A_{ZS,d,t}) + 180 \\hspace{24pt} (\\sin A_{ZS,d,t} > 0, \\cos A_{ZS,d,t} < 0)\n",
    "\\\\\n",
    "\\tan^{-1} (\\sin A_{ZS,d,t} / \\cos A_{ZS,d,t}) - 180 \\hspace{24pt} (\\sin A_{ZS,d,t} < 0, \\cos A_{ZS,d,t} < 0)\n",
    "\\\\\n",
    "90 \\hspace{136pt} (\\sin A_{ZS,d,t} = 1, \\cos A_{ZS,d,t} = 0)\n",
    "\\\\\n",
    "-90 \\hspace{130pt} (\\sin A_{ZS,d,t} = -1, \\cos A_{ZS,d,t} = 0)\n",
    "\\\\\n",
    "\\tan^{-1} (\\sin A_{ZS,d,t} / \\cos A_{ZS,d,t}) \\hspace{48pt} (other)\n",
    "\\end{array}\n",
    "\\right.  \\qquad (12) \n",
    "$$"
   ]
  },
  {
   "cell_type": "code",
   "execution_count": 11,
   "metadata": {},
   "outputs": [],
   "source": [
    "def calc_Azsdt(Latitude, deltad, Tdt, sinh, cosh):\n",
    "    \n",
    "    sinAzsdt = np.cos(np.radians(deltad)) * np.sin(np.radians(Tdt)) / cosh\n",
    "    cosAzsdt = ( ( sinh * np.sin(np.radians(Latitude)) - np.sin(np.radians(deltad)) ) \n",
    "             /   ( cosh * np.cos(np.radians(Latitude)) ) )\n",
    "    if abs(sinAzsdt) == 1:\n",
    "        Azsdt = 90 * sinAzsdt\n",
    "    elif sinAzsdt > 0 and cosAzsdt < 0:\n",
    "        Azsdt = np.rad2deg(np.arctan( sinAzsdt / cosAzsdt )) + 180\n",
    "    elif sinAzsdt < 0 and cosAzsdt < 0:        \n",
    "        Azsdt = np.rad2deg(np.arctan( sinAzsdt / cosAzsdt) ) - 180   \n",
    "    else:\n",
    "        Azsdt = np.rad2deg(np.arctan( sinAzsdt / cosAzsdt) )\n",
    "   \n",
    "    return Azsdt"
   ]
  },
  {
   "cell_type": "markdown",
   "metadata": {},
   "source": [
    "## A.8 窓面の方位 (仕様書5.2 図4)"
   ]
  },
  {
   "cell_type": "markdown",
   "metadata": {},
   "source": [
    "- 窓面の方位は、以下の通り\n",
    "  - 北北東：$-157.5°$, 北東：$-135°$, …, 東：$-90°$, …, 南：$0°$, …, 西：$+90°$, …,北：$+180°$\n",
    "  - 角度指定も可：$-180°< A_{ZW,j} \\leq +180°$\n",
    "  - デフォルトは8方位指定"
   ]
  },
  {
   "cell_type": "code",
   "execution_count": 12,
   "metadata": {},
   "outputs": [],
   "source": [
    "def calc_Azwj(Azimuth):\n",
    "    \n",
    "    Azimuth00 = [\"北北東\", \"北東\", \"東北東\", \"東\", \"東南東\", \"南東\", \"南南東\", \"南\"\n",
    "                 , \"南南西\", \"南西\", \"西南西\", \"西\", \"西北西\", \"北西\", \"北北西\", \"北\" ]\n",
    "    if Azimuth in Azimuth00:\n",
    "        Azwj = (Azimuth00.index(Azimuth) - 7) * 22.5\n",
    "    elif -180 < float(Azimuth) <= 180:\n",
    "        Azwj = float(Azimuth) \n",
    "    else:\n",
    "        raise ValueError('窓面方位の入力が不適切です')\n",
    "    \n",
    "    return Azwj"
   ]
  },
  {
   "cell_type": "markdown",
   "metadata": {},
   "source": [
    "## A.9 窓面の法線ベクトルと太陽位置とのなす水平面上の角度の計算 (仕様書6.2 式(1))"
   ]
  },
  {
   "cell_type": "markdown",
   "metadata": {},
   "source": [
    "- 窓面の法線ベクトルと太陽位置とのなす水平面上の角度$A_{ZW,j,d,t}[deg]$, 太陽方位角$A_{ZS,d,t}[deg]$, 外壁$j$の方位角$A_{ZW,j}[deg]$\n",
    "\n",
    "$$\n",
    "A_{ZW,j,d,t} = \\left\\{\n",
    "\\begin{array}{ll}\n",
    "A_{ZS,d,t} - A_{ZW,j} \\hspace{48pt} (-180 < A_{ZS,d,t} - A_{ZW,j} \\leq 180)\n",
    "\\\\\n",
    "A_{ZS,d,t} - A_{ZW,j} + 360 \\hspace{24pt} (A_{ZS,d,t} - A_{ZW,j} \\leq -180)\n",
    "\\\\\n",
    "A_{ZS,d,t} - A_{ZW,j} - 360 \\hspace{24pt} (A_{ZS,d,t} - A_{ZW,j} \\geq 180)\n",
    "\\end{array}\n",
    "\\right.  \\qquad (1) \n",
    "$$"
   ]
  },
  {
   "cell_type": "code",
   "execution_count": 13,
   "metadata": {},
   "outputs": [],
   "source": [
    "def calc_Azwjdt(Azwj, Azsdt):\n",
    "    \n",
    "    Azwjdt = Azsdt - Azwj\n",
    "    if Azwjdt < -180:\n",
    "        Azwjdt += 360\n",
    "    elif Azwjdt > 180:\n",
    "        Azwjdt -= 360\n",
    "        \n",
    "    return Azwjdt"
   ]
  },
  {
   "cell_type": "markdown",
   "metadata": {},
   "source": [
    "## A.10 窓まわり寸法のデータの持たせ方デフォルト (仕様書5.1 図2)"
   ]
  },
  {
   "cell_type": "code",
   "execution_count": 14,
   "metadata": {},
   "outputs": [],
   "source": [
    "def set_WSSize(WSSize1):\n",
    "    \n",
    "    WSSizeDict = {}\n",
    "    \n",
    "    for i in range(0, len(WSSize1), 2):\n",
    "        WSSizeDict[WSSize1[i]] = WSSize1[i+1]\n",
    "\n",
    "    # X1\n",
    "    if \"X1\" not in WSSizeDict:\n",
    "        WSSizeDict[\"X1\"] = 0\n",
    "    elif WSSizeDict[\"X1\"] < 0:\n",
    "        raise ValueError(\"寸法X1の設定が不適切です\")\n",
    "    elif WSSizeDict[\"X1\"] == \"\":\n",
    "        WSSizeDict[\"X1\"] = 0        \n",
    "        \n",
    "    # X2\n",
    "    if \"X2\" not in WSSizeDict:\n",
    "        raise ValueError(\"寸法X2が設定されていません\")\n",
    "    elif WSSizeDict[\"X2\"] <= 0 or WSSizeDict[\"X2\"] == \"\":\n",
    "        raise ValueError(\"寸法X2の設定が不適切です\")            \n",
    "        \n",
    "    # X3\n",
    "    if \"X3\" not in WSSizeDict:\n",
    "        WSSizeDict[\"X3\"] = 0\n",
    "    elif WSSizeDict[\"X3\"] < 0:\n",
    "        raise ValueError(\"寸法X3の設定が不適切です\")\n",
    "    elif WSSizeDict[\"X3\"] == \"\":\n",
    "        WSSizeDict[\"X3\"] = 0 \n",
    "        \n",
    "    # Y1\n",
    "    if \"Y1\" not in WSSizeDict:\n",
    "        WSSizeDict[\"Y1\"] = 0\n",
    "    elif WSSizeDict[\"Y1\"] < 0:\n",
    "        raise ValueError(\"寸法Y1の設定が不適切です\")\n",
    "    elif WSSizeDict[\"Y1\"] == \"\":\n",
    "        WSSizeDict[\"Y1\"] = 0 \n",
    "        \n",
    "    # Y2\n",
    "    if \"Y2\" not in WSSizeDict:\n",
    "        raise ValueError(\"寸法Y2が設定されていません\")\n",
    "    elif WSSizeDict[\"Y2\"] <= 0 or WSSizeDict[\"Y2\"] == \"\":\n",
    "        raise ValueError(\"寸法Y2の設定が不適切です\")            \n",
    "\n",
    "    # Y3\n",
    "    if \"Y3\" not in WSSizeDict:\n",
    "        WSSizeDict[\"Y3\"] = 0\n",
    "    elif WSSizeDict[\"Y3\"] < 0:\n",
    "        raise ValueError(\"寸法Y3の設定が不適切です\")            \n",
    "    elif WSSizeDict[\"Y3\"] == \"\":\n",
    "        WSSizeDict[\"Y3\"] = 0 \n",
    "        \n",
    "    # Zxp\n",
    "    if \"Zxp\" not in WSSizeDict:\n",
    "        WSSizeDict[\"Zxp\"] = 0\n",
    "    elif WSSizeDict[\"Zxp\"] < 0:\n",
    "        raise ValueError(\"寸法Zxpの設定が不適切です\")\n",
    "    elif WSSizeDict[\"Zxp\"] == \"\":\n",
    "        WSSizeDict[\"Zxp\"] = 0 \n",
    "        \n",
    "    # Zxm\n",
    "    if \"Zxm\" not in WSSizeDict:\n",
    "        WSSizeDict[\"Zxm\"] = 0\n",
    "    elif WSSizeDict[\"Zxm\"] < 0:\n",
    "        raise ValueError(\"寸法Zxmの設定が不適切です\")           \n",
    "    elif WSSizeDict[\"Zxm\"] == \"\":\n",
    "        WSSizeDict[\"Zxm\"] = 0 \n",
    "        \n",
    "    # Zyp\n",
    "    if \"Zyp\" not in WSSizeDict:\n",
    "        WSSizeDict[\"Zyp\"] = 0\n",
    "    elif WSSizeDict[\"Zyp\"] < 0:\n",
    "        raise ValueError(\"寸法Zypの設定が不適切です\")     \n",
    "    elif WSSizeDict[\"Zyp\"] == \"\":\n",
    "        WSSizeDict[\"Zyp\"] = 0 \n",
    "        \n",
    "    # Zym\n",
    "    if \"Zym\" not in WSSizeDict:\n",
    "        WSSizeDict[\"Zym\"] = 0\n",
    "    elif WSSizeDict[\"Zym\"] < 0:\n",
    "        raise ValueError(\"寸法Zymの設定が不適切です\")\n",
    "    elif WSSizeDict[\"Zym\"] == \"\":\n",
    "        WSSizeDict[\"Zym\"] = 0 \n",
    "        \n",
    "    \"\"\" 以下、オプション扱い → 非入力は窓端から日よけの付け根までの距離とする \"\"\"     \n",
    "    # X1yp\n",
    "    if \"X1yp\" not in WSSizeDict:\n",
    "        WSSizeDict[\"X1yp\"] = WSSizeDict[\"X1\"] \n",
    "    elif WSSizeDict[\"X1yp\"] < 0:\n",
    "        raise ValueError(\"寸法X1ypの設定が不適切です\")        \n",
    "    elif WSSizeDict[\"X1yp\"] > WSSizeDict[\"X1\"] or WSSizeDict[\"X1yp\"] == \"\":\n",
    "        WSSizeDict[\"X1yp\"] = WSSizeDict[\"X1\"]         \n",
    "        \n",
    "    # X1ym\n",
    "    if \"X1ym\" not in WSSizeDict:\n",
    "        WSSizeDict[\"X1ym\"] = WSSizeDict[\"X1\"] \n",
    "    elif WSSizeDict[\"X1ym\"] < 0:\n",
    "        raise ValueError(\"寸法X1ymの設定が不適切です\")\n",
    "    elif WSSizeDict[\"X1ym\"] > WSSizeDict[\"X1\"] or WSSizeDict[\"X1ym\"] == \"\":\n",
    "        WSSizeDict[\"X1ym\"] = WSSizeDict[\"X1\"]       \n",
    "        \n",
    "    # X3yp\n",
    "    if \"X3yp\" not in WSSizeDict:\n",
    "        WSSizeDict[\"X3yp\"] = WSSizeDict[\"X3\"] \n",
    "    elif WSSizeDict[\"X3yp\"] < 0:\n",
    "        raise ValueError(\"寸法X3ypの設定が不適切です\")            \n",
    "    elif WSSizeDict[\"X3yp\"] > WSSizeDict[\"X3\"] or WSSizeDict[\"X3yp\"] == \"\":\n",
    "        WSSizeDict[\"X3yp\"] = WSSizeDict[\"X3\"]   \n",
    "        \n",
    "    # X3ym\n",
    "    if \"X3ym\" not in WSSizeDict:\n",
    "        WSSizeDict[\"X3ym\"] = WSSizeDict[\"X3\"] \n",
    "    elif WSSizeDict[\"X3ym\"] < 0:\n",
    "        raise ValueError(\"寸法X3ymの設定が不適切です\")               \n",
    "    elif WSSizeDict[\"X3ym\"] > WSSizeDict[\"X3\"] or WSSizeDict[\"X3ym\"] == \"\":\n",
    "        WSSizeDict[\"X3ym\"] = WSSizeDict[\"X3\"]   \n",
    "        \n",
    "    # Y1xp\n",
    "    if \"Y1xp\" not in WSSizeDict:\n",
    "        WSSizeDict[\"Y1xp\"] = WSSizeDict[\"Y1\"]\n",
    "    elif WSSizeDict[\"Y1xp\"] < 0:\n",
    "        raise ValueError(\"寸法Y1xpの設定が不適切です\")     \n",
    "    elif WSSizeDict[\"Y1xp\"] > WSSizeDict[\"Y1\"] or WSSizeDict[\"Y1xp\"] == \"\":\n",
    "        WSSizeDict[\"Y1xp\"] = WSSizeDict[\"Y1\"]  \n",
    "        \n",
    "    # Y1xm\n",
    "    if \"Y1xm\" not in WSSizeDict:\n",
    "        WSSizeDict[\"Y1xm\"] = WSSizeDict[\"Y1\"]  \n",
    "    elif WSSizeDict[\"Y1xm\"] < 0:\n",
    "        raise ValueError(\"寸法Y1xmの設定が不適切です\")                \n",
    "    elif WSSizeDict[\"Y1xm\"] > WSSizeDict[\"Y1\"] or WSSizeDict[\"Y1xm\"] == \"\":\n",
    "        WSSizeDict[\"Y1xm\"] = WSSizeDict[\"Y1\"]  \n",
    "        \n",
    "    # Y3xp\n",
    "    if \"Y3xp\" not in WSSizeDict:\n",
    "        WSSizeDict[\"Y3xp\"] = WSSizeDict[\"Y3\"]\n",
    "    elif WSSizeDict[\"Y3xp\"] < 0:\n",
    "        raise ValueError(\"寸法Y3xpの設定が不適切です\")\n",
    "    elif WSSizeDict[\"Y3xp\"] > WSSizeDict[\"Y3\"] or WSSizeDict[\"Y3xp\"] == \"\":\n",
    "        WSSizeDict[\"Y3xp\"] = WSSizeDict[\"Y3\"]\n",
    "        \n",
    "    # Y3xm\n",
    "    if \"Y3xm\" not in WSSizeDict:\n",
    "        WSSizeDict[\"Y3xm\"] = WSSizeDict[\"Y3\"]\n",
    "    elif WSSizeDict[\"Y3xm\"] < 0:\n",
    "        raise ValueError(\"寸法Y3xmの設定が不適切です\")            \n",
    "    elif WSSizeDict[\"Y3xm\"] > WSSizeDict[\"Y3\"] or WSSizeDict[\"Y3xm\"] == \"\":\n",
    "        WSSizeDict[\"Y3xm\"] = WSSizeDict[\"Y3\"]\n",
    "        \n",
    "    WSSize = [WSSizeDict[\"X1\"],  WSSizeDict[\"X2\"],  WSSizeDict[\"X3\"],\n",
    "              WSSizeDict[\"X1yp\"],WSSizeDict[\"X1ym\"],WSSizeDict[\"X3yp\"],WSSizeDict[\"X3ym\"],\n",
    "              WSSizeDict[\"Y1\"],  WSSizeDict[\"Y2\"],  WSSizeDict[\"Y3\"],\n",
    "              WSSizeDict[\"Y1xp\"],WSSizeDict[\"Y1xm\"],WSSizeDict[\"Y3xp\"],WSSizeDict[\"Y3xm\"],\n",
    "              WSSizeDict[\"Zxp\"], WSSizeDict[\"Zxm\"], WSSizeDict[\"Zyp\"], WSSizeDict[\"Zym\"] ]\n",
    "            \n",
    "    return WSSize"
   ]
  }
 ],
 "metadata": {
  "kernelspec": {
   "display_name": "Python 3",
   "language": "python",
   "name": "python3"
  },
  "language_info": {
   "codemirror_mode": {
    "name": "ipython",
    "version": 3
   },
   "file_extension": ".py",
   "mimetype": "text/x-python",
   "name": "python",
   "nbconvert_exporter": "python",
   "pygments_lexer": "ipython3",
   "version": "3.6.5"
  }
 },
 "nbformat": 4,
 "nbformat_minor": 2
}
