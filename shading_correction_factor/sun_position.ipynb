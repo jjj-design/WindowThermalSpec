{
 "cells": [
  {
   "cell_type": "markdown",
   "metadata": {},
   "source": [
    "## A.1 日時"
   ]
  },
  {
   "cell_type": "markdown",
   "metadata": {},
   "source": [
    "- 日付`NDay`は1/1からの通しの日数\n",
    "- 時刻`NHour`は整数, 0時～23時が基本。12/31のみ24時あり\n",
    "- 時刻`TT`は、時間分割`MM`における時刻\n",
    "  - `MM`：1時間の内の$(1/$ `NDT`$)$間隔の順番, 正時が`MM`$=0$, `MM`$=0～$ `NDT`$-1$\n",
    "\n",
    "\n",
    "- 時刻`Hour01`は、前時刻の`MM` $=$ `NDT`$/2～$同時刻の`MM` $=$ `NDT`$/2-1$の時間分割を、その正時に属するものとして扱うための時刻 → 時間毎の効果係数を算定するために使用するだけ"
   ]
  },
  {
   "cell_type": "code",
   "execution_count": 1,
   "metadata": {},
   "outputs": [],
   "source": [
    "def calc_NDayNHour(Hour00):\n",
    "    if Hour00==8760:\n",
    "        [NDay, NHour] = [365, 24]\n",
    "    else:\n",
    "        NDay = Hour00//24 + 1\n",
    "        NHour = Hour00 - (NDay - 1) * 24 \n",
    "\n",
    "    return [NDay,NHour]\n",
    "\n",
    "\n",
    "def calc_TT(NHour, NDT, MM):\n",
    "    \n",
    "    TT = NHour + MM / float(NDT)\n",
    "    \n",
    "    return TT\n",
    "\n",
    "\n",
    "def calc_Hour01(TT):\n",
    "    \n",
    "    Hour01 = int(TT + 0.5)\n",
    "    \n",
    "    return Hour01"
   ]
  },
  {
   "cell_type": "code",
   "execution_count": null,
   "metadata": {},
   "outputs": [],
   "source": []
  }
 ],
 "metadata": {
  "kernelspec": {
   "display_name": "Python 3",
   "language": "python",
   "name": "python3"
  },
  "language_info": {
   "codemirror_mode": {
    "name": "ipython",
    "version": 3
   },
   "file_extension": ".py",
   "mimetype": "text/x-python",
   "name": "python",
   "nbconvert_exporter": "python",
   "pygments_lexer": "ipython3",
   "version": "3.6.5"
  }
 },
 "nbformat": 4,
 "nbformat_minor": 2
}
