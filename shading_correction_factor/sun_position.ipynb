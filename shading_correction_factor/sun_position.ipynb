{
 "cells": [
  {
   "cell_type": "code",
   "execution_count": 1,
   "metadata": {},
   "outputs": [],
   "source": [
    "import numpy as np"
   ]
  },
  {
   "cell_type": "markdown",
   "metadata": {},
   "source": [
    "## A.1 日時"
   ]
  },
  {
   "cell_type": "markdown",
   "metadata": {},
   "source": [
    "- 日付`NDay`は1/1からの通しの日数\n",
    "- 時刻`NHour`は整数, 0時～23時が基本。12/31のみ24時あり\n",
    "- 時刻`TT`は、時間分割`MM`における時刻\n",
    "  - `MM`：1時間の内の$(1/$ `NDT`$)$間隔の順番, 正時が`MM`$=0$, `MM`$=0～$ `NDT`$-1$\n",
    "\n",
    "\n",
    "- 時刻`Hour01`は、前時刻の`MM` $=$ `NDT`$/2～$同時刻の`MM` $=$ `NDT`$/2-1$の時間分割を、その正時に属するものとして扱うための時刻 → 時間毎の効果係数を算定するために使用するだけ"
   ]
  },
  {
   "cell_type": "code",
   "execution_count": 2,
   "metadata": {},
   "outputs": [],
   "source": [
    "def calc_NDayNHour(Hour00):\n",
    "    if Hour00==8760:\n",
    "        [NDay, NHour] = [365, 24]\n",
    "    else:\n",
    "        NDay = Hour00//24 + 1\n",
    "        NHour = Hour00 - (NDay - 1) * 24 \n",
    "\n",
    "    return [NDay,NHour]"
   ]
  },
  {
   "cell_type": "code",
   "execution_count": 3,
   "metadata": {},
   "outputs": [],
   "source": [
    "def calc_TT(NHour, NDT, MM):\n",
    "    TT = NHour + MM / float(NDT)\n",
    "    return TT"
   ]
  },
  {
   "cell_type": "code",
   "execution_count": 4,
   "metadata": {},
   "outputs": [],
   "source": [
    "def calc_Hour01(TT):\n",
    "    Hour01 = int(TT + 0.5)\n",
    "    return Hour01"
   ]
  },
  {
   "cell_type": "markdown",
   "metadata": {},
   "source": [
    "## A.2 赤緯の計算 (仕様書6.2 式(4))"
   ]
  },
  {
   "cell_type": "markdown",
   "metadata": {},
   "source": [
    "- 赤緯$\\delta_d [deg]$, $N$: 1月1日を$N=1$とした年頭からの通しの日数$[day]$\n",
    "  - 右辺の余弦のかっこ内の角度は$radian$単位となっているので注意\n",
    "  \n",
    "$$ \\begin{align}\n",
    "\\delta_d = (180 / \\pi) & \\{0.006322 - 0.405748 \\cos (2 \\pi N / 366 + 0.153231)\\\\\n",
    "& - 0.005880 \\cos (4 \\pi N / 366 + 0.207099)\\\\\n",
    "& - 0.003233 \\cos (6 \\pi N / 366 + 0.620129) \\} \\qquad \\qquad \\qquad (4) \\\\\n",
    "\\end{align} $$"
   ]
  },
  {
   "cell_type": "code",
   "execution_count": 5,
   "metadata": {},
   "outputs": [],
   "source": [
    "def calc_deltad(NDay):\n",
    "    deltad = (180 / np.pi) * (0.006322 - 0.405748 * np.cos(2 * np.pi * float(NDay) / 366 + 0.153231)\n",
    "                                       - 0.005880 * np.cos(4 * np.pi * float(NDay) / 366 + 0.207099)\n",
    "                                       - 0.003233 * np.cos(6 * np.pi * float(NDay) / 366 + 0.620129))\n",
    "    \n",
    "    return deltad"
   ]
  },
  {
   "cell_type": "markdown",
   "metadata": {},
   "source": [
    "## A.3 均時差の計算 (仕様書6.2 式(6))"
   ]
  },
  {
   "cell_type": "markdown",
   "metadata": {},
   "source": [
    "- 均時差$e_d[hour]$, $N$: 1月1日を$N=1$とした年頭からの通しの日数$[day]$\n",
    "  - 右辺の余弦のかっこ内の角度は$radian$単位となっているので注意\n",
    "\n",
    "$$ \\begin{align}\n",
    "e_d = -0.000279 &+ 0.122772 \\cos (2 \\pi N / 366 + 1.498311)\\\\\n",
    "& - 0.165458 \\cos (4 \\pi N / 366 - 1.261546)\\\\\n",
    "& - 0.005354 \\cos (6 \\pi N / 366 - 1.1571) \\} \\qquad \\qquad \\qquad (6) \\\\\n",
    "\\end{align} $$"
   ]
  },
  {
   "cell_type": "code",
   "execution_count": 6,
   "metadata": {},
   "outputs": [],
   "source": [
    "def calc_eed(NDay):\n",
    "    eed = ( -0.000279 + 0.122772 * np.cos(2 * np.pi * NDay / 366 + 1.498311)\n",
    "                      - 0.165458 * np.cos(4 * np.pi * NDay / 366 - 1.261546)\n",
    "                      - 0.005354 * np.cos(6 * np.pi * NDay / 366 - 1.1571)   )\n",
    "    return eed"
   ]
  },
  {
   "cell_type": "markdown",
   "metadata": {},
   "source": [
    "## A.4 時角の計算 (仕様書6.2 式(7))"
   ]
  },
  {
   "cell_type": "markdown",
   "metadata": {},
   "source": [
    "- 時角$T_{d,t}[deg]$, 時刻$t[hour]$, 均時差$e_d[hour]$, 経度$L[deg]$\n",
    "\n",
    "$$T_{d,t} = (t + e_d - 12) \\times 15 + (L - 135)\\qquad (7) $$"
   ]
  },
  {
   "cell_type": "code",
   "execution_count": 7,
   "metadata": {},
   "outputs": [],
   "source": [
    "def calc_Tdt(Longitude, eed, TT):\n",
    "    \n",
    "    Tdt = ( TT + eed - 12) * 15 +(Longitude - 135)\n",
    "    \n",
    "    return Tdt"
   ]
  },
  {
   "cell_type": "markdown",
   "metadata": {},
   "source": [
    "## A.5 太陽高度の正弦の計算 (仕様書6.2 式(8)"
   ]
  },
  {
   "cell_type": "markdown",
   "metadata": {},
   "source": [
    "- 太陽高度$h_{S,d,t}[deg]$, 緯度$\\phi[deg]$, 赤緯$\\delta_d[deg]$,時角$T_{d,t}[deg]$\n",
    "\n",
    "$$\\sin h_{S,d,t} = max[0, \\sin \\phi \\sin \\delta_d + \\cos \\phi \\cos \\delta_d \\cos T_{d,t}] \\qquad (8) $$"
   ]
  },
  {
   "cell_type": "code",
   "execution_count": 8,
   "metadata": {},
   "outputs": [],
   "source": [
    "def calc_sinh(Latitude, deltad, Tdt):\n",
    "    \n",
    "    sinh = max(0, \n",
    "               np.sin(np.radians(Latitude)) * np.sin(np.radians(deltad)) \n",
    "                 + np.cos(np.radians(Latitude)) * np.cos(np.radians(deltad)) * np.cos(np.radians(Tdt)) )\n",
    "   \n",
    "    return sinh"
   ]
  },
  {
   "cell_type": "markdown",
   "metadata": {},
   "source": [
    "## A.6 太陽高度とその余弦の計算 (仕様書6.2 式(9))"
   ]
  },
  {
   "cell_type": "markdown",
   "metadata": {},
   "source": [
    "- 太陽高度$h_{S,d,t}[deg]$\n",
    "\n",
    "$$\\cos h_{S,d,t} = (1 - \\sin ^2 h_{S,d,t})^{0.5} \\qquad (9) $$\n",
    "\n",
    "- 式(8), (9)より、$h_{S,d,t} = \\tan^{-1} (\\sin h_{S,d,t} / \\cos h_{S,d,t})$"
   ]
  },
  {
   "cell_type": "code",
   "execution_count": 9,
   "metadata": {},
   "outputs": [],
   "source": [
    "def calc_cosh(sinh):\n",
    "    \n",
    "    cosh = (1 - sinh**2) **0.5\n",
    "   \n",
    "    return cosh"
   ]
  },
  {
   "cell_type": "code",
   "execution_count": 10,
   "metadata": {},
   "outputs": [],
   "source": [
    "def calc_hsdt(cosh, sinh):\n",
    "    \n",
    "    hsdt = np.rad2deg(np.arctan( sinh / cosh ))\n",
    "    \n",
    "    return hsdt"
   ]
  },
  {
   "cell_type": "markdown",
   "metadata": {},
   "source": [
    "## A.7 太陽方位角の計算 (仕様書6.2 式(10)～(12))"
   ]
  },
  {
   "cell_type": "markdown",
   "metadata": {},
   "source": [
    "- 太陽方位角$A_{ZS,d,t}[deg]$, 太陽高度$h_{S,d,t}[deg]$, 赤緯$\\delta_d[deg]$, 時角$T_{d,t}[deg]$, 緯度$\\phi[deg]$\n",
    "\n",
    "$$\\sin A_{ZS,d,t} = \\cos \\delta_d \\sin T_{d,t} / \\cos h_{S,d,t} \\qquad (10) $$\n",
    "\n",
    "$$\\cos A_{ZS,d,t} = (\\sin h_{S,d,t} \\sin \\phi - \\sin \\delta_d) / (\\cos h_{S,d,t} \\cos \\phi) \\qquad (11) $$\n",
    "\n",
    "$$\n",
    "A_{ZS,d,t} = \\left\\{\n",
    "\\begin{array}{ll}\n",
    "\\tan^{-1} (\\sin A_{ZS,d,t} / \\cos A_{ZS,d,t}) + 180 \\hspace{24pt} (\\sin A_{ZS,d,t} > 0, \\cos A_{ZS,d,t} < 0)\n",
    "\\\\\n",
    "\\tan^{-1} (\\sin A_{ZS,d,t} / \\cos A_{ZS,d,t}) - 180 \\hspace{24pt} (\\sin A_{ZS,d,t} < 0, \\cos A_{ZS,d,t} < 0)\n",
    "\\\\\n",
    "90 \\hspace{136pt} (\\sin A_{ZS,d,t} = 1, \\cos A_{ZS,d,t} = 0)\n",
    "\\\\\n",
    "-90 \\hspace{130pt} (\\sin A_{ZS,d,t} = -1, \\cos A_{ZS,d,t} = 0)\n",
    "\\\\\n",
    "\\tan^{-1} (\\sin A_{ZS,d,t} / \\cos A_{ZS,d,t}) \\hspace{48pt} (other)\n",
    "\\end{array}\n",
    "\\right.  \\qquad (12) \n",
    "$$"
   ]
  },
  {
   "cell_type": "code",
   "execution_count": 11,
   "metadata": {},
   "outputs": [],
   "source": [
    "def calc_Azsdt(Latitude, deltad, Tdt, sinh, cosh):\n",
    "    \n",
    "    sinAzsdt = np.cos(np.radians(deltad)) * np.sin(np.radians(Tdt)) / cosh\n",
    "    cosAzsdt = ( ( sinh * np.sin(np.radians(Latitude)) - np.sin(np.radians(deltad)) ) \n",
    "             /   ( cosh * np.cos(np.radians(Latitude)) ) )\n",
    "    if abs(sinAzsdt) == 1:\n",
    "        Azsdt = 90 * sinAzsdt\n",
    "    elif sinAzsdt > 0 and cosAzsdt < 0:\n",
    "        Azsdt = np.rad2deg(np.arctan( sinAzsdt / cosAzsdt )) + 180\n",
    "    elif sinAzsdt < 0 and cosAzsdt < 0:        \n",
    "        Azsdt = np.rad2deg(np.arctan( sinAzsdt / cosAzsdt) ) - 180   \n",
    "    else:\n",
    "        Azsdt = np.rad2deg(np.arctan( sinAzsdt / cosAzsdt) )\n",
    "   \n",
    "    return Azsdt"
   ]
  },
  {
   "cell_type": "code",
   "execution_count": null,
   "metadata": {},
   "outputs": [],
   "source": []
  }
 ],
 "metadata": {
  "kernelspec": {
   "display_name": "Python 3",
   "language": "python",
   "name": "python3"
  },
  "language_info": {
   "codemirror_mode": {
    "name": "ipython",
    "version": 3
   },
   "file_extension": ".py",
   "mimetype": "text/x-python",
   "name": "python",
   "nbconvert_exporter": "python",
   "pygments_lexer": "ipython3",
   "version": "3.6.5"
  }
 },
 "nbformat": 4,
 "nbformat_minor": 2
}
