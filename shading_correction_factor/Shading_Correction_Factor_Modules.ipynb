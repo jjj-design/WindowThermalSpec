{
 "cells": [
  {
   "cell_type": "code",
   "execution_count": 1,
   "metadata": {
    "collapsed": true
   },
   "outputs": [],
   "source": [
    "import csv"
   ]
  },
  {
   "cell_type": "markdown",
   "metadata": {},
   "source": [
    "# 日よけ効果係数算定ツール Modules\n",
    "\n",
    "- 一次目標：日よけ効果係数算定ツールのpython上での再現\n"
   ]
  },
  {
   "cell_type": "markdown",
   "metadata": {},
   "source": [
    "## A. 窓まわりの設定(仕様書5)と太陽位置の算定(仕様書6.2)"
   ]
  },
  {
   "cell_type": "markdown",
   "metadata": {},
   "source": [
    "### A.1 日時\n",
    "\n",
    "- 日付`NDay`は1/1からの通しの日数\n",
    "- 時刻`NHour`は整数, 0時～23時が基本。12/31のみ24時あり\n",
    "- 時刻`TT`は、時間分割`MM`における時刻\n",
    "  - `MM`：1時間の内の$(1/$ `NDT`$)$間隔の順番, 正時が`MM`$=0$, `MM`$=0～$ `NDT`$-1$\n",
    "\n",
    "\n",
    "- 時刻`Hour01`は、前時刻の`MM` $=$ `NDT`$/2～$同時刻の`MM` $=$ `NDT`$/2-1$の時間分割を、その正時に属するものとして扱うための時刻 → 時間毎の効果係数を算定するために使用するだけ"
   ]
  },
  {
   "cell_type": "code",
   "execution_count": 2,
   "metadata": {
    "collapsed": true
   },
   "outputs": [],
   "source": [
    "def calc_NDayNHour(Hour00):\n",
    "    if Hour00==8760:\n",
    "        [NDay, NHour] = [365, 24]\n",
    "    else:\n",
    "        NDay = Hour00//24 + 1\n",
    "        NHour = Hour00 - (NDay - 1) * 24 \n",
    "\n",
    "    return [NDay,NHour]\n",
    "\n",
    "\n",
    "def calc_TT(NHour, NDT, MM):\n",
    "    \n",
    "    TT = NHour + MM / float(NDT)\n",
    "    \n",
    "    return TT\n",
    "\n",
    "\n",
    "def calc_Hour01(TT):\n",
    "    \n",
    "    Hour01 = int(TT + 0.5)\n",
    "    \n",
    "    return Hour01"
   ]
  },
  {
   "cell_type": "markdown",
   "metadata": {},
   "source": [
    "### A.2 赤緯の計算 (仕様書6.2 式(4))\n",
    "\n",
    "- 赤緯$\\delta_d [deg]$, $N$: 1月1日を$N=1$とした年頭からの通しの日数$[day]$\n",
    "  - 右辺の余弦のかっこ内の角度は$radian$単位となっているので注意\n",
    "  \n",
    "$$ \\begin{align}\n",
    "\\delta_d = (180 / \\pi) & \\{0.006322 - 0.405748 \\cos (2 \\pi N / 366 + 0.153231)\\\\\n",
    "& - 0.005880 \\cos (4 \\pi N / 366 + 0.207099)\\\\\n",
    "& - 0.003233 \\cos (6 \\pi N / 366 + 0.620129) \\} \\qquad \\qquad \\qquad (4) \\\\\n",
    "\\end{align} $$"
   ]
  },
  {
   "cell_type": "code",
   "execution_count": 3,
   "metadata": {
    "collapsed": true
   },
   "outputs": [],
   "source": [
    "\"\"\" 式(4) \"\"\"\n",
    "import numpy as np\n",
    "\n",
    "def calc_deltad(NDay):\n",
    "    deltad = (180 / np.pi) * (0.006322 - 0.405748 * np.cos(2 * np.pi * float(NDay) / 366 + 0.153231)\n",
    "                                       - 0.005880 * np.cos(4 * np.pi * float(NDay) / 366 + 0.207099)\n",
    "                                       - 0.003233 * np.cos(6 * np.pi * float(NDay) / 366 + 0.620129))\n",
    "    \n",
    "    return deltad"
   ]
  },
  {
   "cell_type": "markdown",
   "metadata": {},
   "source": [
    "### A.3 均時差の計算 (仕様書6.2 式(6))\n",
    "\n",
    "- 均時差$e_d[hour]$, $N$: 1月1日を$N=1$とした年頭からの通しの日数$[day]$\n",
    "  - 右辺の余弦のかっこ内の角度は$radian$単位となっているので注意\n",
    "\n",
    "$$ \\begin{align}\n",
    "e_d = -0.000279 &+ 0.122772 \\cos (2 \\pi N / 366 + 1.498311)\\\\\n",
    "& - 0.165458 \\cos (4 \\pi N / 366 - 1.261546)\\\\\n",
    "& - 0.005354 \\cos (6 \\pi N / 366 - 1.1571) \\} \\qquad \\qquad \\qquad (6) \\\\\n",
    "\\end{align} $$"
   ]
  },
  {
   "cell_type": "code",
   "execution_count": 4,
   "metadata": {
    "collapsed": true
   },
   "outputs": [],
   "source": [
    "\"\"\" 式(6) \"\"\"\n",
    "import numpy as np\n",
    "\n",
    "def calc_eed(NDay):\n",
    "    eed = ( -0.000279 + 0.122772 * np.cos(2 * np.pi * NDay / 366 + 1.498311)\n",
    "                      - 0.165458 * np.cos(4 * np.pi * NDay / 366 - 1.261546)\n",
    "                      - 0.005354 * np.cos(6 * np.pi * NDay / 366 - 1.1571)   )\n",
    "    return eed"
   ]
  },
  {
   "cell_type": "markdown",
   "metadata": {},
   "source": [
    "### A.4 時角の計算 (仕様書6.2 式(7))\n",
    "\n",
    "- 時角$T_{d,t}[deg]$, 時刻$t[hour]$, 均時差$e_d[hour]$, 経度$L[deg]$\n",
    "\n",
    "$$T_{d,t} = (t + e_d - 12) \\times 15 + (L - 135)\\qquad (7) $$"
   ]
  },
  {
   "cell_type": "code",
   "execution_count": 5,
   "metadata": {
    "collapsed": true
   },
   "outputs": [],
   "source": [
    "\"\"\" 式(7) \"\"\"\n",
    "def calc_Tdt(Longitude, eed, TT):\n",
    "    \n",
    "    Tdt = ( TT + eed - 12) * 15 +(Longitude - 135)\n",
    "    \n",
    "    return Tdt"
   ]
  },
  {
   "cell_type": "markdown",
   "metadata": {},
   "source": [
    "### A.5 太陽高度の正弦の計算 (仕様書6.2 式(8))\n",
    "\n",
    "- 太陽高度$h_{S,d,t}[deg]$, 緯度$\\phi[deg]$, 赤緯$\\delta_d[deg]$,時角$T_{d,t}[deg]$\n",
    "\n",
    "$$\\sin h_{S,d,t} = max[0, \\sin \\phi \\sin \\delta_d + \\cos \\phi \\cos \\delta_d \\cos T_{d,t}] \\qquad (8) $$"
   ]
  },
  {
   "cell_type": "code",
   "execution_count": 6,
   "metadata": {
    "collapsed": true
   },
   "outputs": [],
   "source": [
    "\"\"\" 式(8) \"\"\"\n",
    "import numpy as np\n",
    "\n",
    "def calc_sinh(Latitude, deltad, Tdt):\n",
    "    \n",
    "    sinh = max(0, \n",
    "               np.sin(np.radians(Latitude)) * np.sin(np.radians(deltad)) \n",
    "                 + np.cos(np.radians(Latitude)) * np.cos(np.radians(deltad)) * np.cos(np.radians(Tdt)) )\n",
    "   \n",
    "    return sinh"
   ]
  },
  {
   "cell_type": "markdown",
   "metadata": {},
   "source": [
    "### A.6 太陽高度とその余弦の計算 (仕様書6.2 式(9))\n",
    "\n",
    "- 太陽高度$h_{S,d,t}[deg]$\n",
    "\n",
    "$$\\cos h_{S,d,t} = (1 - \\sin ^2 h_{S,d,t})^{0.5} \\qquad (9) $$\n",
    "\n",
    "- 式(8), (9)より、$h_{S,d,t} = \\tan^{-1} (\\sin h_{S,d,t} / \\cos h_{S,d,t})$"
   ]
  },
  {
   "cell_type": "code",
   "execution_count": 7,
   "metadata": {
    "collapsed": true
   },
   "outputs": [],
   "source": [
    "\"\"\" 式(9)+α \"\"\"\n",
    "import numpy as np\n",
    "\n",
    "def calc_cosh(sinh):\n",
    "    \n",
    "    cosh = (1 - sinh**2) **0.5\n",
    "   \n",
    "    return cosh\n",
    "\n",
    "\n",
    "def calc_hsdt(cosh, sinh):\n",
    "    \n",
    "    hsdt = np.rad2deg(np.arctan( sinh / cosh ))\n",
    "    \n",
    "    return hsdt"
   ]
  },
  {
   "cell_type": "markdown",
   "metadata": {},
   "source": [
    "### A.7 太陽方位角の計算 (仕様書6.2 式(10)～(12))\n",
    "\n",
    "- 太陽方位角$A_{ZS,d,t}[deg]$, 太陽高度$h_{S,d,t}[deg]$, 赤緯$\\delta_d[deg]$, 時角$T_{d,t}[deg]$, 緯度$\\phi[deg]$\n",
    "\n",
    "$$\\sin A_{ZS,d,t} = \\cos \\delta_d \\sin T_{d,t} / \\cos h_{S,d,t} \\qquad (10) $$\n",
    "\n",
    "$$\\cos A_{ZS,d,t} = (\\sin h_{S,d,t} \\sin \\phi - \\sin \\delta_d) / (\\cos h_{S,d,t} \\cos \\phi) \\qquad (11) $$\n",
    "\n",
    "$$\n",
    "A_{ZS,d,t} = \\left\\{\n",
    "\\begin{array}{ll}\n",
    "\\tan^{-1} (\\sin A_{ZS,d,t} / \\cos A_{ZS,d,t}) + 180 \\hspace{24pt} (\\sin A_{ZS,d,t} > 0, \\cos A_{ZS,d,t} < 0)\n",
    "\\\\\n",
    "\\tan^{-1} (\\sin A_{ZS,d,t} / \\cos A_{ZS,d,t}) - 180 \\hspace{24pt} (\\sin A_{ZS,d,t} < 0, \\cos A_{ZS,d,t} < 0)\n",
    "\\\\\n",
    "90 \\hspace{136pt} (\\sin A_{ZS,d,t} = 1, \\cos A_{ZS,d,t} = 0)\n",
    "\\\\\n",
    "-90 \\hspace{130pt} (\\sin A_{ZS,d,t} = -1, \\cos A_{ZS,d,t} = 0)\n",
    "\\\\\n",
    "\\tan^{-1} (\\sin A_{ZS,d,t} / \\cos A_{ZS,d,t}) \\hspace{48pt} (other)\n",
    "\\end{array}\n",
    "\\right.  \\qquad (12) \n",
    "$$\n"
   ]
  },
  {
   "cell_type": "code",
   "execution_count": 8,
   "metadata": {
    "collapsed": true
   },
   "outputs": [],
   "source": [
    "\"\"\" 式(10)～(12) \"\"\"\n",
    "import numpy as np\n",
    "\n",
    "def calc_Azsdt(Latitude, deltad, Tdt, sinh, cosh):\n",
    "    \n",
    "    sinAzsdt = np.cos(np.radians(deltad)) * np.sin(np.radians(Tdt)) / cosh\n",
    "    cosAzsdt = ( ( sinh * np.sin(np.radians(Latitude)) - np.sin(np.radians(deltad)) ) \n",
    "             /   ( cosh * np.cos(np.radians(Latitude)) ) )\n",
    "    if abs(sinAzsdt) == 1:\n",
    "        Azsdt = 90 * sinAzsdt\n",
    "    elif sinAzsdt > 0 and cosAzsdt < 0:\n",
    "        Azsdt = np.rad2deg(np.arctan( sinAzsdt / cosAzsdt )) + 180\n",
    "    elif sinAzsdt < 0 and cosAzsdt < 0:        \n",
    "        Azsdt = np.rad2deg(np.arctan( sinAzsdt / cosAzsdt) ) - 180   \n",
    "    else:\n",
    "        Azsdt = np.rad2deg(np.arctan( sinAzsdt / cosAzsdt) )\n",
    "   \n",
    "    return Azsdt"
   ]
  },
  {
   "cell_type": "markdown",
   "metadata": {},
   "source": [
    "### A.8 窓面の方位 (仕様書5.2 図4)\n",
    "\n",
    "- 窓面の方位は、以下の通り\n",
    "  - 北北東：$-157.5°$, 北東：$-135°$, …, 東：$-90°$, …, 南：$0°$, …, 西：$+90°$, …,北：$+180°$\n",
    "  - 角度指定も可：$-180°< A_{ZW,j} \\leq +180°$\n",
    "  - デフォルトは8方位指定"
   ]
  },
  {
   "cell_type": "code",
   "execution_count": 9,
   "metadata": {
    "collapsed": true
   },
   "outputs": [],
   "source": [
    "\"\"\" 窓面の方位 (仕様書5.2 図4) \"\"\"\n",
    "import sys\n",
    "\n",
    "def calc_Azwj(Azimuth):\n",
    "    \n",
    "    Azimuth00 = [\"北北東\", \"北東\", \"東北東\", \"東\", \"東南東\", \"南東\", \"南南東\", \"南\"\n",
    "                 , \"南南西\", \"南西\", \"西南西\", \"西\", \"西北西\", \"北西\", \"北北西\", \"北\" ]\n",
    "    if Azimuth in Azimuth00:\n",
    "        Azwj = (Azimuth00.index(Azimuth) - 7) * 22.5\n",
    "    elif -180 < float(Azimuth) <= 180:\n",
    "        Azwj = float(Azimuth) \n",
    "    else:\n",
    "        sys.exit(\"窓面方位の入力が不適切です\")        \n",
    "    \n",
    "    return Azwj"
   ]
  },
  {
   "cell_type": "markdown",
   "metadata": {},
   "source": [
    "### A.9 窓面の法線ベクトルと太陽位置とのなす水平面上の角度の計算 (仕様書6.2 式(1))\n",
    "\n",
    "- 窓面の法線ベクトルと太陽位置とのなす水平面上の角度$A_{ZW,j,d,t}[deg]$, 太陽方位角$A_{ZS,d,t}[deg]$, 外壁$j$の方位角$A_{ZW,j}[deg]$\n",
    "\n",
    "$$\n",
    "A_{ZW,j,d,t} = \\left\\{\n",
    "\\begin{array}{ll}\n",
    "A_{ZS,d,t} - A_{ZW,j} \\hspace{48pt} (-180 < A_{ZS,d,t} - A_{ZW,j} \\leq 180)\n",
    "\\\\\n",
    "A_{ZS,d,t} - A_{ZW,j} + 360 \\hspace{24pt} (A_{ZS,d,t} - A_{ZW,j} \\leq -180)\n",
    "\\\\\n",
    "A_{ZS,d,t} - A_{ZW,j} - 360 \\hspace{24pt} (A_{ZS,d,t} - A_{ZW,j} \\geq 180)\n",
    "\\end{array}\n",
    "\\right.  \\qquad (1) \n",
    "$$"
   ]
  },
  {
   "cell_type": "code",
   "execution_count": 10,
   "metadata": {
    "collapsed": true
   },
   "outputs": [],
   "source": [
    "\"\"\" 式(1) \"\"\"\n",
    "\n",
    "def calc_Azwjdt(Azwj, Azsdt):\n",
    "    \n",
    "    Azwjdt = Azsdt - Azwj\n",
    "    if Azwjdt < -180:\n",
    "        Azwjdt += 360\n",
    "    elif Azwjdt > 180:\n",
    "        Azwjdt -= 360\n",
    "        \n",
    "    return Azwjdt"
   ]
  },
  {
   "cell_type": "markdown",
   "metadata": {},
   "source": [
    "### A.10 窓まわり寸法のデータの持たせ方デフォルト (仕様書5.1 図2)"
   ]
  },
  {
   "cell_type": "code",
   "execution_count": 11,
   "metadata": {
    "collapsed": true
   },
   "outputs": [],
   "source": [
    "import sys\n",
    "\n",
    "def set_WSSize(WSSize1):\n",
    "    \n",
    "    WSSizeDict = {}\n",
    "    \n",
    "    for i in range(0, len(WSSize1), 2):\n",
    "        WSSizeDict[WSSize1[i]] = WSSize1[i+1]\n",
    "\n",
    "    # X1\n",
    "    if \"X1\" not in WSSizeDict:\n",
    "        WSSizeDict[\"X1\"] = 0\n",
    "    elif WSSizeDict[\"X1\"] < 0:\n",
    "        sys.exit(\"寸法X1の設定が不適切です\")\n",
    "    elif WSSizeDict[\"X1\"] == \"\":\n",
    "        WSSizeDict[\"X1\"] = 0        \n",
    "        \n",
    "    # X2\n",
    "    if \"X2\" not in WSSizeDict:\n",
    "        sys.exit(\"寸法X2が設定されていません\")\n",
    "    elif WSSizeDict[\"X2\"] <= 0 or WSSizeDict[\"X2\"] == \"\":\n",
    "        sys.exit(\"寸法X2の設定が不適切です\")            \n",
    "        \n",
    "    # X3\n",
    "    if \"X3\" not in WSSizeDict:\n",
    "        WSSizeDict[\"X3\"] = 0\n",
    "    elif WSSizeDict[\"X3\"] < 0:\n",
    "        sys.exit(\"寸法X3の設定が不適切です\")\n",
    "    elif WSSizeDict[\"X3\"] == \"\":\n",
    "        WSSizeDict[\"X3\"] = 0 \n",
    "        \n",
    "    # Y1\n",
    "    if \"Y1\" not in WSSizeDict:\n",
    "        WSSizeDict[\"Y1\"] = 0\n",
    "    elif WSSizeDict[\"Y1\"] < 0:\n",
    "        sys.exit(\"寸法Y1の設定が不適切です\")\n",
    "    elif WSSizeDict[\"Y1\"] == \"\":\n",
    "        WSSizeDict[\"Y1\"] = 0 \n",
    "        \n",
    "    # Y2\n",
    "    if \"Y2\" not in WSSizeDict:\n",
    "        sys.exit(\"寸法Y2が設定されていません\")\n",
    "    elif WSSizeDict[\"Y2\"] <= 0 or WSSizeDict[\"Y2\"] == \"\":\n",
    "        sys.exit(\"寸法Y2の設定が不適切です\")            \n",
    "\n",
    "    # Y3\n",
    "    if \"Y3\" not in WSSizeDict:\n",
    "        WSSizeDict[\"Y3\"] = 0\n",
    "    elif WSSizeDict[\"Y3\"] < 0:\n",
    "        sys.exit(\"寸法Y3の設定が不適切です\")            \n",
    "    elif WSSizeDict[\"Y3\"] == \"\":\n",
    "        WSSizeDict[\"Y3\"] = 0 \n",
    "        \n",
    "    # Zxp\n",
    "    if \"Zxp\" not in WSSizeDict:\n",
    "        WSSizeDict[\"Zxp\"] = 0\n",
    "    elif WSSizeDict[\"Zxp\"] < 0:\n",
    "        sys.exit(\"寸法Zxpの設定が不適切です\")\n",
    "    elif WSSizeDict[\"Zxp\"] == \"\":\n",
    "        WSSizeDict[\"Zxp\"] = 0 \n",
    "        \n",
    "    # Zxm\n",
    "    if \"Zxm\" not in WSSizeDict:\n",
    "        WSSizeDict[\"Zxm\"] = 0\n",
    "    elif WSSizeDict[\"Zxm\"] < 0:\n",
    "        sys.exit(\"寸法Zxmの設定が不適切です\")           \n",
    "    elif WSSizeDict[\"Zxm\"] == \"\":\n",
    "        WSSizeDict[\"Zxm\"] = 0 \n",
    "        \n",
    "    # Zyp\n",
    "    if \"Zyp\" not in WSSizeDict:\n",
    "        WSSizeDict[\"Zyp\"] = 0\n",
    "    elif WSSizeDict[\"Zyp\"] < 0:\n",
    "        sys.exit(\"寸法Zypの設定が不適切です\")     \n",
    "    elif WSSizeDict[\"Zyp\"] == \"\":\n",
    "        WSSizeDict[\"Zyp\"] = 0 \n",
    "        \n",
    "    # Zym\n",
    "    if \"Zym\" not in WSSizeDict:\n",
    "        WSSizeDict[\"Zym\"] = 0\n",
    "    elif WSSizeDict[\"Zym\"] < 0:\n",
    "        sys.exit(\"寸法Zymの設定が不適切です\")\n",
    "    elif WSSizeDict[\"Zym\"] == \"\":\n",
    "        WSSizeDict[\"Zym\"] = 0 \n",
    "        \n",
    "    \"\"\" 以下、オプション扱い → 非入力は窓端から日よけの付け根までの距離とする \"\"\"     \n",
    "    # X1yp\n",
    "    if \"X1yp\" not in WSSizeDict:\n",
    "        WSSizeDict[\"X1yp\"] = WSSizeDict[\"X1\"] \n",
    "    elif WSSizeDict[\"X1yp\"] < 0:\n",
    "        sys.exit(\"寸法X1ypの設定が不適切です\")        \n",
    "    elif WSSizeDict[\"X1yp\"] > WSSizeDict[\"X1\"] or WSSizeDict[\"X1yp\"] == \"\":\n",
    "        WSSizeDict[\"X1yp\"] = WSSizeDict[\"X1\"]         \n",
    "        \n",
    "    # X1ym\n",
    "    if \"X1ym\" not in WSSizeDict:\n",
    "        WSSizeDict[\"X1ym\"] = WSSizeDict[\"X1\"] \n",
    "    elif WSSizeDict[\"X1ym\"] < 0:\n",
    "        sys.exit(\"寸法X1ymの設定が不適切です\")\n",
    "    elif WSSizeDict[\"X1ym\"] > WSSizeDict[\"X1\"] or WSSizeDict[\"X1ym\"] == \"\":\n",
    "        WSSizeDict[\"X1ym\"] = WSSizeDict[\"X1\"]       \n",
    "        \n",
    "    # X3yp\n",
    "    if \"X3yp\" not in WSSizeDict:\n",
    "        WSSizeDict[\"X3yp\"] = WSSizeDict[\"X3\"] \n",
    "    elif WSSizeDict[\"X3yp\"] < 0:\n",
    "        sys.exit(\"寸法X3ypの設定が不適切です\")            \n",
    "    elif WSSizeDict[\"X3yp\"] > WSSizeDict[\"X3\"] or WSSizeDict[\"X3yp\"] == \"\":\n",
    "        WSSizeDict[\"X3yp\"] = WSSizeDict[\"X3\"]   \n",
    "        \n",
    "    # X3ym\n",
    "    if \"X3ym\" not in WSSizeDict:\n",
    "        WSSizeDict[\"X3ym\"] = WSSizeDict[\"X3\"] \n",
    "    elif WSSizeDict[\"X3ym\"] < 0:\n",
    "        sys.exit(\"寸法X3ymの設定が不適切です\")               \n",
    "    elif WSSizeDict[\"X3ym\"] > WSSizeDict[\"X3\"] or WSSizeDict[\"X3ym\"] == \"\":\n",
    "        WSSizeDict[\"X3ym\"] = WSSizeDict[\"X3\"]   \n",
    "        \n",
    "    # Y1xp\n",
    "    if \"Y1xp\" not in WSSizeDict:\n",
    "        WSSizeDict[\"Y1xp\"] = WSSizeDict[\"Y1\"]\n",
    "    elif WSSizeDict[\"Y1xp\"] < 0:\n",
    "        sys.exit(\"寸法Y1xpの設定が不適切です\")     \n",
    "    elif WSSizeDict[\"Y1xp\"] > WSSizeDict[\"Y1\"] or WSSizeDict[\"Y1xp\"] == \"\":\n",
    "        WSSizeDict[\"Y1xp\"] = WSSizeDict[\"Y1\"]  \n",
    "        \n",
    "    # Y1xm\n",
    "    if \"Y1xm\" not in WSSizeDict:\n",
    "        WSSizeDict[\"Y1xm\"] = WSSizeDict[\"Y1\"]  \n",
    "    elif WSSizeDict[\"Y1xm\"] < 0:\n",
    "        sys.exit(\"寸法Y1xmの設定が不適切です\")                \n",
    "    elif WSSizeDict[\"Y1xm\"] > WSSizeDict[\"Y1\"] or WSSizeDict[\"Y1xm\"] == \"\":\n",
    "        WSSizeDict[\"Y1xm\"] = WSSizeDict[\"Y1\"]  \n",
    "        \n",
    "    # Y3xp\n",
    "    if \"Y3xp\" not in WSSizeDict:\n",
    "        WSSizeDict[\"Y3xp\"] = WSSizeDict[\"Y3\"]\n",
    "    elif WSSizeDict[\"Y3xp\"] < 0:\n",
    "        sys.exit(\"寸法Y3xpの設定が不適切です\")\n",
    "    elif WSSizeDict[\"Y3xp\"] > WSSizeDict[\"Y3\"] or WSSizeDict[\"Y3xp\"] == \"\":\n",
    "        WSSizeDict[\"Y3xp\"] = WSSizeDict[\"Y3\"]\n",
    "        \n",
    "    # Y3xm\n",
    "    if \"Y3xm\" not in WSSizeDict:\n",
    "        WSSizeDict[\"Y3xm\"] = WSSizeDict[\"Y3\"]\n",
    "    elif WSSizeDict[\"Y3xm\"] < 0:\n",
    "        sys.exit(\"寸法Y3xmの設定が不適切です\")            \n",
    "    elif WSSizeDict[\"Y3xm\"] > WSSizeDict[\"Y3\"] or WSSizeDict[\"Y3xm\"] == \"\":\n",
    "        WSSizeDict[\"Y3xm\"] = WSSizeDict[\"Y3\"]\n",
    "        \n",
    "    WSSize = [WSSizeDict[\"X1\"],  WSSizeDict[\"X2\"],  WSSizeDict[\"X3\"],\n",
    "              WSSizeDict[\"X1yp\"],WSSizeDict[\"X1ym\"],WSSizeDict[\"X3yp\"],WSSizeDict[\"X3ym\"],\n",
    "              WSSizeDict[\"Y1\"],  WSSizeDict[\"Y2\"],  WSSizeDict[\"Y3\"],\n",
    "              WSSizeDict[\"Y1xp\"],WSSizeDict[\"Y1xm\"],WSSizeDict[\"Y3xp\"],WSSizeDict[\"Y3xm\"],\n",
    "              WSSizeDict[\"Zxp\"], WSSizeDict[\"Zxm\"], WSSizeDict[\"Zyp\"], WSSizeDict[\"Zym\"] ]\n",
    "            \n",
    "    return WSSize"
   ]
  },
  {
   "cell_type": "markdown",
   "metadata": {},
   "source": [
    "## B. 直達日射が窓に射す面積の計算 (仕様書6.3)"
   ]
  },
  {
   "cell_type": "markdown",
   "metadata": {},
   "source": [
    "### B.1 太陽がx+側に位置する際のオーバーハングによる影の面積の算定式 (仕様書6.3.1 式(15))\n",
    "\n",
    "$$\n",
    "A_{oh0+}(x,y) = \\left\\{\n",
    "\\begin{array}{ll}\n",
    "0 \\hspace{24pt}(z_{y+}=0)\n",
    "\\\\\n",
    "\\dfrac{1}{2} (x_{3y+} + x_2 / 2 - x) \\dfrac{z_{y+} \\tan h_{S,d,t} / \\cos A_{ZW,j,d,t}}{z_{y+} \\tan | A_{ZW,j,d,t} |} (x_{3y+} + x_2 / 2 - x)\n",
    "\\\\\n",
    "\\hspace{30pt} \\left( \\begin{array}{ll}\n",
    "x_{3y+} + x_2 / 2 - x < z_{y+} \\tan | A_{ZW,j,d,t} | \\\\\n",
    "y_{1} + y_2 / 2 - y \\geq \\dfrac{z_{y+} \\tan h_{S,d,t} / \\cos A_{ZW,j,d,t}}{z_{y+} \\tan | A_{ZW,j,d,t} |} (x_{3y+} + x_2 / 2 - x) \n",
    "\\end{array} \\right)\n",
    "\\\\\n",
    "\\Bigl\\{ (x_{3y+} + x_2 / 2 - x) - \\dfrac{1}{2} (y_{1} + y_2 / 2 - y) \\frac{z_{y+} \\tan | A_{ZW,j,d,t} |}{z_{y+} \\tan h_{S,d,t} / \\cos A_{ZW,j,d,t}} \\Bigr\\} (y_{1} + y_2 / 2 - y)\n",
    "\\\\\n",
    "\\hspace{30pt} \\left( \\begin{array}{ll}\n",
    "x_{3y+} + x_2 / 2 - x > \\dfrac{z_{y+} \\tan | A_{ZW,j,d,t} |}{z_{y+} \\tan h_{S,d,t} / \\cos A_{ZW,j,d,t}} (y_{1} + y_2 / 2 - y) \\\\\n",
    "y_{1} + y_2 / 2 - y < z_{y+} \\tan h_{S,d,t} / \\cos A_{ZW,j,d,t}\n",
    "\\end{array} \\right)\n",
    "\\\\\n",
    "( x_{3y+} + x_2 / 2 - x - \\dfrac{1}{2} z_{y+} \\tan | A_{ZW,j,d,t} | ) z_{y+} \\tan h_{S,d,t} / \\cos A_{ZW,j,d,t}\n",
    "\\\\\n",
    "\\hspace{30pt} \\left( \\begin{array}{ll}\n",
    "x_{3y+} + x_2 / 2 - x \\geq z_{y+} \\tan | A_{ZW,j,d,t} | \\\\\n",
    "y_{1} + y_2 / 2 - y \\geq z_{y+} \\tan h_{S,d,t} / \\cos A_{ZW,j,d,t}\n",
    "\\end{array} \\right)\n",
    "\\end{array}\n",
    "\\right.  \\qquad (15) \n",
    "$$"
   ]
  },
  {
   "cell_type": "code",
   "execution_count": 12,
   "metadata": {
    "collapsed": true
   },
   "outputs": [],
   "source": [
    "\"\"\" 式(15) \"\"\"\n",
    "import numpy as np\n",
    "\n",
    "def calc_Aoh0p(XX, YY, WSSize, Azw, hs):\n",
    "    [X1, X2, X3, X1yp, X1ym, X3yp, X3ym, Y1, Y2, Y3, Y1xp, Y1xm, Y3xp, Y3xm, Zxp, Zxm, Zyp, Zym] = WSSize\n",
    "    \n",
    "    X_th = X3yp + X2 / 2 - XX\n",
    "    Y_th = Y1 + Y2 / 2 - YY\n",
    "    X_th_Z = Zyp * np.tan(abs(np.radians(Azw)))  \n",
    "    Y_th_Z = Zyp * np.tan(np.radians(hs)) / np.cos(np.radians(Azw))\n",
    "        \n",
    "    if X_th_Z == 0 or Y_th_Z <= 0:\n",
    "        Aoh0p = 0    # 式(15)条件1 と 日よけが影を落とさない条件をあわせて処理\n",
    "    else:\n",
    "        Aoh0p = calc_Aoh0p00(X_th, Y_th, X_th_Z, Y_th_Z)\n",
    "        \n",
    "    return Aoh0p\n",
    "        \n",
    "    \n",
    "def calc_Aoh0p00(X_th, Y_th, X_th_Z, Y_th_Z):\n",
    "    \n",
    "    if (X_th >= X_th_Z and Y_th >= Y_th_Z):\n",
    "        Aoh0p00 = (X_th - X_th_Z / 2) * Y_th_Z       # 式(15)条件4\n",
    "    elif Y_th * X_th_Z >= X_th * Y_th_Z:\n",
    "        Aoh0p00 = X_th ** 2 * Y_th_Z / X_th_Z / 2       # 式(15)条件2\n",
    "    else:\n",
    "        Aoh0p00 = (X_th - Y_th / 2 * X_th_Z / Y_th_Z) * Y_th      # 式(15)条件3    \n",
    "        \n",
    "    return Aoh0p00"
   ]
  },
  {
   "cell_type": "markdown",
   "metadata": {},
   "source": [
    "### B.2 太陽がx+側に位置する際のサイドフィンによる影の面積の算定式 (仕様書6.3.1 式(16))\n",
    "\n",
    "$$\n",
    "A_{sf0+}(x,y) = \\left\\{\n",
    "\\begin{array}{ll}\n",
    "0 \\hspace{24pt}(z_{x+}=0)\n",
    "\\\\\n",
    "\\dfrac{1}{2} (y_{1x+} + y_2 / 2 - y) \\dfrac{z_{x+} \\tan | A_{ZW,j,d,t} |}{z_{x+} \\tan h_{S,d,t} / \\cos A_{ZW,j,d,t}} (y_{1x+} + y_2 / 2 - y)\n",
    "\\\\\n",
    "\\hspace{30pt} \\left( \\begin{array}{ll}\n",
    "y_{1x+} + y_2 / 2 - y < z_{x+} \\tan h_{S,d,t} / \\cos A_{ZW,j,d,t} \\\\\n",
    "x_{3} + x_2 / 2 - x \\geq \\dfrac{z_{x+} \\tan | A_{ZW,j,d,t} |}{z_{x+} \\tan h_{S,d,t} / \\cos A_{ZW,j,d,t}} (y_{1x+} + y_2 / 2 - y) \n",
    "\\end{array} \\right)\n",
    "\\\\\n",
    "\\Bigl\\{ (y_{1x+} + y_2 / 2 - y) - \\dfrac{1}{2} (x_{3} + x_2 / 2 - x) \\dfrac{z_{x+} \\tan h_{S,d,t} / \\cos A_{ZW,j,d,t}}{z_{x+} \\tan | A_{ZW,j,d,t} |} \\Bigr\\} (x_{3} + x_2 / 2 - x)\n",
    "\\\\\n",
    "\\hspace{30pt} \\left( \\begin{array}{ll}\n",
    "y_{1x+} + y_2 / 2 - y > \\dfrac{z_{x+} \\tan h_{S,d,t} / \\cos A_{ZW,j,d,t}}{z_{x+} \\tan | A_{ZW,j,d,t} |} (x_{3} + x_2 / 2 - x) \\\\\n",
    "x_{3} + x_2 / 2 - x < z_{x+} \\tan | A_{ZW,j,d,t} |\n",
    "\\end{array} \\right)\n",
    "\\\\\n",
    "( y_{1x+} + y_2 / 2 - y - \\dfrac{1}{2} z_{x+} \\tan h_{S,d,t} / \\cos A_{ZW,j,d,t} ) \\; z_{x+} \\tan | A_{ZW,j,d,t} |\n",
    "\\\\\n",
    "\\hspace{30pt} \\left( \\begin{array}{ll}\n",
    "y_{1x+} + y_2 / 2 - y \\geq z_{x+} \\tan h_{S,d,t} / \\cos A_{ZW,j,d,t} \\\\\n",
    "x_{3} + x_2 / 2 - x \\geq z_{x+} \\tan | A_{ZW,j,d,t} |\n",
    "\\end{array} \\right)\n",
    "\\end{array}\n",
    "\\right.  \\qquad (16) \n",
    "$$\n",
    "\n",
    "- コード中では、座標を入れ替えて、`calc_Aoh0p00`を叩くことで対応\n",
    "  - 式$(15)$の変数 → 式$(16)$の変数\n",
    "  - $x$ → $y$\n",
    "  - $x_2$ → $y_2$\n",
    "  - $x_{3y+}$ → $y_{1x+}$\n",
    "  - $y$ → $x$\n",
    "  - $y_1$ → $x_3$\n",
    "  - $y_2$ → $x_2$\n",
    "  - $z_{y+} \\tan h_{S,d,t} / \\cos A_{ZW,j,d,t}$ → $z_{x+} \\tan | A_{ZW,j,d,t} |$\n",
    "  - $z_{y+} \\tan | A_{ZW,j,d,t} |$ → $z_{x+} \\tan h_{S,d,t} / \\cos A_{ZW,j,d,t}$"
   ]
  },
  {
   "cell_type": "code",
   "execution_count": 13,
   "metadata": {
    "collapsed": true
   },
   "outputs": [],
   "source": [
    "\"\"\" 式(16) \"\"\"\n",
    "import numpy as np\n",
    "\n",
    "def calc_Asf0p(XX, YY, WSSize, Azw, hs):\n",
    "    \n",
    "    [X1, X2, X3, X1yp, X1ym, X3yp, X3ym, Y1, Y2, Y3, Y1xp, Y1xm, Y3xp, Y3xm, Zxp, Zxm, Zyp, Zym] = WSSize\n",
    "    \n",
    "    X_th = Y1xp + Y2 / 2 - YY\n",
    "    Y_th = X3 + X2 / 2 - XX\n",
    "    X_th_Z = Zxp * np.tan(np.radians(hs)) / np.cos(np.radians(Azw))  \n",
    "    Y_th_Z = Zxp * np.tan(abs(np.radians(Azw)))\n",
    "       \n",
    "    if X_th_Z == 0 or Y_th_Z <= 0:\n",
    "        Aoh0p = 0    # 式(16)条件1 と 日よけが影を落とさない条件をあわせて処理\n",
    "    else:\n",
    "        Aoh0p = calc_Aoh0p00(X_th, Y_th, X_th_Z, Y_th_Z)\n",
    "        \n",
    "    return Aoh0p"
   ]
  },
  {
   "cell_type": "markdown",
   "metadata": {},
   "source": [
    "### B.3 太陽がx+側に位置する際の日射が射す部分の面積の計算式 (仕様書6.3.1 式(14))\n",
    "\n",
    "$$ \\begin{align}\n",
    "A_{wind,j,x+,d,t} &= (x_2 + x_3)(y_1 + y_2) - A_{oh0+}(-x_2 / 2, -y_2 / 2) - A_{sf0+}(-x_2 / 2, -y_2 / 2) \\\\\n",
    "&- \\{ (x_2 + x_3) y_1 - A_{oh0+}(-x_2 / 2, y_2 / 2) - A_{sf0+}(-x_2 / 2, y_2 / 2) \\} \\\\\n",
    "&- \\{ x_3 (y_1 + y_2) - A_{oh0+}( x_2 / 2, -y_2 / 2) - A_{sf0+}( x_2 / 2, -y_2 / 2) \\} \\\\\n",
    "&+ x_3 y_1 - A_{oh0+}( x_2 / 2, y_2 / 2) - A_{sf0+}( x_2 / 2, y_2 / 2) \\qquad \\qquad \\qquad (14) \\\\\n",
    "\\end{align} $$"
   ]
  },
  {
   "cell_type": "code",
   "execution_count": 14,
   "metadata": {
    "collapsed": true
   },
   "outputs": [],
   "source": [
    "\"\"\" 式(14) \"\"\"\n",
    "\n",
    "def calc_Axp(WSSize, Azw, hs):\n",
    "    \n",
    "    [X1, X2, X3, X1yp, X1ym, X3yp, X3ym, Y1, Y2, Y3, Y1xp, Y1xm, Y3xp, Y3xm, Zxp, Zxm, Zyp, Zym] = WSSize\n",
    "    \n",
    "    if hs > 0 and -90 < Azw < 0:\n",
    "        Axp = ( (X2 + X3) * (Y1 + Y2) \n",
    "               - calc_Aoh0p(-X2/2, -Y2/2, WSSize, Azw, hs) \n",
    "               - calc_Asf0p(-X2/2, -Y2/2, WSSize, Azw, hs) )\\\n",
    "            - ( (X2 + X3) * Y1        \n",
    "               - calc_Aoh0p(-X2/2,  Y2/2, WSSize, Azw, hs) \n",
    "               - calc_Asf0p(-X2/2,  Y2/2, WSSize, Azw, hs) ) \\\n",
    "            - ( X3 * (Y1 + Y2)        \n",
    "               - calc_Aoh0p( X2/2, -Y2/2, WSSize, Azw, hs) \n",
    "               - calc_Asf0p( X2/2, -Y2/2, WSSize, Azw, hs) ) \\\n",
    "            + ( X3 * Y1               \n",
    "               - calc_Aoh0p( X2/2,  Y2/2, WSSize, Azw, hs) \n",
    "               - calc_Asf0p( X2/2,  Y2/2, WSSize, Azw, hs) )       \n",
    "        Axp = max(0, min(Axp, X2 * Y2))    #負値は0に、X2*Y2を超える場合はX2*Y2で頭打ち\n",
    "    else:\n",
    "        Axp = 0\n",
    "        \n",
    "    return Axp"
   ]
  },
  {
   "cell_type": "markdown",
   "metadata": {},
   "source": [
    "### B.4 太陽がx-側に位置する際のオーバーハングによる影の面積の算定式 (仕様書6.3.2 式(19))\n",
    "\n",
    "$$\n",
    "A_{oh0-}(x,y) = \\left\\{\n",
    "\\begin{array}{ll}\n",
    "0 \\hspace{24pt}(z_{y+}=0)\n",
    "\\\\\n",
    "\\dfrac{1}{2} (x_{1y+} + x_2 / 2 + x) \\dfrac{z_{y+} \\tan h_{S,d,t} / \\cos A_{ZW,j,d,t}}{z_{y+} \\tan A_{ZW,j,d,t}} (x_{1y+} + x_2 / 2 + x)\n",
    "\\\\\n",
    "\\hspace{30pt} \\left( \\begin{array}{ll}\n",
    "x_{1y+} + x_2 / 2 + x < z_{y+} \\tan A_{ZW,j,d,t} \\\\\n",
    "y_{1} + y_2 / 2 - y \\geq \\dfrac{z_{y+} \\tan h_{S,d,t} / \\cos A_{ZW,j,d,t}}{z_{y+} \\tan A_{ZW,j,d,t}} (x_{1y+} + x_2 / 2 + x) \n",
    "\\end{array} \\right)\n",
    "\\\\\n",
    "\\Bigl\\{ (x_{1y+} + x_2 / 2 + x) - \\dfrac{1}{2} (y_{1} + y_2 / 2 - y) \\dfrac{z_{y+} \\tan A_{ZW,j,d,t}}{z_{y+} \\tan h_{S,d,t} / \\cos A_{ZW,j,d,t}} \\Bigr\\} (y_{1} + y_2 / 2 - y)\n",
    "\\\\\n",
    "\\hspace{30pt} \\left( \\begin{array}{ll}\n",
    "x_{1y+} + x_2 / 2 + x > \\dfrac{z_{y+} \\tan A_{ZW,j,d,t}}{z_{y+} \\tan h_{S,d,t} / \\cos A_{ZW,j,d,t}} (y_{1} + y_2 / 2 - y) \\\\\n",
    "y_{1} + y_2 / 2 - y < z_{y+} \\tan h_{S,d,t} / \\cos A_{ZW,j,d,t}\n",
    "\\end{array} \\right)\n",
    "\\\\\n",
    "( x_{1y+} + x_2 / 2 + x - \\dfrac{1}{2} z_{y+} \\tan A_{ZW,j,d,t} ) z_{y+} \\tan h_{S,d,t} / \\cos A_{ZW,j,d,t}\n",
    "\\\\\n",
    "\\hspace{30pt} \\left( \\begin{array}{ll}\n",
    "x_{1y+} + x_2 / 2 + x \\geq z_{y+} \\tan A_{ZW,j,d,t} \\\\\n",
    "y_{1} + y_2 / 2 - y \\geq z_{y+} \\tan h_{S,d,t} / \\cos A_{ZW,j,d,t}\n",
    "\\end{array} \\right)\n",
    "\\end{array}\n",
    "\\right.  \\qquad (19) \n",
    "$$\n",
    "\n",
    "- コード中では、座標を入れ替えて、`calc_Aoh0p00`を叩くことで対応\n",
    "  - 式$(15)$の変数 → 式$(19)$の変数\n",
    "  - $x$ → $-x$\n",
    "  - $x_{3y+}$ → $x_{1y+}$\n",
    "  - $A_{ZW,j,d,t}$ → $-A_{ZW,j,d,t}$"
   ]
  },
  {
   "cell_type": "code",
   "execution_count": 15,
   "metadata": {
    "collapsed": true
   },
   "outputs": [],
   "source": [
    "\"\"\" 式(19) \"\"\"\n",
    "import numpy as np\n",
    "\n",
    "def calc_Aoh0m(XX, YY, WSSize, Azw, hs):\n",
    "    \n",
    "    [X1, X2, X3, X1yp, X1ym, X3yp, X3ym, Y1, Y2, Y3, Y1xp, Y1xm, Y3xp, Y3xm, Zxp, Zxm, Zyp, Zym] = WSSize\n",
    "    \n",
    "    X_th = X1yp + X2 / 2 + XX\n",
    "    Y_th = Y1 + Y2 / 2 - YY\n",
    "    X_th_Z = Zyp * np.tan(abs(np.radians(Azw)))  \n",
    "    Y_th_Z = Zyp * np.tan(np.radians(hs)) / np.cos(np.radians(Azw))\n",
    "        \n",
    "    if X_th_Z == 0 or Y_th_Z <= 0:\n",
    "        Aoh0m = 0    # 式(19)条件1 と 日よけが影を落とさない条件をあわせて処理\n",
    "    else:\n",
    "        Aoh0m = calc_Aoh0p00(X_th, Y_th, X_th_Z, Y_th_Z)\n",
    "        \n",
    "    return Aoh0m"
   ]
  },
  {
   "cell_type": "markdown",
   "metadata": {},
   "source": [
    "### B.5 太陽がx-側に位置する際のサイドフィンによる影の面積の算定式 (仕様書6.3.2 式(20))\n",
    "\n",
    "$$\n",
    "A_{sf0-}(x, y) = \\left\\{\n",
    "\\begin{array}{ll}\n",
    "0 \\hspace{24pt}(z_{x-}=0)\n",
    "\\\\\n",
    "\\dfrac{1}{2} (y_{1x-} + y_2 / 2 - y) \\dfrac{z_{x-} \\tan A_{ZW,j,d,t}}{z_{x-} \\tan h_{S,d,t} / \\cos A_{ZW,j,d,t}} (y_{1x-} + y_2 / 2 - y)\n",
    "\\\\\n",
    "\\hspace{30pt} \\left( \\begin{array}{ll}\n",
    "y_{1x-} + y_2 / 2 - y < z_{x-} \\tan h_{S,d,t} / \\cos A_{ZW,j,d,t} \\\\\n",
    "x_{1} + x_2 / 2 + x \\geq \\dfrac{z_{x-} \\tan A_{ZW,j,d,t}}{z_{x-} \\tan h_{S,d,t} / \\cos A_{ZW,j,d,t}} (y_{1x-} + y_2 / 2 - y) \n",
    "\\end{array} \\right)\n",
    "\\\\\n",
    "\\Bigl\\{ (y_{1x-} + y_2 / 2 - y) - \\dfrac{1}{2} (x_{1} + x_2 / 2 + x) \\dfrac{z_{x-} \\tan h_{S,d,t} / \\cos A_{ZW,j,d,t}}{z_{x-} \\tan A_{ZW,j,d,t} } \\Bigr\\} (x_{1} + x_2 / 2 + x)\n",
    "\\\\\n",
    "\\hspace{30pt} \\left( \\begin{array}{ll}\n",
    "y_{1x-} + y_2 / 2 - y > \\dfrac{z_{x-} \\tan h_{S,d,t} / \\cos A_{ZW,j,d,t}}{z_{x-} \\tan A_{ZW,j,d,t}} (x_{1} + x_2 / 2 + x) \\\\\n",
    "x_{1} + x_2 / 2 + x < z_{x-} \\tan A_{ZW,j,d,t}\n",
    "\\end{array} \\right)\n",
    "\\\\\n",
    "( y_{1x-} + y_2 / 2 - y - \\dfrac{1}{2} z_{x-} \\tan h_{S,d,t} / \\cos A_{ZW,j,d,t} ) \\; z_{x-} \\tan A_{ZW,j,d,t}\n",
    "\\\\\n",
    "\\hspace{30pt} \\left( \\begin{array}{ll}\n",
    "y_{1x-} + y_2 / 2 - y \\geq z_{x-} \\tan h_{S,d,t} / \\cos A_{ZW,j,d,t} \\\\\n",
    "x_{1} + x_2 / 2 + x \\geq z_{x-} \\tan A_{ZW,j,d,t}\n",
    "\\end{array} \\right)\n",
    "\\end{array}\n",
    "\\right.  \\qquad (20) \n",
    "$$\n",
    "\n",
    "- コード中では、座標を入れ替えて、`calc_Aoh0p00`を叩くことで対応\n",
    "  - 式$(15)$の変数 → 式$(16)$の変数 → 式$(20)$の変数\n",
    "  - $x$            → $y$            → $y$\n",
    "  - $x_2$          → $y_2$          → $y_2$\n",
    "  - $x_{3y+}$      → $y_{1x+}$      → $y_{1x-}$\n",
    "  - $y$            → $x$            → $-x$\n",
    "  - $y_1$          → $x_3$          → $x_1$\n",
    "  - $y_2$          → $x_2$          → $x_2$\n",
    "  - $z_{y+} \\tan h_{S,d,t} / \\cos A_{ZW,j,d,t}$ → $z_{x+} \\tan | A_{ZW,j,d,t} |$ → $z_{x-} \\tan A_{ZW,j,d,t}$\n",
    "  - $z_{y+} \\tan | A_{ZW,j,d,t} |$ → $z_{x+} \\tan h_{S,d,t} / \\cos A_{ZW,j,d,t}$ → $z_{x-} \\tan h_{S,d,t} / \\cos A_{ZW,j,d,t}$"
   ]
  },
  {
   "cell_type": "code",
   "execution_count": 16,
   "metadata": {
    "collapsed": true
   },
   "outputs": [],
   "source": [
    "\"\"\" 式(20) \"\"\"\n",
    "import numpy as np\n",
    "\n",
    "def calc_Asf0m(XX, YY, WSSize, Azw, hs):\n",
    "    \n",
    "    [X1, X2, X3, X1yp, X1ym, X3yp, X3ym, Y1, Y2, Y3, Y1xp, Y1xm, Y3xp, Y3xm, Zxp, Zxm, Zyp, Zym] = WSSize\n",
    "    \n",
    "    X_th = Y1xm + Y2 / 2 - YY\n",
    "    Y_th = X1 + X2 / 2 + XX\n",
    "    X_th_Z = Zxm * np.tan(np.radians(hs)) / np.cos(np.radians(Azw))  \n",
    "    Y_th_Z = Zxm * np.tan(abs(np.radians(Azw)))\n",
    "       \n",
    "    if X_th_Z == 0 or Y_th_Z <= 0:\n",
    "        Asf0m = 0    # 式(20)条件1 と 日よけが影を落とさない条件をあわせて処理\n",
    "    else:\n",
    "        Asf0m = calc_Aoh0p00(X_th, Y_th, X_th_Z, Y_th_Z)\n",
    "        \n",
    "    return Asf0m"
   ]
  },
  {
   "cell_type": "markdown",
   "metadata": {},
   "source": [
    "### B.6 太陽がx-側に位置する際の日射が射す部分の面積の計算式 (仕様書6.3.2 式(18))\n",
    "\n",
    "$$ \\begin{align}\n",
    "A_{wind,j,x-,d,t} &= (x_1 + x_2)(y_1 + y_2) - A_{oh0-}( x_2 / 2, -y_2 / 2) - A_{sf0-}( x_2 / 2, -y_2 / 2) \\\\\n",
    "&- \\{ (x_1 + x_2) y_1 - A_{oh0-}( x_2 / 2, y_2 / 2) - A_{sf0-}( x_2 / 2, y_2 / 2) \\} \\\\\n",
    "&- \\{ x_1 (y_1 + y_2) - A_{oh0-}(-x_2 / 2, -y_2 / 2) - A_{sf0-}(-x_2 / 2, -y_2 / 2) \\} \\\\\n",
    "&+ x_1 y_1 - A_{oh0-}(-x_2 / 2, y_2 / 2) - A_{sf0-}(-x_2 / 2, y_2 / 2) \\qquad \\qquad \\qquad (18) \\\\\n",
    "\\end{align} $$"
   ]
  },
  {
   "cell_type": "code",
   "execution_count": 17,
   "metadata": {
    "collapsed": true
   },
   "outputs": [],
   "source": [
    "\"\"\" 式(18) \"\"\"\n",
    "\n",
    "def calc_Axm(WSSize, Azw, hs):\n",
    "    \n",
    "    [X1, X2, X3, X1yp, X1ym, X3yp, X3ym, Y1, Y2, Y3, Y1xp, Y1xm, Y3xp, Y3xm, Zxp, Zxm, Zyp, Zym] = WSSize\n",
    "\n",
    "    if hs > 0 and 0 <= Azw < 90:\n",
    "        Axm = ( (X1 + X2) * (Y1 + Y2) \n",
    "               - calc_Aoh0m( X2/2, -Y2/2, WSSize, Azw, hs) \n",
    "               - calc_Asf0m( X2/2, -Y2/2, WSSize, Azw, hs) )\\\n",
    "            - ( (X1 + X2) * Y1        \n",
    "               - calc_Aoh0m( X2/2,  Y2/2, WSSize, Azw, hs) \n",
    "               - calc_Asf0m( X2/2,  Y2/2, WSSize, Azw, hs) ) \\\n",
    "            - ( X1 * (Y1 + Y2)        \n",
    "               - calc_Aoh0m(-X2/2, -Y2/2, WSSize, Azw, hs) \n",
    "               - calc_Asf0m(-X2/2, -Y2/2, WSSize, Azw, hs) ) \\\n",
    "            + ( X1 * Y1               \n",
    "               - calc_Aoh0m(-X2/2,  Y2/2, WSSize, Azw, hs) \n",
    "               - calc_Asf0m(-X2/2,  Y2/2, WSSize, Azw, hs) )       \n",
    "        Axm = max(0, min(Axm, X2 * Y2))    #負値は0に、X2*Y2を超える場合はX2*Y2で頭打ち\n",
    "    else:\n",
    "        Axm = 0\n",
    "        \n",
    "    return Axm"
   ]
  },
  {
   "cell_type": "markdown",
   "metadata": {},
   "source": [
    "### B.7 直達日射が窓に射す部分の面積の計算\n",
    "\n",
    "- 太陽高度$h_{S,d,t}[deg]$が、$h_{S,d,t}>0°$で計算\n",
    "- 窓面の法線ベクトルと太陽位置とのなす水平面上の角度$A_{ZW,j,d,t}$に応じて以下。\n",
    "  - $-90°<A_{ZW,j,d,t} < 0°$：$A_{wind,j,x-,d,t}$を計算($A_{wind,j,x+,d,t} = 0$)\n",
    "  - $0°\\leq A_{ZW,j,d,t} < 90°$：$A_{wind,j,x+,d,t}$を計算($A_{wind,j,x-,d,t} = 0$)\n"
   ]
  },
  {
   "cell_type": "code",
   "execution_count": 18,
   "metadata": {
    "collapsed": true
   },
   "outputs": [],
   "source": [
    "def calc_Ax(WSSize, Azw, hs):\n",
    "\n",
    "    if hs > 0 and -90 < Azw < 0:\n",
    "        Ax = calc_Axp(WSSize, Azw, hs)\n",
    "    elif hs > 0 and 0 <= Azw < 90:\n",
    "        Ax = calc_Axm(WSSize, Azw, hs)\n",
    "    else:\n",
    "        Ax = 0\n",
    "        \n",
    "    return Ax"
   ]
  },
  {
   "cell_type": "markdown",
   "metadata": {},
   "source": [
    "## C. 天空日射・反射日射の効果係数 (仕様書6.4, 6.5)"
   ]
  },
  {
   "cell_type": "markdown",
   "metadata": {},
   "source": [
    "### C.1 形態係数算定のための関数$\\;f_A\\;$ (仕様書6.4 式(23))\n",
    "\n",
    "$$ \\begin{align}\n",
    "f_{A}(x_a,x_b,y_a,y_b,z_a) &= \\frac{x_b \\sqrt{y_b^2+z_a^2}}{2} \\tan^{-1} \\frac{x_b}{\\sqrt{y_b^2+z_a^2}}\n",
    "- \\frac{x_b \\sqrt{y_a^2+z_a^2}}{2} \\tan^{-1} \\frac{x_b}{\\sqrt{y_a^2+z_a^2}} \\\\\n",
    "&- \\frac{x_a \\sqrt{y_b^2+z_a^2}}{2} \\tan^{-1} \\frac{x_a}{\\sqrt{y_b^2+z_a^2}}\n",
    "+ \\frac{x_a \\sqrt{y_a^2+z_a^2}}{2} \\tan^{-1} \\frac{x_a}{\\sqrt{y_a^2+z_a^2}} \\\\\n",
    "&+ \\frac{x_b^2 - y_b^2 - z_a^2}{8} \\log (x_b^2 + y_b^2 + z_a^2) - \\frac{x_b^2 - y_a^2 - z_a^2}{8} \\log (x_b^2 + y_a^2 + z_a^2) \\\\\n",
    "&- \\frac{x_a^2 - y_b^2 - z_a^2}{8} \\log (x_a^2 + y_b^2 + z_a^2) + \\frac{x_a^2 - y_a^2 - z_a^2}{8} \\log (x_a^2 + y_a^2 + z_a^2) \n",
    "\\qquad \\qquad \\qquad (23) \\\\\n",
    "\\end{align} $$"
   ]
  },
  {
   "cell_type": "code",
   "execution_count": 19,
   "metadata": {
    "collapsed": true
   },
   "outputs": [],
   "source": [
    "\"\"\" 式(23) \"\"\"\n",
    "import numpy as np\n",
    "    \n",
    "def calc_fa_atan(x, y, z):\n",
    "\n",
    "    if y**2 + z**2 > 0:\n",
    "        fa_atan = x * ( y**2 + z**2 ) **0.5 / 2 * np.arctan( x / ( y**2 + z**2 ) **0.5 )\n",
    "    else:\n",
    "        fa_atan = 0\n",
    "    \n",
    "    return fa_atan\n",
    "\n",
    "\n",
    "def calc_fa_log(x, y, z):\n",
    "\n",
    "    if x**2 + y**2 + z**2 > 0:\n",
    "        fa_log = ( x**2 - y**2 - z**2 ) / 8 * np.log( x**2 + y**2 + z**2 )\n",
    "    else:\n",
    "        fa_log = 0\n",
    "        \n",
    "    return fa_log\n",
    "\n",
    "\n",
    "def calc_fa(xa, xb, ya, yb, za):\n",
    "    \n",
    "    fa = ( calc_fa_atan(xb, yb, za) - calc_fa_atan(xb, ya, za)\n",
    "         - calc_fa_atan(xa, yb, za) + calc_fa_atan(xa, ya, za)\n",
    "         + calc_fa_log(xb, yb, za)  - calc_fa_log(xb, ya, za)\n",
    "         - calc_fa_log(xa, yb, za)  + calc_fa_log(xa, ya, za) )\n",
    "  \n",
    "    return fa    "
   ]
  },
  {
   "cell_type": "markdown",
   "metadata": {},
   "source": [
    "### C.2 天空に対する形態係数 (仕様書6.4 式(22))\n",
    "\n",
    "$$ \\begin{align}\n",
    "\\phi_{j,y+} = (\\pi A_{wind,j})^{-1} \\{ & \\hspace{2pt} f_A(x_{3y+}, x_2 + x_{3y+}, y_1, y_1 + y_2, z_{y+}) + f_A(y_{1x+}, y_{1x+} + y_2, x_{3}, x_2 + x_{3}, z_{x+}) \\\\\n",
    "+ & \\hspace{2pt} f_A(x_{1y+}, x_{1y+} + x_2, y_1, y_1 + y_2, z_{y+}) + f_A(y_{1x-}, y_{1x-} + y_2, x_{1}, x_1 + x_2, z_{x-}) \\\\ \n",
    "+ & \\hspace{2pt} f_A(x_{3}, x_2 + x_{3}, y_1, y_1 + y_2, 0) + f_A(y_{1}, y_{1} + y_2, x_{3}, x_2 + x_{3}, 0) \\\\\n",
    "+ & \\hspace{2pt} f_A(x_{1}, x_{1} + x_2, y_1, y_1 + y_2, 0) + f_A(y_{1}, y_{1} + y_2, x_{1}, x_1 + x_2, 0) \\\\ \n",
    "- & \\hspace{2pt} f_A(x_{3y+}, x_2 + x_{3y+}, y_1, y_1 + y_2, 0) - f_A(y_{1x+}, y_{1x+} + y_2, x_{3}, x_2 + x_{3}, 0) \\\\\n",
    "- & \\hspace{2pt} f_A(x_{1y+}, x_{1y+} + x_2, y_1, y_1 + y_2, 0) - f_A(y_{1x-}, y_{1x-} + y_2, x_{1}, x_1 + x_2, 0) \\qquad (22) \\\\\n",
    "\\end{align} $$"
   ]
  },
  {
   "cell_type": "code",
   "execution_count": 20,
   "metadata": {
    "collapsed": true
   },
   "outputs": [],
   "source": [
    "\"\"\" 式(22) \"\"\"\n",
    "import numpy as np\n",
    "    \n",
    "def calc_phiyp(WSSize):\n",
    "    \n",
    "    [X1, X2, X3, X1yp, X1ym, X3yp, X3ym, Y1, Y2, Y3, Y1xp, Y1xm, Y3xp, Y3xm, Zxp, Zxm, Zyp, Zym] = WSSize\n",
    "    \n",
    "    phiyp = ( 1 / ( np.pi * X2 * Y2 )\n",
    "            * ( calc_fa(X3yp, X2 + X3yp, Y1, Y1 + Y2, Zyp) + calc_fa(Y1xp, Y1xp + Y2, X3, X2 + X3, Zxp) \n",
    "              + calc_fa(X1yp, X1yp + X2, Y1, Y1 + Y2, Zyp) + calc_fa(Y1xm, Y1xm + Y2, X1, X1 + X2, Zxm)  \n",
    "              + calc_fa(X3,   X2  +  X3, Y1, Y1 + Y2, 0  ) + calc_fa(Y1,   Y1  +  Y2, X3, X2 + X3, 0  ) \n",
    "              + calc_fa(X1,   X1  +  X2, Y1, Y1 + Y2, 0  ) + calc_fa(Y1,   Y1  +  Y2, X1, X1 + X2, 0  )     \n",
    "              - calc_fa(X3yp, X2 + X3yp, Y1, Y1 + Y2, 0  ) - calc_fa(Y1xp, Y1xp + Y2, X3, X2 + X3, 0  ) \n",
    "              - calc_fa(X1yp, X1yp + X2, Y1, Y1 + Y2, 0  ) - calc_fa(Y1xm, Y1xm + Y2, X1, X1 + X2, 0  ) ) ) \n",
    "    phiyp = max(0, min(phiyp, 0.5))    #負値は0に、0.5を超える場合は0.5で頭打ち\n",
    "    \n",
    "    return phiyp     "
   ]
  },
  {
   "cell_type": "markdown",
   "metadata": {},
   "source": [
    "### C.3 天空日射の効果係数 (仕様書6.4 式(21))\n",
    "\n",
    "$$\\gamma_{isr,j,y+} = 2 \\phi_{j,y+} \\qquad (21) $$"
   ]
  },
  {
   "cell_type": "code",
   "execution_count": 21,
   "metadata": {
    "collapsed": true
   },
   "outputs": [],
   "source": [
    "\"\"\" 式(21) \"\"\"\n",
    "\n",
    "def calc_gammayp(WSSize):\n",
    "    \n",
    "    gammayp = 2 * calc_phiyp(WSSize)\n",
    "         \n",
    "    return gammayp     "
   ]
  },
  {
   "cell_type": "markdown",
   "metadata": {},
   "source": [
    "### C.4 地面に対する形態係数 (仕様書6.5 式(25))\n",
    "\n",
    "$$ \\begin{align}\n",
    "\\phi_{j,y-} = (\\pi A_{wind,j})^{-1} \\{ & \\hspace{2pt} f_A(x_{3y-}, x_2 + x_{3y-}, y_3, y_2 + y_3, z_{y-}) + f_A(y_{3x+}, y_2 + y_{3x+}, x_{3}, x_2 + x_{3}, z_{x+}) \\\\\n",
    "+ & \\hspace{2pt} f_A(x_{1y-}, x_{1y-} + x_2, y_3, y_2 + y_3, z_{y-}) + f_A(y_{3x-}, y_2 + y_{3x-}, x_{1}, x_1 + x_2, z_{x-}) \\\\ \n",
    "+ & \\hspace{2pt} f_A(x_{3}, x_2 + x_{3}, y_3, y_2 + y_3, 0) + f_A(y_{3}, y_{2} + y_3, x_{3}, x_2 + x_{3}, 0) \\\\\n",
    "+ & \\hspace{2pt} f_A(x_{1}, x_{1} + x_2, y_3, y_2 + y_3, 0) + f_A(y_{3}, y_{2} + y_3, x_{1}, x_1 + x_2, 0) \\\\ \n",
    "- & \\hspace{2pt} f_A(x_{3y-}, x_2 + x_{3y-}, y_3, y_2 + y_3, 0) - f_A(y_{3x+}, y_2 + y_{3x+}, x_{3}, x_2 + x_{3}, 0) \\\\\n",
    "- & \\hspace{2pt} f_A(x_{1y-}, x_{1y-} + x_2, y_3, y_2 + y_3, 0) - f_A(y_{3x-}, y_2 + y_{3x-}, x_{1}, x_1 + x_2, 0) \\qquad (25) \\\\\n",
    "\\end{align} $$"
   ]
  },
  {
   "cell_type": "code",
   "execution_count": 22,
   "metadata": {
    "collapsed": true
   },
   "outputs": [],
   "source": [
    "\"\"\" 式(25) \"\"\"\n",
    "import numpy as np\n",
    "\n",
    "def calc_phiym(WSSize):\n",
    "    \n",
    "    [X1, X2, X3, X1yp, X1ym, X3yp, X3ym, Y1, Y2, Y3, Y1xp, Y1xm, Y3xp, Y3xm, Zxp, Zxm, Zyp, Zym] = WSSize\n",
    "    \n",
    "    phiym = ( 1 / ( np.pi * X2 * Y2 )\n",
    "            * ( calc_fa(X3ym, X2 + X3ym, Y3, Y2 + Y3, Zym) + calc_fa(Y3xp, Y2 + Y3xp, X3, X2 + X3, Zxp) \n",
    "              + calc_fa(X1ym, X1ym + X2, Y3, Y2 + Y3, Zym) + calc_fa(Y3xm, Y2 + Y3xm, X1, X1 + X2, Zxm)  \n",
    "              + calc_fa(X3,   X2  +  X3, Y3, Y2 + Y3, 0  ) + calc_fa(Y3,   Y2  +  Y3, X3, X2 + X3, 0  ) \n",
    "              + calc_fa(X1,   X1  +  X2, Y3, Y2 + Y3, 0  ) + calc_fa(Y3,   Y2  +  Y3, X1, X1 + X2, 0  )     \n",
    "              - calc_fa(X3ym, X2 + X3ym, Y3, Y2 + Y3, 0  ) - calc_fa(Y3xp, Y2 + Y3xp, X3, X2 + X3, 0  ) \n",
    "              - calc_fa(X1ym, X1ym + X2, Y3, Y2 + Y3, 0  ) - calc_fa(Y3xm, Y2 + Y3xm, X1, X1 + X2, 0  ) ) ) \n",
    "    phiym = max(0, min(phiym, 0.5))    #負値は0に、0.5を超える場合は0.5で頭打ち\n",
    "    \n",
    "    return phiym    "
   ]
  },
  {
   "cell_type": "markdown",
   "metadata": {},
   "source": [
    "### C.5 反射日射の効果係数 (仕様書6.5 式(24))\n",
    "\n",
    "$$\\gamma_{isr,j,y-} = 2 \\phi_{j,y-} \\qquad (24) $$"
   ]
  },
  {
   "cell_type": "code",
   "execution_count": 23,
   "metadata": {
    "collapsed": true
   },
   "outputs": [],
   "source": [
    "\"\"\" 式(24) \"\"\"\n",
    "\n",
    "def calc_gammaym(WSSize):\n",
    "\n",
    "    gammaym = 2 * calc_phiym(WSSize)\n",
    "         \n",
    "    return gammaym"
   ]
  },
  {
   "cell_type": "markdown",
   "metadata": {},
   "source": [
    "## D. 地点と日射量\n",
    "\n",
    "### D.1 地点データ読み込み\n",
    "\n",
    "- `\\Zone.csv`\n",
    "  - $1$行目はヘッダ：地域区分, 都市, 緯度, 経度, 日射量ファイル名, 暖房開始日, 暖房終了日, 冷房開始日, 冷房終了日\n",
    "\n",
    "  - $2～9$行目：$1～8$地域の「地域区分, 都市, 緯度, 経度, 日射量ファイル名, 暖房開始日, 暖房終了日, 冷房開始日, 冷房終了日」\n",
    "    - 暖冷房開始日終了日の書式：$5$桁もしくは$6$桁の数字\n",
    "      - 気象データの日時表記と同じ\n",
    "      - 後ろから$2$桁：時刻\n",
    "      - 後ろから$3～4$桁：日\n",
    "      - 後ろから$5～6$桁：月\n",
    "      - 気象データの「暖房$1$冷房$2$」の設定は上書き処理される → `\\Zone.csv` の設定が優先\n",
    "\n",
    "\n"
   ]
  },
  {
   "cell_type": "code",
   "execution_count": 24,
   "metadata": {
    "collapsed": true
   },
   "outputs": [],
   "source": [
    "\"\"\" 地点データを \\Zone.csv から読み込む \"\"\"\n",
    "# \\地域区分+日射量データ窓面入射角特性.xlsx \"地域区分\"シート\n",
    "#   → \\SCFConfig01 下の地点データファイル \\Zone.csv を作成 → 読み込み\n",
    "import csv\n",
    "\n",
    "def input_Point( tag ):\n",
    "    \n",
    "    def convertTagToCity( tag ):\n",
    "        if type( tag ) == int: # name に数字が指定された場合は省エネ基準の地域区分番号とみなして該当する都市に置き換える\n",
    "            return {\n",
    "                '1' : '北見',\n",
    "                '2' : '岩見沢',\n",
    "                '3' : '盛岡',\n",
    "                '4' : '長野',\n",
    "                '5' : '宇都宮',\n",
    "                '6' : '岡山',\n",
    "                '7' : '宮崎',\n",
    "                '8' : '那覇'\n",
    "            }[str(tag)]\n",
    "        else: # その他の場合は都市名が入力されているものとし、変換は行わない\n",
    "            return tag\n",
    "    \n",
    "    file = \"./SCFConfig01/Zone.csv\"\n",
    "    \n",
    "    city = convertTagToCity( tag )\n",
    "\n",
    "    with open( file, 'r' ) as f:\n",
    "        \n",
    "        reader = csv.reader( f )\n",
    "        header = next(reader) # Skip header.\n",
    "\n",
    "        matchedRow = [ row for row in reader if row[1] == city ]  # Extract row matched.\n",
    "        \n",
    "        if len(matchedRow) == 0:  # In the case that there is now matched data.\n",
    "            raise ValueError(\"地点データがありません\")\n",
    "        elif len(matchedRow) > 1:  # In the case that there are more than 1 matched data.\n",
    "            raise ValueError(\"該当する地点データが複数見つかりました\")\n",
    "        else:\n",
    "            return matchedRow[0]\n",
    "            # ここで返るSRFileNameはファイル名のみ"
   ]
  },
  {
   "cell_type": "markdown",
   "metadata": {},
   "source": [
    "#### 使用例"
   ]
  },
  {
   "cell_type": "markdown",
   "metadata": {},
   "source": [
    "省エネルギー基準における地域区分の番号で指定した場合"
   ]
  },
  {
   "cell_type": "code",
   "execution_count": 25,
   "metadata": {
    "collapsed": false
   },
   "outputs": [
    {
     "name": "stdout",
     "output_type": "stream",
     "text": [
      "['1', '北見', '43.82', '143.91', 'SRforSCF_01.csv', '110100', '43024', '50100', '103124']\n",
      "['2', '岩見沢', '43.21', '141.78833', 'SRforSCF_02.csv', '110100', '43024', '50100', '103124']\n",
      "['3', '盛岡', '39.695', '141.168333333333', 'SRforSCF_03.csv', '120100', '33124', '40100', '113024']\n",
      "['4', '長野', '36.66', '138.195', 'SRforSCF_04.csv', '120100', '33124', '40100', '113024']\n",
      "['5', '宇都宮', '36.5466666666667', '139.871666666667', 'SRforSCF_05.csv', '120100', '33124', '40100', '113024']\n",
      "['6', '岡山', '34.6583333333333', '133.918333333333', 'SRforSCF_06.csv', '120100', '33124', '40100', '113024']\n",
      "['7', '宮崎', '31.935', '131.416666666667', 'SRforSCF_07.csv', '120100', '33124', '40100', '113024']\n",
      "['8', '那覇', '26.2033333333333', '127.688333333333', 'SRforSCF_08.csv', '10100', '33124', '40100', '123124']\n"
     ]
    }
   ],
   "source": [
    "for i in range(1,9):\n",
    "    print( input_Point( i ) )"
   ]
  },
  {
   "cell_type": "markdown",
   "metadata": {},
   "source": [
    "都市名で指定した場合"
   ]
  },
  {
   "cell_type": "code",
   "execution_count": 26,
   "metadata": {
    "collapsed": false
   },
   "outputs": [
    {
     "name": "stdout",
     "output_type": "stream",
     "text": [
      "['5', '宇都宮', '36.5466666666667', '139.871666666667', 'SRforSCF_05.csv', '120100', '33124', '40100', '113024']\n",
      "['8', '那覇', '26.2033333333333', '127.688333333333', 'SRforSCF_08.csv', '10100', '33124', '40100', '123124']\n"
     ]
    }
   ],
   "source": [
    "print(input_Point( \"宇都宮\"))\n",
    "print(input_Point( \"那覇\" ))"
   ]
  },
  {
   "cell_type": "markdown",
   "metadata": {},
   "source": [
    "都市名で指定したが該当する名前がリストになかった場合"
   ]
  },
  {
   "cell_type": "code",
   "execution_count": 27,
   "metadata": {
    "collapsed": false,
    "scrolled": true
   },
   "outputs": [
    {
     "name": "stdout",
     "output_type": "stream",
     "text": [
      "ERROR\n"
     ]
    }
   ],
   "source": [
    "try:\n",
    "    input_Point2( \"東京\" ) #データなし\n",
    "except:\n",
    "    print('ERROR')"
   ]
  },
  {
   "cell_type": "markdown",
   "metadata": {},
   "source": [
    "### D.2 気象データ読み込み\n",
    "\n",
    "- `\\SRforSCF_\\*\\*.csv`\n",
    "  - \\*\\*は、$1～8$地域に対応して$01$～$08$が入る(基本)。\n",
    "    - `\\Zone.csv` に追加して対応することは可能。   \n",
    "    \n",
    "    \n",
    "  - 法線面直達日射量、水平面天空日射量、暖房期or冷房期の判別タグ(暖房期:$1$, 冷房期:$2$, 非空調期:$0$)\n",
    "    - 日射量の単位は$[kcal/(m2h)]$ → 効果係数算定には問題ないのでそのまま使用している\n",
    "    \n",
    "    \n",
    "  - $1$行目はヘッダ：`\\SRforSCF_\\*\\*.csv`(ファイル名), 法線面直達日射量, 水平面天空日射量, 暖房$1$_冷房$2$\n",
    "  - $2～8762$行目：日時, 法線面直達日射量, 水平面天空日射量, 暖房$1$_冷房$2$\n",
    "    - $2$行目が$1$月$1$日$0$時、$8762$行目が$12$月$31$日$24$時。$1$時間間隔。全$8761$データ\n",
    "    - 気象データファイル中の「暖房$1$冷房$2$」の設定は、`\\Zone.csv` の設定で上書きされる → 現時点で意味なし\n",
    "    - $1$列目の日時から「月」を算出\n"
   ]
  },
  {
   "cell_type": "code",
   "execution_count": 28,
   "metadata": {
    "collapsed": true
   },
   "outputs": [],
   "source": [
    "\"\"\" 気象データを \\SRforSCF_**.csv から読み込む \"\"\"\n",
    "# \\地域区分+日射量データ窓面入射角特性.xlsx \"SRforSCF_**.csv\"シート \n",
    "#   → \\SCFConfig01 下の地点データファイル \\SRforSCF_**.csv を作成 → 読み込み\n",
    "import pandas as pd\n",
    "import sys\n",
    "\n",
    "def input_SRData(Path00, FileName00, HStart, HEnd, CStart, CEnd):\n",
    "    # Path00 = \"./SCFConfig01/\"\n",
    "    # FileName00 = \"SRforSCF_**.csv\"\n",
    "\n",
    "    csv_input = pd.read_csv(filepath_or_buffer=Path00+FileName00, encoding=\"ms932\", sep=\",\")\n",
    "    if csv_input.columns[0]!=FileName00[-len(csv_input.columns[0]):]:\n",
    "        sys.exit(\"データが違います\")\n",
    "\n",
    "    \"\"\" \\Zone.csv の設定で、暖房期,冷房期,非空調期を割り当て \"\"\"\n",
    "    # 元ファイルの4列目はなかったことになる。\n",
    "    [HeatingPeriod, CoolingPeriod, NonACPeriod] = [1, 2, 0]\n",
    "    for i in range(len(csv_input)):\n",
    "        if CStart <= csv_input.values[i][0] <= CEnd:\n",
    "            csv_input.values[i][3] = CoolingPeriod\n",
    "        elif CStart > CEnd and CStart <= csv_input.values[i][0]:\n",
    "            csv_input.values[i][3] = CoolingPeriod\n",
    "        elif CStart > CEnd and csv_input.values[i][0] <= CEnd:\n",
    "            csv_input.values[i][3] = CoolingPeriod\n",
    "        elif HStart <= csv_input.values[i][0] <= HEnd:\n",
    "            csv_input.values[i][3] = HeatingPeriod        \n",
    "        elif HStart > HEnd and HStart <= csv_input.values[i][0]:\n",
    "            csv_input.values[i][3] = HeatingPeriod\n",
    "        elif HStart > HEnd and csv_input.values[i][0] <= HEnd:\n",
    "            csv_input.values[i][3] = HeatingPeriod\n",
    "        else:\n",
    "            csv_input.values[i][3] = NonACPeriod        \n",
    "    \n",
    "    return csv_input\n",
    "        # csv_input は SRHour に渡される\n",
    "\n",
    "    \n",
    "\"\"\" 「月」の計算 \"\"\"\n",
    "def calc_Month(MMDDTT):\n",
    "    \n",
    "    Month = MMDDTT // 10000\n",
    "    \n",
    "    return Month"
   ]
  },
  {
   "cell_type": "markdown",
   "metadata": {},
   "source": [
    "### D.3 正時±30分で太陽が地平線上にある時間刻み数のカウント (仕様書6.2 式(3)及び図5中の$n_H$の計算)\n",
    "\n",
    "- 算定ツール標準の時間分割数$n_{\\Delta t}$は、$6$ ($10$分刻み)\n",
    "  - $1$時間を$1$分割もしくは$2$以上の偶数で分割する\n",
    "  \n",
    "  \n",
    "- 正時$\\pm 30$分間で太陽が地平線上にある(太陽高度$>0$)時間刻み数をカウントして、$n_H$を計算"
   ]
  },
  {
   "cell_type": "code",
   "execution_count": 29,
   "metadata": {
    "collapsed": true
   },
   "outputs": [],
   "source": [
    "\"\"\" 式(3),図5中のNhの計算 \"\"\"\n",
    "import sys\n",
    "\n",
    "def calc_Nh(Latitude, Longitude, NDay, NHour, NDT):\n",
    "\n",
    "    deltad = calc_deltad(NDay)\n",
    "    eed = calc_eed(NDay)\n",
    "   \n",
    "    Nh = 0\n",
    "    if NDT == 1:\n",
    "        if calc_sinh(Latitude, deltad, calc_Tdt(Longitude, eed, NHour)) > 0:\n",
    "            Nh += 1        \n",
    "    elif NDT > 0 and NDT % 2 == 0:\n",
    "        # 1/1 0時, 各日24時において、赤緯と均時差にズレが生じるが、\n",
    "        # 白夜でなければ日が昇らないので実質影響なし → 放置\n",
    "        sinh0 = [calc_sinh(Latitude, deltad, calc_Tdt(Longitude, eed, NHour + m / NDT)) \n",
    "                                                  for m in range(-int(NDT/2),int(NDT/2)+1)]\n",
    "        Nh = ( sum(x > 0 for x in sinh0) \n",
    "             - (0.5 if sinh0[0] > 0 else 0) - (0.5 if sinh0[int(NDT)] > 0 else 0) )\n",
    "        \n",
    "        #以下のコメントアウト部分を上の式二つで置き換え    \n",
    "        #if calc_sinh(Latitude, deltad, calc_Tdt(Longitude, eed, NHour - 0.5)) > 0: #正時の30分前        \n",
    "        #    Nh += 0.5\n",
    "        #if calc_sinh(Latitude, deltad, calc_Tdt(Longitude, eed, NHour + 0.5)) > 0: #正時の30分後\n",
    "        #    Nh += 0.5\n",
    "        #for m in range(int(NDT/2+1), int(NDT)):\n",
    "        #    if calc_sinh(Latitude, deltad, calc_Tdt(Longitude, eed, NHour -1 + m / NDT)) > 0:\n",
    "        #        Nh += 1\n",
    "        #for m in range(0, int(NDT/2)):\n",
    "        #    if calc_sinh(Latitude, deltad, calc_Tdt(Longitude, eed, NHour + m / NDT)) > 0:\n",
    "        #        Nh += 1            \n",
    "    else:\n",
    "        sys.exit(\"1時間あたりの時間分割数は1もしくは2以上の偶数とする必要があります\")\n",
    "\n",
    "    return Nh"
   ]
  },
  {
   "cell_type": "markdown",
   "metadata": {},
   "source": [
    "### D.4 $1/n_{\\Delta t}$時間間隔での日射量 (仕様書6.2 式(3)の計算, 図5参照)\n",
    "\n",
    "- 算定ツール標準の時間分割数$n_{\\Delta t}$は、$6$ ($10$分刻み)\n",
    "- 正時$\\pm 30$分間で太陽が地平線上にある(太陽高度$>0$)時間刻み数をカウントして、$n_H$を計算\n",
    "- 法線面直達日射量, 水平面天空日射量をそれぞれに適用し、時間刻みにおける日射量を算定する"
   ]
  },
  {
   "cell_type": "code",
   "execution_count": 30,
   "metadata": {
    "collapsed": true
   },
   "outputs": [],
   "source": [
    "\"\"\" 式(3)の S'HM の計算 \"\"\"\n",
    "def calc_Sdhm(MM, NDT, sinh, Sh, Shp, Nh, Nhp):\n",
    "    \n",
    "    Sdhm = 0\n",
    "    if sinh > 0:\n",
    "        Sdhm = ( ( (Sh  / Nh  if MM <= NDT/2 and Nh  > 0 else 0)\n",
    "                 + (Shp / Nhp if MM >= NDT/2 and Nhp > 0 else 0) )\n",
    "               / (2 if MM == NDT/2 else 1) )\n",
    "        #以下のコメントアウト部分を上式で置き換え\n",
    "        #if MM < NDT/2 and Nh > 0:\n",
    "        #    Sdhm = Sh / Nh\n",
    "        #elif MM == NDT/2:\n",
    "        #    if Nh > 0:\n",
    "        #        Sdhm += Sh / Nh / 2\n",
    "        #    if Nhp > 0:\n",
    "        #        Sdhm += Shp / Nhp / 2            \n",
    "        #elif NDT/2 < MM and Nhp > 0:\n",
    "        #    Sdhm = Shp / Nhp\n",
    "    else:\n",
    "        Sdhm = 0\n",
    "        \n",
    "    return Sdhm  "
   ]
  },
  {
   "cell_type": "markdown",
   "metadata": {},
   "source": [
    "### D.5 窓ガラスの入射角特性読み込み\n",
    "\n",
    "- `\\IncidentAngleCharacteristics.csv`\n",
    "  - $1$行目はヘッダ：\"入射角特性\", $\\eta_{max}$, $\\eta_{isr}$, $k_0$～$k_7$\n",
    "  - $2$行目以下に入射角特性のデータを記入\n",
    "    - $1$列：$ID$\n",
    "    - $2$列：直達日射に対する入射角特性最大値(入射角$0$) $\\eta_{max}$\n",
    "    - $3$列：天空・反射日射に対する入射角特性(遮蔽なしの場合) $\\eta_{isr}$\n",
    "    - $4～11$列：$\\eta_{j,d,t}(\\theta_{j,d,t})$ 算定式の係数$k_n$$(n=0～7)$\n",
    "       $$\\eta_{j,d,t}(\\theta_{j,d,t}) = \\sum_{n=0}^7 k_n \\cos^n \\theta_{j,d,t}$$\n",
    "  - デフォルトとして、以下を設定\n",
    "    - $ID=0$：日よけ効果係数内で入射角特性非考慮 → $\\eta_{j,d,t}(\\theta_{j,d,t}) = 1$\n",
    "    - $ID=1$：解説書の入射角特性(「平成25年度省エネルギー基準に準拠した算定・判断の方法及び解説 I 非住宅建築物 第二版(連合印刷センター, 平成26年○月○日)」, pp.168-170, 式(2.1.25),(2.1.28),(2.1.32))\n",
    "       $$\\eta_{j,d,t}(\\theta_{j,d,t}) = 2.3920 \\cos \\theta_{j,d,t} -3.8636 \\cos^3 \\theta_{j,d,t} + 3.7568 \\cos^5 \\theta_{j,d,t} - 1.3952 \\cos^7 \\theta_{j,d,t} $$\n",
    "    - 他の特性を入れる際には、$ID$を違えて、`\\IncidentAngleCharacteristics.csv` に追加する。"
   ]
  },
  {
   "cell_type": "code",
   "execution_count": 31,
   "metadata": {
    "collapsed": true
   },
   "outputs": [],
   "source": [
    "\"\"\" 入射角特性データセットを \\IncidentAngleCharacteristics.csv から読み込む  \"\"\"\n",
    "# \\地域区分+日射量データ+窓面入射角特性.xlsx \"入射角特性\"シート\n",
    "#   → \\IncidentAngleCharacteristics.csv を作成 → 読み込み\n",
    "import pandas as pd\n",
    "import sys\n",
    "\n",
    "def input_IncidentAngleCharacteristics(ID, Path00, FileName00):\n",
    "    # Path00 = \"./SCFConfig01/\"\n",
    "    # FileName00 = \"IncidentAngleCharacteristics.csv\"\n",
    "\n",
    "    csv_input = pd.read_csv(filepath_or_buffer=Path00+FileName00, encoding=\"ms932\", sep=\",\")\n",
    "    if csv_input.columns[0]!=\"入射角特性\":\n",
    "        sys.exit(\"ファイル内に貼り付けたテスト条件が違います\")\n",
    "\n",
    "    ID0=\"none\"    \n",
    "    for i in range(len(csv_input)):\n",
    "        if ID == csv_input.values[i][0]:\n",
    "            [ID0, etamax, etaisr, etakk] = [csv_input.values[i][0],csv_input.values[i][1]\n",
    "                                            ,csv_input.values[i][2],csv_input.values[i][3:11]]\n",
    "    if ID0==\"none\":\n",
    "        sys.exit(\"指定したIDの入射角特性がありません\")            \n",
    "    \n",
    "    return [ID0, etamax, etaisr, etakk]"
   ]
  },
  {
   "cell_type": "markdown",
   "metadata": {},
   "source": [
    "### D.6 直達日射に対する窓ガラスの入射角特性 (緑本非住宅第二版pp.169 式(2.1.28)準拠)\n",
    "\n",
    "- 「平成25年度省エネルギー基準に準拠した算定・判断の方法及び解説 I 非住宅建築物 第二版(連合印刷センター, 平成26年○月○日)」pp.168-170参照\n",
    "- 入射角$\\theta_{j,d,t}[deg]$, 太陽高度$h_{S,d,t}[deg]$, 太陽方位角$A_{ZS,d,t}[deg]$, 外壁$j$の方位角$A_{ZW,i}[deg]$\n",
    "- 入射角特性算定式の係数$k_n$$(n=0～7)$, 日付$d$時刻$t$における入射角特性$\\eta_{j,d,t}$\n",
    "\n",
    "$$\\cos \\theta_{j,d,t} = \\cos h_{S,d,t} \\cos (A_{ZS,d,t} - A_{ZW,i}) \\qquad (2.1.26) $$\n",
    "$$\\eta_{j,d,t}(\\theta_{j,d,t}) = \\sum_{n=0}^7 k_n \\cos^n \\theta_{j,d,t} \\qquad (2.1.28') $$"
   ]
  },
  {
   "cell_type": "code",
   "execution_count": 32,
   "metadata": {
    "collapsed": true
   },
   "outputs": [],
   "source": [
    "\"\"\" 式(2.1.26),(2.1.28') \"\"\"\n",
    "import numpy as np\n",
    "\n",
    "def calc_costheta(Azwjdt, cosh):\n",
    "\n",
    "    costheta = max(cosh * np.cos(np.radians(Azwjdt)),0)\n",
    "\n",
    "    return costheta\n",
    "\n",
    "\n",
    "def calc_etajdt(costheta, etakk):\n",
    "\n",
    "    etajdt = sum([etakk[i]*costheta**i for i in range(len(etakk))])\n",
    "        \n",
    "    return etajdt"
   ]
  },
  {
   "cell_type": "markdown",
   "metadata": {},
   "source": [
    "## E. 日よけ効果係数\n",
    "\n",
    "### E.1 日よけ効果係数の算出 (仕様書6.1 式(2)準拠)\n",
    "\n",
    "- $\\gamma_{dsr,j,x+}$：窓等$j$に対して太陽が$x+$側に位置する際の直達日射に対する日よけ効果係数(式$(13)$)\n",
    "- $\\gamma_{dsr,j,x-}$：窓等$j$に対して太陽が$x-$側に位置する際の直達日射に対する日よけ効果係数(式$(17)$)\n",
    "- $\\gamma_{isr,j,y+}$：天空日射に対する日よけ効果係数(式$(21)$) → C.3参照\n",
    "- $\\gamma_{isr,j,y-}$：反射日射に対する日よけ効果係数(式$(24)$) → C.5参照\n",
    "- $\\eta_{j,d,t}$：日付$d$、時刻$t$における窓等$j$の入射角特性 → D.6参照\n",
    "- $S_{D,d,t}$：日付$d$、時刻$t$における法線面直達日射量$[kcal/m^2]$\n",
    "- $S_{S,d,t}$：日付$d$、時刻$t$における水平面天空日射量$[kcal/m^2]$\n",
    "- $\\eta_{isr}$：天空・反射日射に対する入射角特性(遮蔽なしの場合)$[-]$\n",
    "  - 緑本、仕様書では$\\;\\eta_{isr} = 0.808\\;$\n",
    "  \n",
    "  \n",
    "- 式(2)のうち、定数$0.5$は垂直面からみた天空・地表面の形態係数、$0.1$は地表面における日射反射率である。\n",
    "\n",
    "$$ \\begin{align}\n",
    "\\gamma_{wind,j} \n",
    "= \\big[&\\hspace{4pt}\\gamma_{dsr,j,x+} \\times \\sum_{-90<A_{ZW,j,d,t}<0, \\; h_{s,d,t}>0} \n",
    "        (S_{D,d,t} \\; \\eta_{j,d,t} \\cos h_{s,d,t} \\cos A_{ZW,j,d,t}) \\\\\n",
    "  + &\\hspace{4pt} \\gamma_{dsr,j,x-} \\times \\sum_{0 \\leq A_{ZW,j,d,t}<90, \\; h_{s,d,t}>0} \n",
    "        (S_{D,d,t} \\; \\eta_{j,d,t} \\cos h_{s,d,t} \\cos A_{ZW,j,d,t}) \\\\\n",
    "  + &\\hspace{4pt}\\gamma_{isr,j,y+} \\times \\sum (\\eta_{isr} \\times 0.5 \\times S_{S,d,t} \\\\\n",
    "  + &\\hspace{4pt}\\gamma_{isr,j,y-} \\times \\sum \\{\\eta_{isr} \\times 0.1 \\times 0.5 \n",
    "        \\times (S_{S,d,t} + S_{D,d,t} \\sin h_{s,d,t}) \\} \\big] \\\\\n",
    "\\big/ \\hspace{4pt} \\big[&\\sum_{-90<A_{ZW,j,d,t}<90, \\; h_{s,d,t}>0} (S_{D,d,t} \\; \\eta_{j,d,t} \\cos h_{s,d,t} \\cos A_{ZW,j,d,t}) \\\\\n",
    "    + &\\hspace{4pt}\\sum \\{\\eta_{isr} \\times 0.5 \\times S_{S,d,t} \n",
    "        +  \\eta_{isr} \\times 0.1 \\times 0.5 \\times (S_{S,d,t} + S_{D,d,t} \\sin h_{s,d,t}) \\} \\big] \\qquad (2)\n",
    "\\\\\n",
    "\\end{align} $$\n",
    "\n",
    "- $A_{wind,j}$：窓等$j$の面積($=x_2y_2$)$[m^2]$\n",
    "- $A_{wind,j,x+,d,t}$：太陽が$x+$側に位置する日付$d$、時刻$t$において窓等$j$の直達日射が当たる部分の面積$[m^2]$\n",
    "- $A_{wind,j,x-,d,t}$：太陽が$x-$側に位置する日付$d$、時刻$t$において窓等$j$の直達日射が当たる部分の面積$[m^2]$\n",
    "\n",
    "$$ \\begin{align}\n",
    "\\gamma_{dsr,j,x+} \n",
    "= \\big\\{ & \\sum_{-90<A_{ZW,j,d,t}<0, \\; h_{s,d,t}>0} (A_{wind,j,x+,d,t}\\hspace{2pt}  \n",
    "        S_{D,d,t} \\; \\eta_{j,d,t} \\cos h_{s,d,t} \\cos A_{ZW,j,d,t}) \\big\\} \\\\\n",
    "\\big/ \\big\\{ &\\hspace{2pt} A_{wind,j} \\sum_{-90<A_{ZW,j,d,t}<0, \\; h_{s,d,t}>0} (S_{D,d,t} \\; \\eta_{j,d,t} \\cos h_{s,d,t} \\cos A_{ZW,j,d,t})  \\} \\big\\} \\qquad (13)\n",
    "\\\\\n",
    "\\end{align} $$\n",
    "\n",
    "$$ \\begin{align}\n",
    "\\gamma_{dsr,j,x-} \n",
    "= \\big\\{ & \\sum_{0 \\leq A_{ZW,j,d,t}<90, \\; h_{s,d,t}>0} (A_{wind,j,x-,d,t} \\hspace{2pt} \n",
    "        S_{D,d,t} \\; \\eta_{j,d,t} \\cos h_{s,d,t} \\cos A_{ZW,j,d,t}) \\big\\} \\\\\n",
    "\\big/ \\big\\{ &\\hspace{2pt} A_{wind,j} \\sum_{0 \\leq A_{ZW,j,d,t}<90, \\; h_{s,d,t}>0} (S_{D,d,t} \\; \\eta_{j,d,t} \\cos h_{s,d,t} \\cos A_{ZW,j,d,t})  \\} \\big\\} \\qquad (17)\n",
    "\\\\\n",
    "\\end{align} $$\n"
   ]
  },
  {
   "cell_type": "markdown",
   "metadata": {},
   "source": [
    "\n",
    "### E.2 式(2)分子分母中の時刻$t$における各成分の計算"
   ]
  },
  {
   "cell_type": "code",
   "execution_count": 33,
   "metadata": {
    "collapsed": true
   },
   "outputs": [],
   "source": [
    "\"\"\" 直達成分の分子分母 \"\"\"\n",
    "def calc_dendsr00(Sddhm, etajdt, costheta, Awj): #(2)式分母中直達成分×窓面積\n",
    "    \n",
    "    dendsr00 = Awj * Sddhm * etajdt * costheta\n",
    "\n",
    "    return dendsr00\n",
    "\n",
    "\n",
    "def calc_numdsr00(Sddhm, etajdt, costheta, Ax): #(2)式分子中直達成分×窓面積←(13)(17)式\n",
    "\n",
    "    numdsr00 = Ax * Sddhm * etajdt * costheta\n",
    "    \n",
    "    return numdsr00\n",
    "\n",
    "\n",
    "\"\"\" 天空成分の分子分母 \"\"\"\n",
    "def calc_denisryp00(Ssdhm, etaisr, Awj): #(2)式分母中天空成分×窓面積\n",
    "    \n",
    "    denisryp00 = Awj * etaisr * 0.5 * Ssdhm\n",
    "    \n",
    "    return denisryp00\n",
    "\n",
    "\n",
    "def calc_numisryp00(Ssdhm, etaisr, Awj, gammayp): #(2)式分子中天空成分×窓面積\n",
    "\n",
    "    numisryp00 = gammayp * Awj * etaisr * 0.5 * Ssdhm\n",
    "    # numisryp00 = gammayp * denisryp00\n",
    "    \n",
    "    return numisryp00    \n",
    "\n",
    "\n",
    "\"\"\" 反射成分の分子分母 \"\"\"\n",
    "def calc_denisrym00(Sddhm, Ssdhm, etaisr, sinh, Awj): #(2)式分母中反射成分×窓面積\n",
    "    \n",
    "    denisrym00 = Awj * etaisr * 0.1 * 0.5 * (Ssdhm + Sddhm * sinh)\n",
    "    \n",
    "    return denisrym00\n",
    "\n",
    "\n",
    "def calc_numisrym00(Sddhm, Ssdhm, etaisr, sinh, Awj, gammaym): #(2)式分子中反射成分×窓面積\n",
    "\n",
    "    numisrym00 = gammaym * Awj * etaisr * 0.1 * 0.5 * (Ssdhm + Sddhm * sinh)\n",
    "    # numisrym00 = gammaym * denisrym00\n",
    "    \n",
    "    return numisrym00\n",
    "\n",
    "\n",
    "\"\"\" 分子分母それぞれの和 \"\"\"\n",
    "def calc_SCF00(Sddhm, Ssdhm, etajdt, etaisr, costheta, sinh, Awj, Ax, gammayp, gammaym):\n",
    "    \n",
    "    SCF00 = [0,0]\n",
    "    \n",
    "    # SCF00[0]:(2)式の分子への加算分(窓面積をかけた値として)\n",
    "    SCF00[0] = ( calc_numdsr00(Sddhm, etajdt, costheta, Ax)\n",
    "               + calc_numisryp00(Ssdhm, etaisr, Awj, gammayp)\n",
    "               + calc_numisrym00(Sddhm, Ssdhm, etaisr, sinh, Awj, gammaym) )\n",
    "    # SCF00[1]:(2)式の分母への加算分(窓面積をかけた値として)\n",
    "    SCF00[1] = ( calc_dendsr00(Sddhm, etajdt, costheta, Awj)             \n",
    "               + calc_denisryp00(Ssdhm, etaisr, Awj)\n",
    "               + calc_denisrym00(Sddhm, Ssdhm, etaisr, sinh, Awj) )\n",
    "\n",
    "    return SCF00"
   ]
  },
  {
   "cell_type": "markdown",
   "metadata": {},
   "source": [
    "\n",
    "### E.3 式(2)分子分母の期間積算処理\n",
    "\n",
    "- 式(2)中の時刻$t$における分子および分母を期間積算する。\n",
    "  - 暖房期、冷房期、非空調期\n",
    "  - 各月毎\n",
    "  - 各月、各時刻毎\n",
    "    - 時刻毎は正時$\\pm30$分としたいが、本ツール内でのデータの取り扱いからずれる。前時刻の`MM` $=$ `NDT`$/2～$同時刻の`MM` $=$ `NDT`$/2-1$の間を正時の積算値として計上する。\n",
    "    \n",
    "\n",
    "- `SCF[h][i][j]`に格納して積算\n",
    "  - `h`$=0$：分子, `h`$=1$：分母, `h`$=2$：効果係数\n",
    "  - `i`$=-2$：冷房期積算, `i`$=-1$：暖房期積算, `i`$=0$：非空調期積算, `i`$=1～12$：各月で積算\n",
    "  - `j`$=-1$：日積算, `j`$=0～24$：各時刻で積算  \n",
    "\n",
    "  \n",
    "\n"
   ]
  },
  {
   "cell_type": "code",
   "execution_count": 34,
   "metadata": {
    "collapsed": true
   },
   "outputs": [],
   "source": [
    "\"\"\" 期間積算処理 → 日よけ効果係数算出 \"\"\"\n",
    "\n",
    "def Output_ShadingCorrectionFactor(SRHour, NDT, SCF01):\n",
    "\n",
    "    SCF = [[[0 for j in range(-1,25)] for i in range(-2,13)] for h in range(0,3)] \n",
    "        # SCF[h][i][j]に格納して積算\n",
    "        # h = 0：分子, h = 1：分母, h = 2：効果係数\n",
    "        # i = -2：冷房期積算, i = -1：暖房期積算, i = 0：非空調期積算,\n",
    "        #         i = 1～12：各月で積算\n",
    "        # j = -1：日積算, j = 0～24：各時刻で積算  \n",
    "        \n",
    "    \"\"\" +++++++++++++++++++++++++++++++++++++++++++++++++++++++++++++++++++++++++ 1時間のループ ++++ \"\"\"       \n",
    "    for Hour00 in range(8760):      # ← 12/31 24時は回さないのでHour00=8759がループの最後\n",
    "        \n",
    "        \"\"\" 日時の計算(A.1) \"\"\"\n",
    "        [NDay,NHour] = calc_NDayNHour(Hour00)           \n",
    "        \n",
    "        \"\"\" 「月」の計算(D.2) \"\"\"\n",
    "        Month = calc_Month(SRHour.values[Hour00][0])        \n",
    " \n",
    "        \"\"\" +++++++++++++++++++++++++++++++++++++++++++++++++++++++++++++++ (1/NDT)時間のループ ++++ \"\"\" \n",
    "            # MM:1時間の内の(1/NDT)間隔の順番, 正時がMM=0, MM=0～NDT-1\n",
    "        for MM in range(NDT):\n",
    "            \"\"\" 時刻TTの計算(A.1) \"\"\"\n",
    "                # TT:時間分割MM毎の時刻[hour]\n",
    "            TT = calc_TT(NHour, NDT, MM)\n",
    "            \n",
    "            \"\"\" 時刻Hour01の計算(A.1) \"\"\"\n",
    "                # Hour01:前時刻のMM=NDT/2～同時刻のMM=NDT/2-1の時間分割を、その正時に属するものとして\n",
    "                #        扱うための時刻 → 効果係数算定のための積算用\n",
    "            Hour01 = calc_Hour01(TT)\n",
    "            \n",
    "            \"\"\" 暖冷房期間のタグ \"\"\"            \n",
    "            HCTag = -SRHour.values[Hour00][3]\n",
    "\n",
    "            \"\"\" 分子分母の期間,月,時間毎の積算(E.3) \"\"\"\n",
    "            for h in range(0, 2):\n",
    "                SCF[h][HCTag][Hour01] += SCF01[h][Hour00][MM]\n",
    "                SCF[h][HCTag][-1]     += SCF01[h][Hour00][MM]        \n",
    "                SCF[h][Month][Hour01] += SCF01[h][Hour00][MM]\n",
    "                SCF[h][Month][-1]     += SCF01[h][Hour00][MM]                      \n",
    "                    # SCF[h][i][j]に格納して積算\n",
    "                    # h = 0：分子, h = 1：分母, h = 2：効果係数\n",
    "                    # i = -2：冷房期積算, i = -1：暖房期積算, i = 0：非空調期積算,\n",
    "                    #         i = 1～12：各月で積算\n",
    "                    # j = -1：日積算, j = 0～24：各時刻で積算             \n",
    "                    \n",
    "    \"\"\" 期間,月,時間毎の日よけ効果係数算出(E.1) \"\"\"\n",
    "    for i in range(-2,13):\n",
    "        for j in range(-1,25):\n",
    "            if SCF[1][i][j] != 0:\n",
    "                SCF[2][i][j] = SCF[0][i][j] / SCF[1][i][j]\n",
    "            else:\n",
    "                SCF[2][i][j] = 0\n",
    "\n",
    "    return SCF\n",
    "\n"
   ]
  }
 ],
 "metadata": {
  "kernelspec": {
   "display_name": "Python 3",
   "language": "python",
   "name": "python3"
  },
  "language_info": {
   "codemirror_mode": {
    "name": "ipython",
    "version": 3
   },
   "file_extension": ".py",
   "mimetype": "text/x-python",
   "name": "python",
   "nbconvert_exporter": "python",
   "pygments_lexer": "ipython3",
   "version": "3.6.2"
  }
 },
 "nbformat": 4,
 "nbformat_minor": 2
}
