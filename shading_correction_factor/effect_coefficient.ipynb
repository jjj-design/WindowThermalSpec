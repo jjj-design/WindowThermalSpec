{
 "cells": [
  {
   "cell_type": "code",
   "execution_count": 1,
   "metadata": {},
   "outputs": [],
   "source": [
    "import numpy as np"
   ]
  },
  {
   "cell_type": "markdown",
   "metadata": {},
   "source": [
    "# C. 天空日射・反射日射の効果係数 (仕様書6.4, 6.5)"
   ]
  },
  {
   "cell_type": "markdown",
   "metadata": {},
   "source": [
    "## C.1 形態係数算定のための関数$\\;f_A\\;$ (仕様書6.4 式(23))"
   ]
  },
  {
   "cell_type": "markdown",
   "metadata": {},
   "source": [
    "\n",
    "$$ \\begin{align}\n",
    "f_{A}(x_a,x_b,y_a,y_b,z_a) &= \\frac{x_b \\sqrt{y_b^2+z_a^2}}{2} \\tan^{-1} \\frac{x_b}{\\sqrt{y_b^2+z_a^2}}\n",
    "- \\frac{x_b \\sqrt{y_a^2+z_a^2}}{2} \\tan^{-1} \\frac{x_b}{\\sqrt{y_a^2+z_a^2}} \\\\\n",
    "&- \\frac{x_a \\sqrt{y_b^2+z_a^2}}{2} \\tan^{-1} \\frac{x_a}{\\sqrt{y_b^2+z_a^2}}\n",
    "+ \\frac{x_a \\sqrt{y_a^2+z_a^2}}{2} \\tan^{-1} \\frac{x_a}{\\sqrt{y_a^2+z_a^2}} \\\\\n",
    "&+ \\frac{x_b^2 - y_b^2 - z_a^2}{8} \\log (x_b^2 + y_b^2 + z_a^2) - \\frac{x_b^2 - y_a^2 - z_a^2}{8} \\log (x_b^2 + y_a^2 + z_a^2) \\\\\n",
    "&- \\frac{x_a^2 - y_b^2 - z_a^2}{8} \\log (x_a^2 + y_b^2 + z_a^2) + \\frac{x_a^2 - y_a^2 - z_a^2}{8} \\log (x_a^2 + y_a^2 + z_a^2)\n",
    "\\end{align} $$"
   ]
  },
  {
   "cell_type": "code",
   "execution_count": 2,
   "metadata": {},
   "outputs": [],
   "source": [
    "def calc_fa_atan(x, y, z):\n",
    "\n",
    "    if y**2 + z**2 > 0:\n",
    "        fa_atan = x * ( y**2 + z**2 ) **0.5 / 2 * np.arctan( x / ( y**2 + z**2 ) **0.5 )\n",
    "    else:\n",
    "        fa_atan = 0\n",
    "    \n",
    "    return fa_atan\n",
    "\n",
    "\n",
    "def calc_fa_log(x, y, z):\n",
    "\n",
    "    if x**2 + y**2 + z**2 > 0:\n",
    "        fa_log = ( x**2 - y**2 - z**2 ) / 8 * np.log( x**2 + y**2 + z**2 )\n",
    "    else:\n",
    "        fa_log = 0\n",
    "        \n",
    "    return fa_log\n",
    "\n",
    "\n",
    "def calc_fa(xa, xb, ya, yb, za):\n",
    "    \n",
    "    fa = ( calc_fa_atan(xb, yb, za) - calc_fa_atan(xb, ya, za)\n",
    "         - calc_fa_atan(xa, yb, za) + calc_fa_atan(xa, ya, za)\n",
    "         + calc_fa_log(xb, yb, za)  - calc_fa_log(xb, ya, za)\n",
    "         - calc_fa_log(xa, yb, za)  + calc_fa_log(xa, ya, za) )\n",
    "  \n",
    "    return fa    "
   ]
  },
  {
   "cell_type": "code",
   "execution_count": null,
   "metadata": {},
   "outputs": [],
   "source": []
  }
 ],
 "metadata": {
  "kernelspec": {
   "display_name": "Python 3",
   "language": "python",
   "name": "python3"
  },
  "language_info": {
   "codemirror_mode": {
    "name": "ipython",
    "version": 3
   },
   "file_extension": ".py",
   "mimetype": "text/x-python",
   "name": "python",
   "nbconvert_exporter": "python",
   "pygments_lexer": "ipython3",
   "version": "3.6.5"
  }
 },
 "nbformat": 4,
 "nbformat_minor": 2
}
