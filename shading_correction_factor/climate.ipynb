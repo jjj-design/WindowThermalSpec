{
 "cells": [
  {
   "cell_type": "code",
   "execution_count": 1,
   "metadata": {},
   "outputs": [],
   "source": [
    "import csv"
   ]
  },
  {
   "cell_type": "markdown",
   "metadata": {},
   "source": [
    "# Functions"
   ]
  },
  {
   "cell_type": "markdown",
   "metadata": {},
   "source": [
    "## read_input_poind_config"
   ]
  },
  {
   "cell_type": "markdown",
   "metadata": {},
   "source": [
    "#### Outline"
   ]
  },
  {
   "cell_type": "markdown",
   "metadata": {},
   "source": [
    "- `\\Zone.csv`\n",
    "  - $1$行目はヘッダ：地域区分, 都市, 緯度, 経度, 日射量ファイル名, 暖房開始日, 暖房終了日, 冷房開始日, 冷房終了日\n",
    "\n",
    "  - $2～9$行目：$1～8$地域の「地域区分, 都市, 緯度, 経度, 日射量ファイル名, 暖房開始日, 暖房終了日, 冷房開始日, 冷房終了日」\n",
    "    - 暖冷房開始日終了日の書式：$5$桁もしくは$6$桁の数字\n",
    "      - 気象データの日時表記と同じ\n",
    "      - 後ろから$2$桁：時刻\n",
    "      - 後ろから$3～4$桁：日\n",
    "      - 後ろから$5～6$桁：月\n",
    "      - 気象データの「暖房$1$冷房$2$」の設定は上書き処理される → `\\Zone.csv` の設定が優先\n",
    "\n",
    "地点データを \\Zone.csv から読み込む  \n",
    "\\地域区分+日射量データ窓面入射角特性.xlsx \"地域区分\"シート\n",
    "→ \\SCFConfig01 下の地点データファイル \\Zone.csv を作成 → 読み込み"
   ]
  },
  {
   "cell_type": "markdown",
   "metadata": {},
   "source": [
    "#### Function"
   ]
  },
  {
   "cell_type": "code",
   "execution_count": 2,
   "metadata": {},
   "outputs": [],
   "source": [
    "def input_Point(tag):\n",
    "    \n",
    "    def convert_tag_to_city(tag):\n",
    "        if type(tag) == int: # name に数字が指定された場合は省エネ基準の地域区分番号とみなして該当する都市に置き換える\n",
    "            return {\n",
    "                '1' : '北見',\n",
    "                '2' : '岩見沢',\n",
    "                '3' : '盛岡',\n",
    "                '4' : '長野',\n",
    "                '5' : '宇都宮',\n",
    "                '6' : '岡山',\n",
    "                '7' : '宮崎',\n",
    "                '8' : '那覇'\n",
    "            }[str(tag)]\n",
    "        else: # その他の場合は都市名が入力されているものとし、変換は行わない\n",
    "            return tag\n",
    "    \n",
    "    ZONE_FILE = \"./SCFConfig01/Zone.csv\"\n",
    "    \n",
    "    city_name = convert_tag_to_city(tag)\n",
    "\n",
    "    with open(ZONE_FILE, 'r') as f:\n",
    "        \n",
    "        reader = csv.reader(f)\n",
    "        header = next(reader) # Skip header.\n",
    "\n",
    "        matched_rows = [ row for row in reader if row[1] == city_name ]  # Extract row matched.\n",
    "        \n",
    "        if len(matched_rows) == 0:  # In the case that there is now matched data.\n",
    "            raise IndexError(\"地点データがありません\")\n",
    "        elif len(matched_rows) > 1:  # In the case that there are more than 1 matched data.\n",
    "            raise IndexError(\"該当する地点データが複数見つかりました\")\n",
    "        else:\n",
    "            matched_row = matched_rows[0]\n",
    "            return [\n",
    "                int(matched_row[0]), # region\n",
    "                matched_row[1],      # city name\n",
    "                float(matched_row[2]), # latitude\n",
    "                float(matched_row[3]), # longitude\n",
    "                matched_row[4],      # file name\n",
    "                int(matched_row[5]), # start of heating period\n",
    "                int(matched_row[6]), # end of heating period\n",
    "                int(matched_row[7]), # start of cooling period\n",
    "                int(matched_row[8])  # end of cooling period\n",
    "            ]\n",
    "            # ここで返るSRFileNameはファイル名のみ"
   ]
  },
  {
   "cell_type": "markdown",
   "metadata": {},
   "source": [
    "#### Example 1"
   ]
  },
  {
   "cell_type": "markdown",
   "metadata": {},
   "source": [
    "省エネルギー基準における地域区分の番号で指定した場合"
   ]
  },
  {
   "cell_type": "code",
   "execution_count": 3,
   "metadata": {},
   "outputs": [
    {
     "name": "stdout",
     "output_type": "stream",
     "text": [
      "[1, '北見', 43.82, 143.91, 'SRforSCF_01.csv', 110100, 43024, 50100, 103124]\n",
      "[2, '岩見沢', 43.21, 141.78833, 'SRforSCF_02.csv', 110100, 43024, 50100, 103124]\n",
      "[3, '盛岡', 39.695, 141.168333333333, 'SRforSCF_03.csv', 120100, 33124, 40100, 113024]\n",
      "[4, '長野', 36.66, 138.195, 'SRforSCF_04.csv', 120100, 33124, 40100, 113024]\n",
      "[5, '宇都宮', 36.5466666666667, 139.871666666667, 'SRforSCF_05.csv', 120100, 33124, 40100, 113024]\n",
      "[6, '岡山', 34.6583333333333, 133.918333333333, 'SRforSCF_06.csv', 120100, 33124, 40100, 113024]\n",
      "[7, '宮崎', 31.935, 131.416666666667, 'SRforSCF_07.csv', 120100, 33124, 40100, 113024]\n",
      "[8, '那覇', 26.2033333333333, 127.688333333333, 'SRforSCF_08.csv', 10100, 33124, 40100, 123124]\n"
     ]
    }
   ],
   "source": [
    "for i in range(1,9):\n",
    "    print( input_Point( i ) )"
   ]
  },
  {
   "cell_type": "markdown",
   "metadata": {},
   "source": [
    "#### Example 2"
   ]
  },
  {
   "cell_type": "markdown",
   "metadata": {},
   "source": [
    "都市名で指定した場合"
   ]
  },
  {
   "cell_type": "code",
   "execution_count": 4,
   "metadata": {},
   "outputs": [
    {
     "name": "stdout",
     "output_type": "stream",
     "text": [
      "[5, '宇都宮', 36.5466666666667, 139.871666666667, 'SRforSCF_05.csv', 120100, 33124, 40100, 113024]\n",
      "[8, '那覇', 26.2033333333333, 127.688333333333, 'SRforSCF_08.csv', 10100, 33124, 40100, 123124]\n"
     ]
    }
   ],
   "source": [
    "print(input_Point( \"宇都宮\"))\n",
    "print(input_Point( \"那覇\" ))"
   ]
  },
  {
   "cell_type": "markdown",
   "metadata": {},
   "source": [
    "#### Example 3"
   ]
  },
  {
   "cell_type": "markdown",
   "metadata": {},
   "source": [
    "都市名で指定したが該当する名前がリストになかった場合"
   ]
  },
  {
   "cell_type": "code",
   "execution_count": 5,
   "metadata": {},
   "outputs": [
    {
     "name": "stdout",
     "output_type": "stream",
     "text": [
      "地点データがありません\n"
     ]
    }
   ],
   "source": [
    "try:\n",
    "    input_Point( \"東京\" ) #データなし\n",
    "except IndexError as e:\n",
    "    print(e)"
   ]
  },
  {
   "cell_type": "code",
   "execution_count": null,
   "metadata": {},
   "outputs": [],
   "source": []
  }
 ],
 "metadata": {
  "kernelspec": {
   "display_name": "Python 3",
   "language": "python",
   "name": "python3"
  },
  "language_info": {
   "codemirror_mode": {
    "name": "ipython",
    "version": 3
   },
   "file_extension": ".py",
   "mimetype": "text/x-python",
   "name": "python",
   "nbconvert_exporter": "python",
   "pygments_lexer": "ipython3",
   "version": "3.6.5"
  }
 },
 "nbformat": 4,
 "nbformat_minor": 2
}
