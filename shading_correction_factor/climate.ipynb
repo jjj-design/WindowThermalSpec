{
 "cells": [
  {
   "cell_type": "code",
   "execution_count": 1,
   "metadata": {},
   "outputs": [],
   "source": [
    "import csv"
   ]
  },
  {
   "cell_type": "markdown",
   "metadata": {},
   "source": [
    "# Functions"
   ]
  },
  {
   "cell_type": "markdown",
   "metadata": {},
   "source": [
    "## read_input_poind_config"
   ]
  },
  {
   "cell_type": "markdown",
   "metadata": {},
   "source": [
    "#### Outline"
   ]
  },
  {
   "cell_type": "markdown",
   "metadata": {},
   "source": [
    "- `\\Zone.csv`\n",
    "  - $1$行目はヘッダ：地域区分, 都市, 緯度, 経度, 日射量ファイル名, 暖房開始日, 暖房終了日, 冷房開始日, 冷房終了日\n",
    "\n",
    "  - $2～9$行目：$1～8$地域の「地域区分, 都市, 緯度, 経度, 日射量ファイル名, 暖房開始日, 暖房終了日, 冷房開始日, 冷房終了日」\n",
    "    - 暖冷房開始日終了日の書式：$5$桁もしくは$6$桁の数字\n",
    "      - 気象データの日時表記と同じ\n",
    "      - 後ろから$2$桁：時刻\n",
    "      - 後ろから$3～4$桁：日\n",
    "      - 後ろから$5～6$桁：月\n",
    "      - 気象データの「暖房$1$冷房$2$」の設定は上書き処理される → `\\Zone.csv` の設定が優先\n",
    "\n",
    "地点データを \\Zone.csv から読み込む  \n",
    "\\地域区分+日射量データ窓面入射角特性.xlsx \"地域区分\"シート\n",
    "→ \\SCFConfig01 下の地点データファイル \\Zone.csv を作成 → 読み込み"
   ]
  },
  {
   "cell_type": "markdown",
   "metadata": {},
   "source": [
    "#### Function"
   ]
  },
  {
   "cell_type": "code",
   "execution_count": 2,
   "metadata": {},
   "outputs": [],
   "source": [
    "def input_Point(tag):\n",
    "    \n",
    "    def convert_tag_to_city(tag):\n",
    "        if type(tag) == int: # name に数字が指定された場合は省エネ基準の地域区分番号とみなして該当する都市に置き換える\n",
    "            return {\n",
    "                '1' : '北見',\n",
    "                '2' : '岩見沢',\n",
    "                '3' : '盛岡',\n",
    "                '4' : '長野',\n",
    "                '5' : '宇都宮',\n",
    "                '6' : '岡山',\n",
    "                '7' : '宮崎',\n",
    "                '8' : '那覇'\n",
    "            }[str(tag)]\n",
    "        else: # その他の場合は都市名が入力されているものとし、変換は行わない\n",
    "            return tag\n",
    "    \n",
    "    ZONE_FILE = \"./SCFConfig01/Zone.csv\"\n",
    "    \n",
    "    city_name = convert_tag_to_city(tag)\n",
    "\n",
    "    with open(ZONE_FILE, 'r') as f:\n",
    "        \n",
    "        reader = csv.reader(f)\n",
    "        header = next(reader) # Skip header.\n",
    "\n",
    "        matched_rows = [ row for row in reader if row[1] == city_name ]  # Extract row matched.\n",
    "        \n",
    "        if len(matched_rows) == 0:  # In the case that there is now matched data.\n",
    "            raise IndexError(\"地点データがありません\")\n",
    "        elif len(matched_rows) > 1:  # In the case that there are more than 1 matched data.\n",
    "            raise IndexError(\"該当する地点データが複数見つかりました\")\n",
    "        else:\n",
    "            matched_row = matched_rows[0]\n",
    "            return [\n",
    "                int(matched_row[0]), # region\n",
    "                matched_row[1],      # city name\n",
    "                float(matched_row[2]), # latitude\n",
    "                float(matched_row[3]), # longitude\n",
    "                matched_row[4],      # file name\n",
    "                int(matched_row[5]), # start of heating period\n",
    "                int(matched_row[6]), # end of heating period\n",
    "                int(matched_row[7]), # start of cooling period\n",
    "                int(matched_row[8])  # end of cooling period\n",
    "            ]\n",
    "            # ここで返るSRFileNameはファイル名のみ"
   ]
  },
  {
   "cell_type": "markdown",
   "metadata": {},
   "source": [
    "#### Example 1"
   ]
  },
  {
   "cell_type": "markdown",
   "metadata": {},
   "source": [
    "省エネルギー基準における地域区分の番号で指定した場合"
   ]
  },
  {
   "cell_type": "code",
   "execution_count": 3,
   "metadata": {},
   "outputs": [
    {
     "name": "stdout",
     "output_type": "stream",
     "text": [
      "[1, '北見', 43.82, 143.91, 'SRforSCF_01.csv', 110100, 43024, 50100, 103124]\n",
      "[2, '岩見沢', 43.21, 141.78833, 'SRforSCF_02.csv', 110100, 43024, 50100, 103124]\n",
      "[3, '盛岡', 39.695, 141.168333333333, 'SRforSCF_03.csv', 120100, 33124, 40100, 113024]\n",
      "[4, '長野', 36.66, 138.195, 'SRforSCF_04.csv', 120100, 33124, 40100, 113024]\n",
      "[5, '宇都宮', 36.5466666666667, 139.871666666667, 'SRforSCF_05.csv', 120100, 33124, 40100, 113024]\n",
      "[6, '岡山', 34.6583333333333, 133.918333333333, 'SRforSCF_06.csv', 120100, 33124, 40100, 113024]\n",
      "[7, '宮崎', 31.935, 131.416666666667, 'SRforSCF_07.csv', 120100, 33124, 40100, 113024]\n",
      "[8, '那覇', 26.2033333333333, 127.688333333333, 'SRforSCF_08.csv', 10100, 33124, 40100, 123124]\n"
     ]
    }
   ],
   "source": [
    "for i in range(1,9):\n",
    "    print( input_Point( i ) )"
   ]
  },
  {
   "cell_type": "markdown",
   "metadata": {},
   "source": [
    "#### Example 2"
   ]
  },
  {
   "cell_type": "markdown",
   "metadata": {},
   "source": [
    "都市名で指定した場合"
   ]
  },
  {
   "cell_type": "code",
   "execution_count": 4,
   "metadata": {},
   "outputs": [
    {
     "name": "stdout",
     "output_type": "stream",
     "text": [
      "[5, '宇都宮', 36.5466666666667, 139.871666666667, 'SRforSCF_05.csv', 120100, 33124, 40100, 113024]\n",
      "[8, '那覇', 26.2033333333333, 127.688333333333, 'SRforSCF_08.csv', 10100, 33124, 40100, 123124]\n"
     ]
    }
   ],
   "source": [
    "print(input_Point( \"宇都宮\"))\n",
    "print(input_Point( \"那覇\" ))"
   ]
  },
  {
   "cell_type": "markdown",
   "metadata": {},
   "source": [
    "#### Example 3"
   ]
  },
  {
   "cell_type": "markdown",
   "metadata": {},
   "source": [
    "都市名で指定したが該当する名前がリストになかった場合"
   ]
  },
  {
   "cell_type": "code",
   "execution_count": 5,
   "metadata": {},
   "outputs": [
    {
     "name": "stdout",
     "output_type": "stream",
     "text": [
      "地点データがありません\n"
     ]
    }
   ],
   "source": [
    "try:\n",
    "    input_Point( \"東京\" ) #データなし\n",
    "except IndexError as e:\n",
    "    print(e)"
   ]
  },
  {
   "cell_type": "markdown",
   "metadata": {},
   "source": [
    "## input_SRData"
   ]
  },
  {
   "cell_type": "markdown",
   "metadata": {},
   "source": [
    "#### Outline"
   ]
  },
  {
   "cell_type": "markdown",
   "metadata": {},
   "source": [
    "- `\\SRforSCF_\\*\\*.csv`\n",
    "  - \\*\\*は、$1～8$地域に対応して$01$～$08$が入る(基本)。\n",
    "    - `\\Zone.csv` に追加して対応することは可能。   \n",
    "    \n",
    "    \n",
    "  - 法線面直達日射量、水平面天空日射量、暖房期or冷房期の判別タグ(暖房期:$1$, 冷房期:$2$, 非空調期:$0$)\n",
    "    - 日射量の単位は$[kcal/(m2h)]$ → 効果係数算定には問題ないのでそのまま使用している\n",
    "    \n",
    "    \n",
    "  - $1$行目はヘッダ：`\\SRforSCF_\\*\\*.csv`(ファイル名), 法線面直達日射量, 水平面天空日射量, 暖房$1$_冷房$2$\n",
    "  - $2～8762$行目：日時, 法線面直達日射量, 水平面天空日射量, 暖房$1$_冷房$2$\n",
    "    - $2$行目が$1$月$1$日$0$時、$8762$行目が$12$月$31$日$24$時。$1$時間間隔。全$8761$データ\n",
    "    - 気象データファイル中の「暖房$1$冷房$2$」の設定は、`\\Zone.csv` の設定で上書きされる → 現時点で意味なし\n",
    "    - $1$列目の日時から「月」を算出\n",
    "\n",
    "気象データを \\SRforSCF_**.csv から読み込む  \n",
    "\n",
    "\\地域区分+日射量データ窓面入射角特性.xlsx \"SRforSCF_**.csv\"シート \n",
    "\n",
    "→ \\SCFConfig01 下の地点データファイル \\SRforSCF_**.csv を作成 → 読み込み"
   ]
  },
  {
   "cell_type": "markdown",
   "metadata": {},
   "source": [
    "#### Function"
   ]
  },
  {
   "cell_type": "code",
   "execution_count": 6,
   "metadata": {},
   "outputs": [],
   "source": [
    "def input_SRData(FileName00, HStart, HEnd, CStart, CEnd):\n",
    "\n",
    "    # FileName00 = \"SRforSCF_**.csv\"\n",
    "    \n",
    "    Path00 = \"./SCFConfig01/\"\n",
    "    \n",
    "    file_path = Path00 + FileName00\n",
    "    \n",
    "    with open(file_path, 'r') as f:\n",
    "        \n",
    "        reader = csv.reader(f)\n",
    "        header = next(reader) # Skip header.\n",
    "    \n",
    "        \"\"\" \\Zone.csv の設定で、暖房期,冷房期,非空調期を割り当て \"\"\"\n",
    "\n",
    "        # 元ファイルの4列目はなかったことになる。\n",
    "\n",
    "        [HeatingPeriod, CoolingPeriod, NonACPeriod] = [1, 2, 0]\n",
    "        \n",
    "        rows = []\n",
    "\n",
    "        for row in reader:\n",
    "            newrow0 = int(row[0])\n",
    "            newrow1 = int(row[1])\n",
    "            newrow2 = int(row[2])\n",
    "            if CStart <= int(row[0]) <= CEnd:\n",
    "                newrow3 = CoolingPeriod\n",
    "            elif CStart > CEnd and CStart <= int(row[0]):\n",
    "                newrow3 = CoolingPeriod\n",
    "            elif CStart > CEnd and int(row[0]) <= CEnd:\n",
    "                newrow3 = CoolingPeriod\n",
    "            elif HStart <= int(row[0]) <= HEnd:\n",
    "                newrow3 = HeatingPeriod        \n",
    "            elif HStart > HEnd and HStart <= int(row[0]):\n",
    "                newrow3 = HeatingPeriod\n",
    "            elif HStart > HEnd and int(row[0]) <= HEnd:\n",
    "                newrow3 = HeatingPeriod\n",
    "            else:\n",
    "                newrow3 = NonACPeriod\n",
    "            rows.append([newrow0, newrow1, newrow2, newrow3])\n",
    "    \n",
    "        return rows\n",
    "            # csv_input は SRHour に渡される\n",
    "\n",
    "    \n",
    "#\"\"\" 「月」の計算 \"\"\"\n",
    "#def calc_Month(MMDDTT):\n",
    "    \n",
    "#    Month = MMDDTT // 10000\n",
    "    \n",
    "#    return Month"
   ]
  },
  {
   "cell_type": "markdown",
   "metadata": {},
   "source": [
    "#### Example"
   ]
  },
  {
   "cell_type": "code",
   "execution_count": 12,
   "metadata": {},
   "outputs": [
    {
     "name": "stdout",
     "output_type": "stream",
     "text": [
      "SRforSCF_01.csv\n",
      "Expected start of heating period: 110100\n",
      "Expected end of heating period: 43024\n",
      "Expected start of cooling period: 50100\n",
      "Expected end of cooling period: 103124\n",
      "43024 1 50101 2\n",
      "103124 2 110101 1\n",
      "SRforSCF_02.csv\n",
      "Expected start of heating period: 110100\n",
      "Expected end of heating period: 43024\n",
      "Expected start of cooling period: 50100\n",
      "Expected end of cooling period: 103124\n",
      "43024 1 50101 2\n",
      "103124 2 110101 1\n",
      "SRforSCF_03.csv\n",
      "Expected start of heating period: 120100\n",
      "Expected end of heating period: 33124\n",
      "Expected start of cooling period: 40100\n",
      "Expected end of cooling period: 113024\n",
      "33124 1 40101 2\n",
      "113024 2 120101 1\n",
      "SRforSCF_04.csv\n",
      "Expected start of heating period: 120100\n",
      "Expected end of heating period: 33124\n",
      "Expected start of cooling period: 40100\n",
      "Expected end of cooling period: 113024\n",
      "33124 1 40101 2\n",
      "113024 2 120101 1\n",
      "SRforSCF_05.csv\n",
      "Expected start of heating period: 120100\n",
      "Expected end of heating period: 33124\n",
      "Expected start of cooling period: 40100\n",
      "Expected end of cooling period: 113024\n",
      "33124 1 40101 2\n",
      "113024 2 120101 1\n",
      "SRforSCF_06.csv\n",
      "Expected start of heating period: 120100\n",
      "Expected end of heating period: 33124\n",
      "Expected start of cooling period: 40100\n",
      "Expected end of cooling period: 113024\n",
      "33124 1 40101 2\n",
      "113024 2 120101 1\n",
      "SRforSCF_07.csv\n",
      "Expected start of heating period: 120100\n",
      "Expected end of heating period: 33124\n",
      "Expected start of cooling period: 40100\n",
      "Expected end of cooling period: 113024\n",
      "33124 1 40101 2\n",
      "113024 2 120101 1\n",
      "SRforSCF_08.csv\n",
      "Expected start of heating period: 10100\n",
      "Expected end of heating period: 33124\n",
      "Expected start of cooling period: 40100\n",
      "Expected end of cooling period: 123124\n",
      "33124 1 40101 2\n"
     ]
    }
   ],
   "source": [
    "for i in range(1,9):\n",
    "    \n",
    "    Zone, City, Latitude, Longitude, SRFileName, HStart, HEnd, CStart, CEnd = input_Point(i)\n",
    "    \n",
    "    print(SRFileName)\n",
    "    \n",
    "    print('Expected start of heating period: ' + str(HStart) )\n",
    "    print('Expected end of heating period: ' + str(HEnd) )\n",
    "    print('Expected start of cooling period: ' + str(CStart) )\n",
    "    print('Expected end of cooling period: ' + str(CEnd) )\n",
    "    \n",
    "    SRHour = input_SRData(SRFileName, HStart, HEnd, CStart, CEnd)\n",
    "\n",
    "    for i in range(1,len(SRHour)-1):\n",
    "        if SRHour[i][3] != SRHour[i-1][3]:\n",
    "            print(SRHour[i-1][0], SRHour[i-1][3], SRHour[i][0], SRHour[i][3])    "
   ]
  },
  {
   "cell_type": "code",
   "execution_count": null,
   "metadata": {},
   "outputs": [],
   "source": []
  }
 ],
 "metadata": {
  "kernelspec": {
   "display_name": "Python 3",
   "language": "python",
   "name": "python3"
  },
  "language_info": {
   "codemirror_mode": {
    "name": "ipython",
    "version": 3
   },
   "file_extension": ".py",
   "mimetype": "text/x-python",
   "name": "python",
   "nbconvert_exporter": "python",
   "pygments_lexer": "ipython3",
   "version": "3.6.5"
  }
 },
 "nbformat": 4,
 "nbformat_minor": 2
}
