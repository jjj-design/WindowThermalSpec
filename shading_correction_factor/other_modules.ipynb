{
 "cells": [
  {
   "cell_type": "code",
   "execution_count": null,
   "metadata": {},
   "outputs": [],
   "source": []
  },
  {
   "cell_type": "markdown",
   "metadata": {},
   "source": [
    "# Functions"
   ]
  },
  {
   "cell_type": "markdown",
   "metadata": {},
   "source": [
    "## calc_Azwj"
   ]
  },
  {
   "cell_type": "markdown",
   "metadata": {},
   "source": [
    "- 仕様書5.2 図4\n",
    "\n",
    "- 窓面の方位は、以下の通り\n",
    "  - 北北東：$-157.5°$, 北東：$-135°$, …, 東：$-90°$, …, 南：$0°$, …, 西：$+90°$, …,北：$+180°$\n",
    "  - 角度指定も可：$-180°< A_{ZW,j} \\leq +180°$\n",
    "  - デフォルトは8方位指定\n",
    "\n",
    "窓面の方位 (仕様書5.2 図4)"
   ]
  },
  {
   "cell_type": "code",
   "execution_count": 1,
   "metadata": {},
   "outputs": [],
   "source": [
    "def calc_Azwj(Azimuth):\n",
    "    \n",
    "    Azimuth00 = [\"北北東\", \"北東\", \"東北東\", \"東\", \"東南東\", \"南東\", \"南南東\", \"南\"\n",
    "                 , \"南南西\", \"南西\", \"西南西\", \"西\", \"西北西\", \"北西\", \"北北西\", \"北\" ]\n",
    "    if Azimuth in Azimuth00:\n",
    "        Azwj = (Azimuth00.index(Azimuth) - 7) * 22.5\n",
    "    elif -180 < float(Azimuth) <= 180:\n",
    "        Azwj = float(Azimuth) \n",
    "    else:\n",
    "        raise Exception('窓面方位の入力が不適切です')\n",
    "    \n",
    "    return Azwj"
   ]
  },
  {
   "cell_type": "code",
   "execution_count": null,
   "metadata": {},
   "outputs": [],
   "source": []
  }
 ],
 "metadata": {
  "kernelspec": {
   "display_name": "Python 3",
   "language": "python",
   "name": "python3"
  },
  "language_info": {
   "codemirror_mode": {
    "name": "ipython",
    "version": 3
   },
   "file_extension": ".py",
   "mimetype": "text/x-python",
   "name": "python",
   "nbconvert_exporter": "python",
   "pygments_lexer": "ipython3",
   "version": "3.6.5"
  }
 },
 "nbformat": 4,
 "nbformat_minor": 2
}
