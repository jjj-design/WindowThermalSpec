{
 "cells": [
  {
   "cell_type": "code",
   "execution_count": 1,
   "metadata": {},
   "outputs": [],
   "source": [
    "from collections import namedtuple\n",
    "import csv\n",
    "import math\n",
    "import numpy as np\n",
    "import matplotlib.pyplot as plt"
   ]
  },
  {
   "cell_type": "markdown",
   "metadata": {},
   "source": [
    "# フレームの日射熱取得率を計算するモジュール"
   ]
  },
  {
   "cell_type": "markdown",
   "metadata": {},
   "source": [
    "## 1. Functions  "
   ]
  },
  {
   "cell_type": "markdown",
   "metadata": {
    "collapsed": true
   },
   "source": [
    "フレームの熱貫流率、屋外側表面日射吸収率、屋外側展開面積比からフレームの日射熱取得率を計算する。  "
   ]
  },
  {
   "cell_type": "markdown",
   "metadata": {},
   "source": [
    "### 入力値  \n",
    "\n",
    "$ \\alpha_{fr, ex} $ ：フレームの屋外側表面日射吸収率  \n",
    "$ U_{fr} $ ：フレームの熱貫流率 [W/(m<sup>2</sup>･K)]   \n",
    "$ F_{de, ex} $ ：フレームの屋外側展開面積比   \n",
    "$ h_{fr, ex} $ ：フレームの屋外側表面熱伝達率 [W/(m<sup>2</sup>･K)]   "
   ]
  },
  {
   "cell_type": "markdown",
   "metadata": {},
   "source": [
    "### 出力値  \n",
    "\n",
    "$ \\eta_{fr} $ ：フレームの日射熱取得率  "
   ]
  },
  {
   "cell_type": "markdown",
   "metadata": {},
   "source": [
    "### 計算方法  \n",
    "\n",
    "#### データ構造と値の範囲  \n",
    "\n",
    "im・$ \\alpha_{fr, ex} $(または$ \\alpha_{fr, ex} $の表ID)・$ U_{fr} $(または$ U_{fr} $の表ID)・$ F_{de, ex} $(または$ F_{de, ex} $の表ID)・$ h_{fr, ex} $(または$ h_{fr, ex} $の表ID) の組み合わせをクラス『ghf＿input』と定義する。  "
   ]
  },
  {
   "cell_type": "code",
   "execution_count": 2,
   "metadata": {},
   "outputs": [],
   "source": [
    "class ghf_input():\n",
    "    def __init__( self, im, ap, Up, Fp, hp ):\n",
    "        self.im = im\n",
    "        self.ap = ap\n",
    "        self.Up = Up\n",
    "        self.Fp = Fp\n",
    "        self.hp = hp\n",
    "        \n",
    "#im：データ取得方法（0：表参照入力、1：直接入力）\n",
    "#ap：imが0の場合は、屋外側表面日射吸収率のID（0：省エネ基準住宅、1：省エネ基準非住宅、2～10：JIS A 2103の材質・色別）\n",
    "#    imが1の場合は、屋外側表面日射吸収率\n",
    "#Up：imが0の場合は、熱貫流率のID（0：JIS A 2103の樹脂、1：JIS A 2103のアルミ樹脂複合、2：JIS A 2103のアルミ）\n",
    "#    imが1の場合は、熱貫流率[W/(m2･K)]\n",
    "#Fp：imが0の場合は、屋外側展開面積比のID（0：省エネ基準住宅、1：省エネ基準非住宅、2～5：JIS A 2103の開閉形式別）\n",
    "#    imが1の場合は、屋外側展開面積比\n",
    "#hp：imが0の場合は、屋外側表面熱伝達率のID（0：省エネ基準住宅、1：省エネ基準非住宅、2：JIS A 2103の夏期、3：JIS A 2103の冬期）\n",
    "#    imが1の場合は、屋外側表面熱伝達率[W/(m2･K)]"
   ]
  },
  {
   "cell_type": "markdown",
   "metadata": {},
   "source": [
    "#### フレームの日射熱取得率の計算方法  \n",
    "\n",
    "フレームの日射熱取得率$\\eta_{fr}$の計算方法を以下に示す。  \n",
    "\n",
    "（参考：JIS A 2103：2014 5.3 フレームの日射熱取得率）"
   ]
  },
  {
   "cell_type": "markdown",
   "metadata": {},
   "source": [
    "$$\n",
    "\\begin{eqnarray}\n",
    " &\\displaystyle \\eta_{fr} = \\frac {\\alpha_{fr, ex} \\cdot U_{fr}}{ F_{de, ex} \\cdot h_{fr, ex}}& \\qquad\\qquad\\text{(1)} \\nonumber\\\\\n",
    "\\end{eqnarray}\n",
    "$$"
   ]
  },
  {
   "cell_type": "markdown",
   "metadata": {},
   "source": [
    "ここで、  \n",
    "$ \\alpha_{fr, ex} $ ：フレームの屋外側表面日射吸収率  \n",
    "$ U_{fr} $ ：フレームの熱貫流率 [W/(m<sup>2</sup>･K)]  \n",
    "$ F_{de, ex} $ ：フレームの屋外側展開面積比  \n",
    "$ h_{fr, ex} $ ：フレームの屋外側表面熱伝達率 [W/(m<sup>2</sup>･K)]  "
   ]
  },
  {
   "cell_type": "markdown",
   "metadata": {},
   "source": [
    "$$\n",
    "\\begin{eqnarray}\n",
    " &\\displaystyle F_{de, ex} = \\frac {A_{de, ex}}{A_{fr, in}}& \\qquad\\qquad\\text{(2)} \\nonumber\\\\\n",
    "\\end{eqnarray}\n",
    "$$"
   ]
  },
  {
   "cell_type": "markdown",
   "metadata": {},
   "source": [
    "ここで、  \n",
    "$ A_{de, ex} $ ：屋外側フレーム展開面積 (m<sup>2</sup>)  \n",
    "$ A_{fr, in} $ ：室内側投影フレーム面積 (m<sup>2</sup>)  \n",
    "\n",
    "である。 \n",
    "\n",
    "$ \\alpha_{fr, ex} $の代表的な値を以下に示す。  \n",
    "（参考：平成25年省エネルギー基準に準拠した算定・判断の方法及び解説 II 住宅 第四部第三節及びJIS A 2103：2014 表A.1）  \n",
    "\n",
    "| ID   | 規格・基準         | 材質         | 色           | 屋外側表面日射吸収率$\\alpha_{fr, ex}$ |\n",
    "| ---: | :---               | :---         | :---         | ---:                                  |\n",
    "| 0    | 省エネ基準(住宅)   |―            | ―           | 0.80                                  |\n",
    "| 1    | 省エネ基準(非住宅) |―            | ―           | 0.80                                  |\n",
    "| 2    | JIS A 2103         | 樹脂         | ブラック     | 0.69                                  |\n",
    "| 3    |                    |              | ブラウン     | 0.68                                  |\n",
    "| 4    |                    |              | グレイ       | 0.67                                  |\n",
    "| 5    |                    |              | ホワイト     | 0.22                                  |\n",
    "| 6    |                    | アルミニウム | ブラック     | 0.87                                  |\n",
    "| 7    |                    |              | ブラウン     | 0.76                                  |\n",
    "| 8    |                    |              | グレイ       | 0.47                                  |\n",
    "| 9    |                    |              | シルバー     | 0.26                                  |\n",
    "| 10   |                    |              | ホワイト     | 0.24                                  |\n",
    "\n",
    "$ U_{fr} $の代表的な値を以下に示す。  \n",
    "（参考：JIS A 2103：2014 表A.3）  \n",
    "\n",
    "| ID   | 規格・基準         | 材質           | 熱貫流率$U_{fr}$ [W/(m<sup>2</sup>･K)] |\n",
    "| ---: | :---               | :---           | ---:                                   |\n",
    "| 0    | JIS A 2103         | 樹脂           | 2.2                                    |\n",
    "| 1    |                    | アルミ樹脂複合 | 4.7                                    |\n",
    "| 2    |                    | アルミニウム   | 6.6                                    |\n",
    "\n",
    "$ F_{de, ex} $の代表的な値を以下に示す。  \n",
    "（参考：平成25年省エネルギー基準に準拠した算定・判断の方法及び解説 II 住宅 第四部第三節及びJIS A 2103：2014 表A.2）  \n",
    "\n",
    "| ID   | 規格・基準         | 開閉形式 | 屋外側展開面積比$F_{de, ex}$ |\n",
    "| ---: | :---               | :---     | ---:                         |\n",
    "| 0    | 省エネ基準(住宅)   | ―       | 1.0                          |\n",
    "| 1    | 省エネ基準(非住宅) | ―       | 1.0                          |\n",
    "| 2    | JIS A 2103         | FIX      | 1.9                          |\n",
    "| 3    |                    | 開き     | 1.5                          |\n",
    "| 4    |                    | 引違い   | 2.1                          |\n",
    "| 5    |                    | 上げ下げ | 1.6                          |\n",
    "\n",
    "$ h_{fr, ex} $の代表的な物性値を以下に示す。  \n",
    "（参考：平成25年省エネルギー基準に準拠した算定・判断の方法及び解説 II 住宅 第四部第三節及びJIS A 2103：2014 5.3）  \n",
    "\n",
    "| ID   | 規格・基準         | 季節 | 屋外側表面熱伝達率$h_{fr, ex}$ [W/(m<sup>2</sup>･K)] |\n",
    "| ---: | :---               | :--- | ---:                                                 |\n",
    "| 0    | 省エネ基準(住宅)   | ―   | 23                                                   |\n",
    "| 1    | 省エネ基準(非住宅) | ―   | 25 (=1/0.04)                                         |\n",
    "| 2    | JIS A 2103         | 夏期 | 14                                                   |\n",
    "| 3    |                    | 冬期 | 24                                                   |"
   ]
  },
  {
   "cell_type": "code",
   "execution_count": 3,
   "metadata": {},
   "outputs": [],
   "source": [
    "def hourly_gvalue_frame(L):\n",
    "    if L.im == 0:     #表参照入力\n",
    "        ghf_a = frame_prop(L)[0]\n",
    "        ghf_U = frame_prop(L)[1]\n",
    "        ghf_F = frame_prop(L)[2]\n",
    "        ghf_h = frame_prop(L)[3]\n",
    "    elif L.im == 1:   #直接入力\n",
    "        ghf_a = L.ap\n",
    "        ghf_U = L.Up\n",
    "        ghf_F = L.Fp\n",
    "        ghf_h = L.hp\n",
    "    \n",
    "    return ghf_a * ghf_U / (ghf_F * ghf_h)\n",
    "\n",
    "def frame_prop(L):\n",
    "    r_ghf_a = [0.8, 0.8, 0.69, 0.68, 0.67, 0.22, 0.87, 0.76, 0.47, 0.26, 0.24]\n",
    "    r_ghf_U = [2.2, 4.7, 6.6]\n",
    "    r_ghf_F = [1., 1., 1.9, 1.5, 2.1, 1.6]\n",
    "    r_ghf_h = [23., 25., 14., 24.]\n",
    "    \n",
    "    return r_ghf_a[L.ap], r_ghf_U[L.Up], r_ghf_F[L.Fp], r_ghf_h[L.hp]"
   ]
  },
  {
   "cell_type": "markdown",
   "metadata": {},
   "source": [
    "#### Example"
   ]
  },
  {
   "cell_type": "code",
   "execution_count": 4,
   "metadata": {},
   "outputs": [
    {
     "name": "stdout",
     "output_type": "stream",
     "text": [
      "0.0765217391304348\n"
     ]
    }
   ],
   "source": [
    "if __name__ == '__main__':\n",
    "\n",
    "    ghf_in = ghf_input(0, 0, 0, 0, 0)\n",
    "\n",
    "    ghf = hourly_gvalue_frame(ghf_in)\n",
    "\n",
    "    print(ghf)"
   ]
  }
 ],
 "metadata": {
  "kernelspec": {
   "display_name": "Python 3",
   "language": "python",
   "name": "python3"
  },
  "language_info": {
   "codemirror_mode": {
    "name": "ipython",
    "version": 3
   },
   "file_extension": ".py",
   "mimetype": "text/x-python",
   "name": "python",
   "nbconvert_exporter": "python",
   "pygments_lexer": "ipython3",
   "version": "3.6.4"
  }
 },
 "nbformat": 4,
 "nbformat_minor": 2
}
