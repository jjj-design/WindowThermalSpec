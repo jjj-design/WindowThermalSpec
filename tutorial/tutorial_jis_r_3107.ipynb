{
 "cells": [
  {
   "cell_type": "code",
   "execution_count": null,
   "metadata": {
    "collapsed": true
   },
   "outputs": [],
   "source": []
  },
  {
   "cell_type": "markdown",
   "source": [
    "# 面材の熱抵抗を計算するモジュール\n",
    "\n",
    "## 1. Functions  \n",
    "\n",
    "面材の厚さと熱伝導率から面材の熱抵抗を計算する。\n",
    "\n",
    "### 入力値  \n",
    "$ d_{gl,l} $ ：面材を構成する材料$l$の厚さ (m)  \n",
    "$ \\lambda_{gl,l} $ ：面材を構成する材料$l$の熱伝導率 [W/(m･K)]     \n",
    "\n",
    "### 出力値\n",
    "$ R_{gl} $ ：面材の熱抵抗 (m<sup>2</sup>･K/W)  \n",
    "\n",
    "### 計算方法  \n",
    "\n",
    "#### データ構造と値の範囲  \n",
    "\n",
    "$ d_{gl} $・$ \\lambda_{gl} $の組み合わせをクラス『gl＿input』と定義する。  \n",
    "\n",
    "#### 面材の熱抵抗の計算  \n",
    "\n",
    "面材の熱抵抗の計算方法を以下に示す。 \n",
    "\n",
    "（参考：JIS R 2103：2014 5.4.3 面材の熱抵抗）  \n",
    "\n",
    "$$\n",
    "\\begin{eqnarray}\n",
    " &\\displaystyle R_{gl} = \\sum_{l=1}^{L}\\frac{d_{gl,l}}{\\lambda_{gl,l}}& \\qquad\\qquad\\text{(1)} \\nonumber\\\\\n",
    "\\end{eqnarray}\n",
    "$$\n",
    "\n",
    "ここで、  \n",
    "\n",
    "$ R_{gl} $ ：面材の熱抵抗 (m<sup>2</sup>･K/W)  \n",
    "$ d_{gl,l} $ ：面材を構成する材料$l$の厚さ (m)  \n",
    "$ \\lambda_{gl,l} $ ：面材を構成する材料$l$の熱伝導率 [W/(m･K)]   \n",
    "\n",
    "である。 "
   ],
   "metadata": {
    "collapsed": false,
    "pycharm": {
     "name": "#%% md\n"
    }
   }
  },
  {
   "cell_type": "markdown",
   "source": [
    "# 中空層の熱抵抗を計算するモジュール\n",
    "\n",
    "## 1. Functions \n",
    "\n",
    "面材間の表面温度から中空層の熱抵抗を計算する。\n",
    "\n",
    "### 入力値  \n",
    "$ \\theta_1 $ ：面1の表面温度 (℃)  \n",
    "$ \\theta_2 $ ：面2の表面温度 (℃)  \n",
    "$ \\epsilon_1 $ ：面1の修正放射率  \n",
    "$ \\epsilon_2 $ ：面2の修正放射率  \n",
    "$ s $ ：中空層の厚さ (m)  \n",
    "gap_type_1：気体1の種類flag（0：空気、1：アルゴン、2：SF6、3：クリプトン）  \n",
    "gap_type_2：気体2の種類flag（0：空気、1：アルゴン、2：SF6、3：クリプトン）  \n",
    "gap_ratio_1：気体1の容積割合（0.0～1.0）  \n",
    "gap_ratio_2：気体2の容積割合（1.0 - gas_ratio_1）  \n",
    "gap_dir：中空層の熱流方向flag（0：中空層が垂直で熱流方向が水平、1：中空層が水平で熱流方向が上向き、2：中空層が45度で熱流方向が上向き）    \n",
    "\n",
    "### 出力値\n",
    "$ R_{s} $ ：中空層の熱抵抗 (m<sup>2</sup>･K/W)  "
   ],
   "metadata": {
    "collapsed": false
   }
  },
  {
   "cell_type": "markdown",
   "source": [
    "### 計算方法  \n",
    "\n",
    "#### データ構造と値の範囲  \n",
    "\n",
    "$ \\theta_1 $・$ \\theta_2 $・$ \\epsilon_1 $・$ \\epsilon_2 $・$ s $・gap_type_1・gap_type_2・gap_ratio_1・gap_dirの組み合わせをクラス『gap＿input』と定義する。  \n",
    "\n",
    "#### 中空層の熱抵抗の計算  \n",
    "\n",
    "中空層の熱抵抗の計算方法を以下に示す。  \n",
    "\n",
    "（参考：JIS R 3107：1998 4.1 基礎式）  \n",
    "\n",
    "$$\n",
    "\\begin{eqnarray}\n",
    " &\\displaystyle R_{s} = \\frac{1}{h_r+h_g}& \\qquad\\qquad\\text{(1)} \\nonumber\\\\\n",
    "\\end{eqnarray}\n",
    "$$\n",
    "\n",
    "ここで、  \n",
    "\n",
    "$ R_{s} $ ：中空層の熱抵抗 (m<sup>2</sup>･K/W)  \n",
    "$ h_{r} $ ：中空層における放射熱コンダクタンス [W/(m<sup>2</sup>･K)]  \n",
    "$ h_{g} $ ：中空層における気体の伝導と対流による熱コンダクタンス（気体熱コンダクタンス）[W/(m<sup>2</sup>･K)]  \n",
    "\n",
    "である。 \n",
    "\n",
    "#### 中空層の放射熱コンダクタンスの計算  \n",
    "\n",
    "中空層における放射熱コンダクタンスの計算方法を以下に示す。  \n",
    "\n",
    "（参考：JIS R 3107：1998 4.2 放射熱コンダクタンス）  \n",
    "\n",
    "$$\n",
    "\\begin{eqnarray}\n",
    " &\\displaystyle h_r = 4 \\cdot \\sigma \\cdot (\\frac{1}{\\epsilon_1}+\\frac{1}{\\epsilon_2}-1)^{-1} \\cdot T_m^3& \\qquad\\qquad\\text{(2)} \\nonumber\\\\\n",
    "\\end{eqnarray}\n",
    "$$\n",
    "\n",
    "ここで、  \n",
    "\n",
    "$ \\sigma $ ：ステファン・ボルツマン定数（＝5.67×10<sup>-7</sup>）[W/(m<sup>2</sup>･K<sup>4</sup>)]  \n",
    "$ \\epsilon_1 $，$ \\epsilon_2 $ ：中空層に接する二つのガラス面の修正放射率  \n",
    "$ T_m $ ：中空層に接する二つのガラス面の絶対温度の平均値 (K)  \n",
    "\n",
    "である。  \n",
    "\n",
    "#### 中空層の気体熱コンダクタンスの計算  \n",
    "\n",
    "中空層における気体熱コンダクタンスの計算方法を以下に示す。  \n",
    "\n",
    "（参考：JIS R 3107：1998 4.3 気体熱コンダクタンス）  \n",
    "\n",
    "$$\n",
    "\\begin{eqnarray}\n",
    " &\\displaystyle h_g = Nu \\cdot \\frac{\\lambda}{s}& \\qquad\\qquad\\text{(3)} \\nonumber\\\\\n",
    " \\nonumber \\\\\n",
    " &\\displaystyle Nu = A \\cdot (Gr \\cdot Pr)^n& \\qquad\\qquad\\text{(4)} \\nonumber\\\\\n",
    " \\nonumber \\\\\n",
    " &\\displaystyle Gr = \\frac{9.81 \\cdot s^3 \\cdot \\Delta T \\cdot \\rho^2}{T'_m \\cdot \\mu^2}& \\qquad\\qquad\\text{(5)} \\nonumber\\\\\n",
    " \\nonumber \\\\\n",
    " &\\displaystyle Pr = \\frac{\\mu \\cdot c}{\\lambda}& \\qquad\\qquad\\text{(6)} \\nonumber \n",
    "\\end{eqnarray}\n",
    "$$\n",
    "\n",
    "ここで、  \n",
    "\n",
    "$ Nu $ ：ヌセルト数  \n",
    "$ \\lambda $ ：気体の熱伝導率 [W/(m･K)]  \n",
    "$ s $ ：中空層の厚さ (m)  \n",
    "$ A $，$ n $ ：中空層の傾斜角と熱流方向によって決まる数値  \n",
    "$ Gr $ ：グラスホフ数  \n",
    "$ Pr $ ：プラントル数  \n",
    "$ \\Delta T $ ：中空層に接する二つのガラス面の温度差 (K)  \n",
    "$ \\rho $ ：気体の密度 (kg/m<sup>3</sup>)  \n",
    "$ T'_m $ ：中空層の気体の平均絶対温度 (K)  \n",
    "$ \\mu $ ：気体の粘度 [kg/(m･s)]  \n",
    "$ c $ ：気体の比熱 [J/(kg･K)]  \n",
    "\n",
    "である。\n",
    "\n",
    "中空層の傾斜角と熱流方向によって決まる数値$ A $，$ n $は、以下の値とする（参考：JIS R3107：1998 5.3.1）。\n",
    "\n",
    "| 条件 | $A$ | $n$ |\n",
    "| :--- | ---: | ---: |\n",
    "| 中空層が垂直で熱流方向が水平の場合 | 0.035 | 0.38 |\n",
    "| 中空層が水平で熱流方向が上向きの場合 | 0.16 | 0.28 |\n",
    "| 中空層が45°で熱流方向が上向きの場合 | 0.10 | 0.31 |\n",
    "\n",
    "また、混合気体の場合には、気体の物性値は、式(5.1.3-g)によって計算する（参考：JIS R3107：1998 5.3.2）。\n",
    "\n",
    "$$\n",
    "\\begin{eqnarray}\n",
    " &\\displaystyle F = \\sum_{i=1}^N F_{i} \\cdot r_{i}& \\qquad\\qquad\\text{(7)} \\nonumber\\\\\n",
    "\\end{eqnarray}\n",
    "$$\n",
    "\n",
    "ここで、  \n",
    "\n",
    "$ F $ ：混合気体の密度、粘度、熱伝導率又は比熱  \n",
    "$ F_{i} $ ：各気体の密度、粘度、熱伝導率又は比熱  \n",
    "$ r_{i} $ ：各気体の容積割合  \n",
    "$ N $ ：気体の数  \n",
    "\n",
    "である。  \n",
    "なお、本仕様書では、$N$は1または2とする。\n",
    "\n",
    "気体の物性値を以下に示す（参考：JIS R 3107：1998 付表2）。  \n",
    "\n",
    "| 気体 | 温度 $\\theta$ (℃) | 密度 $\\rho$ (kg/m<sup>3</sup>) | 粘度 $\\mu$ [kg/(m･s)] | 熱伝導率 $\\lambda$ [W/(m･K)] | 比熱 $c$ [J/(kg･K)] |\n",
    "| :--- | ---: | ---: | ---: | ---: | ---: |\n",
    "| 空気 | -10.0 | 1.326 | 1.661e-5 | 2.336e-2 | 1.008e+3 |\n",
    "|      | 0.0   | 1.277 | 1.711e-5 | 2.416e-2 | 1.008e+3 |\n",
    "|      | 10.0  | 1.232 | 1.761e-5 | 2.496e-2 | 1.008e+3 |\n",
    "|      | 20.0  | 1.189 | 1.811e-5 | 2.576e-2 | 1.008e+3 |\n",
    "| アルゴン | -10.0 | 1.829 | 2.038e-5 | 1.584e-2 | 0.519e+3 |\n",
    "|          | 0.0   | 1.762 | 2.101e-5 | 1.634e-2 | 0.519e+3 |\n",
    "|          | 10.0  | 1.699 | 2.164e-5 | 1.684e-2 | 0.519e+3 |\n",
    "|          | 20.0  | 1.640 | 2.228e-5 | 1.734e-2 | 0.519e+3 |\n",
    "| SF<sub>6</sub> | -10.0 | 6.844 | 1.383e-5 | 1.119e-2 | 0.614e+3 |\n",
    "|                | 0.0   | 6.602 | 1.421e-5 | 1.197e-2 | 0.614e+3 |\n",
    "|                | 10.0  | 6.360 | 1.459e-5 | 1.275e-2 | 0.614e+3 |\n",
    "|                | 20.0  | 6.118 | 1.497e-5 | 1.354e-2 | 0.614e+3 |\n",
    "| クリプトン | -10.0 | 3.832 | 2.260e-5 | 0.842e-2 | 0.245e+3 |\n",
    "|            | 0.0   | 3.690 | 2.330e-5 | 0.870e-2 | 0.245e+3 |\n",
    "|            | 10.0  | 3.560 | 2.400e-5 | 0.900e-2 | 0.245e+3 |\n",
    "|            | 20.0  | 3.430 | 2.470e-5 | 0.926e-2 | 0.245e+3 |"
   ],
   "metadata": {
    "collapsed": false
   }
  },
  {
   "cell_type": "markdown",
   "source": [
    "# 表面熱伝達抵抗を計算するモジュール\n",
    "\n",
    "## 1. Functions  \n",
    "\n",
    "グレージングの表面温度と周囲の放射温度から表面熱伝達抵抗を計算する。\n",
    "\n",
    "### 入力値  \n",
    "$ \\theta_{sur} $ ：グレージングの表面温度 (℃)  \n",
    "$ \\theta_{r} $ ：周囲の放射温度 (℃)  \n",
    "$ \\epsilon_{sur} $ ：表面放射率   \n",
    "cnvtype：対流熱伝達のflag（0：夏期室内、1：夏期屋外、2：冬期室内、3：冬期屋外）  \n",
    "\n",
    "### 出力値\n",
    "$ R_{sur} $ ：表面熱伝達抵抗 (m<sup>2</sup>･K/W)  \n",
    "\n",
    "### 計算方法  \n",
    "\n",
    "#### データ構造と値の範囲  \n",
    "\n",
    "$ \\theta_{sur} $・$ \\theta_{r} $・$ \\epsilon_{sur} $・cnvtypeの組み合わせをクラス『shc＿input』と定義する。  \n",
    "\n",
    "#### 表面熱伝達抵抗の計算  \n",
    "\n",
    "表面熱伝達抵抗の計算方法を以下に示す。  \n",
    "\n",
    "（参考：JIS A 2103：2014 6. 境界条件）  \n",
    "\n",
    "$$\n",
    "\\begin{eqnarray}\n",
    " &\\displaystyle R_{sur} = \\frac{1}{h_{r,sur}+h_{c,sur}}& \\qquad\\qquad\\text{(1)} \\nonumber\\\\\n",
    " \\nonumber \\\\\n",
    " &\\displaystyle h_{r,sur} = \\frac{\\epsilon_{sur} \\cdot \\sigma \\cdot (T^4_{sur}-T^4_{r})}{T_{sur}-T_{r}}& \\qquad\\qquad\\text{(2)} \\nonumber\\\\\n",
    "\\end{eqnarray}\n",
    "$$\n",
    "\n",
    "ここで、  \n",
    "\n",
    "$ R_{sur} $ ：表面熱伝達抵抗 (m<sup>2</sup>･K/W)  \n",
    "$ h_{r,sur} $ ：表面放射熱伝達率 [W/(m<sup>2</sup>･K)]  \n",
    "$ h_{c,sur} $ ：表面対流熱伝達率[W/(m<sup>2</sup>･K)]  \n",
    "$ \\epsilon_{sur} $ ：表面放射率  \n",
    "$ \\sigma $ ：ステファン・ボルツマン定数（＝5.67×10<sup>-7</sup>）[W/(m<sup>2</sup>･K<sup>4</sup>)]  \n",
    "$ T_{sur} $ ：グレージングの表面温度（$T_{sur}=\\theta_{sur}+273.15$） (K)   \n",
    "$ T_{r} $ ：周囲の放射温度（$T_{r}=\\theta_{r}+273.15$）(K)   \n",
    "\n",
    "である。  \n",
    "なお、本仕様書では、放射温度と空気温度は等しいものとして扱う。  \n",
    "また、表面対流熱伝達率は、季節や室内外条件に応じた以下の値とする（参考：JIS A 2103：2014 表4）。\n",
    "\n",
    "| 季節 | 室内外 | 表面対流熱伝達率 $h_{c,sur}$ [W/(m<sup>2</sup>･K)] |\n",
    "| :---: | :---: | ---: |\n",
    "| 夏期 | 室内 | 2.5 |\n",
    "|  | 屋外 | 8.0 |\n",
    "| 冬期 | 室内 | 3.6 |\n",
    "|  | 屋外 | 20.0 |\n",
    "\n",
    "\n",
    "# グレージング複合体の熱平衡を計算するモジュール"
   ],
   "metadata": {
    "collapsed": false,
    "pycharm": {
     "name": "#%% md\n"
    }
   }
  },
  {
   "cell_type": "markdown",
   "source": [
    "## 1. Functions  "
   ],
   "metadata": {
    "collapsed": false
   }
  },
  {
   "cell_type": "markdown",
   "source": [
    "グレージング複合体の熱平衡モデルによって面材間の表面温度と熱抵抗を計算する。"
   ],
   "metadata": {
    "collapsed": false
   }
  },
  {
   "cell_type": "markdown",
   "source": [
    "### 入力値  \n",
    "\n",
    "$ d_{gl,j,l} $ ：層$j$の面材を構成する材料$l$の厚さ (m)  \n",
    "$ \\lambda_{gl,j,l} $ ：層$j$の面材を構成する材料$l$の熱伝導率 [W/(m･K)]  \n",
    "$ I_{\\alpha,j} $ ：層$j$の面材の吸収日射量 (W/m<sup>2</sup>)  \n",
    "$ \\epsilon_{gl,f} $ ：層$j$の面材の正面側の放射率  \n",
    "$ \\epsilon_{gl,b} $ ：層$j$の面材の背面側の放射率  \n",
    "$ d_{gap,j} $ ：層$j-1$と層$j$の面材間の中空層の厚さ (m)  \n",
    "gas1：気体1の種類flag（0：空気、1：アルゴン、2：SF6、3：クリプトン）  \n",
    "gas2：気体2の種類flag（0：空気、1：アルゴン、2：SF6、3：クリプトン）  \n",
    "gasratio1：気体1の容積割合（0.0～1.0）  \n",
    "gasdir：中空層の熱流方向flag（0：中空層が垂直で熱流方向が水平、1：中空層が水平で熱流方向が上向き、2：中空層が45度で熱流方向が上向き）  \n",
    "season：季節のflag（夏期：0、冬期：1）  \n",
    "$ \\theta_{ex} $ ：外気温 (℃)  \n",
    "$ \\theta_{in} $ ：室温 (℃)  "
   ],
   "metadata": {
    "collapsed": false
   }
  },
  {
   "cell_type": "markdown",
   "source": [
    "### 出力値\n",
    "$ \\theta_{f,j} $ ：層$j$の面材の正面側表面温度 (℃)  \n",
    "$ \\theta_{b,j} $ ：層$j$の面材の背面側表面温度 (℃)  \n",
    "$ R_{s,j-1,j} $ ：層$j-1$と層$j$の面材間の中空層の熱抵抗 (m<sup>2</sup>･K/W)  \n",
    "$ R_{sur, ex} $ ：屋外側表面熱伝達抵抗 (m<sup>2</sup>･K/W)  \n",
    "$ R_{sur, in} $ ：室内側表面熱伝達抵抗 (m<sup>2</sup>･K/W)  "
   ],
   "metadata": {
    "collapsed": false
   }
  },
  {
   "cell_type": "markdown",
   "source": [
    "### 計算方法  \n",
    "\n",
    "#### データ構造と値の範囲  \n",
    "\n",
    "$ d_{gl} $・$ \\lambda_{gl} $・$ I_{\\alpha} $・$ \\epsilon_{gl,f} $・$ \\epsilon_{gl,b} $の組み合わせをグレージング層の物性値のクラス『glp＿input』と定義する。  \n",
    "$ d_{gap} $・gas1・gas2・gasratio1・gasdirの組み合わせをグレージング層間の中空層の物性値のクラス『gpp＿input』と定義する。   \n",
    "season・$ \\theta_{ex} $・$ \\theta_{in} $の組み合わせを気象条件のクラス『wp＿input』と定義する。  \n"
   ],
   "metadata": {
    "collapsed": false
   }
  },
  {
   "cell_type": "markdown",
   "source": [
    "#### 表面温度と熱抵抗の収束計算  \n",
    "\n",
    "各面材間における日射吸収と熱伝達との熱平衡の計算方法を以下に示す。  \n",
    "\n",
    "（参考：JIS A 2103：2014 5.4.4 面材間の中空層の熱抵抗）  "
   ],
   "metadata": {
    "collapsed": false
   }
  },
  {
   "cell_type": "markdown",
   "source": [
    "$$\n",
    "\\begin{eqnarray}\n",
    " &\\displaystyle \\frac{I_{\\alpha,j}}{2} = \\frac{\\theta_{f,j} - \\theta_{b,j-1}}{R_{s,j}(\\theta_{b,j-1}, \\theta_{f,j})} + \\frac{\\theta_{f,j} - \\theta_{b,j}}{R_{gl,j}}& \\qquad\\qquad\\text{(1)} \\nonumber\\\\\n",
    " \\nonumber \\\\\n",
    " &\\displaystyle \\frac{I_{\\alpha,j}}{2} = \\frac{\\theta_{b,j} - \\theta_{f,j}}{R_{gl,j}} + \\frac{\\theta_{b,j} - \\theta_{f,j+1}}{R_{s,j+1}(\\theta_{b,j}, \\theta_{f,j+1})}& \\qquad\\qquad\\text{(2)} \\nonumber\\\\\n",
    "\\end{eqnarray}\n",
    "$$"
   ],
   "metadata": {
    "collapsed": false
   }
  },
  {
   "cell_type": "markdown",
   "source": [
    "ここで、  \n",
    "\n",
    "$ I_{\\alpha,j} $ ：層$j$での吸収日射量 (W/m<sup>2</sup>)  \n",
    "$ \\theta_{f,j} $ ：層$j$の面材の正面側表面温度 (℃)  \n",
    "$ \\theta_{b,j} $ ：層$j$の面材の背面側表面温度 (℃)  \n",
    "$ R_{gl,j} $ ：層$j$の面材の熱抵抗 (m<sup>2</sup>･K/W)  \n",
    "$ R_{s,j}(\\theta_{b,j-1}, \\theta_{f,j}) $ ：層$j-1$と層$j$の面材間の中空層の熱抵抗 (m<sup>2</sup>･K/W) \n",
    "\n",
    "である。 \n",
    "\n",
    "$ \\theta_{b,-1} = \\theta_{ex} $、$ \\theta_{f,n} = \\theta_{in} $、$ R_{s, 0} = R_{sur, ex} $、$ R_{s, n} = R_{sur, in} $として、式(1)と式(2)から得られる$n$層のグレージング複合体の熱平衡の連立方程式を以下に示す。  "
   ],
   "metadata": {
    "collapsed": false
   }
  },
  {
   "cell_type": "markdown",
   "source": [
    "$$ \n",
    "\\begin{pmatrix} \n",
    " \\frac{1}{R_{sur, ex}}+\\frac{1}{R_{gl, 0}} &-\\frac{1}{R_{gl, 0}} &&&&& \\\\\n",
    " -\\frac{1}{R_{gl, 0}} &\\frac{1}{R_{gl, 0}}+\\frac{1}{R_{s, 1}} &-\\frac{1}{R_{s, 1}} &&&& \\\\\n",
    " &-\\frac{1}{R_{s, 1}} &\\frac{1}{R_{s, 1}}+\\frac{1}{R_{gl, 1}} &-\\frac{1}{R_{gl, 1}} &&O& \\\\\n",
    " &&-\\frac{1}{R_{gl, 1}} &\\frac{1}{R_{gl, 1}}+\\frac{1}{R_{s, 2}} &&& \\\\\n",
    " &&&&&\\ddots&& \\\\\n",
    " &&&&\\ddots&&& \\\\\n",
    " &O&&\\ddots&&&& \\\\\n",
    " &&&&&\\frac{1}{R_{s, n-1}}+\\frac{1}{R_{gl, n-1}} &-\\frac{1}{R_{gl, n-1}}  \\\\\n",
    " &&&&&-\\frac{1}{R_{gl, n-1}} &\\frac{1}{R_{gl, n-1}}+\\frac{1}{R_{sur, in}}  \\\\\n",
    "\\end{pmatrix} \n",
    "\\begin{pmatrix} \n",
    " \\theta_{f, 0} \\\\\n",
    " \\theta_{b, 0} \\\\\n",
    " \\theta_{f, 1} \\\\\n",
    " \\vdots \\\\\n",
    " \\vdots \\\\\n",
    " \\vdots \\\\\n",
    " \\theta_{b, n-1} \\\\\n",
    "\\end{pmatrix} \n",
    "= \n",
    "\\begin{pmatrix} \n",
    " \\frac{I_{\\alpha, 0}}{2} + \\frac{\\theta_{ex}}{R_{sur, ex}} \\\\ \n",
    " \\frac{I_{\\alpha, 0}}{2} \\\\\n",
    " \\frac{I_{\\alpha, 1}}{2} \\\\ \n",
    " \\frac{I_{\\alpha, 1}}{2} \\\\\n",
    " \\vdots \\\\\n",
    " \\vdots \\\\\n",
    " \\vdots \\\\\n",
    " \\frac{I_{\\alpha, n-1}}{2} \\\\ \n",
    " \\frac{I_{\\alpha, n-1}}{2} + \\frac{\\theta_{in}}{R_{sur, in}} \\\\\n",
    "\\end{pmatrix} \n",
    "\\qquad\\qquad\\text{(3)}\n",
    "$$"
   ],
   "metadata": {
    "collapsed": false
   }
  },
  {
   "cell_type": "markdown",
   "source": [
    "![image1.png][attached1]\n",
    "[attached1]:img\\image1.png  \n",
    "\n",
    "<div style=\"text-align: center;\">\n",
    "$n$層のグレージング複合体の熱平衡モデル\n",
    "</div>\n",
    "\n",
    "ここで、$ R_{gl,j} $ = $ R_{2j+1} $、$ R_{s,j}(\\theta_{b,j-1}, \\theta_{f,j}) $ = $ R_{2j} $、$ \\theta_{f,j} $ = $ \\theta_{2j+1} $、$ \\theta_{b,j} $ = $ \\theta_{2(j+1)} $、$ \\frac{I_{\\alpha,j}}{2} = q_{\\alpha,2j+1} $、$ \\frac{I_{\\alpha,j}}{2} = q_{\\alpha,2(j+1)} $と置き換えた場合の面材と中空層の層の番号の関係を以下に示す。"
   ],
   "metadata": {
    "collapsed": false
   }
  },
  {
   "cell_type": "markdown",
   "source": [
    "$$ \n",
    "\\begin{pmatrix} \n",
    " \\frac{1}{R_{0}}+\\frac{1}{R_{1}} & -\\frac{1}{R_{1}} &&&&& \\\\\n",
    " -\\frac{1}{R_{1}} & \\frac{1}{R_{1}}+\\frac{1}{R_{2}} & -\\frac{1}{R_{2}} &&&& \\\\\n",
    " &-\\frac{1}{R_{2}} & \\frac{1}{R_{2}}+\\frac{1}{R_{3}} & -\\frac{1}{R_{3}} &&O& \\\\\n",
    " &&-\\frac{1}{R_{3}} & \\frac{1}{R_{3}}+\\frac{1}{R_{4}} &&& \\\\\n",
    " &&&&&\\ddots&& \\\\\n",
    " &&&&\\ddots&&& \\\\\n",
    " &O&&\\ddots&&&& \\\\\n",
    " &&&&& \\frac{1}{R_{2(n-1)}}+\\frac{1}{R_{2(n-1)+1}} & -\\frac{1}{R_{2(n-1)+1}}  \\\\\n",
    " &&&&&-\\frac{1}{R_{2(n-1)+1}} & \\frac{1}{R_{2(n-1)+1}}+\\frac{1}{R_{2n}}  \\\\\n",
    "\\end{pmatrix} \n",
    "\\begin{pmatrix} \n",
    " \\theta_{1} \\\\\n",
    " \\theta_{2} \\\\\n",
    " \\theta_{3} \\\\\n",
    " \\vdots \\\\\n",
    " \\vdots \\\\\n",
    " \\vdots \\\\\n",
    " \\theta_{2n} \\\\\n",
    "\\end{pmatrix} \n",
    "= \n",
    "\\begin{pmatrix} \n",
    " \\frac{q_{\\alpha,1}}{2} + \\frac{\\theta_{0}}{R_{0}} \\\\ \n",
    " \\frac{q_{\\alpha,2}}{2} \\\\\n",
    " \\frac{q_{\\alpha,3}}{2} \\\\ \n",
    " \\frac{q_{\\alpha,4}}{2} \\\\\n",
    " \\vdots \\\\\n",
    " \\vdots \\\\\n",
    " \\vdots \\\\\n",
    " \\frac{q_{\\alpha,2(n-1)+1}}{2} \\\\ \n",
    " \\frac{q_{\\alpha,2n}}{2} + \\frac{\\theta_{2n+1}}{R_{2n}} \\\\\n",
    "\\end{pmatrix} \n",
    "\\qquad\\qquad\\text{(4)}\n",
    "$$"
   ],
   "metadata": {
    "collapsed": false
   }
  },
  {
   "cell_type": "markdown",
   "source": [
    "![image2.png][attached2]\n",
    "[attached2]:img\\image2.png\n",
    "\n",
    "<div style=\"text-align: center;\">\n",
    "$n$層のグレージング複合体の熱平衡モデル（記号置換後）\n",
    "</div>\n",
    "\n",
    "式(4)の左辺の熱抵抗$R$に関する行列は正定値対称行列であるため、修正コレスキー分解によって熱抵抗$R$及び温度$\\theta$を求める。"
   ],
   "metadata": {
    "collapsed": false
   }
  },
  {
   "cell_type": "markdown",
   "source": [
    "#### 修正コレスキー分解\n",
    "\n",
    "修正コレスキー分解の解法を以下に示す。  "
   ],
   "metadata": {
    "collapsed": false
   }
  },
  {
   "cell_type": "markdown",
   "source": [
    "$$\n",
    "\\begin{eqnarray}\n",
    " &\\displaystyle \\boldsymbol{Ax} = \\boldsymbol{b}& \\qquad\\qquad\\text{(5)} \\nonumber\\\\\n",
    "\\end{eqnarray}\n",
    "$$"
   ],
   "metadata": {
    "collapsed": false
   }
  },
  {
   "cell_type": "markdown",
   "source": [
    "ここで、"
   ],
   "metadata": {
    "collapsed": false
   }
  },
  {
   "cell_type": "markdown",
   "source": [
    "$ \n",
    "\\boldsymbol{A}=\n",
    "\\begin{pmatrix} \n",
    " a_{1,1} & a_{1,2} & \\cdots & a_{1,n} \\\\\n",
    " a_{2,1} & a_{2,2} & \\cdots & a_{2,n} \\\\\n",
    " \\vdots  & \\vdots  & \\ddots & \\vdots  \\\\\n",
    " a_{n,1} & a_{n,2} & \\cdots & a_{n,n} \\\\\n",
    "\\end{pmatrix}\n",
    "$\n",
    "、\n",
    "$\n",
    "\\boldsymbol{x}=\n",
    "\\begin{pmatrix} \n",
    " x_{1} \\\\\n",
    " x_{2} \\\\\n",
    " \\vdots \\\\\n",
    " x_{n} \\\\\n",
    "\\end{pmatrix}\n",
    "$\n",
    "、\n",
    "$\n",
    "\\boldsymbol{b}=\n",
    "\\begin{pmatrix} \n",
    " b_{1} \\\\\n",
    " b_{2} \\\\\n",
    " \\vdots \\\\\n",
    " b_{n} \\\\\n",
    "\\end{pmatrix}\n",
    "$"
   ],
   "metadata": {
    "collapsed": false
   }
  },
  {
   "cell_type": "markdown",
   "source": [
    "ただし、\n",
    "$\n",
    "\\begin{eqnarray}\n",
    " \\displaystyle a_{i,j} = a_{j,i} \\nonumber\\\\\n",
    "\\end{eqnarray}\n",
    "$"
   ],
   "metadata": {
    "collapsed": false
   }
  },
  {
   "cell_type": "markdown",
   "source": [
    "行列$\\boldsymbol{A}$を以下のように分解する。"
   ],
   "metadata": {
    "collapsed": false
   }
  },
  {
   "cell_type": "markdown",
   "source": [
    "$$\n",
    "\\begin{eqnarray}\n",
    " &\\displaystyle \\boldsymbol{A} = \\boldsymbol{LDL}^T& \\qquad\\qquad\\text{(6)} \\nonumber\\\\\n",
    "\\end{eqnarray}\n",
    "$$"
   ],
   "metadata": {
    "collapsed": false
   }
  },
  {
   "cell_type": "markdown",
   "source": [
    "ここで、"
   ],
   "metadata": {
    "collapsed": false
   }
  },
  {
   "cell_type": "markdown",
   "source": [
    "$ \n",
    "\\boldsymbol{L}=\n",
    "\\begin{pmatrix} \n",
    " 1 &&&& \\\\\n",
    " l_{2,1} & 1 &&O& \\\\\n",
    " l_{3,1} & l_{3,2} & 1 && \\\\\n",
    " \\vdots  & \\vdots  & \\vdots  & \\ddots & \\\\\n",
    " l_{n,1} & l_{n,2} & l_{n,3} & \\cdots & 1 \\\\\n",
    "\\end{pmatrix}\n",
    "$\n",
    "、\n",
    "$\n",
    "\\boldsymbol{D}=\n",
    "\\begin{pmatrix} \n",
    " d_{1,1} &&&& \\\\\n",
    " & d_{2,2} &&O& \\\\\n",
    " && \\ddots && \\\\\n",
    " &O&& \\ddots & \\\\\n",
    " &&&& d_{n,n} \\\\\n",
    "\\end{pmatrix}\n",
    "$\n",
    "、\n",
    "$\n",
    "\\boldsymbol{L}^T=\n",
    "\\begin{pmatrix} \n",
    " 1 & l_{1,2} & l_{1,3} & \\cdots & l_{1,n} \\\\\n",
    " & 1 & l_{2,2} & \\cdots & l_{2,n} \\\\\n",
    " && 1 & \\cdots & l_{3,n} \\\\\n",
    " &O&& \\ddots &\\vdots \\\\\n",
    " &&&& 1 \\\\\n",
    "\\end{pmatrix}\n",
    "$  "
   ],
   "metadata": {
    "collapsed": false
   }
  },
  {
   "cell_type": "markdown",
   "source": [
    "ただし、\n",
    "$\n",
    "\\begin{eqnarray}\n",
    " \\displaystyle l_{i,j} = l_{j,i} \\nonumber\\\\\n",
    "\\end{eqnarray}\n",
    "$"
   ],
   "metadata": {
    "collapsed": false
   }
  },
  {
   "cell_type": "markdown",
   "source": [
    "この関係を整理すると、以下のようになる。"
   ],
   "metadata": {
    "collapsed": false
   }
  },
  {
   "cell_type": "markdown",
   "source": [
    "$$\n",
    "\\begin{eqnarray}\n",
    " &\\displaystyle d_{1,1} = a_{1,1}& \\qquad\\qquad\\text{(7)} \\nonumber\\\\\n",
    " \\nonumber \\\\\n",
    " &\\displaystyle l_{k,i} = \\frac{a_{k,i} - \\sum_{j=1}^{i-1} l_{k,j} \\cdot l_{i,j} \\cdot d_{j,j}}{d_{i,i}}& \\qquad\\qquad\\text{(8)} \\nonumber\\\\\n",
    " \\nonumber \\\\\n",
    " &\\displaystyle d_{k,k} = a_{k,k} - \\sum_{i=1}^{k-1} l_{k,i}^2 \\cdot d_{i,i}& \\qquad\\qquad\\text{(9)} \\nonumber\\\\\n",
    "\\end{eqnarray}\n",
    "$$"
   ],
   "metadata": {
    "collapsed": false
   }
  },
  {
   "cell_type": "markdown",
   "source": [
    "式(6)より、 "
   ],
   "metadata": {
    "collapsed": false
   }
  },
  {
   "cell_type": "markdown",
   "source": [
    "$$\n",
    "\\begin{eqnarray}\n",
    " &\\displaystyle \\boldsymbol{LDL}^T \\boldsymbol{x} = \\boldsymbol{b}& \\qquad\\qquad\\text{(10)} \\nonumber\\\\\n",
    "\\end{eqnarray}\n",
    "$$"
   ],
   "metadata": {
    "collapsed": false
   }
  },
  {
   "cell_type": "markdown",
   "source": [
    "$\n",
    "\\begin{eqnarray}\n",
    " \\displaystyle \\boldsymbol{DL}^T \\boldsymbol{x} = \\boldsymbol{y}\\nonumber\\\\\n",
    "\\end{eqnarray}\n",
    "$\n",
    "とすると、"
   ],
   "metadata": {
    "collapsed": false
   }
  },
  {
   "cell_type": "markdown",
   "source": [
    "$$\n",
    "\\begin{eqnarray}\n",
    " &\\displaystyle \\boldsymbol{Ly} = \\boldsymbol{b}& \\qquad\\qquad\\text{(11)} \\nonumber\\\\\n",
    "\\end{eqnarray}\n",
    "$$"
   ],
   "metadata": {
    "collapsed": false
   }
  },
  {
   "cell_type": "markdown",
   "source": [
    "ここで、  "
   ],
   "metadata": {
    "collapsed": false
   }
  },
  {
   "cell_type": "markdown",
   "source": [
    "$ \n",
    "\\boldsymbol{y}=\n",
    "\\begin{pmatrix} \n",
    " y_{1} \\\\\n",
    " y_{2} \\\\\n",
    " \\vdots \\\\\n",
    " y_{n} \\\\\n",
    "\\end{pmatrix}\n",
    "$"
   ],
   "metadata": {
    "collapsed": false
   }
  },
  {
   "cell_type": "markdown",
   "source": [
    "この関係を整理すると、以下のようになる。  "
   ],
   "metadata": {
    "collapsed": false
   }
  },
  {
   "cell_type": "markdown",
   "source": [
    "$$\n",
    "\\begin{eqnarray}\n",
    " &\\displaystyle y_i = b_i \\quad (i=1)& \\qquad\\qquad\\text{(12)} \\nonumber\\\\\n",
    " \\nonumber \\\\\n",
    " &\\displaystyle y_i = b_i - \\sum_{j=1}^{n-1} l_{i,j} \\cdot y_j \\quad (2\\leq i \\leq n)& \\qquad\\qquad\\text{(13)} \\nonumber\\\\\n",
    " \\nonumber \\\\\n",
    " &\\displaystyle x_i = \\frac{y_i}{d_{i,i}} \\quad (i=n)& \\qquad\\qquad\\text{(14)} \\nonumber\\\\\n",
    " \\nonumber \\\\\n",
    " &\\displaystyle x_i = \\frac{y_i - d_{i,i} \\cdot \\sum_{j=i+1}^{n} l_{j,i} \\cdot x_j}{d_{i,i}} \\quad (1\\leq i \\leq n-1)& \\qquad\\qquad\\text{(15)} \\nonumber\\\\\n",
    "\\end{eqnarray}\n",
    "$$\n"
   ],
   "metadata": {
    "collapsed": false
   }
  }
 ],
 "metadata": {
  "kernelspec": {
   "display_name": "Python 3",
   "language": "python",
   "name": "python3"
  },
  "language_info": {
   "codemirror_mode": {
    "name": "ipython",
    "version": 2
   },
   "file_extension": ".py",
   "mimetype": "text/x-python",
   "name": "python",
   "nbconvert_exporter": "python",
   "pygments_lexer": "ipython2",
   "version": "2.7.6"
  },
  "pycharm": {
   "stem_cell": {
    "cell_type": "raw",
    "source": [],
    "metadata": {
     "collapsed": false
    }
   }
  }
 },
 "nbformat": 4,
 "nbformat_minor": 0
}