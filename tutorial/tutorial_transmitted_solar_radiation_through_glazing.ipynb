{
 "cells": [
  {
   "cell_type": "code",
   "execution_count": 1,
   "metadata": {
    "scrolled": true
   },
   "outputs": [],
   "source": [
    "from collections import namedtuple\n",
    "import csv\n",
    "import math\n",
    "import numpy as np\n",
    "import matplotlib.pyplot as plt\n",
    "\n",
    "import sys\n",
    "sys.path.append('..')\n",
    "\n",
    "from module import multiple_reflection as mr\n",
    "from module import division_diffuse_ratio as ddr\n",
    "from module import oblique_incidence_property as oip\n",
    "from module import transmitted_solar_radiation_through_glazing as tsrtg\n",
    "from module import incident_solar_radiation_on_glazing as isrog"
   ]
  },
  {
   "cell_type": "markdown",
   "metadata": {},
   "source": [
    "# 開口面透過日射量を計算するモジュール"
   ]
  },
  {
   "cell_type": "markdown",
   "metadata": {},
   "source": [
    "## 1. Functions  "
   ]
  },
  {
   "cell_type": "markdown",
   "metadata": {},
   "source": [
    "開口面日射量（直達・天空・地表面反射）とグレージング複合体の日射透過率から開口面透過日射量を計算する。"
   ]
  },
  {
   "cell_type": "markdown",
   "metadata": {},
   "source": [
    "### 入力値  \n",
    "\n",
    "$ I_{T,b} $ ：斜面（開口面）直達日射量 (W/m<sup>2</sup>)  \n",
    "$ I_{T,d} $ ：斜面（開口面）天空日射量 (W/m<sup>2</sup>)  \n",
    "$ I_{T,r} $ ：斜面（開口面）地表面反射日射量 (W/m<sup>2</sup>)  \n",
    "$ \\tau_{glz,b} $ ：直達日射に対する日射透過率  \n",
    "$ \\tau_{glz,d,l,m} $ ：天空上の微小要素からの入射日射に対する日射透過率  \n",
    "$ \\tau_{glz,r,l,m} $ ：地表面上の微小要素からの入射日射に対する日射透過率  \n",
    "$ F_{d,l,m} $ ：天空日射量に対する天空上の微小要素からの天空日射量の割合  \n",
    "$ F_{r,l,m} $ ：地表面反射日射量に対する地表面上の微小要素からの地表面反射日射量の割合  "
   ]
  },
  {
   "cell_type": "markdown",
   "metadata": {},
   "source": [
    "### 出力値  \n",
    "\n",
    "$ I_{\\tau} $ ：開口面透過日射量 (W/m<sup>2</sup>)  "
   ]
  },
  {
   "cell_type": "markdown",
   "metadata": {},
   "source": [
    "### 計算方法  \n",
    "\n",
    "#### データ構造と値の範囲  \n",
    "\n",
    "$ \\tau_{glz,b} $・$ \\tau_{glz,d} $・$ \\tau_{glz,r} $ の組み合わせをクラス『tta＿input』とする。  "
   ]
  },
  {
   "cell_type": "markdown",
   "metadata": {},
   "source": [
    "#### 透過日射量の計算  \n",
    "\n",
    "透過日射量の計算方法を以下に示す。"
   ]
  },
  {
   "cell_type": "markdown",
   "metadata": {},
   "source": [
    "$$\n",
    "\\begin{eqnarray}\n",
    " &\\displaystyle I_{\\tau} = I_{T,b} \\cdot \\tau_{glz,b} + I_{T,d} \\cdot \\tau_{glz,d} + I_{T,r} \\cdot \\tau_{glz,r}& \\qquad\\qquad\\text{(1)} \\nonumber\\\\\n",
    " \\nonumber \\\\\n",
    " &\\displaystyle \\tau_{glz,d} = \\sum_{l=0}^{N_{d,lat}-1}\\sum_{m=0}^{N_{d,lon}-1} F_{d,l,m} \\cdot \\tau_{glz,d,l,m}& \\qquad\\qquad\\text{(2)} \\nonumber\\\\\n",
    " \\nonumber \\\\\n",
    " &\\displaystyle \\tau_{glz,r} = \\sum_{l=0}^{N_{r,lat}-1}\\sum_{m=0}^{N_{r,lon}-1} F_{r,l,m} \\cdot \\tau_{glz,r,l,m}& \\qquad\\qquad\\text{(3)} \\nonumber\\\\\n",
    "\\end{eqnarray}\n",
    "$$"
   ]
  },
  {
   "cell_type": "markdown",
   "metadata": {},
   "source": [
    "#### Example"
   ]
  },
  {
   "cell_type": "code",
   "execution_count": 2,
   "metadata": {
    "scrolled": true
   },
   "outputs": [
    {
     "name": "stdout",
     "output_type": "stream",
     "text": [
      "168.53505619275467\n"
     ]
    }
   ],
   "source": [
    "if __name__ == '__main__':\n",
    "\n",
    "    #面材ごとの光学特性\n",
    "    gl_in = [oip.GlassInput(0.815, 0.815, 0.072, 0.072, 0, 0, 0),\n",
    "             oip.GlassInput(0.815, 0.815, 0.072, 0.072, 0, 0, 0),\n",
    "             oip.RoleInput(0.3, 0.3, 0.63, 0.63)]\n",
    "\n",
    "    #斜面日射量\n",
    "    ita_in = isrog.ItaInput(\n",
    "        itb=2.6840261248 * 10. ** 6. / 3600.,\n",
    "        itd=0.1181932153 * 10. ** 6. / 3600.,\n",
    "        itr=0.094 * 10. ** 6. / 3600.\n",
    "    )\n",
    "\n",
    "    #直達日射の入射角\n",
    "    phi_b = 31.6403837639\n",
    "\n",
    "    #天空分割数\n",
    "    Nd_lat = 90\n",
    "    Nd_lon = 180\n",
    "\n",
    "    #地表面反射分割数\n",
    "    Nr_lat = 90\n",
    "    Nr_lon = 180\n",
    "\n",
    "    tau_b = tsrtg.actual_trans_beam(gl_in, phi_b)\n",
    "    tau_d = tsrtg.actual_trans_diffuse(gl_in, Nd_lat, Nd_lon)\n",
    "    tau_r = tsrtg.actual_trans_reflect(gl_in, Nr_lat, Nr_lon)\n",
    "\n",
    "    I_tau = tau_b * ita_in.itb + tau_d * ita_in.itd + tau_r * ita_in.itr\n",
    "    print(I_tau)"
   ]
  },
  {
   "cell_type": "code",
   "execution_count": null,
   "metadata": {},
   "outputs": [],
   "source": []
  }
 ],
 "metadata": {
  "kernelspec": {
   "display_name": "Python 3",
   "language": "python",
   "name": "python3"
  },
  "language_info": {
   "codemirror_mode": {
    "name": "ipython",
    "version": 3
   },
   "file_extension": ".py",
   "mimetype": "text/x-python",
   "name": "python",
   "nbconvert_exporter": "python",
   "pygments_lexer": "ipython3",
   "version": "3.7.6"
  },
  "pycharm": {
   "stem_cell": {
    "cell_type": "raw",
    "metadata": {
     "collapsed": false
    },
    "source": []
   }
  }
 },
 "nbformat": 4,
 "nbformat_minor": 2
}
