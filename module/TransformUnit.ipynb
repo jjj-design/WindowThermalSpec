{
 "cells": [
  {
   "cell_type": "markdown",
   "metadata": {},
   "source": [
    "# 単位変換をするモジュール"
   ]
  },
  {
   "cell_type": "markdown",
   "metadata": {},
   "source": [
    "## 1. Functions  "
   ]
  },
  {
   "cell_type": "markdown",
   "metadata": {},
   "source": [
    "### 1.1. MJ/(m<sup>2</sup>･h) → W/m<sup>2</sup> "
   ]
  },
  {
   "cell_type": "markdown",
   "metadata": {},
   "source": [
    "日射量の単位を MJ/(m<sup>2</sup>･h) から W/m<sup>2</sup> に変換する。"
   ]
  },
  {
   "cell_type": "markdown",
   "metadata": {},
   "source": [
    "### 入力値  \n",
    "\n",
    "$ I_{Joule} $ ：日射量 [MJ/(m<sup>2</sup>･h)]  "
   ]
  },
  {
   "cell_type": "markdown",
   "metadata": {},
   "source": [
    "### 出力値  \n",
    "\n",
    "$ I_{Watt} $ ：日射量 (W/m<sup>2</sup>)  "
   ]
  },
  {
   "cell_type": "markdown",
   "metadata": {},
   "source": [
    "### 計算方法  \n",
    "\n",
    "#### 日射量の単位変換\n",
    "\n",
    "日射量の入力値の単位がMJ/(m<sup>2</sup>･h)の場合には、W/m<sup>2</sup>に単位変換したのち全体計算を行うものとする。  \n",
    "単位の変換方法を以下に示す。"
   ]
  },
  {
   "cell_type": "markdown",
   "metadata": {},
   "source": [
    "$$\n",
    "\\begin{eqnarray}\n",
    " &\\displaystyle I_{Watt} = \\frac{10 ^ 6}{3600} \\cdot I_{Joule}& \\qquad\\qquad\\text{(1)} \\nonumber\\\\\n",
    "\\end{eqnarray}\n",
    "$$"
   ]
  },
  {
   "cell_type": "code",
   "execution_count": 1,
   "metadata": {},
   "outputs": [],
   "source": [
    "def transform_unit_joule2watt(I):\n",
    "    \n",
    "    return I * 10. ** 6. / 3600."
   ]
  },
  {
   "cell_type": "markdown",
   "metadata": {},
   "source": [
    "#### Example"
   ]
  },
  {
   "cell_type": "code",
   "execution_count": 2,
   "metadata": {},
   "outputs": [
    {
     "name": "stdout",
     "output_type": "stream",
     "text": [
      "1367.0\n"
     ]
    }
   ],
   "source": [
    "if __name__ == '__main__':\n",
    "\n",
    "    I_joule = 4.9212\n",
    "    I_watt = transform_unit_joule2watt(I_joule)\n",
    "\n",
    "    print (I_watt)"
   ]
  },
  {
   "cell_type": "markdown",
   "metadata": {},
   "source": [
    "### 1.2. W/m<sup>2</sup> → MJ/(m<sup>2</sup>･h) "
   ]
  },
  {
   "cell_type": "markdown",
   "metadata": {},
   "source": [
    "日射量の単位を W/m<sup>2</sup> から MJ/(m<sup>2</sup>･h) に変換する。"
   ]
  },
  {
   "cell_type": "markdown",
   "metadata": {},
   "source": [
    "### 入力値  \n",
    "\n",
    "$ I_{Watt} $ ：日射量 (W/m<sup>2</sup>)  "
   ]
  },
  {
   "cell_type": "markdown",
   "metadata": {},
   "source": [
    "### 出力値  \n",
    "\n",
    "$ I_{Joule} $ ：日射量 [MJ/(m<sup>2</sup>･h)]  "
   ]
  },
  {
   "cell_type": "markdown",
   "metadata": {},
   "source": [
    "### 計算方法  \n",
    "\n",
    "#### 日射量の単位変換\n",
    "\n",
    "全体計算を行ったのち日射量の単位はW/m<sup>2</sup>からMJ/(m<sup>2</sup>･h)に単位変換する。  \n",
    "単位の変換方法を以下に示す。"
   ]
  },
  {
   "cell_type": "markdown",
   "metadata": {},
   "source": [
    "$$\n",
    "\\begin{eqnarray}\n",
    " &\\displaystyle I_{Joule} = \\frac{3600}{10 ^ 6} \\cdot I_{Watt}& \\qquad\\qquad\\text{(2)} \\nonumber\\\\\n",
    "\\end{eqnarray}\n",
    "$$"
   ]
  },
  {
   "cell_type": "code",
   "execution_count": 3,
   "metadata": {},
   "outputs": [],
   "source": [
    "def transform_unit_watt2joule(I):\n",
    "    \n",
    "    return I * 3600. / 10. ** 6."
   ]
  },
  {
   "cell_type": "markdown",
   "metadata": {},
   "source": [
    "#### Example"
   ]
  },
  {
   "cell_type": "code",
   "execution_count": 4,
   "metadata": {},
   "outputs": [
    {
     "name": "stdout",
     "output_type": "stream",
     "text": [
      "4.9212\n"
     ]
    }
   ],
   "source": [
    "if __name__ == '__main__':\n",
    "    I_watt = 1367.\n",
    "    I_joule = transform_unit_watt2joule(I_watt)\n",
    "\n",
    "    print (I_joule)"
   ]
  }
 ],
 "metadata": {
  "kernelspec": {
   "display_name": "Python 3",
   "language": "python",
   "name": "python3"
  },
  "language_info": {
   "codemirror_mode": {
    "name": "ipython",
    "version": 3
   },
   "file_extension": ".py",
   "mimetype": "text/x-python",
   "name": "python",
   "nbconvert_exporter": "python",
   "pygments_lexer": "ipython3",
   "version": "3.6.4"
  }
 },
 "nbformat": 4,
 "nbformat_minor": 2
}
