{
 "cells": [
  {
   "cell_type": "code",
   "execution_count": 1,
   "metadata": {
    "collapsed": false
   },
   "outputs": [
    {
     "name": "stdout",
     "output_type": "stream",
     "text": [
      "Importing Jupyter notebook from ..\\module\\sun_position.ipynb\n",
      "Importing Jupyter notebook from Weather.ipynb\n"
     ]
    }
   ],
   "source": [
    "import csv\n",
    "import math\n",
    "import numpy as np\n",
    "import matplotlib.pyplot as plt\n",
    "import sys\n",
    "import nbimporter\n",
    "\n",
    "sys.path.append('../')\n",
    "from module import sun_position\n",
    "import Weather as WEA"
   ]
  },
  {
   "cell_type": "markdown",
   "metadata": {},
   "source": [
    "# 太陽位置を計算するモジュール"
   ]
  },
  {
   "cell_type": "markdown",
   "metadata": {},
   "source": [
    "## 1. Functions  "
   ]
  },
  {
   "cell_type": "markdown",
   "metadata": {},
   "source": [
    "任意の時刻・緯度・経度における太陽高度角・太陽方位角を計算する。"
   ]
  },
  {
   "cell_type": "markdown",
   "metadata": {},
   "source": [
    "### 入力値  \n",
    "\n",
    "$ Y $ ：西暦年（year）  \n",
    "$ D $ ：1月1日を初日（$D=1$）とする計算対象日の年通算日 (day)  \n",
    "$ T_m $ ：標準時 (h)  \n",
    "$ \\Phi $ ：計算対象地点の緯度 (°)  \n",
    "$ L $ ：計算対象地点の経度 (°)  "
   ]
  },
  {
   "cell_type": "markdown",
   "metadata": {},
   "source": [
    "### 出力値\n",
    "\n",
    "$ h $ ：太陽高度角 (°)  \n",
    "$ A $ ：太陽方位角 (°)  "
   ]
  },
  {
   "cell_type": "markdown",
   "metadata": {},
   "source": [
    "### 計算方法\n",
    "\n",
    "#### データ構造と値の範囲\n",
    "\n",
    "$Y$・$D$・$T_m$・$\\Phi$・$L$の組み合わせをクラス『sp＿input』と定義する。  \n",
    "$h$は0°以上、90°以下の値をとる（地平：0°、天頂：90°）。  \n",
    "$A$は-180°以上、180°以下の値をとる（東：-90°、南：0°、西：90°）。"
   ]
  },
  {
   "cell_type": "markdown",
   "metadata": {},
   "source": [
    "#### 太陽高度角及び太陽方位角の計算"
   ]
  },
  {
   "cell_type": "markdown",
   "metadata": {},
   "source": [
    "太陽高度角$ h $、太陽方位角$ A $の計算方法を以下に示す。  \n",
    "（参考：拡張アメダス気象データ1981-2000解説書 8.1　太陽位置の計算）  "
   ]
  },
  {
   "cell_type": "markdown",
   "metadata": {},
   "source": [
    "$$\n",
    "\\begin{eqnarray}\n",
    " &\\displaystyle \\sin h = \\sin \\Phi \\cdot \\sin \\delta + \\cos \\Phi \\cdot \\cos \\delta \\cdot \\cos t& \\qquad\\qquad\\text{(1)} \\nonumber\\\\\n",
    " \\nonumber \\\\\n",
    " &\\displaystyle \\sin A = \\frac{ \\cos \\delta \\cdot \\sin t }{ \\cos h }& \\qquad\\qquad\\text{(2)} \\nonumber\\\\\n",
    " \\nonumber \\\\\n",
    " &\\displaystyle \\cos A = \\frac{ \\sin h \\cdot \\sin \\Phi - \\sin \\delta }{ \\cos h \\cdot \\cos \\phi }& \\qquad\\qquad\\text{(3)} \\nonumber\\\\\n",
    " \\nonumber \\\\\n",
    " &\\displaystyle t = 15 \\cdot ( T_m - 12 ) + ( L - L_0 ) + E_t& \\qquad\\qquad\\text{(4)} \\nonumber\\\\\n",
    " \\nonumber \\\\\n",
    " &\\displaystyle \\sin \\delta = \\cos ( v + \\epsilon ) \\cdot \\sin \\delta_0& \\qquad\\qquad\\text{(5)} \\nonumber\\\\\n",
    " \\nonumber \\\\\n",
    " &\\displaystyle E_t = (M - v) - \\tan^{-1} \\biggl[ \\frac{ 0.043 \\cdot \\sin 2( v + \\epsilon ) }{ 1 - 0.043 \\cdot \\cos 2(v + \\epsilon) } \\biggr]& \\qquad\\qquad\\text{(6)} \\nonumber\\\\\n",
    " \\nonumber \\\\ \n",
    " &\\displaystyle v = M + 1.914 \\cdot \\sin M + 0.02 \\cdot \\sin(2M)& \\qquad\\qquad\\text{(7)} \\nonumber\\\\\n",
    " \\nonumber \\\\\n",
    " &\\displaystyle \\epsilon = 12.3901 + 0.0172 \\cdot \\biggl( n + \\frac{ M }{ 360 } \\biggr)& \\qquad\\qquad\\text{(8)} \\nonumber\\\\\n",
    " \\nonumber \\\\\n",
    " &\\displaystyle M = \\frac{ 360 \\cdot (D - d_0) }{ D_{ay} }& \\qquad\\qquad\\text{(9)} \\nonumber\\\\\n",
    " \\nonumber \\\\\n",
    " &\\displaystyle d_0 = 3.71 + 0.2596 \\cdot n - INT \\biggl[ \\frac{ n + 3 }{ 4 } \\biggr]& \\qquad\\qquad\\text{(10)} \\nonumber\\\\\n",
    " \\nonumber \\\\\n",
    " &\\displaystyle n = Y - 1968& \\qquad\\qquad\\text{(11)} \\nonumber\\\\\n",
    " \\nonumber \\\\\n",
    "\\end{eqnarray}\n",
    "$$"
   ]
  },
  {
   "cell_type": "markdown",
   "metadata": {},
   "source": [
    "ここで、  \n",
    "\n",
    "$ \\delta $ ：赤緯 (°)  \n",
    "$ t $ ：時角 (°)  \n",
    "$ L_0 $ ：標準時の地点の経度（=135.0（日本の場合）） (°)  \n",
    "$ E_t $ ：均時差 (°)  \n",
    "$ v $ ：真近点離角 (°)  \n",
    "$ \\epsilon $ ：近日点と冬至点の角度 (°)  \n",
    "$ \\delta_0 $ ：北半球の冬至の日赤緯（= -23.4393） (°)  \n",
    "$ M $ ：平均近点離角 (°)  \n",
    "$ n $ ：1968年との年差 (year)  \n",
    "$ d_0 $ ：平均軌道上の近日点通過日（暦表時による1968年1月1日正午基準の日差）(day)  \n",
    "$ D_{ay} $ ：近点年（近日点基準の公転周期日数）（= 365.2596） (day)  \n",
    "$ INT[] $ ：小数点以下切り捨て  \n",
    "$ Y $ ：西暦年 (year)  \n",
    "\n",
    "である。  "
   ]
  },
  {
   "cell_type": "code",
   "execution_count": 12,
   "metadata": {},
   "outputs": [],
   "source": [
    "#太陽位置の計算\n",
    "#太陽高度角、太陽方位角\n",
    "def solar_position(year, nday, tm, lat, lon):\n",
    "    n = year - 1968. #式(11)\n",
    "    d0 = 3.71 + 0.2596 * n - int((n + 3.) / 4.) #式(10)\n",
    "    Day = 365.2596\n",
    "    M = 360. * (nday - d0) / Day #式(9)\n",
    "    eps = 12.3901 + 0.0172 * (n + M / 360.) #式(8)\n",
    "    v = M + 1.914 * math.sin(math.radians(M)) + 0.02 * math.sin(math.radians(2. * M)) #式(7)\n",
    "    veps = math.radians(v + eps)\n",
    "    et = (M - v) - math.degrees(math.atan(0.043 * math.sin(2. * veps) / (1. - 0.043 * math.cos(2. * veps)))) #式(6)\n",
    "    dlt0 = math.radians(-23.4393)\n",
    "    sindlt = math.cos(veps) * math.sin(dlt0) #式(5)\n",
    "    cosdlt = (abs(1. - sindlt ** 2.)) ** 0.5\n",
    "    dlt = math.asin(sindlt)\n",
    "    lons = 135.\n",
    "    t = 15. * (tm - 12.) + (lon - lons) + et #式(4)\n",
    "    latrad = math.radians(lat)\n",
    "    trad = math.radians(t)\n",
    "    \n",
    "    hs, sin_hs, cos_hs = sun_position.calc_hs(latrad, dlt, trad)\n",
    "    \n",
    "    if sin_hs > 0.:\n",
    "        A = sun_position.calc_Azs(latrad, dlt, trad, hs)\n",
    "    else:\n",
    "        A = 0.0\n",
    "\n",
    "    return math.degrees(hs), math.degrees(A)"
   ]
  },
  {
   "cell_type": "markdown",
   "metadata": {},
   "source": [
    "#### Example"
   ]
  },
  {
   "cell_type": "code",
   "execution_count": 13,
   "metadata": {},
   "outputs": [
    {
     "data": {
      "image/png": "[encoded data removed]",
      "text/plain": [
       "<Figure size 1080x360 with 2 Axes>"
      ]
     },
     "metadata": {},
     "output_type": "display_data"
    }
   ],
   "source": [
    "if __name__ == '__main__':\n",
    "\n",
    "    location = '3639999'               #東京ID\n",
    "    year = 1995                        #西暦年\n",
    "    lat = 35. + 41.2 / 60.             #計算対象地点の緯度 (°)  \n",
    "    lon = 139. + 45.9 / 60.            #計算対象地点の経度 (°)  \n",
    "\n",
    "    sp_result = np.empty((5,8760))\n",
    "\n",
    "    for i in range(0, 8760):\n",
    "        nday = int((i + 1.) / 24.) + 1.\n",
    "        tm = ((i + 1.) / 24. - int((i + 1.) / 24.)) * 24.\n",
    "        sp_result[0][i] = i + 1.                                           #年通算時間\n",
    "        sp_result[1][i] = int((i + 1.) / 24.) + 1.                         #年通算日\n",
    "        sp_result[2][i] = ((i + 1.) / 24. - int((i + 1.) / 24.)) * 24.     #時刻\n",
    "        sp_result[3][i] = solar_position(year, nday, tm, lat, lon)[0]                         #太陽高度角\n",
    "        sp_result[4][i] = solar_position(year, nday, tm, lat, lon)[1]                         #太陽方位角\n",
    "\n",
    "    #np.savetxt(location + '_out_sp.csv', np.transpose(sp_result), fmt='%.10f', delimiter=',')\n",
    "\n",
    "    #確認用気象データ読込\n",
    "    wc = WEA.WeatherConfirm(location)\n",
    "\n",
    "    #グラフの描画\n",
    "    graph_num = 2\n",
    "    ax = np.empty(graph_num, dtype = np.object)\n",
    "    fig = plt.figure(figsize = (15, 5 * ((graph_num + 1) // 2)))\n",
    "    plt.style.use('ggplot')\n",
    "\n",
    "    gpc = 'C0'\n",
    "    gxd = [[[r.w_h for r in wc.rows], [0,90]], [[r.w_A for r in wc.rows], [-120,120]]]\n",
    "    gyd = [[sp_result[3][0:8760], [0,90]], [sp_result[4][0:8760], [-120,120]]]\n",
    "    gxl = ['h(eadata) (°)','A(eadata) (°)']\n",
    "    gyl = ['h(calc) (°)', 'A(calc) (°)']\n",
    "    gxt = [[10 * i for i in range(10)], [30 * (i - 4) for i in range(9)]]\n",
    "    gyt = [[10 * i for i in range(10)], [30 * (i - 4) for i in range(9)]]\n",
    "\n",
    "    for i in range(graph_num):   \n",
    "        ax[i] = fig.add_subplot((graph_num + 1) // 2, 2, i + 1)\n",
    "        ax[i].scatter(gxd[i][0], gyd[i][0], color = gpc)\n",
    "        ax[i].plot(gxd[i][1], gyd[i][1], color = (0,0,0))\n",
    "        ax[i].set_xticks(gxt[i])\n",
    "        ax[i].set_yticks(gyt[i])\n",
    "        ax[i].set_xlabel(gxl[i], fontsize = 12)\n",
    "        ax[i].set_ylabel(gyl[i], fontsize = 12)\n",
    "\n",
    "    plt.show()"
   ]
  },
  {
   "cell_type": "code",
   "execution_count": null,
   "metadata": {
    "collapsed": true
   },
   "outputs": [],
   "source": []
  }
 ],
 "metadata": {
  "kernelspec": {
   "display_name": "Python 3",
   "language": "python",
   "name": "python3"
  },
  "language_info": {
   "codemirror_mode": {
    "name": "ipython",
    "version": 3
   },
   "file_extension": ".py",
   "mimetype": "text/x-python",
   "name": "python",
   "nbconvert_exporter": "python",
   "pygments_lexer": "ipython3",
   "version": "3.6.5"
  }
 },
 "nbformat": 4,
 "nbformat_minor": 2
}
