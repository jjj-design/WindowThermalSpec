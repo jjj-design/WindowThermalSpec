{
 "cells": [
  {
   "cell_type": "code",
   "execution_count": 1,
   "metadata": {},
   "outputs": [],
   "source": [
    "from collections import namedtuple\n",
    "import csv\n",
    "import math\n",
    "import numpy as np\n",
    "import matplotlib.pyplot as plt"
   ]
  },
  {
   "cell_type": "markdown",
   "metadata": {},
   "source": [
    "# 室内側へ流入する吸収日射量を計算するモジュール"
   ]
  },
  {
   "cell_type": "markdown",
   "metadata": {},
   "source": [
    "## 1. Functions  "
   ]
  },
  {
   "cell_type": "markdown",
   "metadata": {},
   "source": [
    "$ N_{lay} $層の面材からなるグレージング複合体の熱抵抗と層$j$の吸収日射量から室内側へ流入する吸収日射量を計算する。"
   ]
  },
  {
   "cell_type": "markdown",
   "metadata": {},
   "source": [
    "### 入力値  \n",
    "\n",
    "$ I_{\\alpha,j} $ ：層$j$での吸収日射量（$0$～$N_{lay}-1$） (W/m<sup>2</sup>)  \n",
    "$ R_{glz,k} $ ：グレージング複合体の$k$番目の熱抵抗（$0$番目を屋外側表面熱伝達抵抗、$2 \\cdot j$番目をグレージング層$j-1$番目と$j$番目の間の中間層の熱抵抗、グレージング層の熱抵抗、$2 \\cdot j+1$番目をグレージング層$j$番目の熱抵抗、$2 \\cdot N_{lay}$番目を室内側表面熱伝達抵抗とした直列の熱抵抗）(m<sup>2</sup>･K/W)   "
   ]
  },
  {
   "cell_type": "markdown",
   "metadata": {},
   "source": [
    "### 出力値  \n",
    "\n",
    "$ I_{qi} $ ：室内側へ流入する吸収日射量 (W/m<sup>2</sup>)  "
   ]
  },
  {
   "cell_type": "markdown",
   "metadata": {},
   "source": [
    "### 計算方法  \n",
    "\n",
    "#### データ構造と値の範囲  \n",
    "$ I_{\\alpha} $・$ R_{glz} $の組み合わせをクラス『qin＿input』と定義する。  "
   ]
  },
  {
   "cell_type": "code",
   "execution_count": 2,
   "metadata": {},
   "outputs": [],
   "source": [
    "class qin_input():\n",
    "    def __init__( self, ia, rglz ):\n",
    "        self.ia = ia\n",
    "        self.rglz = rglz\n",
    "        \n",
    "#ia：グレージング各層の吸収日射量(W/m2)\n",
    "#rglz：直列に並べたグレージング複合体の熱抵抗[(m・K2)/W]"
   ]
  },
  {
   "cell_type": "markdown",
   "metadata": {},
   "source": [
    "#### 各層の吸収日射熱が室内側へ再放出される割合\n",
    "\n",
    "層$j$の面材の吸収日射熱が室内側へ再放出される割合$N_{in,j}$の計算方法を以下に示す。  \n",
    "\n",
    "（参考：JIS A 2103：2014 5.4.1 計算基礎式）  "
   ]
  },
  {
   "cell_type": "markdown",
   "metadata": {},
   "source": [
    "$$\n",
    "\\begin{eqnarray}\n",
    " &\\displaystyle N_{in,j} = \\frac {\\sum_{k=0}^{2 \\cdot j} R_{glz,k} + \\frac {R_{glz,2 \\cdot j+1}}{2}}{\\sum_{k=0}^{2 \\cdot N_{lay}} R_{glz,k}}& \\qquad\\qquad\\text{(1)} \\nonumber\\\\\n",
    "\\end{eqnarray}\n",
    "$$"
   ]
  },
  {
   "cell_type": "markdown",
   "metadata": {},
   "source": [
    "#### 室内へ流入する吸収日射量\n",
    "\n",
    "室内へ流入する吸収日射熱量$I_{qi}$の計算方法を以下に示す。  \n",
    "\n",
    "（参考：JIS A 2103：2014 5.4.2 計算基礎式）  "
   ]
  },
  {
   "cell_type": "markdown",
   "metadata": {},
   "source": [
    "$$\n",
    "\\begin{eqnarray}\n",
    " &\\displaystyle I_{qi} = \\sum_{j=0}^{N_{lay}-1} I_{\\alpha,j} \\cdot N_{in,j}& \\qquad\\qquad\\text{(2)} \\nonumber\\\\\n",
    "\\end{eqnarray}\n",
    "$$"
   ]
  },
  {
   "cell_type": "code",
   "execution_count": 3,
   "metadata": {},
   "outputs": [],
   "source": [
    "def Inward_Heat_Transfer(L):\n",
    "\n",
    "    sum_R = 0.\n",
    "    R_in = np.zeros(len(L.ia))\n",
    "    for j in range(len(L.ia)):\n",
    "        sum_R += L.rglz[2 * j] + L.rglz[2 * j + 1]\n",
    "        R_in[j] = sum_R -  L.rglz[2 * j + 1] / 2.\n",
    "\n",
    "    R_tot = sum_R + L.rglz[2 * len(L.ia)]\n",
    "    N_in = np.zeros(len(L.ia))\n",
    "    r_qin = 0.\n",
    "    for j in range(len(L.ia)):\n",
    "        N_in[j] = R_in[j] / R_tot\n",
    "        r_qin += L.ia[j] * N_in[j]\n",
    "        \n",
    "    return r_qin"
   ]
  },
  {
   "cell_type": "markdown",
   "metadata": {},
   "source": [
    "#### Example"
   ]
  },
  {
   "cell_type": "code",
   "execution_count": 4,
   "metadata": {},
   "outputs": [
    {
     "name": "stdout",
     "output_type": "stream",
     "text": [
      "94.62524942603363\n"
     ]
    }
   ],
   "source": [
    "if __name__ == '__main__':\n",
    "\n",
    "    qin_ia =[109.03733774, 84.53584395, 63.94106107]\n",
    "    qin_rglz = [0.04178292, 0.003, 0.1761019, 0.003, 0.16618873, 0.003, 0.12007248]\n",
    "\n",
    "    qin_in = qin_input(qin_ia, qin_rglz)\n",
    "    I_qi = Inward_Heat_Transfer(qin_in)\n",
    "\n",
    "    print (I_qi)"
   ]
  }
 ],
 "metadata": {
  "kernelspec": {
   "display_name": "Python 3",
   "language": "python",
   "name": "python3"
  },
  "language_info": {
   "codemirror_mode": {
    "name": "ipython",
    "version": 3
   },
   "file_extension": ".py",
   "mimetype": "text/x-python",
   "name": "python",
   "nbconvert_exporter": "python",
   "pygments_lexer": "ipython3",
   "version": "3.6.4"
  }
 },
 "nbformat": 4,
 "nbformat_minor": 2
}
