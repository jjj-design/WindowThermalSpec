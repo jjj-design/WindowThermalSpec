{
 "cells": [
  {
   "cell_type": "code",
   "execution_count": 1,
   "metadata": {},
   "outputs": [
    {
     "name": "stdout",
     "output_type": "stream",
     "text": [
      "Importing Jupyter notebook from ..\\module\\sun_position.ipynb\n"
     ]
    }
   ],
   "source": [
    "import csv\n",
    "import nbimporter\n",
    "import math\n",
    "import sys\n",
    "import os\n",
    "sys.path.append('../')\n",
    "from module import sun_position"
   ]
  },
  {
   "cell_type": "code",
   "execution_count": 2,
   "metadata": {},
   "outputs": [],
   "source": [
    "def get_directory_path():\n",
    "    if os.path.isdir('./SCFConfig01'):\n",
    "        return './SCFConfig01/'\n",
    "    elif os.path.isdir('./module/SCFConfig01'):\n",
    "        return './module/SCFConfig01/'        "
   ]
  },
  {
   "cell_type": "markdown",
   "metadata": {},
   "source": [
    "# Functions"
   ]
  },
  {
   "cell_type": "markdown",
   "metadata": {},
   "source": [
    "## read_input_poind_config"
   ]
  },
  {
   "cell_type": "markdown",
   "metadata": {},
   "source": [
    "### Outline"
   ]
  },
  {
   "cell_type": "markdown",
   "metadata": {},
   "source": [
    "Zone.csv の説明\n",
    "- 1行目はヘッダ：地域区分, 都市, 緯度, 経度, 日射量ファイル名, 暖房開始日, 暖房終了日, 冷房開始日, 冷房終了日\n",
    "- 2～9行目：1～8地域の「地域区分, 都市, 緯度, 経度, 日射量ファイル名, 暖房開始日, 暖房終了日, 冷房開始日, 冷房終了日」\n",
    "\n",
    "暖冷房開始日終了日の書式：5桁もしくは6桁の数字\n",
    "      \n",
    "- 気象データの日時表記と同じ\n",
    "- 後ろから2桁：時刻\n",
    "- 後ろから3～4桁：日\n",
    "- 後ろから5～6桁：月\n",
    "- 気象データの「暖房=1,冷房2」の設定は上書き処理される → `Zone.csv` の設定が優先\n",
    "\n",
    "地点データを \\Zone.csv から読み込む  \n",
    "\\地域区分+日射量データ窓面入射角特性.xlsx \"地域区分\"シート\n",
    "→ \\SCFConfig01 下の地点データファイル \\Zone.csv を作成 → 読み込み"
   ]
  },
  {
   "cell_type": "markdown",
   "metadata": {},
   "source": [
    "### Function"
   ]
  },
  {
   "cell_type": "code",
   "execution_count": 3,
   "metadata": {},
   "outputs": [],
   "source": [
    "def input_Point(tag):\n",
    "    \n",
    "    def convert_tag_to_city(tag):\n",
    "        if type(tag) == int: # name に数字が指定された場合は省エネ基準の地域区分番号とみなして該当する都市に置き換える\n",
    "            return {\n",
    "                '1' : '北見',\n",
    "                '2' : '岩見沢',\n",
    "                '3' : '盛岡',\n",
    "                '4' : '長野',\n",
    "                '5' : '宇都宮',\n",
    "                '6' : '岡山',\n",
    "                '7' : '宮崎',\n",
    "                '8' : '那覇'\n",
    "            }[str(tag)]\n",
    "        else: # その他の場合は都市名が入力されているものとし、変換は行わない\n",
    "            return tag\n",
    "    \n",
    "    ZONE_FILE = get_directory_path() + 'Zone.csv'\n",
    "    \n",
    "    city_name = convert_tag_to_city(tag)\n",
    "\n",
    "    with open(ZONE_FILE, 'r') as f:\n",
    "        \n",
    "        reader = csv.reader(f)\n",
    "        header = next(reader) # Skip header.\n",
    "\n",
    "        matched_rows = [ row for row in reader if row[1] == city_name ]  # Extract row matched.\n",
    "        \n",
    "        if len(matched_rows) == 0:  # In the case that there is now matched data.\n",
    "            raise IndexError(\"地点データがありません\")\n",
    "        elif len(matched_rows) > 1:  # In the case that there are more than 1 matched data.\n",
    "            raise IndexError(\"該当する地点データが複数見つかりました\")\n",
    "        else:\n",
    "            matched_row = matched_rows[0]\n",
    "            return [\n",
    "                int(matched_row[0]), # region\n",
    "                matched_row[1],      # city name\n",
    "                float(matched_row[2]), # latitude\n",
    "                float(matched_row[3]), # longitude\n",
    "                matched_row[4],      # file name\n",
    "                int(matched_row[5]), # start of heating period\n",
    "                int(matched_row[6]), # end of heating period\n",
    "                int(matched_row[7]), # start of cooling period\n",
    "                int(matched_row[8])  # end of cooling period\n",
    "            ]\n",
    "            # ここで返るSRFileNameはファイル名のみ"
   ]
  },
  {
   "cell_type": "markdown",
   "metadata": {},
   "source": [
    "### Example 1"
   ]
  },
  {
   "cell_type": "markdown",
   "metadata": {},
   "source": [
    "省エネルギー基準における地域区分の番号で指定した場合"
   ]
  },
  {
   "cell_type": "code",
   "execution_count": 4,
   "metadata": {},
   "outputs": [
    {
     "name": "stdout",
     "output_type": "stream",
     "text": [
      "[1, '北見', 43.82, 143.91, 'SRforSCF_01.csv', 110100, 43024, 50100, 103124]\n",
      "[2, '岩見沢', 43.21, 141.78833, 'SRforSCF_02.csv', 110100, 43024, 50100, 103124]\n",
      "[3, '盛岡', 39.695, 141.168333333333, 'SRforSCF_03.csv', 120100, 33124, 40100, 113024]\n",
      "[4, '長野', 36.66, 138.195, 'SRforSCF_04.csv', 120100, 33124, 40100, 113024]\n",
      "[5, '宇都宮', 36.5466666666667, 139.871666666667, 'SRforSCF_05.csv', 120100, 33124, 40100, 113024]\n",
      "[6, '岡山', 34.6583333333333, 133.918333333333, 'SRforSCF_06.csv', 120100, 33124, 40100, 113024]\n",
      "[7, '宮崎', 31.935, 131.416666666667, 'SRforSCF_07.csv', 120100, 33124, 40100, 113024]\n",
      "[8, '那覇', 26.2033333333333, 127.688333333333, 'SRforSCF_08.csv', 10100, 33124, 40100, 123124]\n"
     ]
    }
   ],
   "source": [
    "for i in range(1,9):\n",
    "    print( input_Point( i ) )"
   ]
  },
  {
   "cell_type": "markdown",
   "metadata": {},
   "source": [
    "### Example 2"
   ]
  },
  {
   "cell_type": "markdown",
   "metadata": {},
   "source": [
    "都市名で指定した場合"
   ]
  },
  {
   "cell_type": "code",
   "execution_count": 5,
   "metadata": {},
   "outputs": [
    {
     "name": "stdout",
     "output_type": "stream",
     "text": [
      "[5, '宇都宮', 36.5466666666667, 139.871666666667, 'SRforSCF_05.csv', 120100, 33124, 40100, 113024]\n",
      "[8, '那覇', 26.2033333333333, 127.688333333333, 'SRforSCF_08.csv', 10100, 33124, 40100, 123124]\n"
     ]
    }
   ],
   "source": [
    "print(input_Point( \"宇都宮\"))\n",
    "print(input_Point( \"那覇\" ))"
   ]
  },
  {
   "cell_type": "markdown",
   "metadata": {},
   "source": [
    "### Example 3"
   ]
  },
  {
   "cell_type": "markdown",
   "metadata": {},
   "source": [
    "都市名で指定したが該当する名前がリストになかった場合"
   ]
  },
  {
   "cell_type": "code",
   "execution_count": 6,
   "metadata": {},
   "outputs": [
    {
     "name": "stdout",
     "output_type": "stream",
     "text": [
      "地点データがありません\n"
     ]
    }
   ],
   "source": [
    "try:\n",
    "    input_Point( \"東京\" ) #データなし\n",
    "except IndexError as e:\n",
    "    print(e)"
   ]
  },
  {
   "cell_type": "markdown",
   "metadata": {},
   "source": [
    "## input_SRData"
   ]
  },
  {
   "cell_type": "markdown",
   "metadata": {},
   "source": [
    "### Outline"
   ]
  },
  {
   "cell_type": "markdown",
   "metadata": {},
   "source": [
    "`\\SRforSCF_\\*\\*.csv`\n",
    "- \\*\\*は、1～8地域に対応して01～08の数字が入る(基本)。\n",
    "- `\\Zone.csv` に追加して対応することは可能。   \n",
    "    \n",
    "- 法線面直達日射量、水平面天空日射量、暖房期or冷房期の判別タグ(暖房期:1, 冷房期:2, 非空調期:0)\n",
    "- 日射量の単位は kcal/(m<sup>2</sup>h)] → 効果係数算定には問題ないのでそのまま使用している\n",
    "    \n",
    "    \n",
    "- 1行目はヘッダ：`\\SRforSCF_\\*\\*.csv`(ファイル名), 法線面直達日射量, 水平面天空日射量, 暖房1_冷房2\n",
    "- 2～8762行目：日時, 法線面直達日射量, 水平面天空日射量, 暖房1_冷房2\n",
    "- 2行目が1月1日0時、8762行目が12月31日24時。1時間間隔。全8761データ\n",
    "- 気象データファイル中の「暖房1冷房2」の設定は、`\\Zone.csv` の設定で上書きされる → 現時点で意味なし\n",
    "- 1列目の日時から「月」を算出\n",
    "\n",
    "気象データを \\SRforSCF_**.csv から読み込む  \n",
    "\n",
    "\\地域区分+日射量データ窓面入射角特性.xlsx \"SRforSCF_**.csv\"シート \n",
    "\n",
    "→ \\SCFConfig01 下の地点データファイル \\SRforSCF_**.csv を作成 → 読み込み"
   ]
  },
  {
   "cell_type": "markdown",
   "metadata": {},
   "source": [
    "### Function"
   ]
  },
  {
   "cell_type": "code",
   "execution_count": 7,
   "metadata": {},
   "outputs": [],
   "source": [
    "def input_SRData(file_name, h_period_start, h_period_end, c_period_start, c_period_end):\n",
    "\n",
    "    def judge_heating_or_cooling_period(day_time):\n",
    "        \n",
    "        def is_cooling_period(day_time):\n",
    "            \n",
    "            # 冷房期間内の場合\n",
    "            if c_period_start <= day_time <= c_period_end:\n",
    "                return True\n",
    "            \n",
    "            # 冷房期間が年をまたぐ場合\n",
    "            if c_period_start > c_period_end:\n",
    "                if c_period_start <= day_time:\n",
    "                    return True\n",
    "                if day_time <= c_period_end:\n",
    "                    return True\n",
    "            \n",
    "            return False\n",
    "        \n",
    "        def is_heating_period(day_time):\n",
    "\n",
    "            # 暖房期間内の場合\n",
    "            if h_period_start <= day_time <= h_period_end:\n",
    "                return True\n",
    "            \n",
    "            # 暖房期間が年をまたぐ場合\n",
    "            if h_period_start > h_period_end:\n",
    "                if h_period_start <= day_time:\n",
    "                    return True\n",
    "                if day_time <= h_period_end:\n",
    "                    return True\n",
    "\n",
    "            return False\n",
    "                \n",
    "        HeatingPeriod, CoolingPeriod, NonACPeriod = 1, 2, 0\n",
    "\n",
    "        if is_cooling_period(day_time):\n",
    "            return CoolingPeriod \n",
    "        elif is_heating_period(day_time):\n",
    "            return HeatingPeriod\n",
    "        else:\n",
    "            # 上記のいずれのケースにも当てはまらない場合 = 非暖冷房期間\n",
    "            return NonACPeriod\n",
    "\n",
    "    # n: 1/1 0:00 を 0 とするindex. 12/31 24:00 まであるため、0~8760 の 8761 個の値である。\n",
    "    def make_new_row(n, row):\n",
    "        return [\n",
    "            n,\n",
    "            int(row[0]),\n",
    "            int(row[1]),\n",
    "            int(row[2]),\n",
    "            judge_heating_or_cooling_period(int(row[0]))\n",
    "        ]\n",
    "    \n",
    "    # file_name = \"SRforSCF_**.csv\"\n",
    "    \n",
    "    PATH = get_directory_path()\n",
    "    # PATH = './SCFConfig01/'\n",
    "    \n",
    "    file_path = PATH + file_name\n",
    "    \n",
    "    with open(file_path, 'r') as f:\n",
    "        \n",
    "        reader = csv.reader(f)\n",
    "        header = next(reader) # Skip header.\n",
    "    \n",
    "        # \\Zone.csv の設定で、暖房期,冷房期,非空調期を割り当て\n",
    "        # 元ファイルの4列目はなかったことになる。\n",
    "\n",
    "        return [make_new_row(n, row) for (n, row) in enumerate(reader)] # 8761 行をもつ"
   ]
  },
  {
   "cell_type": "markdown",
   "metadata": {},
   "source": [
    "#### Example"
   ]
  },
  {
   "cell_type": "code",
   "execution_count": 8,
   "metadata": {},
   "outputs": [
    {
     "name": "stdout",
     "output_type": "stream",
     "text": [
      "SRforSCF_01.csv\n",
      "Expected start of heating period: 110100\n",
      "Expected end of heating period: 43024\n",
      "Expected start of cooling period: 50100\n",
      "Expected end of cooling period: 103124\n",
      "43024 1 50101 2\n",
      "103124 2 110101 1\n",
      "SRforSCF_02.csv\n",
      "Expected start of heating period: 110100\n",
      "Expected end of heating period: 43024\n",
      "Expected start of cooling period: 50100\n",
      "Expected end of cooling period: 103124\n",
      "43024 1 50101 2\n",
      "103124 2 110101 1\n",
      "SRforSCF_03.csv\n",
      "Expected start of heating period: 120100\n",
      "Expected end of heating period: 33124\n",
      "Expected start of cooling period: 40100\n",
      "Expected end of cooling period: 113024\n",
      "33124 1 40101 2\n",
      "113024 2 120101 1\n",
      "SRforSCF_04.csv\n",
      "Expected start of heating period: 120100\n",
      "Expected end of heating period: 33124\n",
      "Expected start of cooling period: 40100\n",
      "Expected end of cooling period: 113024\n",
      "33124 1 40101 2\n",
      "113024 2 120101 1\n",
      "SRforSCF_05.csv\n",
      "Expected start of heating period: 120100\n",
      "Expected end of heating period: 33124\n",
      "Expected start of cooling period: 40100\n",
      "Expected end of cooling period: 113024\n",
      "33124 1 40101 2\n",
      "113024 2 120101 1\n",
      "SRforSCF_06.csv\n",
      "Expected start of heating period: 120100\n",
      "Expected end of heating period: 33124\n",
      "Expected start of cooling period: 40100\n",
      "Expected end of cooling period: 113024\n",
      "33124 1 40101 2\n",
      "113024 2 120101 1\n",
      "SRforSCF_07.csv\n",
      "Expected start of heating period: 120100\n",
      "Expected end of heating period: 33124\n",
      "Expected start of cooling period: 40100\n",
      "Expected end of cooling period: 113024\n",
      "33124 1 40101 2\n",
      "113024 2 120101 1\n",
      "SRforSCF_08.csv\n",
      "Expected start of heating period: 10100\n",
      "Expected end of heating period: 33124\n",
      "Expected start of cooling period: 40100\n",
      "Expected end of cooling period: 123124\n",
      "33124 1 40101 2\n"
     ]
    }
   ],
   "source": [
    "for i in range(1,9):\n",
    "    \n",
    "    Zone, City, Latitude, Longitude, SRFileName, HStart, HEnd, CStart, CEnd = input_Point(i)\n",
    "    \n",
    "    print(SRFileName)\n",
    "    \n",
    "    print('Expected start of heating period: ' + str(HStart) )\n",
    "    print('Expected end of heating period: ' + str(HEnd) )\n",
    "    print('Expected start of cooling period: ' + str(CStart) )\n",
    "    print('Expected end of cooling period: ' + str(CEnd) )\n",
    "    \n",
    "    SRHour = input_SRData(SRFileName, HStart, HEnd, CStart, CEnd)\n",
    "\n",
    "    for i in range(1,len(SRHour)-1):\n",
    "        if SRHour[i][4] != SRHour[i-1][4]:\n",
    "            print(SRHour[i-1][1], SRHour[i-1][4], SRHour[i][1], SRHour[i][4])    "
   ]
  },
  {
   "cell_type": "markdown",
   "metadata": {},
   "source": [
    "## calc_Month"
   ]
  },
  {
   "cell_type": "markdown",
   "metadata": {},
   "source": [
    "#### Function"
   ]
  },
  {
   "cell_type": "code",
   "execution_count": 9,
   "metadata": {},
   "outputs": [],
   "source": [
    "#「月」の計算 \"\"\"\n",
    "def calc_Month(MMDDTT):\n",
    "    return MMDDTT // 10000"
   ]
  },
  {
   "cell_type": "markdown",
   "metadata": {},
   "source": [
    "## D.3 正時±30分で太陽が地平線上にある時間刻み数のカウント (仕様書6.2 式(3)及び図5中の$n_H$の計算)"
   ]
  },
  {
   "cell_type": "markdown",
   "metadata": {},
   "source": [
    "- 算定ツール標準の時間分割数$n_{\\Delta t}$は、$6$ ($10$分刻み)\n",
    "  - $1$時間を$1$分割もしくは$2$以上の偶数で分割する  \n",
    "  \n",
    "- 正時$\\pm 30$分間で太陽が地平線上にある(太陽高度$>0$)時間刻み数をカウントして、$n_H$を計算"
   ]
  },
  {
   "cell_type": "code",
   "execution_count": 10,
   "metadata": {},
   "outputs": [],
   "source": [
    "def calc_Nh(sinh, prev_sinh, NDT):\n",
    "\n",
    "    if NDT == 1:\n",
    "        if sinh[0] > 0.0:\n",
    "            return 1.0\n",
    "        else:\n",
    "            return 0\n",
    "    elif NDT > 0 and NDT % 2 == 0:\n",
    "        sinh0 = []\n",
    "        sinh0.extend([prev_sinh[m] for m in range(int(NDT/2),int(NDT))])\n",
    "        sinh0.extend([sinh[m] for m in range(int(NDT/2)+1)])\n",
    "        return ( sum(x > 0 for x in sinh0)\n",
    "                - (0.5 if sinh0[0] > 0 else 0)\n",
    "                - (0.5 if sinh0[int(NDT)] > 0 else 0)\n",
    "               )\n",
    "    else:\n",
    "        raise ValueError('1時間あたりの時間分割数は1もしくは2以上の偶数とする必要があります')"
   ]
  },
  {
   "cell_type": "markdown",
   "metadata": {},
   "source": [
    "## D.4 $1/n_{\\Delta t}$時間間隔での日射量 (仕様書6.2 式(3)の計算, 図5参照)"
   ]
  },
  {
   "cell_type": "markdown",
   "metadata": {},
   "source": [
    "- 算定ツール標準の時間分割数$n_{\\Delta t}$は、$6$ ($10$分刻み)\n",
    "- 正時$\\pm 30$分間で太陽が地平線上にある(太陽高度$>0$)時間刻み数をカウントして、$n_H$を計算\n",
    "- 法線面直達日射量, 水平面天空日射量をそれぞれに適用し、時間刻みにおける日射量を算定する"
   ]
  },
  {
   "cell_type": "code",
   "execution_count": 11,
   "metadata": {},
   "outputs": [],
   "source": [
    "def calc_Sdhm(MM, NDT, sinh, Sh, Shp, Nh, Nhp):\n",
    "    # MM:1時間の内の(1/NDT)間隔の順番, 正時がMM=0, MM=0～NDT-1\n",
    "    # NDT = 6                    # 1時間の分割数,ツールの標準は6分割\n",
    "    # sinh:hsdtの正弦\n",
    "    # Sh: 法線面直達日射量[kcal/(m2h)]\n",
    "    # Shp: 法線面直達日射量[kcal/(m2h)] 1時間後\n",
    "    # Nh: 太陽が地平線上にある時間（分割した後の⊿tの数）\n",
    "    # Nhp: 太陽が地平線上にある時間（分割した後の⊿tの数） 1時間後\n",
    "    \n",
    "    if sinh > 0:\n",
    "        return ( ( (Sh  / Nh  if MM <= NDT/2 and Nh  > 0 else 0)\n",
    "                 + (Shp / Nhp if MM >= NDT/2 and Nhp > 0 else 0) )\n",
    "               / (2 if MM == NDT/2 else 1) )\n",
    "        #以下のコメントアウト部分を上式で置き換え\n",
    "        #if MM < NDT/2 and Nh > 0:\n",
    "        #    Sdhm = Sh / Nh\n",
    "        #elif MM == NDT/2:\n",
    "        #    if Nh > 0:\n",
    "        #        Sdhm += Sh / Nh / 2\n",
    "        #    if Nhp > 0:\n",
    "        #        Sdhm += Shp / Nhp / 2            \n",
    "        #elif NDT/2 < MM and Nhp > 0:\n",
    "        #    Sdhm = Shp / Nhp\n",
    "    else:\n",
    "        return 0.0"
   ]
  },
  {
   "cell_type": "markdown",
   "metadata": {},
   "source": [
    "## D.5 窓ガラスの入射角特性"
   ]
  },
  {
   "cell_type": "markdown",
   "metadata": {},
   "source": [
    "IncidentAngleCharacteristics クラスは以下のプロパティをもつ。\n",
    "- 直達日射に対する入射角特性最大値(入射角0) $\\eta_{max}$\n",
    "- 天空・反射日射に対する入射角特性(遮蔽なしの場合) $\\eta_{isr}$\n",
    "- $\\eta_{j,d,t}(\\theta_{j,d,t})$ 算定式の係数$k_n$$(n=0～7)$\n",
    "\n",
    "$$\\eta_{j,d,t}(\\theta_{j,d,t}) = \\sum_{n=0}^7 k_n \\cos^n \\theta_{j,d,t}$$\n",
    "       \n",
    "  - デフォルトとして、以下を設定\n",
    "    - $ID=0$：日よけ効果係数内で入射角特性非考慮 → $\\eta_{j,d,t}(\\theta_{j,d,t}) = 1$\n",
    "    - $ID=1$：解説書の入射角特性(「平成25年度省エネルギー基準に準拠した算定・判断の方法及び解説 I 非住宅建築物 第二版(連合印刷センター, 平成26年○月○日)」, pp.168-170, 式(2.1.25),(2.1.28),(2.1.32))\n",
    "    \n",
    "       $$\\eta_{j,d,t}(\\theta_{j,d,t}) = 2.3920 \\cos \\theta_{j,d,t} -3.8636 \\cos^3 \\theta_{j,d,t} + 3.7568 \\cos^5 \\theta_{j,d,t} - 1.3952 \\cos^7 \\theta_{j,d,t} $$\n",
    "\n",
    "- 他の特性を入れる際には、$ID$を違えて、`\\IncidentAngleCharacteristics.csv` に追加する。"
   ]
  },
  {
   "cell_type": "code",
   "execution_count": 12,
   "metadata": {},
   "outputs": [],
   "source": [
    "class IncidentAngleCharacteristics():\n",
    "    \n",
    "    def __init__(self, eta_max, eta_isr, eta_kk):\n",
    "        self.__eta_max = eta_max\n",
    "        self.__eta_isr = eta_isr\n",
    "        self.__eta_kk = eta_kk\n",
    "    \n",
    "    @property\n",
    "    def eta_max(self):\n",
    "        return self.__eta_max\n",
    "    \n",
    "    @property\n",
    "    def eta_isr(self):\n",
    "        return self.__eta_isr\n",
    "    \n",
    "    @property\n",
    "    def eta_kk(self):\n",
    "        return self.__eta_kk"
   ]
  },
  {
   "cell_type": "code",
   "execution_count": 13,
   "metadata": {},
   "outputs": [],
   "source": [
    "def get_incident_angle_characteristics():\n",
    "    return IncidentAngleCharacteristics(eta_max = 0.88,\n",
    "                                        eta_isr = 0.808,\n",
    "                                        eta_kk = [0.0, 2.392, 0.0, -3.8636, 0.0, 3.7568, 0.0, -1.3952]\n",
    "                                       )"
   ]
  },
  {
   "cell_type": "markdown",
   "metadata": {},
   "source": [
    "## D.6 直達日射に対する窓ガラスの入射角特性 (緑本非住宅第二版pp.169 式(2.1.28)準拠)"
   ]
  },
  {
   "cell_type": "markdown",
   "metadata": {},
   "source": [
    "- 「平成25年度省エネルギー基準に準拠した算定・判断の方法及び解説 I 非住宅建築物 第二版(連合印刷センター, 平成26年○月○日)」pp.168-170参照\n",
    "- 入射角$\\theta_{j,d,t}[deg]$, 太陽高度$h_{S,d,t}[deg]$, 太陽方位角$A_{ZS,d,t}[deg]$, 外壁$j$の方位角$A_{ZW,i}[deg]$\n",
    "- 入射角特性算定式の係数$k_n$$(n=0～7)$, 日付$d$時刻$t$における入射角特性$\\eta_{j,d,t}$\n",
    "\n",
    "$$\\cos \\theta_{j,d,t} = \\cos h_{S,d,t} \\cos (A_{ZS,d,t} - A_{ZW,i}) \\qquad (2.1.26) $$\n",
    "$$\\eta_{j,d,t}(\\theta_{j,d,t}) = \\sum_{n=0}^7 k_n \\cos^n \\theta_{j,d,t} \\qquad (2.1.28') $$"
   ]
  },
  {
   "cell_type": "code",
   "execution_count": 14,
   "metadata": {},
   "outputs": [],
   "source": [
    "def calc_costheta(Azwjdt, cosh):\n",
    "\n",
    "    return max(cosh * math.cos(math.radians(Azwjdt)),0.0)\n",
    "\n",
    "def calc_etajdt(costheta, etakk):\n",
    "\n",
    "    return sum([eta * costheta**i for (i,eta) in enumerate(etakk)])\n"
   ]
  },
  {
   "cell_type": "markdown",
   "metadata": {},
   "source": [
    "# Classes"
   ]
  },
  {
   "cell_type": "markdown",
   "metadata": {},
   "source": [
    "## SunData"
   ]
  },
  {
   "cell_type": "code",
   "execution_count": 15,
   "metadata": {},
   "outputs": [],
   "source": [
    "class SunData():\n",
    "    \n",
    "    def __init__(self, index, day_time, direct, sky, hc_period, latitude, longitude, ndt):\n",
    "        \n",
    "        # index: 1/1 0:00 を 0 とするindex. 12/31 24:00 まであるため、0~8760 の 8761 個の値である。\n",
    "        self.__index = index\n",
    "        self.__nday, self.__nhour = sun_position.calc_NDayNHour(index)\n",
    "        self.__day_time = day_time\n",
    "        self.__direct = direct\n",
    "        self.__sky = sky\n",
    "        self.__hc_period = hc_period\n",
    "        \n",
    "        # 時刻(h)TT データの作成\n",
    "        self.__tt = [sun_position.calc_TT(self.__nhour, ndt, mm) for mm in range(ndt)]\n",
    "\n",
    "        # 太陽高度 hsdt (deg) の正弦\n",
    "        self.__sinh = []\n",
    "        # 太陽高度 hsdt (deg) の余弦\n",
    "        self.__cosh = []\n",
    "        # 太陽高度 hsdt\n",
    "        self.__hsdt = []\n",
    "        # 太陽方位角 Azsdt (deg)\n",
    "        self.__azsdt = []\n",
    "        \n",
    "        for tt in self.__tt:\n",
    "            year = 2017 # HASP 計算式では年を使用していないため、この値はなんでもよい。\n",
    "            longitude_std = 135.0\n",
    "            method = 'HASP'\n",
    "            hs, A = sun_position.calc_solar_position(\n",
    "                year,\n",
    "                self.__nday,\n",
    "                tt,\n",
    "                math.radians(latitude),\n",
    "                math.radians(longitude),\n",
    "                math.radians(longitude_std),\n",
    "                method\n",
    "            )\n",
    "            self.__sinh.append(math.sin(hs))\n",
    "            self.__cosh.append(math.cos(hs))\n",
    "            self.__hsdt.append(math.degrees(hs))\n",
    "            self.__azsdt.append(math.degrees(A))\n",
    "        \n",
    "    \n",
    "    def calc_and_set_nh(self, prev_sinh, ndt, latitude, longitude):\n",
    "\n",
    "        # nh データの作成\n",
    "        self.__nh = calc_Nh(self.sinh, prev_sinh, ndt)\n",
    "    \n",
    "    def calc_and_set_sdhm(self, next_data, ndt):\n",
    "        # 法線面直達日射量 Sddhm (kcal/m2)\n",
    "        self.__sddhm = [calc_Sdhm(mm, ndt, self.sinh[mm],\n",
    "                                  self.direct, next_data.direct,\n",
    "                                  self.nh, next_data.nh) for mm in range(ndt)]\n",
    "\n",
    "        # 水平面天空日射量 Ssdhm (kcal/m2)\n",
    "        self.__ssdhm = [calc_Sdhm(mm, ndt, self.sinh[mm],\n",
    "                                  self.sky, next_data.sky,\n",
    "                                  self.nh, next_data.nh) for mm in range(ndt)]\n",
    "        \n",
    "    def get_as_list(self):\n",
    "        return [self.__day_time, self.__direct, self.__sky, self.__hc_period]\n",
    "    \n",
    "    # 法線面直達日射量 Sddhm (kcal/m2)\n",
    "    @property\n",
    "    def sddhm(self):\n",
    "        return self.__sddhm\n",
    "    \n",
    "    # 水平面天空日射量 Ssdhm (kcal/m2)\n",
    "    @property\n",
    "    def ssdhm(self):\n",
    "        return self.__ssdhm\n",
    "\n",
    "    # 太陽方位角 Azsdt (deg)\n",
    "    @property\n",
    "    def azsdt(self):\n",
    "        return self.__azsdt\n",
    "\n",
    "    # 太陽高度 hsdt\n",
    "    @property\n",
    "    def hsdt(self):\n",
    "        return self.__hsdt\n",
    "    \n",
    "    # 太陽高度 hsdt (deg) の余弦\n",
    "    @property\n",
    "    def cosh(self):\n",
    "        return self.__cosh\n",
    "    \n",
    "    # 太陽高度 hsdt (deg) の正弦\n",
    "    @property\n",
    "    def sinh(self):\n",
    "        return self.__sinh\n",
    "    \n",
    "    # 時刻(h)\n",
    "    @property\n",
    "    def tt(self):\n",
    "        return self.__tt\n",
    "    \n",
    "    # 太陽が出ている時間の(分割数に対する)数\n",
    "    @property\n",
    "    def nh(self):\n",
    "        return self.__nh\n",
    "\n",
    "    @property\n",
    "    def index(self):\n",
    "        return self.__index\n",
    "    \n",
    "    @property\n",
    "    def nday(self):\n",
    "        return self.__nday\n",
    "    \n",
    "    @property\n",
    "    def nhour(self):\n",
    "        return self.__nhour\n",
    "    \n",
    "    @property\n",
    "    def day_time(self):\n",
    "        return self.__day_time\n",
    "    \n",
    "    @property\n",
    "    def direct(self):\n",
    "        return self.__direct\n",
    "    \n",
    "    @property\n",
    "    def sky(self):\n",
    "        return self.__sky\n",
    "    \n",
    "    @property\n",
    "    def hc_period(self):\n",
    "        return self.__hc_period"
   ]
  },
  {
   "cell_type": "markdown",
   "metadata": {},
   "source": [
    "## Climate"
   ]
  },
  {
   "cell_type": "code",
   "execution_count": 16,
   "metadata": {},
   "outputs": [],
   "source": [
    "class Climate():\n",
    "    \n",
    "    def __init__(self, tag, ndt):\n",
    "        \n",
    "        self.__ndt = ndt\n",
    "\n",
    "        # 地点データのロード\n",
    "        zone, city, latitude, longitude, SRFileName, heating_start, heating_end, cooling_start, cooling_end = input_Point(tag)\n",
    "        self.__zone = zone\n",
    "        self.__city = city\n",
    "        self.__latitude = latitude\n",
    "        self.__longitude = longitude\n",
    "        self.__heating_start = heating_start\n",
    "        self.__heating_end = heating_end\n",
    "        self.__cooling_start = cooling_start\n",
    "        self.__cooling_end = cooling_end\n",
    "\n",
    "        # 日射データのロード\n",
    "        sr_data = input_SRData(SRFileName, heating_start, heating_end, cooling_start, cooling_end)\n",
    "        sun_data = [SunData(s[0], s[1], s[2], s[3], s[4], latitude, longitude, ndt)\n",
    "                    for s in sr_data] # 8761 個の行を持つ。\n",
    "        self.__sun_data = sun_data\n",
    "        \n",
    "        for i in range(8760):\n",
    "            if i == 0:\n",
    "                prev_sinh = self.__sun_data[8759].sinh\n",
    "            else:\n",
    "                prev_sinh = self.__sun_data[i-1].sinh\n",
    "            self.__sun_data[i].calc_and_set_nh(prev_sinh, ndt, latitude, longitude) \n",
    "        \n",
    "        # 日射量の計算(日射量の計算は1~8760回行う。8761回目は行わないことに注意！)\n",
    "        for i in range(8760):\n",
    "            if i == 8759:\n",
    "                next_data = self.__sun_data[0]\n",
    "            else:\n",
    "                next_data = self.__sun_data[i+1]\n",
    "            self.__sun_data[i].calc_and_set_sdhm(next_data, ndt)\n",
    "\n",
    "    # 法線面直達日射量 Sddhm (kcal/m2)\n",
    "    def calc_sddhm(self, index, mm):\n",
    "        return self.get_sun_data(index).sddhm[mm]\n",
    "\n",
    "    # 水平面天空日射量 Ssdhm (kcal/m2)\n",
    "    def calc_ssdhm(self, index, mm):\n",
    "        return self.get_sun_data(index).ssdhm[mm]\n",
    "\n",
    "    # 太陽方位角 Azsdt (deg)\n",
    "    def calc_azsdt(self, index, mm):\n",
    "        return self.get_sun_data(index).azsdt[mm]\n",
    "            \n",
    "    # 太陽高度 hsdt (deg) の正弦\n",
    "    def calc_sinh(self, index, mm):\n",
    "        return self.get_sun_data(index).sinh[mm]\n",
    "    \n",
    "    # 太陽高度 hsdt (deg) の余弦\n",
    "    def calc_cosh(self, index, mm):\n",
    "        return self.get_sun_data(index).cosh[mm]\n",
    "    \n",
    "    # 太陽高度 hsdt\n",
    "    def calc_hsdt(self, index, mm):\n",
    "        return self.get_sun_data(index).hsdt[mm]\n",
    "    \n",
    "    def get_month(self, index):\n",
    "        return calc_Month(self.get_sun_data(index).day_time)\n",
    "    \n",
    "    def get_nh(self, index):\n",
    "        return self.get_sun_data(index).nh\n",
    "    \n",
    "    def get_sun_data(self, index):\n",
    "        return self.__sun_data[index]\n",
    "    \n",
    "    @property\n",
    "    def zone(self):\n",
    "        return self.__zone\n",
    "    \n",
    "    @property\n",
    "    def city(self):\n",
    "        return self.__city\n",
    "    \n",
    "    @property\n",
    "    def latitude(self):\n",
    "        return self.__latitude\n",
    "    \n",
    "    @property\n",
    "    def longitude(self):\n",
    "        return self.__longitude\n",
    "    \n",
    "    @property\n",
    "    def heating_start(self):\n",
    "        return self.__heating_start\n",
    "    \n",
    "    @property\n",
    "    def heating_end(self):\n",
    "        return self.__heating_end\n",
    "    \n",
    "    @property\n",
    "    def cooling_start(self):\n",
    "        return self.__cooling_start\n",
    "    \n",
    "    @property\n",
    "    def cooling_end(self):\n",
    "        return self.__cooling_end\n",
    "    \n",
    "    @property\n",
    "    def sun_data(self):\n",
    "        return self.__sun_data\n",
    "    \n",
    "    @property\n",
    "    def ndt(self):\n",
    "        return self.__ndt\n",
    "    "
   ]
  },
  {
   "cell_type": "markdown",
   "metadata": {},
   "source": [
    "#### Example"
   ]
  },
  {
   "cell_type": "code",
   "execution_count": 17,
   "metadata": {},
   "outputs": [
    {
     "name": "stdout",
     "output_type": "stream",
     "text": [
      "[1, '北見', 43.82, 143.91, 110100, 43024, 50100, 103124]\n",
      "[2, '岩見沢', 43.21, 141.78833, 110100, 43024, 50100, 103124]\n",
      "[3, '盛岡', 39.695, 141.168333333333, 120100, 33124, 40100, 113024]\n",
      "[4, '長野', 36.66, 138.195, 120100, 33124, 40100, 113024]\n",
      "[5, '宇都宮', 36.5466666666667, 139.871666666667, 120100, 33124, 40100, 113024]\n",
      "[6, '岡山', 34.6583333333333, 133.918333333333, 120100, 33124, 40100, 113024]\n",
      "[7, '宮崎', 31.935, 131.416666666667, 120100, 33124, 40100, 113024]\n",
      "[8, '那覇', 26.2033333333333, 127.688333333333, 10100, 33124, 40100, 123124]\n"
     ]
    }
   ],
   "source": [
    "for i in range(1,9):\n",
    "    ndt = 6\n",
    "    c = Climate(i, ndt)\n",
    "    print([c.zone, c.city, c.latitude, c.longitude, c.heating_start, c.heating_end, c.cooling_start, c.cooling_end ])"
   ]
  },
  {
   "cell_type": "code",
   "execution_count": 18,
   "metadata": {},
   "outputs": [
    {
     "name": "stdout",
     "output_type": "stream",
     "text": [
      "region: 1\n",
      "Expected start of heating period: 110100\n",
      "Expected end of heating period: 43024\n",
      "Expected start of cooling period: 50100\n",
      "Expected end of cooling period: 103124\n",
      "43024 1 50101 2\n",
      "103124 2 110101 1\n",
      "region: 2\n",
      "Expected start of heating period: 110100\n",
      "Expected end of heating period: 43024\n",
      "Expected start of cooling period: 50100\n",
      "Expected end of cooling period: 103124\n",
      "43024 1 50101 2\n",
      "103124 2 110101 1\n",
      "region: 3\n",
      "Expected start of heating period: 120100\n",
      "Expected end of heating period: 33124\n",
      "Expected start of cooling period: 40100\n",
      "Expected end of cooling period: 113024\n",
      "33124 1 40101 2\n",
      "113024 2 120101 1\n",
      "region: 4\n",
      "Expected start of heating period: 120100\n",
      "Expected end of heating period: 33124\n",
      "Expected start of cooling period: 40100\n",
      "Expected end of cooling period: 113024\n",
      "33124 1 40101 2\n",
      "113024 2 120101 1\n",
      "region: 5\n",
      "Expected start of heating period: 120100\n",
      "Expected end of heating period: 33124\n",
      "Expected start of cooling period: 40100\n",
      "Expected end of cooling period: 113024\n",
      "33124 1 40101 2\n",
      "113024 2 120101 1\n",
      "region: 6\n",
      "Expected start of heating period: 120100\n",
      "Expected end of heating period: 33124\n",
      "Expected start of cooling period: 40100\n",
      "Expected end of cooling period: 113024\n",
      "33124 1 40101 2\n",
      "113024 2 120101 1\n",
      "region: 7\n",
      "Expected start of heating period: 120100\n",
      "Expected end of heating period: 33124\n",
      "Expected start of cooling period: 40100\n",
      "Expected end of cooling period: 113024\n",
      "33124 1 40101 2\n",
      "113024 2 120101 1\n",
      "region: 8\n",
      "Expected start of heating period: 10100\n",
      "Expected end of heating period: 33124\n",
      "Expected start of cooling period: 40100\n",
      "Expected end of cooling period: 123124\n",
      "123124 2 10100 1\n",
      "33124 1 40101 2\n"
     ]
    }
   ],
   "source": [
    "for i in range(1,9):\n",
    "    \n",
    "    ndt = 6\n",
    "    c = Climate(i, ndt)\n",
    "    \n",
    "    HStart, HEnd, CStart, CEnd = c.heating_start, c.heating_end, c.cooling_start, c.cooling_end\n",
    "    \n",
    "    print('region: ' + str(i))\n",
    "    \n",
    "    print('Expected start of heating period: ' + str(HStart) )\n",
    "    print('Expected end of heating period: ' + str(HEnd) )\n",
    "    print('Expected start of cooling period: ' + str(CStart) )\n",
    "    print('Expected end of cooling period: ' + str(CEnd) )\n",
    "    \n",
    "    for i, d in enumerate(c.sun_data):\n",
    "        d_mns = c.sun_data[i-1]\n",
    "        if d.hc_period != d_mns.hc_period:\n",
    "            print(d_mns.day_time, d_mns.hc_period, d.day_time, d.hc_period)    "
   ]
  },
  {
   "cell_type": "code",
   "execution_count": null,
   "metadata": {},
   "outputs": [],
   "source": []
  }
 ],
 "metadata": {
  "kernelspec": {
   "display_name": "Python 3",
   "language": "python",
   "name": "python3"
  },
  "language_info": {
   "codemirror_mode": {
    "name": "ipython",
    "version": 3
   },
   "file_extension": ".py",
   "mimetype": "text/x-python",
   "name": "python",
   "nbconvert_exporter": "python",
   "pygments_lexer": "ipython3",
   "version": "3.6.5"
  }
 },
 "nbformat": 4,
 "nbformat_minor": 2
}
