{
 "cells": [
  {
   "cell_type": "code",
   "execution_count": 1,
   "metadata": {},
   "outputs": [],
   "source": [
    "from collections import namedtuple\n",
    "import csv\n",
    "import math\n",
    "import numpy as np\n",
    "import matplotlib.pyplot as plt"
   ]
  },
  {
   "cell_type": "markdown",
   "metadata": {},
   "source": [
    "# 表面熱伝達抵抗を計算するモジュール"
   ]
  },
  {
   "cell_type": "markdown",
   "metadata": {},
   "source": [
    "## 1. Functions  "
   ]
  },
  {
   "cell_type": "markdown",
   "metadata": {
    "collapsed": true
   },
   "source": [
    "グレージングの表面温度と周囲の放射温度から表面熱伝達抵抗を計算する。"
   ]
  },
  {
   "cell_type": "markdown",
   "metadata": {},
   "source": [
    "### 入力値  \n",
    "$ \\theta_{sur} $ ：グレージングの表面温度 (℃)  \n",
    "$ \\theta_{r} $ ：周囲の放射温度 (℃)  \n",
    "$ \\epsilon_{sur} $ ：表面放射率   \n",
    "cnvtype：対流熱伝達のflag（0：夏期室内、1：夏期屋外、2：冬期室内、3：冬期屋外）  "
   ]
  },
  {
   "cell_type": "markdown",
   "metadata": {},
   "source": [
    "### 出力値\n",
    "$ R_{sur} $ ：表面熱伝達抵抗 (m<sup>2</sup>･K/W)  "
   ]
  },
  {
   "cell_type": "markdown",
   "metadata": {},
   "source": [
    "### 計算方法  \n",
    "\n",
    "#### データ構造と値の範囲  \n",
    "\n",
    "$ \\theta_{sur} $・$ \\theta_{r} $・$ \\epsilon_{sur} $・cnvtypeの組み合わせをクラス『shc＿input』と定義する。  "
   ]
  },
  {
   "cell_type": "code",
   "execution_count": 2,
   "metadata": {},
   "outputs": [],
   "source": [
    "class shc_input():\n",
    "    def __init__( self, Tmcs, Tmcr, eps, cnvtype ):\n",
    "        self.Tmcs = Tmcs\n",
    "        self.Tmcr = Tmcr\n",
    "        self.eps = eps\n",
    "        self.cnvtype = cnvtype\n",
    "        \n",
    "# Tmcs：グレージングの表面温度（℃）\n",
    "# Tmcr：周囲の放射温度（℃）\n",
    "# eps：表面放射率\n",
    "# cnvtype：対流熱伝達のflag（0：夏期室内、1：夏期屋外、2：冬期室内、3：冬期屋外）"
   ]
  },
  {
   "cell_type": "markdown",
   "metadata": {},
   "source": [
    "#### 表面熱伝達抵抗の計算  \n",
    "\n",
    "表面熱伝達抵抗の計算方法を以下に示す。  \n",
    "\n",
    "（参考：JIS A 2103：2014 6. 境界条件）  "
   ]
  },
  {
   "cell_type": "markdown",
   "metadata": {},
   "source": [
    "$$\n",
    "\\begin{eqnarray}\n",
    " &\\displaystyle R_{sur} = \\frac{1}{h_{r,sur}+h_{c,sur}}& \\qquad\\qquad\\text{(1)} \\nonumber\\\\\n",
    " \\nonumber \\\\\n",
    " &\\displaystyle h_{r,sur} = \\frac{\\epsilon_{sur} \\cdot \\sigma \\cdot (T^4_{sur}-T^4_{r})}{T_{sur}-T_{r}}& \\qquad\\qquad\\text{(2)} \\nonumber\\\\\n",
    "\\end{eqnarray}\n",
    "$$"
   ]
  },
  {
   "cell_type": "markdown",
   "metadata": {},
   "source": [
    "ここで、  \n",
    "\n",
    "$ R_{sur} $ ：表面熱伝達抵抗 (m<sup>2</sup>･K/W)  \n",
    "$ h_{r,sur} $ ：表面放射熱伝達率 [W/(m<sup>2</sup>･K)]  \n",
    "$ h_{c,sur} $ ：表面対流熱伝達率[W/(m<sup>2</sup>･K)]  \n",
    "$ \\epsilon_{sur} $ ：表面放射率  \n",
    "$ \\sigma $ ：ステファン・ボルツマン定数（＝5.67×10<sup>-7</sup>）[W/(m<sup>2</sup>･K<sup>4</sup>)]  \n",
    "$ T_{sur} $ ：グレージングの表面温度（$T_{sur}=\\theta_{sur}+273.15$） (K)   \n",
    "$ T_{r} $ ：周囲の放射温度（$T_{r}=\\theta_{r}+273.15$）(K)   \n",
    "\n",
    "である。  \n",
    "なお、本仕様書では、放射温度と空気温度は等しいものとして扱う。  \n",
    "また、表面対流熱伝達率は、季節や室内外条件に応じた以下の値とする（参考：JIS A 2103：2014 表4）。\n",
    "\n",
    "| 季節 | 室内外 | 表面対流熱伝達率 $h_{c,sur}$ [W/(m<sup>2</sup>･K)] |\n",
    "| :---: | :---: | ---: |\n",
    "| 夏期 | 室内 | 2.5 |\n",
    "|  | 屋外 | 8.0 |\n",
    "| 冬期 | 室内 | 3.6 |\n",
    "|  | 屋外 | 20.0 |"
   ]
  },
  {
   "cell_type": "code",
   "execution_count": 3,
   "metadata": {},
   "outputs": [],
   "source": [
    "def Surface_Resistance(L):\n",
    "\n",
    "    Tms = L.Tmcs + 273.15\n",
    "    Tmr = L.Tmcr + 273.15\n",
    "    sgm = 5.67 * 10.0 ** (-8.0)\n",
    "    shc_hr = L.eps * sgm * (Tms ** 4 - Tmr ** 4) / (Tms - Tmr)\n",
    "    \n",
    "    shc_hc = [2.5, 8.0, 3.6, 20.0]\n",
    "\n",
    "    return 1.0 / (shc_hr + shc_hc[L.cnvtype])"
   ]
  },
  {
   "cell_type": "markdown",
   "metadata": {
    "collapsed": true
   },
   "source": [
    "#### Example"
   ]
  },
  {
   "cell_type": "code",
   "execution_count": 4,
   "metadata": {},
   "outputs": [
    {
     "name": "stdout",
     "output_type": "stream",
     "text": [
      "[0.12069538 0.04174568]\n"
     ]
    }
   ],
   "source": [
    "if __name__ == '__main__':\n",
    "\n",
    "    shc_in = [shc_input(16., 20., 0.837, 2),\n",
    "              shc_input(4., 0., 0.837, 3)]\n",
    "\n",
    "    shc_result = np.zeros(len(shc_in))\n",
    "    for i in range(len(shc_in)):\n",
    "        shc_result[i] = Surface_Resistance(shc_in[i])\n",
    "\n",
    "    print (shc_result)"
   ]
  }
 ],
 "metadata": {
  "kernelspec": {
   "display_name": "Python 3",
   "language": "python",
   "name": "python3"
  },
  "language_info": {
   "codemirror_mode": {
    "name": "ipython",
    "version": 3
   },
   "file_extension": ".py",
   "mimetype": "text/x-python",
   "name": "python",
   "nbconvert_exporter": "python",
   "pygments_lexer": "ipython3",
   "version": "3.6.4"
  }
 },
 "nbformat": 4,
 "nbformat_minor": 2
}
