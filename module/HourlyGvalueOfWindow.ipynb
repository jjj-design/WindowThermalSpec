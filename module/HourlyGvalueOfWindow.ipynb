{
 "cells": [
  {
   "cell_type": "code",
   "execution_count": 1,
   "metadata": {},
   "outputs": [],
   "source": [
    "from collections import namedtuple\n",
    "import csv\n",
    "import math\n",
    "import numpy as np\n",
    "import matplotlib.pyplot as plt"
   ]
  },
  {
   "cell_type": "markdown",
   "metadata": {},
   "source": [
    "# 開口部の日射熱取得率を計算するモジュール"
   ]
  },
  {
   "cell_type": "markdown",
   "metadata": {},
   "source": [
    "## 1. Functions  "
   ]
  },
  {
   "cell_type": "markdown",
   "metadata": {},
   "source": [
    "### 1.1. 時刻別"
   ]
  },
  {
   "cell_type": "markdown",
   "metadata": {},
   "source": [
    "グレージング複合体の日射熱取得率、フレームの日射熱取得率、グレージング面積比又はグレージング面積及びフレーム面積から開口部の日射熱取得率を計算する。"
   ]
  },
  {
   "cell_type": "markdown",
   "metadata": {},
   "source": [
    "### 入力値  \n",
    "\n",
    "$ \\eta_{glz} $ ：グレージング複合体の日射熱取得率  \n",
    "$ \\eta_{fr} $ ：フレームの日射熱取得率   \n",
    "$ F_{Ag} $ ：グレージング面積比   \n",
    "または、  \n",
    "$ A_{glz} $ ：グレージング面積 (m<sup>2</sup>)   \n",
    "$ A_{fr} $ ：フレーム面積 (m<sup>2</sup>)   "
   ]
  },
  {
   "cell_type": "markdown",
   "metadata": {},
   "source": [
    "### 出力値  \n",
    "\n",
    "$ \\eta_{w} $ ：開口部の日射熱取得率  "
   ]
  },
  {
   "cell_type": "markdown",
   "metadata": {},
   "source": [
    "### 計算方法  \n",
    "\n",
    "#### データ構造と値の範囲  \n",
    "\n",
    "$ \\eta_{glz} $・$ \\eta_{fr} $・im・fm・$ A_{glz} $・$ A_{fr} $の組み合わせをクラス『ghw＿input』と定義する。  "
   ]
  },
  {
   "cell_type": "code",
   "execution_count": 2,
   "metadata": {},
   "outputs": [],
   "source": [
    "class ghw_input():\n",
    "    def __init__( self, gg, gf, im, fm, Ag, Af ):\n",
    "        self.gg = gg\n",
    "        self.gf = gf\n",
    "        self.im = im\n",
    "        self.fm = fm\n",
    "        self.Ag = Ag\n",
    "        self.Af = Af\n",
    "        \n",
    "#gg：グレージング複合体の日射熱取得率\n",
    "#gf：フレームの日射熱取得率\n",
    "#im：グレージング面積比のデータ取得方法（0：表参照入力、1：直接入力）\n",
    "#fm：フレーム材質のID（0：木製建具又は樹脂製建具、\n",
    "#                      1：木と金属の複合材料製建具、樹脂と金属の複合材料製建具、金属製熱遮断構造建具又は金属製建具）\n",
    "#                    （※imが1の場合は値を無視）\n",
    "#Ag：グレージング面積 (m2)（※imが0の場合は値を無視）\n",
    "#Af：フレーム面積 (m2)（※imが0の場合は値を無視）"
   ]
  },
  {
   "cell_type": "markdown",
   "metadata": {},
   "source": [
    "#### 開口部の日射熱取得率の計算方法  \n",
    "\n",
    "開口部の日射熱取得率$\\eta_{w}$の計算方法を以下に示す。  "
   ]
  },
  {
   "cell_type": "markdown",
   "metadata": {},
   "source": [
    "$$\n",
    "\\begin{eqnarray}\n",
    " &\\displaystyle \\eta_{w} = F_{Ag} \\cdot \\eta_{glz} + (1 - F_{Ag}) \\cdot \\eta_{fr}& \\qquad\\qquad\\text{(1)} \\nonumber\\\\\n",
    "\\end{eqnarray}\n",
    "$$"
   ]
  },
  {
   "cell_type": "markdown",
   "metadata": {},
   "source": [
    "ここで、  \n",
    "$ \\eta_{glz} $ ：グレージング複合体の日射熱取得率  \n",
    "$ \\eta_{fr} $ ：フレームの日射熱取得率  \n",
    "$ F_{Ag} $ ：グレージング面積比  "
   ]
  },
  {
   "cell_type": "markdown",
   "metadata": {},
   "source": [
    "$$\n",
    "\\begin{eqnarray}\n",
    " &\\displaystyle F_{Ag} = \\frac {A_{glz}}{A_{glz} + A_{fr}}& \\qquad\\qquad\\text{(2)} \\nonumber\\\\\n",
    "\\end{eqnarray}\n",
    "$$"
   ]
  },
  {
   "cell_type": "markdown",
   "metadata": {},
   "source": [
    "ここで、  \n",
    "$ A_{glz} $ ：グレージング面積 (m<sup>2</sup>)  \n",
    "$ A_{fr} $ ：フレーム面積 (m<sup>2</sup>)  \n",
    "\n",
    "である。 \n",
    "\n",
    "$ F_{Ag} $の代表的な物性値を以下に示す（参考：平成28年省エネルギー基準に準拠したエネルギー消費性能の評価に関する技術情報（住宅）Ver.2.1 算定方法 3.4　日射熱取得率）。  \n",
    "\n",
    "| ID   | 材質                                                                                     | グレージング面積比$F_{Ag}$ |\n",
    "| ---: | :---                                                                                     | ---:                       |\n",
    "| 0    | 木製建具又は樹脂製建具                                                                   | 0.72                       |\n",
    "| 1    | 木と金属の複合材料製建具、樹脂と金属の複合材料製建具、金属製熱遮断構造建具又は金属製建具 | 0.80                       |"
   ]
  },
  {
   "cell_type": "code",
   "execution_count": 3,
   "metadata": {},
   "outputs": [],
   "source": [
    "def hourly_gvalue_window(L):\n",
    "    if L.im == 0:     #表参照入力\n",
    "        F_Ag = glazing_area_ratio(L)\n",
    "    elif L.im == 1:   #直接入力\n",
    "        F_Ag = L.Ag / (L.Ag + L.Af)\n",
    "    \n",
    "    return F_Ag * L.gg + (1. - F_Ag) * L.gf\n",
    "\n",
    "def glazing_area_ratio(L):\n",
    "    \n",
    "    r_F_Ag = [0.8, 0.72]\n",
    "    \n",
    "    return r_F_Ag[L.fm]"
   ]
  },
  {
   "cell_type": "markdown",
   "metadata": {},
   "source": [
    "#### Example"
   ]
  },
  {
   "cell_type": "code",
   "execution_count": 4,
   "metadata": {},
   "outputs": [
    {
     "name": "stdout",
     "output_type": "stream",
     "text": [
      "0.53\n"
     ]
    }
   ],
   "source": [
    "if __name__ == '__main__':\n",
    "\n",
    "    ghw_in = ghw_input(0.65, 0.05, 0, 0, 0, 0)\n",
    "\n",
    "    ghw = hourly_gvalue_window(ghw_in)\n",
    "\n",
    "    print(ghw)"
   ]
  }
 ],
 "metadata": {
  "kernelspec": {
   "display_name": "Python 3",
   "language": "python",
   "name": "python3"
  },
  "language_info": {
   "codemirror_mode": {
    "name": "ipython",
    "version": 3
   },
   "file_extension": ".py",
   "mimetype": "text/x-python",
   "name": "python",
   "nbconvert_exporter": "python",
   "pygments_lexer": "ipython3",
   "version": "3.6.4"
  }
 },
 "nbformat": 4,
 "nbformat_minor": 2
}
