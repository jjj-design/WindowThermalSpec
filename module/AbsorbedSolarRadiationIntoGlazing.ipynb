{
 "cells": [
  {
   "cell_type": "code",
   "execution_count": 1,
   "metadata": {
    "scrolled": true,
    "pycharm": {
     "is_executing": false
    }
   },
   "outputs": [
    {
     "traceback": [
      "\u001b[1;31m---------------------------------------------------------------------------\u001b[0m",
      "\u001b[1;31mModuleNotFoundError\u001b[0m                       Traceback (most recent call last)",
      "\u001b[1;32m<ipython-input-1-b62bec92944e>\u001b[0m in \u001b[0;36m<module>\u001b[1;34m\u001b[0m\n\u001b[0;32m      5\u001b[0m \u001b[1;32mimport\u001b[0m \u001b[0mmatplotlib\u001b[0m\u001b[1;33m.\u001b[0m\u001b[0mpyplot\u001b[0m \u001b[1;32mas\u001b[0m \u001b[0mplt\u001b[0m\u001b[1;33m\u001b[0m\u001b[1;33m\u001b[0m\u001b[0m\n\u001b[0;32m      6\u001b[0m \u001b[1;33m\u001b[0m\u001b[0m\n\u001b[1;32m----> 7\u001b[1;33m \u001b[1;32mimport\u001b[0m \u001b[0mnbimporter\u001b[0m\u001b[1;33m\u001b[0m\u001b[1;33m\u001b[0m\u001b[0m\n\u001b[0m\u001b[0;32m      8\u001b[0m \u001b[1;32mimport\u001b[0m \u001b[0mGlassAngularProperty\u001b[0m \u001b[1;32mas\u001b[0m \u001b[0mGAP\u001b[0m\u001b[1;33m\u001b[0m\u001b[1;33m\u001b[0m\u001b[0m\n\u001b[0;32m      9\u001b[0m \u001b[1;32mimport\u001b[0m \u001b[0mRollershadeAngularProperty\u001b[0m \u001b[1;32mas\u001b[0m \u001b[0mRAP\u001b[0m\u001b[1;33m\u001b[0m\u001b[1;33m\u001b[0m\u001b[0m\n",
      "\u001b[1;31mModuleNotFoundError\u001b[0m: No module named 'nbimporter'"
     ],
     "ename": "ModuleNotFoundError",
     "evalue": "No module named 'nbimporter'",
     "output_type": "error"
    }
   ],
   "source": [
    "from collections import namedtuple\n",
    "import csv\n",
    "import math\n",
    "import numpy as np\n",
    "import matplotlib.pyplot as plt\n",
    "\n",
    "import nbimporter\n",
    "import RollershadeAngularProperty as RAP\n",
    "import IncidentSolarRadiationOnGlazing as ISROG\n",
    "import DivisionDiffuseRatio as DDR\n",
    "\n",
    "from module import multiple_reflection as mr\n",
    "from module import glass_angular_property as gap"
   ]
  },
  {
   "cell_type": "markdown",
   "metadata": {},
   "source": [
    "# 各層の吸収日射量を計算するモジュール"
   ]
  },
  {
   "cell_type": "markdown",
   "metadata": {},
   "source": [
    "## 1. Functions  "
   ]
  },
  {
   "cell_type": "markdown",
   "metadata": {},
   "source": [
    "開口面日射量（直達・天空・地表面反射）とグレージング複合体各層の日射吸収率から各層の吸収日射量を計算する。"
   ]
  },
  {
   "cell_type": "markdown",
   "metadata": {},
   "source": [
    "### 入力値  \n",
    "\n",
    "$ I_{T,b} $ ：斜面（開口面）直達日射量 (W/m<sup>2</sup>)  \n",
    "$ I_{T,d} $ ：斜面（開口面）天空日射量 (W/m<sup>2</sup>)  \n",
    "$ I_{T,r} $ ：斜面（開口面）地表面反射日射量 (W/m<sup>2</sup>)  \n",
    "$ \\alpha_{glz,b,j} $ ：直達日射に対する層$j$の日射吸収率  \n",
    "$ \\alpha_{glz,d,j,l,m} $ ：天空上の微小要素からの入射日射に対する層$j$の日射吸収率  \n",
    "$ \\alpha_{glz,r,j,l,m} $ ：地表面上の微小要素からの入射日射に対する層$j$の日射吸収率  \n",
    "$ F_{d,l,m} $ ：天空日射量に対する天空上の微小要素からの天空日射量の割合  \n",
    "$ F_{r,l,m} $ ：地表面反射日射量に対する地表面上の微小要素からの地表面反射日射量の割合  "
   ]
  },
  {
   "cell_type": "markdown",
   "metadata": {},
   "source": [
    "### 出力値  \n",
    "\n",
    "$ I_{\\alpha,j} $ ：層$j$での吸収日射量 (W/m<sup>2</sup>)  "
   ]
  },
  {
   "cell_type": "markdown",
   "metadata": {},
   "source": [
    "### 計算方法  \n",
    "\n",
    "#### データ構造と値の範囲  \n",
    "\n",
    "$ \\alpha_{glz,b,j} $・$ \\alpha_{glz,d,j} $・$ \\alpha_{glz,r,j} $ の組み合わせをクラス『ata＿input』とする。  "
   ]
  },
  {
   "cell_type": "code",
   "execution_count": null,
   "metadata": {
    "pycharm": {
     "is_executing": false
    }
   },
   "outputs": [],
   "source": [
    "class ata_input():\n",
    "    def __init__( self, absb, absd, absr ):\n",
    "        self.absb = absb\n",
    "        self.absd = absd\n",
    "        self.absr = absr\n",
    "        \n",
    "#absb：直達成分の日射吸収率\n",
    "#absd：天空成分の日射吸収率\n",
    "#absr：地表面反射成分の日射吸収率"
   ]
  },
  {
   "cell_type": "markdown",
   "metadata": {},
   "source": [
    "#### 層$j$での吸収日射量の計算  \n",
    "\n",
    "層$j$での吸収日射量の計算方法を以下に示す。"
   ]
  },
  {
   "cell_type": "markdown",
   "metadata": {},
   "source": [
    "$$\n",
    "\\begin{eqnarray}\n",
    " &\\displaystyle I_{\\alpha,j} = I_{T,b} \\cdot \\alpha_{glz,b,j} + I_{T,d} \\cdot \\alpha_{glz,d} + I_{T,r} \\cdot \\alpha_{glz,r}& \\qquad\\qquad\\text{(1)} \\nonumber\\\\\n",
    " \\nonumber \\\\\n",
    " &\\displaystyle \\alpha_{glz,d} = \\sum_{l=0}^{N_{d,lat}-1}\\sum_{m=0}^{N_{d,lon}-1} F_{d,l,m} \\cdot \\alpha_{glz,d,j,l,m}& \\qquad\\qquad\\text{(2)} \\nonumber\\\\\n",
    " \\nonumber \\\\\n",
    " &\\displaystyle \\alpha_{glz,r} = \\sum_{l=0}^{N_{r,lat}-1}\\sum_{m=0}^{N_{r,lon}-1} F_{r,l,m} \\cdot \\alpha_{glz,r,j,l,m}& \\qquad\\qquad\\text{(3)} \\nonumber\\\\\n",
    "\\end{eqnarray}\n",
    "$$"
   ]
  },
  {
   "cell_type": "code",
   "execution_count": null,
   "metadata": {
    "pycharm": {
     "is_executing": false
    }
   },
   "outputs": [],
   "source": [
    "#層jの吸収日射量\n",
    "def absorb_sol(L, M):\n",
    "    return L.Itb * M.absb + L.Itd * M.absd + L.Itr * M.absr\n",
    "\n",
    "#直達日射での層jの吸収率\n",
    "def actual_abs_beam(L, gl_type, phi_b):\n",
    "    \n",
    "    ly_in_b = np.empty(len(L), dtype = tuple)\n",
    "    for j in range(0, len(L)):\n",
    "        if gl_type[j] == 0: #ガラス\n",
    "            ly_in_b[j] = mr.SolarSpecSingleLayer(\n",
    "                gap.glass_ang_prop(L[j], phi_b)[0],\n",
    "                gap.glass_ang_prop(L[j], phi_b)[1],\n",
    "                gap.glass_ang_prop(L[j], phi_b)[2],\n",
    "                gap.glass_ang_prop(L[j], phi_b)[3]\n",
    "            )\n",
    "        elif gl_type[j] == 1: #ロールスクリーン\n",
    "            ly_in_b[j] = mr.SolarSpecSingleLayer(\n",
    "                RAP.role_ang_prop(L[j], phi_b)[0],\n",
    "                RAP.role_ang_prop(L[j], phi_b)[1],\n",
    "                RAP.role_ang_prop(L[j], phi_b)[2],\n",
    "                RAP.role_ang_prop(L[j], phi_b)[3]\n",
    "            )\n",
    "\n",
    "    return mr.get_abs_multi_layer(ly_in_b)\n",
    "\n",
    "#天空日射での層jの吸収率\n",
    "def actual_abs_diffuse(L, gl_type, Nd_lat, Nd_lon):\n",
    "\n",
    "    F_d = np.empty((Nd_lat, Nd_lon))\n",
    "    phi_d = np.empty((Nd_lat, Nd_lon))\n",
    "    abs_d = np.empty((len(L), Nd_lat, Nd_lon))\n",
    "    r_absd = np.zeros(len(L))\n",
    "    ly_in_d = np.empty(len(L), dtype = tuple) \n",
    "    for l in range(0, Nd_lat):\n",
    "        for m in range(0, Nd_lon):\n",
    "            dd_in = DDR.dd_input(Nd_lat, Nd_lon, l, m)\n",
    "            F_d[l][m] = DDR.division_diffuse_ratio(dd_in)[0]   #割合\n",
    "            phi_d[l][m] = DDR.division_diffuse_ratio(dd_in)[3] #入射角\n",
    "            \n",
    "            for j in range(0, len(L)):\n",
    "                if gl_type[j] == 0: #ガラス\n",
    "                    ly_in_d[j] = mr.SolarSpecSingleLayer(\n",
    "                        gap.glass_ang_prop(L[j], phi_d[l][m])[0],\n",
    "                        gap.glass_ang_prop(L[j], phi_d[l][m])[1],\n",
    "                        gap.glass_ang_prop(L[j], phi_d[l][m])[2],\n",
    "                        gap.glass_ang_prop(L[j], phi_d[l][m])[3]\n",
    "                    )\n",
    "                elif gl_type[j] == 1: #ロールスクリーン\n",
    "                    ly_in_d[j] = mr.SolarSpecSingleLayer(\n",
    "                        RAP.role_ang_prop(L[j], phi_d[l][m])[0],\n",
    "                        RAP.role_ang_prop(L[j], phi_d[l][m])[1],\n",
    "                        RAP.role_ang_prop(L[j], phi_d[l][m])[2],\n",
    "                        RAP.role_ang_prop(L[j], phi_d[l][m])[3]\n",
    "                    )     \n",
    "\n",
    "            x = mr.get_abs_multi_layer(ly_in_d)\n",
    "            for j in range(0, len(L)):\n",
    "                abs_d[j][l][m] = x[j]\n",
    "                r_absd[j] += F_d[l][m] * abs_d[j][l][m]\n",
    "                \n",
    "    return r_absd\n",
    "\n",
    "#地表面反射日射での層jの吸収率\n",
    "def actual_abs_reflect(L, gl_type, Nr_lat, Nr_lon):\n",
    "\n",
    "    F_r = np.empty((Nr_lat, Nr_lon))\n",
    "    phi_r = np.empty((Nr_lat, Nr_lon))\n",
    "    abs_r = np.empty((len(L), Nr_lat, Nr_lon))\n",
    "    r_absr = np.zeros(len(L))\n",
    "    ly_in_r = np.empty(len(L), dtype = tuple)   \n",
    "    for l in range(0, Nr_lat):\n",
    "        for m in range(0, Nr_lon):\n",
    "            dr_in = DDR.dr_input(Nr_lat, Nr_lon, l, m)\n",
    "            F_r[l][m] = DDR.division_reflect_ratio(dr_in)[0]   #割合\n",
    "            phi_r[l][m] = DDR.division_reflect_ratio(dr_in)[3] #入射角\n",
    "\n",
    "            for j in range(0, len(L)):\n",
    "                if gl_type[j] == 0: #ガラス\n",
    "                    ly_in_r[j] = mr.SolarSpecSingleLayer(\n",
    "                        gap.glass_ang_prop(L[j], phi_r[l][m])[0],\n",
    "                        gap.glass_ang_prop(L[j], phi_r[l][m])[1],\n",
    "                        gap.glass_ang_prop(L[j], phi_r[l][m])[2],\n",
    "                        gap.glass_ang_prop(L[j], phi_r[l][m])[3]\n",
    "                    )\n",
    "                elif gl_type[j] == 1: #ロールスクリーン\n",
    "                    ly_in_r[j] = mr.SolarSpecSingleLayer(\n",
    "                        RAP.role_ang_prop(L[j], phi_r[l][m])[0],\n",
    "                        RAP.role_ang_prop(L[j], phi_r[l][m])[1],\n",
    "                        RAP.role_ang_prop(L[j], phi_r[l][m])[2],\n",
    "                        RAP.role_ang_prop(L[j], phi_r[l][m])[3]\n",
    "                    )\n",
    "\n",
    "            x = mr.get_abs_multi_layer(ly_in_r)\n",
    "            for j in range(0, len(L)):\n",
    "                abs_r[j][l][m] = x[j]\n",
    "                r_absr[j] += F_r[l][m] * abs_r[j][l][m]\n",
    "                \n",
    "    return r_absr"
   ]
  },
  {
   "cell_type": "markdown",
   "metadata": {},
   "source": [
    "#### Example"
   ]
  },
  {
   "cell_type": "code",
   "execution_count": null,
   "metadata": {
    "pycharm": {
     "is_executing": false
    }
   },
   "outputs": [],
   "source": [
    "if __name__ == '__main__':\n",
    "\n",
    "    #面材の種類\n",
    "    gl_type = [0, 0, 1]                #各層のグレージング種類（0：ガラス、1：ロールスクリーン、2：横型ブラインド、3：縦型ブラインド）\n",
    "    \n",
    "    #面材ごとの光学特性\n",
    "    gl_in = [gap.glass_input(0.815, 0.815, 0.072, 0.072, 0, 0, 0),\n",
    "             gap.glass_input(0.815, 0.815, 0.072, 0.072, 0, 0, 0),\n",
    "             RAP.role_input(0.3, 0.3, 0.63, 0.63)]\n",
    "\n",
    "    #斜面日射量\n",
    "    ita_in = ISROG.ita_input(2.6840261248 * 10. ** 6. / 3600., 0.1181932153 * 10. ** 6. / 3600., 0.094 * 10. ** 6. / 3600.)\n",
    "\n",
    "    #直達日射の入射角\n",
    "    phi_b = 31.6403837639\n",
    "\n",
    "    #天空分割数\n",
    "    Nd_lat = 90\n",
    "    Nd_lon = 180\n",
    "\n",
    "    #地表面反射分割数\n",
    "    Nr_lat = 90\n",
    "    Nr_lon = 180\n",
    "\n",
    "    abs_b = np.zeros(len(gl_in))\n",
    "    abs_d = np.zeros(len(gl_in))\n",
    "    abs_r = np.zeros(len(gl_in))\n",
    "    I_abs = np.zeros(len(gl_in))\n",
    "    for j in range(0, len(gl_in)):\n",
    "        abs_b[j] = actual_abs_beam(gl_in, gl_type, phi_b)[j]\n",
    "        abs_d[j] = actual_abs_diffuse(gl_in, gl_type, Nd_lat, Nd_lon)[j]\n",
    "        abs_r[j] = actual_abs_reflect(gl_in, gl_type, Nr_lat, Nr_lon)[j]\n",
    "\n",
    "        ata_in = ata_input(abs_b[j], abs_d[j], abs_r[j])\n",
    "        I_abs[j] = absorb_sol(ita_in, ata_in)             #斜面（開口面）吸収日射量\n",
    "\n",
    "    print (I_abs)"
   ]
  }
 ],
 "metadata": {
  "kernelspec": {
   "name": "pycharm-bb1ec290",
   "language": "python",
   "display_name": "PyCharm (WindowThermalSpec)"
  },
  "language_info": {
   "codemirror_mode": {
    "name": "ipython",
    "version": 3
   },
   "file_extension": ".py",
   "mimetype": "text/x-python",
   "name": "python",
   "nbconvert_exporter": "python",
   "pygments_lexer": "ipython3",
   "version": "3.6.4"
  },
  "pycharm": {
   "stem_cell": {
    "cell_type": "raw",
    "source": [],
    "metadata": {
     "collapsed": false
    }
   }
  }
 },
 "nbformat": 4,
 "nbformat_minor": 2
}