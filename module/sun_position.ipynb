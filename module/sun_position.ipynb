{
 "cells": [
  {
   "cell_type": "code",
   "execution_count": 1,
   "metadata": {},
   "outputs": [],
   "source": [
    "import numpy as np\n",
    "import math"
   ]
  },
  {
   "cell_type": "markdown",
   "metadata": {},
   "source": [
    "## A.1 日時"
   ]
  },
  {
   "cell_type": "markdown",
   "metadata": {},
   "source": [
    "- 日付`NDay`は1/1からの通しの日数\n",
    "- 時刻`NHour`は整数, 0時～23時が基本。12/31のみ24時あり\n",
    "- 時刻`TT`は、時間分割`MM`における時刻\n",
    "  - `MM`：1時間の内の$(1/$ `NDT`$)$間隔の順番, 正時が`MM`$=0$, `MM`$=0～$ `NDT`$-1$\n",
    "\n",
    "\n",
    "- 時刻`Hour01`は、前時刻の`MM` $=$ `NDT`$/2～$同時刻の`MM` $=$ `NDT`$/2-1$の時間分割を、その正時に属するものとして扱うための時刻 → 時間毎の効果係数を算定するために使用するだけ"
   ]
  },
  {
   "cell_type": "code",
   "execution_count": 2,
   "metadata": {},
   "outputs": [],
   "source": [
    "def calc_NDayNHour(Hour00):\n",
    "    if Hour00==8760:\n",
    "        [NDay, NHour] = [365, 24]\n",
    "    else:\n",
    "        NDay = Hour00//24 + 1\n",
    "        NHour = Hour00 - (NDay - 1) * 24 \n",
    "\n",
    "    return [NDay,NHour]"
   ]
  },
  {
   "cell_type": "code",
   "execution_count": 3,
   "metadata": {},
   "outputs": [],
   "source": [
    "def calc_TT(NHour, NDT, MM):\n",
    "    return NHour + MM / float(NDT)"
   ]
  },
  {
   "cell_type": "code",
   "execution_count": 4,
   "metadata": {},
   "outputs": [],
   "source": [
    "def calc_Hour01(TT):\n",
    "    return int(TT + 0.5)"
   ]
  },
  {
   "cell_type": "markdown",
   "metadata": {},
   "source": [
    "## 均時差と赤緯"
   ]
  },
  {
   "cell_type": "markdown",
   "metadata": {},
   "source": [
    "### 1) 赤坂の式"
   ]
  },
  {
   "cell_type": "markdown",
   "metadata": {},
   "source": [
    "参考：拡張アメダス気象データ1981-2000解説書 8.1　太陽位置の計算"
   ]
  },
  {
   "cell_type": "markdown",
   "metadata": {},
   "source": [
    "#### Outline"
   ]
  },
  {
   "cell_type": "markdown",
   "metadata": {},
   "source": [
    "$$\n",
    "\\displaystyle\n",
    "n = Y - 1968\n",
    "$$"
   ]
  },
  {
   "cell_type": "markdown",
   "metadata": {},
   "source": [
    "$$\n",
    "\\displaystyle\n",
    "d_0 = 3.71 + 0.2596 \\cdot n - INT \\biggl[ \\frac{ n + 3 }{ 4 } \\biggr]\n",
    "$$"
   ]
  },
  {
   "cell_type": "markdown",
   "metadata": {},
   "source": [
    "$$\n",
    "\\displaystyle\n",
    "M = \\frac{ 360 \\cdot (D - d_0) }{ D_{ay} }\n",
    "$$"
   ]
  },
  {
   "cell_type": "markdown",
   "metadata": {},
   "source": [
    "$$\n",
    "\\displaystyle\n",
    "\\epsilon = 12.3901 + 0.0172 \\cdot \\biggl( n + \\frac{ M }{ 360 } \\biggr)\n",
    "$$"
   ]
  },
  {
   "cell_type": "markdown",
   "metadata": {},
   "source": [
    "$$\n",
    "\\displaystyle\n",
    "v = M + 1.914 \\cdot \\sin M + 0.02 \\cdot \\sin(2M)\n",
    "$$"
   ]
  },
  {
   "cell_type": "markdown",
   "metadata": {},
   "source": [
    "$$\n",
    "\\displaystyle\n",
    "E_t = \\left ( (M - v) - \\tan^{-1} \\left( \\frac{ 0.043 \\cdot \\sin 2( v + \\epsilon ) }{ 1 - 0.043 \\cdot \\cos 2(v + \\epsilon) } \\right) \\right) \\div 15\n",
    "$$"
   ]
  },
  {
   "cell_type": "markdown",
   "metadata": {},
   "source": [
    "$$\n",
    "\\displaystyle\n",
    "\\sin \\delta = \\cos ( v + \\epsilon ) \\cdot \\sin \\delta_0\n",
    "$$"
   ]
  },
  {
   "cell_type": "markdown",
   "metadata": {},
   "source": [
    "$INT$ 小数点以下切り捨てを表す"
   ]
  },
  {
   "cell_type": "markdown",
   "metadata": {},
   "source": [
    "Input:  \n",
    "$Y$ is year / 西暦年  \n",
    "$D$ is total day / 年通算日(1/1を $D=1$ とする), d    \n",
    "\n",
    "$n$ is the difference of year from 1968 / 1968年との年差  \n",
    "$d_0$ is 平均軌道上の近日点通過日（暦表時による1968年1月1日正午基準の日差）, d    \n",
    "$D_{ay}$ is anomalistic year / 近点年（近日点基準の公転周期日数） = 365.2596, d    \n",
    "$M$ is mean anomaly / 平均近点離角, deg  \n",
    "$\\epsilon$ is angle between perihelion and winter solstitial point / 近日点と冬至点の角度, deg   \n",
    "$v$ is true anomaly / 真近点離角, deg  \n",
    "$E_t$ is equation of time / 均時差, h  \n",
    "$\\delta_0$ is daily declination of winter solstice of northern hemisphere / 北半球の冬至の日赤緯 = -23.4393, deg    \n",
    "$\\delta$ is declination / 赤緯, rad  "
   ]
  },
  {
   "cell_type": "markdown",
   "metadata": {},
   "source": [
    "#### Function"
   ]
  },
  {
   "cell_type": "code",
   "execution_count": 5,
   "metadata": {},
   "outputs": [],
   "source": [
    "def get_eqation_of_time_and_declination_AKASAKA(year, nday):\n",
    "\n",
    "    # anomalistic year / 近点年\n",
    "    D_AY = 365.2596\n",
    "\n",
    "    # daily declination of winter solstice of northern hemisphere / 北半球の冬至の日赤緯\n",
    "    DLT0 = math.radians(-23.4393)\n",
    "    \n",
    "    # the difference of year from 1968 / 1968年との年差  \n",
    "    n = year - 1968\n",
    "    \n",
    "    # 平均軌道上の近日点通過日（暦表時による1968年1月1日正午基準の日差）, d        \n",
    "    d0 = 3.71 + 0.2596 * n - int((n + 3) / 4)    \n",
    "    \n",
    "    # mean anomaly / 平均近点離角, deg  \n",
    "    M = 360. * (nday - d0) / D_AY\n",
    "    \n",
    "    # angle between perihelion and winter solstitial point / 近日点と冬至点の角度, deg   \n",
    "    eps = 12.3901 + 0.0172 * (n + M / 360)\n",
    "    \n",
    "    # true anomaly / 真近点離角, deg  \n",
    "    v = M + 1.914 * math.sin(math.radians(M)) \\\n",
    "        + 0.02 * math.sin(math.radians(2. * M))\n",
    "\n",
    "    veps = math.radians(v + eps)\n",
    "    \n",
    "    # equation of time / 均時差, h  \n",
    "    et = (M - v) \\\n",
    "         - math.degrees(math.atan(\n",
    "                        0.043 * math.sin(2. * veps)\n",
    "                        / (1.0 - 0.043 * math.cos(2.0 * veps))\n",
    "                        ))\n",
    "    et_hour = et / 15.0\n",
    "    \n",
    "    # declination / 赤緯, rad  \n",
    "    sindlt = math.cos(veps) * math.sin(DLT0)\n",
    "    cosdlt = (abs(1. - sindlt**2)) ** 0.5\n",
    "    dlt = math.atan2(sindlt, cosdlt)\n",
    "    \n",
    "    return et_hour, dlt"
   ]
  },
  {
   "cell_type": "markdown",
   "metadata": {},
   "source": [
    "## A.2 赤緯の計算 (仕様書6.2 式(4))"
   ]
  },
  {
   "cell_type": "markdown",
   "metadata": {},
   "source": [
    "$ \\begin{align}\n",
    "\\delta_d = (180 / \\pi) & \\{0.006322 - 0.405748 \\cos (2 \\pi N / 366 + 0.153231)\\\\\n",
    "& - 0.005880 \\cos (4 \\pi N / 366 + 0.207099)\\\\\n",
    "& - 0.003233 \\cos (6 \\pi N / 366 + 0.620129) \\}\n",
    "\\end{align} $\n",
    "\n",
    "$\\delta_d$: 赤緯, deg  \n",
    "$N$: 1月1日を$N=1$とした年頭からの通しの日数, d  \n",
    "\n",
    "右辺の余弦のかっこ内の角度は$radian$単位となっているので注意"
   ]
  },
  {
   "cell_type": "code",
   "execution_count": 6,
   "metadata": {},
   "outputs": [],
   "source": [
    "def calc_deltad(NDay):\n",
    "    return (180 / math.pi) * (0.006322 - 0.405748 * math.cos(2 * math.pi * float(NDay) / 366 + 0.153231)\n",
    "                                       - 0.005880 * math.cos(4 * math.pi * float(NDay) / 366 + 0.207099)\n",
    "                                       - 0.003233 * math.cos(6 * math.pi * float(NDay) / 366 + 0.620129))"
   ]
  },
  {
   "cell_type": "markdown",
   "metadata": {},
   "source": [
    "## A.3 均時差の計算 (仕様書6.2 式(6))"
   ]
  },
  {
   "cell_type": "markdown",
   "metadata": {},
   "source": [
    "$ \\begin{align}\n",
    "e_d = -0.000279 &+ 0.122772 \\cos (2 \\pi N / 366 + 1.498311)\\\\\n",
    "& - 0.165458 \\cos (4 \\pi N / 366 - 1.261546)\\\\\n",
    "& - 0.005354 \\cos (6 \\pi N / 366 - 1.1571) \\}\n",
    "\\end{align} $\n",
    "\n",
    "$e_d$: 均時差, h  \n",
    "$N$: 1月1日を$N=1$とした年頭からの通しの日数, d\n",
    "\n",
    "右辺の余弦のかっこ内の角度は$radian$単位となっているので注意"
   ]
  },
  {
   "cell_type": "code",
   "execution_count": 7,
   "metadata": {},
   "outputs": [],
   "source": [
    "def calc_eed(NDay):\n",
    "    return ( -0.000279 + 0.122772 * math.cos(2 * math.pi * NDay / 366 + 1.498311)\n",
    "                       - 0.165458 * math.cos(4 * math.pi * NDay / 366 - 1.261546)\n",
    "                       - 0.005354 * math.cos(6 * math.pi * NDay / 366 - 1.1571)   )"
   ]
  },
  {
   "cell_type": "markdown",
   "metadata": {},
   "source": [
    "### 時角"
   ]
  },
  {
   "cell_type": "markdown",
   "metadata": {},
   "source": [
    "$$\n",
    "\\displaystyle\n",
    "T = (t + e_d - 12) \\times 15 + (L - L_0)\n",
    "$$"
   ]
  },
  {
   "cell_type": "markdown",
   "metadata": {},
   "source": [
    "$T$ is hour angle / 時角, rad  \n",
    "$t$ is time / 時刻, h  \n",
    "$e_d$ is equation of time / 均時差, h  \n",
    "$L$ is longitude 経度, rad  \n",
    "$L_0$ is the longitude of the location where the local time defined / 標準時の地点の経度（=135.0 degree （日本の場合））, rad"
   ]
  },
  {
   "cell_type": "code",
   "execution_count": 8,
   "metadata": {},
   "outputs": [],
   "source": [
    "def calc_Tdt(longitude, eed, TT, longitude_std):\n",
    "    return (TT + eed - 12) * math.radians(15.0) + longitude - longitude_std"
   ]
  },
  {
   "cell_type": "markdown",
   "metadata": {},
   "source": [
    "### 太陽高度"
   ]
  },
  {
   "cell_type": "markdown",
   "metadata": {},
   "source": [
    "#### Outline"
   ]
  },
  {
   "cell_type": "markdown",
   "metadata": {},
   "source": [
    "$$\n",
    "\\displaystyle\n",
    "\\sin h_S = \\max(0, \\sin \\phi \\sin \\delta + \\cos \\phi \\cos \\delta \\cos T)\n",
    "$$"
   ]
  },
  {
   "cell_type": "markdown",
   "metadata": {},
   "source": [
    "$$\n",
    "\\displaystyle\n",
    "\\cos h_S = (1 - \\sin ^2 h_S)^{0.5}\n",
    "$$"
   ]
  },
  {
   "cell_type": "markdown",
   "metadata": {},
   "source": [
    "$h_S$ is solar altitude / 太陽高度, rad  \n",
    "$\\phi$ is latitude, 緯度, rad  \n",
    "$\\delta$ is declination / 赤緯, rad   \n",
    "$T$ is hour angle / 時角, rad"
   ]
  },
  {
   "cell_type": "markdown",
   "metadata": {},
   "source": [
    "#### Function"
   ]
  },
  {
   "cell_type": "code",
   "execution_count": 9,
   "metadata": {},
   "outputs": [],
   "source": [
    "def calc_hs(latitude, delta, t):\n",
    "\n",
    "    sin_hs = max(0.0,\n",
    "               math.sin(latitude) * math.sin(delta) \\\n",
    "               + math.cos(latitude) * math.cos(delta) * math.cos(t)\n",
    "              )\n",
    "    \n",
    "    cos_hs = (1 - sin_hs**2) **0.5\n",
    "    \n",
    "    if sin_hs == 1.0:\n",
    "        hs = math.radians(90.0)\n",
    "    else:\n",
    "        hs = math.atan2(sin_hs, cos_hs)\n",
    "    \n",
    "    return hs, sin_hs, cos_hs"
   ]
  },
  {
   "cell_type": "markdown",
   "metadata": {},
   "source": [
    "### 太陽方位角"
   ]
  },
  {
   "cell_type": "markdown",
   "metadata": {},
   "source": [
    "三浦コメント：  \n",
    "分母が0の場合を回避しなくてもよいのか？  \n",
    "高度が0のときでも太陽方位角は定義できるので,h>0 で始めるif文は不要では。（西澤さんの式にはなかった。児島さんの式にはあった。）  hs の計算の時点で0より大の制約をいれている以上、ここでも何らかの処理は必要かと思う。あるいは、hs の計算の時点では0より大の処理は含めず、全体計算でhs>0 の場合わけを行うか？"
   ]
  },
  {
   "cell_type": "markdown",
   "metadata": {},
   "source": [
    "#### Outline"
   ]
  },
  {
   "cell_type": "markdown",
   "metadata": {},
   "source": [
    "$$\n",
    "\\displaystyle\n",
    "\\sin A_{ZS} = \\frac{ \\cos \\delta \\sin T }{ \\cos h_S }\n",
    "$$"
   ]
  },
  {
   "cell_type": "markdown",
   "metadata": {},
   "source": [
    "$$\n",
    "\\displaystyle\n",
    "\\cos A_{ZS} = \\frac { \\sin h_S \\sin \\phi - \\sin \\delta }{ \\cos h_S \\cos \\phi }\n",
    "$$"
   ]
  },
  {
   "cell_type": "markdown",
   "metadata": {},
   "source": [
    "$A_{ZS}$ is solar azimuth / 太陽方位角, rad  \n",
    "$h_S$ is solar altitude / 太陽高度, rad  \n",
    "$\\delta$ is declination / 赤緯, rad  \n",
    "$T$ is hour angle / 時角, rad  \n",
    "$\\phi$ is latitude / 緯度, rad"
   ]
  },
  {
   "cell_type": "markdown",
   "metadata": {},
   "source": [
    "#### Function"
   ]
  },
  {
   "cell_type": "code",
   "execution_count": 10,
   "metadata": {},
   "outputs": [],
   "source": [
    "def calc_Azs(latitude, delta, t, hs):\n",
    "    \n",
    "    sinAzs = math.cos(delta) * math.sin(t) / math.cos(hs)\n",
    "    cosAzs = (math.sin(hs) * math.sin(latitude) - math.sin(delta)) \\\n",
    "             / (math.cos(hs) * math.cos(latitude))\n",
    "    \n",
    "    if hs > 0.0:\n",
    "        if sinAzs == 1.0:\n",
    "            return math.radians(90.0)\n",
    "        elif sinAzs == -1.0:\n",
    "            return math.radians(270.0)\n",
    "        else:\n",
    "            return math.atan2(sinAzs, cosAzs)\n",
    "    else:\n",
    "        return 0.0"
   ]
  },
  {
   "cell_type": "markdown",
   "metadata": {},
   "source": [
    "## A.8 窓面の方位 (仕様書5.2 図4)"
   ]
  },
  {
   "cell_type": "markdown",
   "metadata": {},
   "source": [
    "- 窓面の方位は、以下の通り\n",
    "  - 北北東：$-157.5°$, 北東：$-135°$, …, 東：$-90°$, …, 南：$0°$, …, 西：$+90°$, …,北：$+180°$\n",
    "  - 角度指定も可：$-180°< A_{ZW,j} \\leq +180°$\n",
    "  - デフォルトは8方位指定"
   ]
  },
  {
   "cell_type": "code",
   "execution_count": 11,
   "metadata": {},
   "outputs": [],
   "source": [
    "def calc_Azwj(Azimuth):\n",
    "    \n",
    "    Azimuth00 = [\"北北東\", \"北東\", \"東北東\", \"東\", \"東南東\", \"南東\", \"南南東\", \"南\"\n",
    "                 , \"南南西\", \"南西\", \"西南西\", \"西\", \"西北西\", \"北西\", \"北北西\", \"北\" ]\n",
    "    if Azimuth in Azimuth00:\n",
    "        return (Azimuth00.index(Azimuth) - 7) * 22.5\n",
    "    elif -180 < float(Azimuth) <= 180:\n",
    "        return float(Azimuth) \n",
    "    else:\n",
    "        raise ValueError('窓面方位の入力が不適切です')"
   ]
  },
  {
   "cell_type": "markdown",
   "metadata": {},
   "source": [
    "## A.9 窓面の法線ベクトルと太陽位置とのなす水平面上の角度の計算 (仕様書6.2 式(1))"
   ]
  },
  {
   "cell_type": "markdown",
   "metadata": {},
   "source": [
    "- 窓面の法線ベクトルと太陽位置とのなす水平面上の角度$A_{ZW,j,d,t}[deg]$, 太陽方位角$A_{ZS,d,t}[deg]$, 外壁$j$の方位角$A_{ZW,j}[deg]$\n",
    "\n",
    "$$\n",
    "A_{ZW,j,d,t} = \\left\\{\n",
    "\\begin{array}{ll}\n",
    "A_{ZS,d,t} - A_{ZW,j} \\hspace{48pt} (-180 < A_{ZS,d,t} - A_{ZW,j} \\leq 180)\n",
    "\\\\\n",
    "A_{ZS,d,t} - A_{ZW,j} + 360 \\hspace{24pt} (A_{ZS,d,t} - A_{ZW,j} \\leq -180)\n",
    "\\\\\n",
    "A_{ZS,d,t} - A_{ZW,j} - 360 \\hspace{24pt} (A_{ZS,d,t} - A_{ZW,j} \\geq 180)\n",
    "\\end{array}\n",
    "\\right.  \\qquad (1) \n",
    "$$"
   ]
  },
  {
   "cell_type": "code",
   "execution_count": 12,
   "metadata": {},
   "outputs": [],
   "source": [
    "def calc_Azwjdt(Azwj, Azsdt):\n",
    "    \n",
    "    Azwjdt = Azsdt - Azwj\n",
    "    if Azwjdt < -180:\n",
    "        return Azwjdt + 360.0\n",
    "    elif Azwjdt > 180:\n",
    "        return Azwjdt - 360.0\n",
    "    else:\n",
    "        return Azwjdt"
   ]
  },
  {
   "cell_type": "markdown",
   "metadata": {},
   "source": [
    "## A.10 窓まわり寸法のデータの持たせ方デフォルト (仕様書5.1 図2)"
   ]
  },
  {
   "cell_type": "code",
   "execution_count": 13,
   "metadata": {},
   "outputs": [],
   "source": [
    "def set_WSSize(WSSize1):\n",
    "    \n",
    "    WSSizeDict = {}\n",
    "    \n",
    "    for i in range(0, len(WSSize1), 2):\n",
    "        WSSizeDict[WSSize1[i]] = WSSize1[i+1]\n",
    "\n",
    "    # X1\n",
    "    if \"X1\" not in WSSizeDict:\n",
    "        WSSizeDict[\"X1\"] = 0\n",
    "    elif WSSizeDict[\"X1\"] < 0:\n",
    "        raise ValueError(\"寸法X1の設定が不適切です\")\n",
    "    elif WSSizeDict[\"X1\"] == \"\":\n",
    "        WSSizeDict[\"X1\"] = 0        \n",
    "        \n",
    "    # X2\n",
    "    if \"X2\" not in WSSizeDict:\n",
    "        raise ValueError(\"寸法X2が設定されていません\")\n",
    "    elif WSSizeDict[\"X2\"] <= 0 or WSSizeDict[\"X2\"] == \"\":\n",
    "        raise ValueError(\"寸法X2の設定が不適切です\")            \n",
    "        \n",
    "    # X3\n",
    "    if \"X3\" not in WSSizeDict:\n",
    "        WSSizeDict[\"X3\"] = 0\n",
    "    elif WSSizeDict[\"X3\"] < 0:\n",
    "        raise ValueError(\"寸法X3の設定が不適切です\")\n",
    "    elif WSSizeDict[\"X3\"] == \"\":\n",
    "        WSSizeDict[\"X3\"] = 0 \n",
    "        \n",
    "    # Y1\n",
    "    if \"Y1\" not in WSSizeDict:\n",
    "        WSSizeDict[\"Y1\"] = 0\n",
    "    elif WSSizeDict[\"Y1\"] < 0:\n",
    "        raise ValueError(\"寸法Y1の設定が不適切です\")\n",
    "    elif WSSizeDict[\"Y1\"] == \"\":\n",
    "        WSSizeDict[\"Y1\"] = 0 \n",
    "        \n",
    "    # Y2\n",
    "    if \"Y2\" not in WSSizeDict:\n",
    "        raise ValueError(\"寸法Y2が設定されていません\")\n",
    "    elif WSSizeDict[\"Y2\"] <= 0 or WSSizeDict[\"Y2\"] == \"\":\n",
    "        raise ValueError(\"寸法Y2の設定が不適切です\")            \n",
    "\n",
    "    # Y3\n",
    "    if \"Y3\" not in WSSizeDict:\n",
    "        WSSizeDict[\"Y3\"] = 0\n",
    "    elif WSSizeDict[\"Y3\"] < 0:\n",
    "        raise ValueError(\"寸法Y3の設定が不適切です\")            \n",
    "    elif WSSizeDict[\"Y3\"] == \"\":\n",
    "        WSSizeDict[\"Y3\"] = 0 \n",
    "        \n",
    "    # Zxp\n",
    "    if \"Zxp\" not in WSSizeDict:\n",
    "        WSSizeDict[\"Zxp\"] = 0\n",
    "    elif WSSizeDict[\"Zxp\"] < 0:\n",
    "        raise ValueError(\"寸法Zxpの設定が不適切です\")\n",
    "    elif WSSizeDict[\"Zxp\"] == \"\":\n",
    "        WSSizeDict[\"Zxp\"] = 0 \n",
    "        \n",
    "    # Zxm\n",
    "    if \"Zxm\" not in WSSizeDict:\n",
    "        WSSizeDict[\"Zxm\"] = 0\n",
    "    elif WSSizeDict[\"Zxm\"] < 0:\n",
    "        raise ValueError(\"寸法Zxmの設定が不適切です\")           \n",
    "    elif WSSizeDict[\"Zxm\"] == \"\":\n",
    "        WSSizeDict[\"Zxm\"] = 0 \n",
    "        \n",
    "    # Zyp\n",
    "    if \"Zyp\" not in WSSizeDict:\n",
    "        WSSizeDict[\"Zyp\"] = 0\n",
    "    elif WSSizeDict[\"Zyp\"] < 0:\n",
    "        raise ValueError(\"寸法Zypの設定が不適切です\")     \n",
    "    elif WSSizeDict[\"Zyp\"] == \"\":\n",
    "        WSSizeDict[\"Zyp\"] = 0 \n",
    "        \n",
    "    # Zym\n",
    "    if \"Zym\" not in WSSizeDict:\n",
    "        WSSizeDict[\"Zym\"] = 0\n",
    "    elif WSSizeDict[\"Zym\"] < 0:\n",
    "        raise ValueError(\"寸法Zymの設定が不適切です\")\n",
    "    elif WSSizeDict[\"Zym\"] == \"\":\n",
    "        WSSizeDict[\"Zym\"] = 0 \n",
    "        \n",
    "    \"\"\" 以下、オプション扱い → 非入力は窓端から日よけの付け根までの距離とする \"\"\"     \n",
    "    # X1yp\n",
    "    if \"X1yp\" not in WSSizeDict:\n",
    "        WSSizeDict[\"X1yp\"] = WSSizeDict[\"X1\"] \n",
    "    elif WSSizeDict[\"X1yp\"] < 0:\n",
    "        raise ValueError(\"寸法X1ypの設定が不適切です\")        \n",
    "    elif WSSizeDict[\"X1yp\"] > WSSizeDict[\"X1\"] or WSSizeDict[\"X1yp\"] == \"\":\n",
    "        WSSizeDict[\"X1yp\"] = WSSizeDict[\"X1\"]         \n",
    "        \n",
    "    # X1ym\n",
    "    if \"X1ym\" not in WSSizeDict:\n",
    "        WSSizeDict[\"X1ym\"] = WSSizeDict[\"X1\"] \n",
    "    elif WSSizeDict[\"X1ym\"] < 0:\n",
    "        raise ValueError(\"寸法X1ymの設定が不適切です\")\n",
    "    elif WSSizeDict[\"X1ym\"] > WSSizeDict[\"X1\"] or WSSizeDict[\"X1ym\"] == \"\":\n",
    "        WSSizeDict[\"X1ym\"] = WSSizeDict[\"X1\"]       \n",
    "        \n",
    "    # X3yp\n",
    "    if \"X3yp\" not in WSSizeDict:\n",
    "        WSSizeDict[\"X3yp\"] = WSSizeDict[\"X3\"] \n",
    "    elif WSSizeDict[\"X3yp\"] < 0:\n",
    "        raise ValueError(\"寸法X3ypの設定が不適切です\")            \n",
    "    elif WSSizeDict[\"X3yp\"] > WSSizeDict[\"X3\"] or WSSizeDict[\"X3yp\"] == \"\":\n",
    "        WSSizeDict[\"X3yp\"] = WSSizeDict[\"X3\"]   \n",
    "        \n",
    "    # X3ym\n",
    "    if \"X3ym\" not in WSSizeDict:\n",
    "        WSSizeDict[\"X3ym\"] = WSSizeDict[\"X3\"] \n",
    "    elif WSSizeDict[\"X3ym\"] < 0:\n",
    "        raise ValueError(\"寸法X3ymの設定が不適切です\")               \n",
    "    elif WSSizeDict[\"X3ym\"] > WSSizeDict[\"X3\"] or WSSizeDict[\"X3ym\"] == \"\":\n",
    "        WSSizeDict[\"X3ym\"] = WSSizeDict[\"X3\"]   \n",
    "        \n",
    "    # Y1xp\n",
    "    if \"Y1xp\" not in WSSizeDict:\n",
    "        WSSizeDict[\"Y1xp\"] = WSSizeDict[\"Y1\"]\n",
    "    elif WSSizeDict[\"Y1xp\"] < 0:\n",
    "        raise ValueError(\"寸法Y1xpの設定が不適切です\")     \n",
    "    elif WSSizeDict[\"Y1xp\"] > WSSizeDict[\"Y1\"] or WSSizeDict[\"Y1xp\"] == \"\":\n",
    "        WSSizeDict[\"Y1xp\"] = WSSizeDict[\"Y1\"]  \n",
    "        \n",
    "    # Y1xm\n",
    "    if \"Y1xm\" not in WSSizeDict:\n",
    "        WSSizeDict[\"Y1xm\"] = WSSizeDict[\"Y1\"]  \n",
    "    elif WSSizeDict[\"Y1xm\"] < 0:\n",
    "        raise ValueError(\"寸法Y1xmの設定が不適切です\")                \n",
    "    elif WSSizeDict[\"Y1xm\"] > WSSizeDict[\"Y1\"] or WSSizeDict[\"Y1xm\"] == \"\":\n",
    "        WSSizeDict[\"Y1xm\"] = WSSizeDict[\"Y1\"]  \n",
    "        \n",
    "    # Y3xp\n",
    "    if \"Y3xp\" not in WSSizeDict:\n",
    "        WSSizeDict[\"Y3xp\"] = WSSizeDict[\"Y3\"]\n",
    "    elif WSSizeDict[\"Y3xp\"] < 0:\n",
    "        raise ValueError(\"寸法Y3xpの設定が不適切です\")\n",
    "    elif WSSizeDict[\"Y3xp\"] > WSSizeDict[\"Y3\"] or WSSizeDict[\"Y3xp\"] == \"\":\n",
    "        WSSizeDict[\"Y3xp\"] = WSSizeDict[\"Y3\"]\n",
    "        \n",
    "    # Y3xm\n",
    "    if \"Y3xm\" not in WSSizeDict:\n",
    "        WSSizeDict[\"Y3xm\"] = WSSizeDict[\"Y3\"]\n",
    "    elif WSSizeDict[\"Y3xm\"] < 0:\n",
    "        raise ValueError(\"寸法Y3xmの設定が不適切です\")            \n",
    "    elif WSSizeDict[\"Y3xm\"] > WSSizeDict[\"Y3\"] or WSSizeDict[\"Y3xm\"] == \"\":\n",
    "        WSSizeDict[\"Y3xm\"] = WSSizeDict[\"Y3\"]\n",
    "        \n",
    "    WSSize = [WSSizeDict[\"X1\"],  WSSizeDict[\"X2\"],  WSSizeDict[\"X3\"],\n",
    "              WSSizeDict[\"X1yp\"],WSSizeDict[\"X1ym\"],WSSizeDict[\"X3yp\"],WSSizeDict[\"X3ym\"],\n",
    "              WSSizeDict[\"Y1\"],  WSSizeDict[\"Y2\"],  WSSizeDict[\"Y3\"],\n",
    "              WSSizeDict[\"Y1xp\"],WSSizeDict[\"Y1xm\"],WSSizeDict[\"Y3xp\"],WSSizeDict[\"Y3xm\"],\n",
    "              WSSizeDict[\"Zxp\"], WSSizeDict[\"Zxm\"], WSSizeDict[\"Zyp\"], WSSizeDict[\"Zym\"] ]\n",
    "            \n",
    "    return WSSize"
   ]
  }
 ],
 "metadata": {
  "kernelspec": {
   "display_name": "Python 3",
   "language": "python",
   "name": "python3"
  },
  "language_info": {
   "codemirror_mode": {
    "name": "ipython",
    "version": 3
   },
   "file_extension": ".py",
   "mimetype": "text/x-python",
   "name": "python",
   "nbconvert_exporter": "python",
   "pygments_lexer": "ipython3",
   "version": "3.6.5"
  }
 },
 "nbformat": 4,
 "nbformat_minor": 2
}
