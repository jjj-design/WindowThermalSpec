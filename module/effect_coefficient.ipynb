{
 "cells": [
  {
   "cell_type": "code",
   "execution_count": 1,
   "metadata": {},
   "outputs": [],
   "source": [
    "import numpy as np\n",
    "import math"
   ]
  },
  {
   "cell_type": "markdown",
   "metadata": {},
   "source": [
    "# C. 天空日射・反射日射の効果係数 (仕様書6.4, 6.5)"
   ]
  },
  {
   "cell_type": "markdown",
   "metadata": {},
   "source": [
    "## C.1 形態係数算定のための関数$\\;f_A\\;$ (仕様書6.4 式(23))"
   ]
  },
  {
   "cell_type": "markdown",
   "metadata": {},
   "source": [
    "\n",
    "$$ \\begin{align}\n",
    "f_{A}(x_a,x_b,y_a,y_b,z_a) &= \\frac{x_b \\sqrt{y_b^2+z_a^2}}{2} \\tan^{-1} \\frac{x_b}{\\sqrt{y_b^2+z_a^2}}\n",
    "- \\frac{x_b \\sqrt{y_a^2+z_a^2}}{2} \\tan^{-1} \\frac{x_b}{\\sqrt{y_a^2+z_a^2}} \\\\\n",
    "&- \\frac{x_a \\sqrt{y_b^2+z_a^2}}{2} \\tan^{-1} \\frac{x_a}{\\sqrt{y_b^2+z_a^2}}\n",
    "+ \\frac{x_a \\sqrt{y_a^2+z_a^2}}{2} \\tan^{-1} \\frac{x_a}{\\sqrt{y_a^2+z_a^2}} \\\\\n",
    "&+ \\frac{x_b^2 - y_b^2 - z_a^2}{8} \\log (x_b^2 + y_b^2 + z_a^2) - \\frac{x_b^2 - y_a^2 - z_a^2}{8} \\log (x_b^2 + y_a^2 + z_a^2) \\\\\n",
    "&- \\frac{x_a^2 - y_b^2 - z_a^2}{8} \\log (x_a^2 + y_b^2 + z_a^2) + \\frac{x_a^2 - y_a^2 - z_a^2}{8} \\log (x_a^2 + y_a^2 + z_a^2)\n",
    "\\end{align} $$"
   ]
  },
  {
   "cell_type": "code",
   "execution_count": 2,
   "metadata": {},
   "outputs": [],
   "source": [
    "def calc_fa_atan(x, y, z):\n",
    "\n",
    "    if y**2 + z**2 > 0:\n",
    "        return x * ( y**2 + z**2 ) **0.5 / 2 * math.atan( x / ( y**2 + z**2 ) **0.5 )\n",
    "    else:\n",
    "        return 0.0\n",
    "\n",
    "def calc_fa_log(x, y, z):\n",
    "\n",
    "    if x**2 + y**2 + z**2 > 0:\n",
    "        return ( x**2 - y**2 - z**2 ) / 8 * math.log( x**2 + y**2 + z**2 )\n",
    "    else:\n",
    "        return 0.0\n",
    "\n",
    "def calc_fa(xa, xb, ya, yb, za):\n",
    "    \n",
    "    return ( calc_fa_atan(xb, yb, za) - calc_fa_atan(xb, ya, za)\n",
    "           - calc_fa_atan(xa, yb, za) + calc_fa_atan(xa, ya, za)\n",
    "           + calc_fa_log(xb, yb, za)  - calc_fa_log(xb, ya, za)\n",
    "           - calc_fa_log(xa, yb, za)  + calc_fa_log(xa, ya, za) )"
   ]
  },
  {
   "cell_type": "markdown",
   "metadata": {},
   "source": [
    "## C.2 天空に対する形態係数 (仕様書6.4 式(22))"
   ]
  },
  {
   "cell_type": "markdown",
   "metadata": {},
   "source": [
    "$$ \\begin{align}\n",
    "\\phi_{j,y+} = (\\pi A_{wind,j})^{-1} \\{ & \\hspace{2pt} f_A(x_{3y+}, x_2 + x_{3y+}, y_1, y_1 + y_2, z_{y+}) + f_A(y_{1x+}, y_{1x+} + y_2, x_{3}, x_2 + x_{3}, z_{x+}) \\\\\n",
    "+ & \\hspace{2pt} f_A(x_{1y+}, x_{1y+} + x_2, y_1, y_1 + y_2, z_{y+}) + f_A(y_{1x-}, y_{1x-} + y_2, x_{1}, x_1 + x_2, z_{x-}) \\\\ \n",
    "+ & \\hspace{2pt} f_A(x_{3}, x_2 + x_{3}, y_1, y_1 + y_2, 0) + f_A(y_{1}, y_{1} + y_2, x_{3}, x_2 + x_{3}, 0) \\\\\n",
    "+ & \\hspace{2pt} f_A(x_{1}, x_{1} + x_2, y_1, y_1 + y_2, 0) + f_A(y_{1}, y_{1} + y_2, x_{1}, x_1 + x_2, 0) \\\\ \n",
    "- & \\hspace{2pt} f_A(x_{3y+}, x_2 + x_{3y+}, y_1, y_1 + y_2, 0) - f_A(y_{1x+}, y_{1x+} + y_2, x_{3}, x_2 + x_{3}, 0) \\\\\n",
    "- & \\hspace{2pt} f_A(x_{1y+}, x_{1y+} + x_2, y_1, y_1 + y_2, 0) - f_A(y_{1x-}, y_{1x-} + y_2, x_{1}, x_1 + x_2, 0) \\\\\n",
    "\\end{align} $$"
   ]
  },
  {
   "cell_type": "code",
   "execution_count": 3,
   "metadata": {},
   "outputs": [],
   "source": [
    "def calc_phiyp(WSSize):\n",
    "    \n",
    "    X1, X2, X3, X1yp, X1ym, X3yp, X3ym, Y1, Y2, Y3, Y1xp, Y1xm, Y3xp, Y3xm, Zxp, Zxm, Zyp, Zym = WSSize\n",
    "    \n",
    "    phiyp = ( 1 / ( np.pi * X2 * Y2 )\n",
    "            * ( calc_fa(X3yp, X2 + X3yp, Y1, Y1 + Y2, Zyp) + calc_fa(Y1xp, Y1xp + Y2, X3, X2 + X3, Zxp) \n",
    "              + calc_fa(X1yp, X1yp + X2, Y1, Y1 + Y2, Zyp) + calc_fa(Y1xm, Y1xm + Y2, X1, X1 + X2, Zxm)  \n",
    "              + calc_fa(X3,   X2  +  X3, Y1, Y1 + Y2, 0  ) + calc_fa(Y1,   Y1  +  Y2, X3, X2 + X3, 0  ) \n",
    "              + calc_fa(X1,   X1  +  X2, Y1, Y1 + Y2, 0  ) + calc_fa(Y1,   Y1  +  Y2, X1, X1 + X2, 0  )     \n",
    "              - calc_fa(X3yp, X2 + X3yp, Y1, Y1 + Y2, 0  ) - calc_fa(Y1xp, Y1xp + Y2, X3, X2 + X3, 0  ) \n",
    "              - calc_fa(X1yp, X1yp + X2, Y1, Y1 + Y2, 0  ) - calc_fa(Y1xm, Y1xm + Y2, X1, X1 + X2, 0  ) ) ) \n",
    "    return max(0, min(phiyp, 0.5))    #負値は0に、0.5を超える場合は0.5で頭打ち"
   ]
  },
  {
   "cell_type": "markdown",
   "metadata": {},
   "source": [
    "## C.3 天空日射の効果係数 (仕様書6.4 式(21))"
   ]
  },
  {
   "cell_type": "markdown",
   "metadata": {},
   "source": [
    "$$\\gamma_{isr,j,y+} = 2 \\phi_{j,y+} $$"
   ]
  },
  {
   "cell_type": "code",
   "execution_count": 4,
   "metadata": {},
   "outputs": [],
   "source": [
    "def calc_gammayp(WSSize):\n",
    "    \n",
    "    return 2 * calc_phiyp(WSSize)"
   ]
  },
  {
   "cell_type": "markdown",
   "metadata": {},
   "source": [
    "## C.4 地面に対する形態係数 (仕様書6.5 式(25))"
   ]
  },
  {
   "cell_type": "markdown",
   "metadata": {},
   "source": [
    "$$ \\begin{align}\n",
    "\\phi_{j,y-} = (\\pi A_{wind,j})^{-1} \\{ & \\hspace{2pt} f_A(x_{3y-}, x_2 + x_{3y-}, y_3, y_2 + y_3, z_{y-}) + f_A(y_{3x+}, y_2 + y_{3x+}, x_{3}, x_2 + x_{3}, z_{x+}) \\\\\n",
    "+ & \\hspace{2pt} f_A(x_{1y-}, x_{1y-} + x_2, y_3, y_2 + y_3, z_{y-}) + f_A(y_{3x-}, y_2 + y_{3x-}, x_{1}, x_1 + x_2, z_{x-}) \\\\ \n",
    "+ & \\hspace{2pt} f_A(x_{3}, x_2 + x_{3}, y_3, y_2 + y_3, 0) + f_A(y_{3}, y_{2} + y_3, x_{3}, x_2 + x_{3}, 0) \\\\\n",
    "+ & \\hspace{2pt} f_A(x_{1}, x_{1} + x_2, y_3, y_2 + y_3, 0) + f_A(y_{3}, y_{2} + y_3, x_{1}, x_1 + x_2, 0) \\\\ \n",
    "- & \\hspace{2pt} f_A(x_{3y-}, x_2 + x_{3y-}, y_3, y_2 + y_3, 0) - f_A(y_{3x+}, y_2 + y_{3x+}, x_{3}, x_2 + x_{3}, 0) \\\\\n",
    "- & \\hspace{2pt} f_A(x_{1y-}, x_{1y-} + x_2, y_3, y_2 + y_3, 0) - f_A(y_{3x-}, y_2 + y_{3x-}, x_{1}, x_1 + x_2, 0) \\\\\n",
    "\\end{align} $$"
   ]
  },
  {
   "cell_type": "code",
   "execution_count": 5,
   "metadata": {},
   "outputs": [],
   "source": [
    "def calc_phiym(WSSize):\n",
    "    \n",
    "    X1, X2, X3, X1yp, X1ym, X3yp, X3ym, Y1, Y2, Y3, Y1xp, Y1xm, Y3xp, Y3xm, Zxp, Zxm, Zyp, Zym = WSSize\n",
    "    \n",
    "    phiym = ( 1 / ( np.pi * X2 * Y2 )\n",
    "            * ( calc_fa(X3ym, X2 + X3ym, Y3, Y2 + Y3, Zym) + calc_fa(Y3xp, Y2 + Y3xp, X3, X2 + X3, Zxp) \n",
    "              + calc_fa(X1ym, X1ym + X2, Y3, Y2 + Y3, Zym) + calc_fa(Y3xm, Y2 + Y3xm, X1, X1 + X2, Zxm)  \n",
    "              + calc_fa(X3,   X2  +  X3, Y3, Y2 + Y3, 0  ) + calc_fa(Y3,   Y2  +  Y3, X3, X2 + X3, 0  ) \n",
    "              + calc_fa(X1,   X1  +  X2, Y3, Y2 + Y3, 0  ) + calc_fa(Y3,   Y2  +  Y3, X1, X1 + X2, 0  )     \n",
    "              - calc_fa(X3ym, X2 + X3ym, Y3, Y2 + Y3, 0  ) - calc_fa(Y3xp, Y2 + Y3xp, X3, X2 + X3, 0  ) \n",
    "              - calc_fa(X1ym, X1ym + X2, Y3, Y2 + Y3, 0  ) - calc_fa(Y3xm, Y2 + Y3xm, X1, X1 + X2, 0  ) ) ) \n",
    "    return max(0, min(phiym, 0.5))    #負値は0に、0.5を超える場合は0.5で頭打ち\n"
   ]
  },
  {
   "cell_type": "markdown",
   "metadata": {},
   "source": [
    "## C.5 反射日射の効果係数 (仕様書6.5 式(24))"
   ]
  },
  {
   "cell_type": "markdown",
   "metadata": {},
   "source": [
    "$$\\gamma_{isr,j,y-} = 2 \\phi_{j,y-} $$"
   ]
  },
  {
   "cell_type": "code",
   "execution_count": 6,
   "metadata": {},
   "outputs": [],
   "source": [
    "def calc_gammaym(WSSize):\n",
    "\n",
    "    return 2 * calc_phiym(WSSize)"
   ]
  },
  {
   "cell_type": "code",
   "execution_count": null,
   "metadata": {},
   "outputs": [],
   "source": []
  }
 ],
 "metadata": {
  "kernelspec": {
   "display_name": "Python 3",
   "language": "python",
   "name": "python3"
  },
  "language_info": {
   "codemirror_mode": {
    "name": "ipython",
    "version": 3
   },
   "file_extension": ".py",
   "mimetype": "text/x-python",
   "name": "python",
   "nbconvert_exporter": "python",
   "pygments_lexer": "ipython3",
   "version": "3.6.5"
  }
 },
 "nbformat": 4,
 "nbformat_minor": 2
}
