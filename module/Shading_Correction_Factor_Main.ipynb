{
 "cells": [
  {
   "cell_type": "code",
   "execution_count": 1,
   "metadata": {},
   "outputs": [
    {
     "name": "stdout",
     "output_type": "stream",
     "text": [
      "Importing Jupyter notebook from ..\\module\\climate.ipynb\n",
      "Importing Jupyter notebook from ..\\module\\sun_position.ipynb\n",
      "Importing Jupyter notebook from ..\\module\\effect_coefficient.ipynb\n",
      "Importing Jupyter notebook from ..\\module\\direct_solar_area.ipynb\n",
      "Importing Jupyter notebook from ..\\module\\shading_effect_factor.ipynb\n"
     ]
    }
   ],
   "source": [
    "import nbimporter\n",
    "\n",
    "import sys\n",
    "sys.path.append('../')\n",
    "\n",
    "from module import climate\n",
    "from module import effect_coefficient\n",
    "from module import sun_position\n",
    "from module import direct_solar_area\n",
    "from module import shading_effect_factor"
   ]
  },
  {
   "cell_type": "markdown",
   "metadata": {},
   "source": [
    "# 日よけ効果係数算定ツール  Main\n",
    "\n",
    "- 一次目標：日よけ効果係数算定ツールのpython上での再現\n"
   ]
  },
  {
   "cell_type": "markdown",
   "metadata": {},
   "source": [
    "## X. 日よけ効果係数算定ツール本体＋入出力\n"
   ]
  },
  {
   "cell_type": "markdown",
   "metadata": {},
   "source": [
    "### X.1 本体プログラム"
   ]
  },
  {
   "cell_type": "code",
   "execution_count": 2,
   "metadata": {},
   "outputs": [],
   "source": [
    "\"\"\" 日よけ効果係数計算プログラム本体 \"\"\"\n",
    "\n",
    "def Calc_ShadingCorrectionFactor(Path00, FileName00, FileName01, ClimateZone, NDT, etaID, Azimuth, WSSize ):\n",
    "\n",
    "    # FileName00 は使用していない。\n",
    "\n",
    "    # 引数(の例)\n",
    "    #    Path00 = \"./SCFConfig01/\"  # 設定ファイルのあるパス\n",
    "    #    FileName01 = \"IncidentAngleCharacteristics.csv\"   # 窓ガラスの入射角特性ファイル\n",
    "    #    ClimateZone = 6            # 地域区分(1～8地域, 他、ユニークなID設定可)\n",
    "    #    NDT = 6                    # 1時間の分割数,ツールの標準は6分割\n",
    "    #    Azimuth = \"南\"             # 窓面の方位を16方位か、角度(-180°< Azimuth <= 180°)で入力\n",
    "    #    etaID = 1                  # 入射角特性のデータセットのID\n",
    "    #    WSSize = [1.1, 2.1, 0.9, 1.05, 1.07, 0.88, 0.85, 0.98, 2.05, 1.02, 0.96, 0.92, 1.01, 0.97, 0.24, 0.28, 0.21, 0.2]\n",
    "    # WSSize = [X1, X2, X3, X1yp, X1ym, X3yp, X3ym, Y1, Y2, Y3, Y1xp, Y1xm, Y3xp, Y3xm, Zxp, Zxm, Zyp, Zym]\n",
    "    # WSSize:窓および日よけの寸法一式\n",
    "    \n",
    "    # \\Zone.csv から地点データの読み込み\n",
    "    c = climate.Climate(ClimateZone, NDT)\n",
    "    \n",
    "    # 窓の方位(-180~180)\n",
    "    Azwj = sun_position.calc_Azwj(Azimuth)\n",
    "    \n",
    "    # 天空日射の効果係数 gammayp (天空の形態係数の2倍)\n",
    "    gammayp = effect_coefficient.calc_gammayp(WSSize)\n",
    "\n",
    "    # 反射日射の効果係数 gammaym (地面の形態係数の2倍)\n",
    "    gammaym = effect_coefficient.calc_gammaym(WSSize)\n",
    "    \n",
    "    # 窓ガラスの入射角特性\n",
    "    iac = climate.get_incident_angle_characteristics()\n",
    "    \n",
    "    # 窓面積 Awj, m2\n",
    "    Awj = WSSize[1] * WSSize[8]    # Awj = X2 * Y2\n",
    "    \n",
    "    \"\"\" リストの初期設定 \"\"\"\n",
    "    SCF01 = [[[0 for j in range(NDT)] for i in range(8761)] for h in range(2)]\n",
    "    \n",
    "    for Hour00 in range(8760): # ← 12/31 24時は回さないのでHour00=8759がループの最後\n",
    "        \n",
    "        for MM in range(c.ndt): # MM:1時間の内の(1/NDT)間隔の順番, 正時がMM=0, MM=0～NDT-1\n",
    "            \n",
    "            # 太陽高度とその正弦,余弦の計算\n",
    "            sinh = c.calc_sinh(Hour00, MM) #\n",
    "            cosh = c.calc_cosh(Hour00, MM) #\n",
    "            hsdt = c.calc_hsdt(Hour00, MM) #\n",
    "            \n",
    "            # 太陽方位角 Azsdt (deg) の計算\n",
    "            Azsdt = c.calc_azsdt(Hour00, MM) #\n",
    "            \n",
    "            # 法線面直達日射量 Sddhm (kcal/m2), 水平面天空日射量 Ssdhm (kcal/m2)\n",
    "            Sddhm = c.calc_sddhm(Hour00, MM) #\n",
    "            Ssdhm = c.calc_ssdhm(Hour00, MM) #\n",
    "            \n",
    "            # 窓面の法線ベクトルと太陽位置とのなす水平面上の角度 Azwjdt (deg)\n",
    "            Azwjdt = sun_position.calc_Azwjdt(Azwj, Azsdt)\n",
    "            \n",
    "            # 直達入射の窓面への入射角の余弦 costheta\n",
    "            costheta = climate.calc_costheta(Azwjdt, cosh)\n",
    "   \n",
    "            # 入射角特性 etajdt\n",
    "            etajdt = climate.calc_etajdt(costheta, iac.eta_kk)\n",
    "\n",
    "            # :直達日射が窓に射す部分の面積 Ax, m2\n",
    "            Ax = direct_solar_area.calc_Ax(WSSize, Azwjdt, hsdt)\n",
    "\n",
    "            \"\"\" 日よけ効果係数算定式の時刻TTにおける分子分母(E.2) \"\"\"\n",
    "                # SCF00[0]:(2)式の分子への加算分(窓面積をかけた値として)     \n",
    "                # SCF00[1]:(2)式の分母への加算分(窓面積をかけた値として)\n",
    "            [SCF01[0][Hour00][MM],SCF01[1][Hour00][MM]] \\\n",
    "                = shading_effect_factor.calc_SCF00(Sddhm, Ssdhm, etajdt, iac.eta_isr,\n",
    "                                                   costheta, sinh\n",
    "                                       , Awj, Ax, gammayp, gammaym)\n",
    "         \n",
    "    SCF = shading_effect_factor.Output_ShadingCorrectionFactor(c, NDT, SCF01)\n",
    "    \n",
    "    return SCF"
   ]
  },
  {
   "cell_type": "code",
   "execution_count": null,
   "metadata": {},
   "outputs": [],
   "source": []
  }
 ],
 "metadata": {
  "kernelspec": {
   "display_name": "Python 3",
   "language": "python",
   "name": "python3"
  },
  "language_info": {
   "codemirror_mode": {
    "name": "ipython",
    "version": 3
   },
   "file_extension": ".py",
   "mimetype": "text/x-python",
   "name": "python",
   "nbconvert_exporter": "python",
   "pygments_lexer": "ipython3",
   "version": "3.6.5"
  }
 },
 "nbformat": 4,
 "nbformat_minor": 2
}
