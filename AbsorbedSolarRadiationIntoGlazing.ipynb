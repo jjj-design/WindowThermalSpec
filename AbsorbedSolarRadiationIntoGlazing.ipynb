{
 "cells": [
  {
   "cell_type": "code",
   "execution_count": 1,
   "metadata": {
    "scrolled": true
   },
   "outputs": [
    {
     "name": "stdout",
     "output_type": "stream",
     "text": [
      "Importing Jupyter notebook from GlassAngularProperty.ipynb\n",
      "Importing Jupyter notebook from RollershadeAngularProperty.ipynb\n",
      "Importing Jupyter notebook from IncidentSolarRadiationOnGlazing.ipynb\n",
      "Importing Jupyter notebook from MultipleReflectionOfSolarRadiation.ipynb\n",
      "Importing Jupyter notebook from DivisionDiffuseRatio.ipynb\n"
     ]
    }
   ],
   "source": [
    "from collections import namedtuple\n",
    "import csv\n",
    "import math\n",
    "import numpy as np\n",
    "import matplotlib.pyplot as plt\n",
    "\n",
    "import nbimporter\n",
    "import GlassAngularProperty as GAP\n",
    "import RollershadeAngularProperty as RAP\n",
    "import IncidentSolarRadiationOnGlazing as ISROG\n",
    "import MultipleReflectionOfSolarRadiation as MROSR\n",
    "import DivisionDiffuseRatio as DDR"
   ]
  },
  {
   "cell_type": "markdown",
   "metadata": {},
   "source": [
    "# 各層の吸収日射量を計算するモジュール"
   ]
  },
  {
   "cell_type": "markdown",
   "metadata": {},
   "source": [
    "## 1. Functions  "
   ]
  },
  {
   "cell_type": "markdown",
   "metadata": {},
   "source": [
    "開口面日射量（直達・天空・地表面反射）とグレージング複合体各層の日射吸収率から各層の吸収日射量を計算する。"
   ]
  },
  {
   "cell_type": "markdown",
   "metadata": {},
   "source": [
    "### 入力値  \n",
    "\n",
    "$ I_{T,b} $ ：斜面（開口面）直達日射量 (W/m<sup>2</sup>)  \n",
    "$ I_{T,d} $ ：斜面（開口面）天空日射量 (W/m<sup>2</sup>)  \n",
    "$ I_{T,r} $ ：斜面（開口面）地表面反射日射量 (W/m<sup>2</sup>)  \n",
    "$ \\alpha_{glz,b,j} $ ：直達日射に対する層$j$の日射吸収率  \n",
    "$ \\alpha_{glz,d,j,l,m} $ ：天空上の微小要素からの入射日射に対する層$j$の日射吸収率  \n",
    "$ \\alpha_{glz,r,j,l,m} $ ：地表面上の微小要素からの入射日射に対する層$j$の日射吸収率  \n",
    "$ F_{d,l,m} $ ：天空日射量に対する天空上の微小要素からの天空日射量の割合  \n",
    "$ F_{r,l,m} $ ：地表面反射日射量に対する地表面上の微小要素からの地表面反射日射量の割合  "
   ]
  },
  {
   "cell_type": "markdown",
   "metadata": {},
   "source": [
    "### 出力値  \n",
    "\n",
    "$ I_{\\alpha,j} $ ：層$j$での吸収日射量 (W/m<sup>2</sup>)  "
   ]
  },
  {
   "cell_type": "markdown",
   "metadata": {},
   "source": [
    "### 計算方法  \n",
    "\n",
    "#### データ構造と値の範囲  \n",
    "\n",
    "$ \\alpha_{glz,b,j} $・$ \\alpha_{glz,d,j} $・$ \\alpha_{glz,r,j} $ の組み合わせを入力条件として1つの変数（タプル）で表し\"ata_input\"とする。  "
   ]
  },
  {
   "cell_type": "code",
   "execution_count": 2,
   "metadata": {},
   "outputs": [],
   "source": [
    "#class ata_input(namedtuple('ata_input','ata_absb ata_absd ata_absr')):\n",
    "#    __slots__ = ()\n",
    "\n",
    "#ata_absb：直達成分の日射吸収率\n",
    "#ata_absd：天空成分の日射吸収率\n",
    "#ata_absr：地表面反射成分の日射吸収率"
   ]
  },
  {
   "cell_type": "code",
   "execution_count": 3,
   "metadata": {},
   "outputs": [],
   "source": [
    "class ata_input():\n",
    "    def __init__( self, absb, absd, absr ):\n",
    "        self.absb = absb\n",
    "        self.absd = absd\n",
    "        self.absr = absr\n",
    "        \n",
    "#absb：直達成分の日射吸収率\n",
    "#absd：天空成分の日射吸収率\n",
    "#absr：地表面反射成分の日射吸収率"
   ]
  },
  {
   "cell_type": "markdown",
   "metadata": {},
   "source": [
    "#### 層$j$での吸収日射量の計算  \n",
    "\n",
    "層$j$での吸収日射量の計算方法を以下に示す。\n",
    "\n",
    "$ \\begin{align}I_{\\alpha,j} = I_{T,b}･\\alpha_{glz,b,j} + I_{T,d}･\\alpha_{glz,d} + I_{T,r}･\\alpha_{glz,r} \\end{align}$ ･･････････････････････ (5.1.4.4-a)  \n",
    "\n",
    "$ \\begin{align}\\alpha_{glz,d} = \\sum_{l=0}^{N_{d,lat}-1}\\sum_{m=0}^{N_{d,lon}-1} F_{d,l,m}･\\alpha_{glz,d,j,l,m} \\end{align}$ ････････････････････ (5.1.4.4-b)  \n",
    "\n",
    "$ \\begin{align}\\alpha_{glz,r} = \\sum_{l=0}^{N_{r,lat}-1}\\sum_{m=0}^{N_{r,lon}-1} F_{r,l,m}･\\alpha_{glz,r,j,l,m} \\end{align}$ ････････････････････ (5.1.4.4-c)  "
   ]
  },
  {
   "cell_type": "code",
   "execution_count": 4,
   "metadata": {},
   "outputs": [],
   "source": [
    "#層jの吸収日射量\n",
    "def absorb_sol(L, M):\n",
    "    \n",
    "    #return L.ita_Itb * M.ata_absb + L.ita_Itd * M.ata_absd + L.ita_Itr * M.ata_absr\n",
    "    return L.Itb * M.absb + L.Itd * M.absd + L.Itr * M.absr\n",
    "\n",
    "#直達日射での層jの吸収率\n",
    "def actual_abs_beam(L, gl_type, phi_b):\n",
    "    \n",
    "    r_absb = np.zeros(len(L))\n",
    "    ly_in_b = np.empty(len(L), dtype = tuple)\n",
    "    for j in range(0, len(L)):\n",
    "        if gl_type[j] == 0: #ガラス\n",
    "            ly_in_b[j] = MROSR.layer_input(GAP.glass_ang_prop(L[j], phi_b)[0], GAP.glass_ang_prop(L[j], phi_b)[1], \\\n",
    "                                           GAP.glass_ang_prop(L[j], phi_b)[2], GAP.glass_ang_prop(L[j], phi_b)[3])\n",
    "        elif gl_type[j] == 1: #ロールスクリーン\n",
    "            ly_in_b[j] = MROSR.layer_input(RAP.role_ang_prop(L[j], phi_b)[0], RAP.role_ang_prop(L[j], phi_b)[1], \\\n",
    "                                           RAP.role_ang_prop(L[j], phi_b)[2], RAP.role_ang_prop(L[j], phi_b)[3])\n",
    "\n",
    "    for j in range(0, len(L)):\n",
    "        r_absb[j]  = MROSR.Abs_Multi_Lay(ly_in_b, j)\n",
    "                \n",
    "    return r_absb\n",
    "\n",
    "#天空日射での層jの吸収率\n",
    "def actual_abs_diffuse(L, gl_type, Nd_lat, Nd_lon):\n",
    "\n",
    "    F_d = np.empty((Nd_lat, Nd_lon))\n",
    "    phi_d = np.empty((Nd_lat, Nd_lon))\n",
    "    abs_d = np.empty((len(L), Nd_lat, Nd_lon))\n",
    "    r_absd = np.zeros(len(L))\n",
    "    ly_in_d = np.empty(len(L), dtype = tuple) \n",
    "    for l in range(0, Nd_lat):\n",
    "        for m in range(0, Nd_lon):\n",
    "            dd_in = DDR.dd_input(Nd_lat, Nd_lon, l, m)\n",
    "            F_d[l][m] = DDR.division_diffuse_ratio(dd_in)[0]   #割合\n",
    "            phi_d[l][m] = DDR.division_diffuse_ratio(dd_in)[3] #入射角\n",
    "            \n",
    "            for j in range(0, len(L)):\n",
    "                if gl_type[j] == 0: #ガラス\n",
    "                    ly_in_d[j] = MROSR.layer_input(GAP.glass_ang_prop(L[j], phi_d[l][m])[0], GAP.glass_ang_prop(L[j], phi_d[l][m])[1], \\\n",
    "                                                   GAP.glass_ang_prop(L[j], phi_d[l][m])[2], GAP.glass_ang_prop(L[j], phi_d[l][m])[3])\n",
    "                elif gl_type[j] == 1: #ロールスクリーン\n",
    "                    ly_in_d[j] = MROSR.layer_input(RAP.role_ang_prop(L[j], phi_d[l][m])[0], RAP.role_ang_prop(L[j], phi_d[l][m])[1], \\\n",
    "                                                   RAP.role_ang_prop(L[j], phi_d[l][m])[2], RAP.role_ang_prop(L[j], phi_d[l][m])[3])     \n",
    "\n",
    "            for j in range(0, len(L)):\n",
    "                abs_d[j][l][m] = MROSR.Abs_Multi_Lay(ly_in_d, j)\n",
    "                r_absd[j] += F_d[l][m] * abs_d[j][l][m]\n",
    "                \n",
    "    return r_absd\n",
    "\n",
    "#地表面反射日射での層jの吸収率\n",
    "def actual_abs_reflect(L, gl_type, Nr_lat, Nr_lon):\n",
    "\n",
    "    F_r = np.empty((Nr_lat, Nr_lon))\n",
    "    phi_r = np.empty((Nr_lat, Nr_lon))\n",
    "    abs_r = np.empty((len(L), Nr_lat, Nr_lon))\n",
    "    r_absr = np.zeros(len(L))\n",
    "    ly_in_r = np.empty(len(L), dtype = tuple)   \n",
    "    for l in range(0, Nr_lat):\n",
    "        for m in range(0, Nr_lon):\n",
    "            dr_in = DDR.dr_input(Nr_lat, Nr_lon, l, m)\n",
    "            F_r[l][m] = DDR.division_reflect_ratio(dr_in)[0]   #割合\n",
    "            phi_r[l][m] = DDR.division_reflect_ratio(dr_in)[3] #入射角\n",
    "\n",
    "            for j in range(0, len(L)):\n",
    "                if gl_type[j] == 0: #ガラス\n",
    "                    ly_in_r[j] = MROSR.layer_input(GAP.glass_ang_prop(L[j], phi_r[l][m])[0], GAP.glass_ang_prop(L[j], phi_r[l][m])[1], \\\n",
    "                                                   GAP.glass_ang_prop(L[j], phi_r[l][m])[2], GAP.glass_ang_prop(L[j], phi_r[l][m])[3])\n",
    "                elif gl_type[j] == 1: #ロールスクリーン\n",
    "                    ly_in_r[j] = MROSR.layer_input(RAP.role_ang_prop(L[j], phi_r[l][m])[0], RAP.role_ang_prop(L[j], phi_r[l][m])[1], \\\n",
    "                                                   RAP.role_ang_prop(L[j], phi_r[l][m])[2], RAP.role_ang_prop(L[j], phi_r[l][m])[3])\n",
    "\n",
    "            for j in range(0, len(L)):\n",
    "                abs_r[j][l][m] = MROSR.Abs_Multi_Lay(ly_in_r, j)\n",
    "                r_absr[j] += F_r[l][m] * abs_r[j][l][m]\n",
    "                \n",
    "    return r_absr"
   ]
  },
  {
   "cell_type": "markdown",
   "metadata": {},
   "source": [
    "#### Example"
   ]
  },
  {
   "cell_type": "code",
   "execution_count": 5,
   "metadata": {},
   "outputs": [
    {
     "name": "stdout",
     "output_type": "stream",
     "text": [
      "[139.94031065 125.26867442  39.32484644]\n"
     ]
    }
   ],
   "source": [
    "if __name__ == '__main__':\n",
    "\n",
    "    #面材の種類\n",
    "    gl_type = [0, 0, 1]                #各層のグレージング種類（0：ガラス、1：ロールスクリーン、2：横型ブラインド、3：縦型ブラインド）\n",
    "    \n",
    "    #面材ごとの光学特性\n",
    "    gl_in = [GAP.glass_input(0.815, 0.815, 0.072, 0.072, 0, 0, 0),\n",
    "             GAP.glass_input(0.815, 0.815, 0.072, 0.072, 0, 0, 0),\n",
    "             RAP.role_input(0.3, 0.3, 0.63, 0.63)]\n",
    "\n",
    "    #斜面日射量\n",
    "    ita_in = ISROG.ita_input(2.6840261248 * 10. ** 6. / 3600., 0.1181932153 * 10. ** 6. / 3600., 0.094 * 10. ** 6. / 3600.)\n",
    "\n",
    "    #直達日射の入射角\n",
    "    phi_b = 31.6403837639\n",
    "\n",
    "    #天空分割数\n",
    "    Nd_lat = 90\n",
    "    Nd_lon = 180\n",
    "\n",
    "    #地表面反射分割数\n",
    "    Nr_lat = 90\n",
    "    Nr_lon = 180\n",
    "\n",
    "    abs_b = np.zeros(len(gl_in))\n",
    "    abs_d = np.zeros(len(gl_in))\n",
    "    abs_r = np.zeros(len(gl_in))\n",
    "    I_abs = np.zeros(len(gl_in))\n",
    "    for j in range(0, len(gl_in)):\n",
    "        abs_b[j] = actual_abs_beam(gl_in, gl_type, phi_b)[j]\n",
    "        abs_d[j] = actual_abs_diffuse(gl_in, gl_type, Nd_lat, Nd_lon)[j]\n",
    "        abs_r[j] = actual_abs_reflect(gl_in, gl_type, Nr_lat, Nr_lon)[j]\n",
    "\n",
    "        ata_in = ata_input(abs_b[j], abs_d[j], abs_r[j])\n",
    "        I_abs[j] = absorb_sol(ita_in, ata_in)             #斜面（開口面）吸収日射量\n",
    "\n",
    "    print (I_abs)"
   ]
  }
 ],
 "metadata": {
  "kernelspec": {
   "display_name": "Python 3",
   "language": "python",
   "name": "python3"
  },
  "language_info": {
   "codemirror_mode": {
    "name": "ipython",
    "version": 3
   },
   "file_extension": ".py",
   "mimetype": "text/x-python",
   "name": "python",
   "nbconvert_exporter": "python",
   "pygments_lexer": "ipython3",
   "version": "3.6.4"
  }
 },
 "nbformat": 4,
 "nbformat_minor": 2
}
