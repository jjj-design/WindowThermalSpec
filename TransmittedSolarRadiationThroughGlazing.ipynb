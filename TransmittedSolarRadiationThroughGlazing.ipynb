{
 "cells": [
  {
   "cell_type": "code",
   "execution_count": 1,
   "metadata": {
    "scrolled": true
   },
   "outputs": [
    {
     "name": "stdout",
     "output_type": "stream",
     "text": [
      "Importing Jupyter notebook from GlassAngularProperty.ipynb\n",
      "Importing Jupyter notebook from RollershadeAngularProperty.ipynb\n",
      "Importing Jupyter notebook from IncidentSolarRadiationOnGlazing.ipynb\n",
      "Importing Jupyter notebook from MultipleReflectionOfSolarRadiation.ipynb\n",
      "Importing Jupyter notebook from DivisionDiffuseRatio.ipynb\n"
     ]
    }
   ],
   "source": [
    "from collections import namedtuple\n",
    "import csv\n",
    "import math\n",
    "import numpy as np\n",
    "import matplotlib.pyplot as plt\n",
    "\n",
    "import nbimporter\n",
    "import GlassAngularProperty as GAP\n",
    "import RollershadeAngularProperty as RAP\n",
    "import IncidentSolarRadiationOnGlazing as ISROG\n",
    "import MultipleReflectionOfSolarRadiation as MROSR\n",
    "import DivisionDiffuseRatio as DDR"
   ]
  },
  {
   "cell_type": "markdown",
   "metadata": {},
   "source": [
    "# 開口面透過日射量を計算するモジュール"
   ]
  },
  {
   "cell_type": "markdown",
   "metadata": {},
   "source": [
    "## 1. Functions  "
   ]
  },
  {
   "cell_type": "markdown",
   "metadata": {},
   "source": [
    "開口面日射量（直達・天空・地表面反射）とグレージング複合体の日射透過率から開口面透過日射量を計算する。"
   ]
  },
  {
   "cell_type": "markdown",
   "metadata": {},
   "source": [
    "### 入力値  \n",
    "\n",
    "$ I_{T,b} $ ：斜面（開口面）直達日射量 (W/m<sup>2</sup>)  \n",
    "$ I_{T,d} $ ：斜面（開口面）天空日射量 (W/m<sup>2</sup>)  \n",
    "$ I_{T,r} $ ：斜面（開口面）地表面反射日射量 (W/m<sup>2</sup>)  \n",
    "$ \\tau_{glz,b} $ ：直達日射に対する日射透過率  \n",
    "$ \\tau_{glz,d,l,m} $ ：天空上の微小要素からの入射日射に対する日射透過率  \n",
    "$ \\tau_{glz,r,l,m} $ ：地表面上の微小要素からの入射日射に対する日射透過率  \n",
    "$ F_{d,l,m} $ ：天空日射量に対する天空上の微小要素からの天空日射量の割合  \n",
    "$ F_{r,l,m} $ ：地表面反射日射量に対する地表面上の微小要素からの地表面反射日射量の割合  "
   ]
  },
  {
   "cell_type": "markdown",
   "metadata": {},
   "source": [
    "### 出力値  \n",
    "\n",
    "$ I_{\\tau} $ ：開口面透過日射量 (W/m<sup>2</sup>)  "
   ]
  },
  {
   "cell_type": "markdown",
   "metadata": {},
   "source": [
    "### 計算方法  \n",
    "\n",
    "#### データ構造と値の範囲  \n",
    "\n",
    "$ \\tau_{glz,b} $・$ \\tau_{glz,d} $・$ \\tau_{glz,r} $ の組み合わせをクラス『tta＿input』とする。  "
   ]
  },
  {
   "cell_type": "code",
   "execution_count": 2,
   "metadata": {},
   "outputs": [],
   "source": [
    "class tta_input():\n",
    "    def __init__( self, taub, taud, taur ):\n",
    "        self.taub = taub\n",
    "        self.taud = taud\n",
    "        self.taur = taur\n",
    "        \n",
    "#taub：直達成分の日射透過率\n",
    "#taud：天空成分の日射透過率\n",
    "#taur：地表面反射成分の日射透過率"
   ]
  },
  {
   "cell_type": "markdown",
   "metadata": {},
   "source": [
    "#### 透過日射量の計算  \n",
    "\n",
    "透過日射量の計算方法を以下に示す。"
   ]
  },
  {
   "cell_type": "markdown",
   "metadata": {},
   "source": [
    "$$\n",
    "\\begin{eqnarray}\n",
    " &\\displaystyle I_{\\tau} = I_{T,b} \\cdot \\tau_{glz,b} + I_{T,d} \\cdot \\tau_{glz,d} + I_{T,r} \\cdot \\tau_{glz,r}& \\qquad\\qquad\\text{(1)} \\nonumber\\\\\n",
    " \\nonumber \\\\\n",
    " &\\displaystyle \\tau_{glz,d} = \\sum_{l=0}^{N_{d,lat}-1}\\sum_{m=0}^{N_{d,lon}-1} F_{d,l,m} \\cdot \\tau_{glz,d,l,m}& \\qquad\\qquad\\text{(2)} \\nonumber\\\\\n",
    " \\nonumber \\\\\n",
    " &\\displaystyle \\tau_{glz,r} = \\sum_{l=0}^{N_{r,lat}-1}\\sum_{m=0}^{N_{r,lon}-1} F_{r,l,m} \\cdot \\tau_{glz,r,l,m}& \\qquad\\qquad\\text{(3)} \\nonumber\\\\\n",
    "\\end{eqnarray}\n",
    "$$"
   ]
  },
  {
   "cell_type": "code",
   "execution_count": 3,
   "metadata": {},
   "outputs": [],
   "source": [
    "#開口面透過日射量\n",
    "def transmit_sol(L, M):\n",
    "    return L.Itb * M.taub + L.Itd * M.taud + L.Itr * M.taur\n",
    "\n",
    "#直達日射での透過率\n",
    "def actual_trans_beam(L, gl_type, phi_b):\n",
    "    \n",
    "    r_taub = 0.\n",
    "    ly_in_b = np.empty(len(L), dtype = tuple)\n",
    "    for j in range(0, len(L)):\n",
    "        if gl_type[j] == 0: #ガラス\n",
    "            ly_in_b[j] = MROSR.layer_input(GAP.glass_ang_prop(L[j], phi_b)[0], GAP.glass_ang_prop(L[j], phi_b)[1], \\\n",
    "                                           GAP.glass_ang_prop(L[j], phi_b)[2], GAP.glass_ang_prop(L[j], phi_b)[3])\n",
    "        elif gl_type[j] == 1: #ロールスクリーン\n",
    "            ly_in_b[j] = MROSR.layer_input(RAP.role_ang_prop(L[j], phi_b)[0], RAP.role_ang_prop(L[j], phi_b)[1], \\\n",
    "                                           RAP.role_ang_prop(L[j], phi_b)[2], RAP.role_ang_prop(L[j], phi_b)[3])\n",
    "\n",
    "    r_taub = MROSR.Sol_Trs_All(ly_in_b)\n",
    "                \n",
    "    return r_taub\n",
    "\n",
    "#天空日射での透過率\n",
    "def actual_trans_diffuse(L, gl_type, Nd_lat, Nd_lon):\n",
    "\n",
    "    F_d = np.empty((Nd_lat, Nd_lon))\n",
    "    phi_d = np.empty((Nd_lat, Nd_lon))\n",
    "    tau_d = np.empty((Nd_lat, Nd_lon))\n",
    "    r_taud = 0.\n",
    "    ly_in_d = np.empty(len(L), dtype = tuple)\n",
    "    for l in range(0, Nd_lat):\n",
    "        for m in range(0, Nd_lon):\n",
    "            dd_in = DDR.dd_input(Nd_lat, Nd_lon, l, m)\n",
    "            F_d[l][m] = DDR.division_diffuse_ratio(dd_in)[0]   #割合\n",
    "            phi_d[l][m] = DDR.division_diffuse_ratio(dd_in)[3] #入射角\n",
    "            \n",
    "            for j in range(0, len(L)):\n",
    "                if gl_type[j] == 0: #ガラス\n",
    "                    ly_in_d[j] = MROSR.layer_input(GAP.glass_ang_prop(L[j], phi_d[l][m])[0], GAP.glass_ang_prop(L[j], phi_d[l][m])[1], \\\n",
    "                                                   GAP.glass_ang_prop(L[j], phi_d[l][m])[2], GAP.glass_ang_prop(L[j], phi_d[l][m])[3])\n",
    "                elif gl_type[j] == 1: #ロールスクリーン\n",
    "                    ly_in_d[j] = MROSR.layer_input(RAP.role_ang_prop(L[j], phi_d[l][m])[0], RAP.role_ang_prop(L[j], phi_d[l][m])[1], \\\n",
    "                                                   RAP.role_ang_prop(L[j], phi_d[l][m])[2], RAP.role_ang_prop(L[j], phi_d[l][m])[3])                    \n",
    "\n",
    "            tau_d[l][m] = MROSR.Sol_Trs_All(ly_in_d)\n",
    "\n",
    "            r_taud += F_d[l][m] * tau_d[l][m]\n",
    "               \n",
    "    return r_taud\n",
    "\n",
    "#地表面反射日射での透過率\n",
    "def actual_trans_reflect(L, gl_type, Nr_lat, Nr_lon):\n",
    "\n",
    "    F_r = np.empty((Nr_lat, Nr_lon))\n",
    "    phi_r = np.empty((Nr_lat, Nr_lon))\n",
    "    tau_r = np.empty((Nr_lat, Nr_lon))\n",
    "    r_taur =0.\n",
    "    ly_in_r = np.empty(len(L), dtype = tuple)  \n",
    "    for l in range(0, Nr_lat):\n",
    "        for m in range(0, Nr_lon):\n",
    "            dr_in = DDR.dr_input(Nr_lat, Nr_lon, l, m)\n",
    "            F_r[l][m] = DDR.division_reflect_ratio(dr_in)[0]   #割合\n",
    "            phi_r[l][m] = DDR.division_reflect_ratio(dr_in)[3] #入射角\n",
    "\n",
    "            for j in range(0, len(L)):\n",
    "                if gl_type[j] == 0: #ガラス\n",
    "                    ly_in_r[j] = MROSR.layer_input(GAP.glass_ang_prop(L[j], phi_r[l][m])[0], GAP.glass_ang_prop(L[j], phi_r[l][m])[1], \\\n",
    "                                                   GAP.glass_ang_prop(L[j], phi_r[l][m])[2], GAP.glass_ang_prop(L[j], phi_r[l][m])[3])\n",
    "                elif gl_type[j] == 1: #ロールスクリーン\n",
    "                    ly_in_r[j] = MROSR.layer_input(RAP.role_ang_prop(L[j], phi_r[l][m])[0], RAP.role_ang_prop(L[j], phi_r[l][m])[1], \\\n",
    "                                                   RAP.role_ang_prop(L[j], phi_r[l][m])[2], RAP.role_ang_prop(L[j], phi_r[l][m])[3])                    \n",
    "                    \n",
    "            tau_r[l][m] = MROSR.Sol_Trs_All(ly_in_r)\n",
    "\n",
    "            r_taur += F_r[l][m] * tau_r[l][m]\n",
    "                \n",
    "    return r_taur"
   ]
  },
  {
   "cell_type": "markdown",
   "metadata": {},
   "source": [
    "#### Example"
   ]
  },
  {
   "cell_type": "code",
   "execution_count": 4,
   "metadata": {
    "scrolled": true
   },
   "outputs": [
    {
     "name": "stdout",
     "output_type": "stream",
     "text": [
      "168.53505619275467\n"
     ]
    }
   ],
   "source": [
    "if __name__ == '__main__':\n",
    "\n",
    "    #面材の種類\n",
    "    gl_type = [0, 0, 1]                #各層のグレージング種類（0：ガラス、1：ロールスクリーン、2：横型ブラインド、3：縦型ブラインド）\n",
    "    \n",
    "    #面材ごとの光学特性\n",
    "    gl_in = [GAP.glass_input(0.815, 0.815, 0.072, 0.072, 0, 0, 0),\n",
    "             GAP.glass_input(0.815, 0.815, 0.072, 0.072, 0, 0, 0),\n",
    "             RAP.role_input(0.3, 0.3, 0.63, 0.63)]\n",
    "\n",
    "    #斜面日射量\n",
    "    ita_in = ISROG.ita_input(2.6840261248 * 10. ** 6. / 3600., 0.1181932153 * 10. ** 6. / 3600., 0.094 * 10. ** 6. / 3600.)\n",
    "\n",
    "    #直達日射の入射角\n",
    "    phi_b = 31.6403837639\n",
    "\n",
    "    #天空分割数\n",
    "    Nd_lat = 90\n",
    "    Nd_lon = 180\n",
    "\n",
    "    #地表面反射分割数\n",
    "    Nr_lat = 90\n",
    "    Nr_lon = 180\n",
    "\n",
    "    tau_b = actual_trans_beam(gl_in, gl_type, phi_b)\n",
    "    tau_d = actual_trans_diffuse(gl_in, gl_type, Nd_lat, Nd_lon)\n",
    "    tau_r = actual_trans_reflect(gl_in, gl_type, Nr_lat, Nr_lon)\n",
    "\n",
    "    tta_in = tta_input(tau_b, tau_d, tau_r)\n",
    "    I_tau = transmit_sol(ita_in, tta_in)                  #斜面（開口面）透過日射量\n",
    "\n",
    "    print (I_tau)"
   ]
  },
  {
   "cell_type": "code",
   "execution_count": null,
   "metadata": {},
   "outputs": [],
   "source": []
  }
 ],
 "metadata": {
  "kernelspec": {
   "display_name": "Python 3",
   "language": "python",
   "name": "python3"
  },
  "language_info": {
   "codemirror_mode": {
    "name": "ipython",
    "version": 3
   },
   "file_extension": ".py",
   "mimetype": "text/x-python",
   "name": "python",
   "nbconvert_exporter": "python",
   "pygments_lexer": "ipython3",
   "version": "3.6.4"
  }
 },
 "nbformat": 4,
 "nbformat_minor": 2
}
