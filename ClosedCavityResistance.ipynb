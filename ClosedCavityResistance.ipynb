{
 "cells": [
  {
   "cell_type": "code",
   "execution_count": 1,
   "metadata": {},
   "outputs": [],
   "source": [
    "from collections import namedtuple\n",
    "import csv\n",
    "import math\n",
    "import numpy as np\n",
    "import matplotlib.pyplot as plt"
   ]
  },
  {
   "cell_type": "markdown",
   "metadata": {},
   "source": [
    "# 中空層の熱抵抗を計算するモジュール"
   ]
  },
  {
   "cell_type": "markdown",
   "metadata": {},
   "source": [
    "## 1. Functions  "
   ]
  },
  {
   "cell_type": "markdown",
   "metadata": {
    "collapsed": true
   },
   "source": [
    "面材間の表面温度から中空層の熱抵抗を計算する。"
   ]
  },
  {
   "cell_type": "markdown",
   "metadata": {},
   "source": [
    "### 入力値  \n",
    "$ \\theta_1 $ ：面1の表面温度 (℃)  \n",
    "$ \\theta_2 $ ：面2の表面温度 (℃)  \n",
    "$ \\epsilon_1 $ ：面1の修正放射率  \n",
    "$ \\epsilon_2 $ ：面2の修正放射率  \n",
    "$ s $ ：中空層の厚さ (m)  \n",
    "gap_type_1：気体1の種類flag（0：空気、1：アルゴン、2：SF6、3：クリプトン）  \n",
    "gap_type_2：気体2の種類flag（0：空気、1：アルゴン、2：SF6、3：クリプトン）  \n",
    "gap_ratio_1：気体1の容積割合（0.0～1.0）  \n",
    "gap_ratio_2：気体2の容積割合（1.0 - gas_ratio_1）  \n",
    "gap_dir：中空層の熱流方向flag（0：中空層が垂直で熱流方向が水平、1：中空層が水平で熱流方向が上向き、2：中空層が45度で熱流方向が上向き）    "
   ]
  },
  {
   "cell_type": "markdown",
   "metadata": {},
   "source": [
    "### 出力値\n",
    "$ R_{s} $ ：中空層の熱抵抗 (m<sup>2</sup>･K/W)  "
   ]
  },
  {
   "cell_type": "markdown",
   "metadata": {},
   "source": [
    "### 計算方法  \n",
    "\n",
    "#### データ構造と値の範囲  \n",
    "\n",
    "$ \\theta_1 $・$ \\theta_2 $・$ \\epsilon_1 $・$ \\epsilon_2 $・$ s $・gap_type_1・gap_type_2・gap_ratio_1・gap_dirの組み合わせを1つの変数（タプル）で表し\"gap_input\"とする。  "
   ]
  },
  {
   "cell_type": "code",
   "execution_count": 2,
   "metadata": {},
   "outputs": [],
   "source": [
    "#class gap_input(namedtuple('gap_input','gap_Tmc1 gap_Tmc2 gap_eps1 gap_eps2 gap_s gap_type1 gap_type2 gap_ratio1 gap_dir')):\n",
    "#    __slots__ = ()\n",
    "\n",
    "# gap_Tmc1：面1の表面温度（℃）\n",
    "# gap_Tmc2：面2の表面温度（℃）\n",
    "# gap_eps1：面1の修正放射率\n",
    "# gap_eps2：面2の修正放射率\n",
    "# gap_s：中空層の厚さ（m）\n",
    "# gap_type1：気体1の種類flag（0：空気、1：アルゴン、2：SF6、3：クリプトン）\n",
    "# gap_type2：気体2の種類flag（0：空気、1：アルゴン、2：SF6、3：クリプトン）\n",
    "# gap_ratio1：気体1の容積割合（0.0～1.0）\n",
    "# gap_dir：中空層の熱流方向flag（0：中空層が垂直で熱流方向が水平、1：中空層が水平で熱流方向が上向き、2：中空層が45度で熱流方向が上向き）"
   ]
  },
  {
   "cell_type": "code",
   "execution_count": 3,
   "metadata": {},
   "outputs": [],
   "source": [
    "class gap_input():\n",
    "    def __init__( self, Tmc1, Tmc2, eps1, eps2, s, gastype1, gastype2, gasratio1, gasdir ):\n",
    "        self.Tmc1 = Tmc1\n",
    "        self.Tmc2 = Tmc2\n",
    "        self.eps1 = eps1\n",
    "        self.eps2 = eps2\n",
    "        self.s = s\n",
    "        self.gastype1 = gastype1\n",
    "        self.gastype2 = gastype2\n",
    "        self.gasratio1 = gasratio1\n",
    "        self.gasdir = gasdir\n",
    "        \n",
    "# Tmc1：面1の表面温度（℃）\n",
    "# Tmc2：面2の表面温度（℃）\n",
    "# eps1：面1の修正放射率\n",
    "# eps2：面2の修正放射率\n",
    "# s：中空層の厚さ（m）\n",
    "# gastype1：気体1の種類flag（0：空気、1：アルゴン、2：SF6、3：クリプトン）\n",
    "# gastype2：気体2の種類flag（0：空気、1：アルゴン、2：SF6、3：クリプトン）\n",
    "# gasratio1：気体1の容積割合（0.0～1.0）\n",
    "# gasdir：中空層の熱流方向flag（0：中空層が垂直で熱流方向が水平、1：中空層が水平で熱流方向が上向き、2：中空層が45度で熱流方向が上向き）"
   ]
  },
  {
   "cell_type": "markdown",
   "metadata": {},
   "source": [
    "#### 中空層の熱抵抗の計算  \n",
    "\n",
    "（参考：JIS R 3107：1998 4.1 基礎式）  \n",
    "\n",
    "中空層の熱抵抗の計算方法を以下に示す。 \n",
    "\n",
    "$ \\begin{align}R_{s} = \\frac{1}{h_r+h_g}\\end{align}$ ････････････････････････････････････････ (5.1.3.2-a)  \n",
    "\n",
    "ここで、  \n",
    "\n",
    "$ R_{s} $ ：中空層の熱抵抗 (m<sup>2</sup>･K/W)  \n",
    "$ h_{r} $ ：中空層における放射熱コンダクタンス [W/(m<sup>2</sup>･K)]  \n",
    "$ h_{g} $ ：中空層における気体の伝導と対流による熱コンダクタンス（気体熱コンダクタンス）[W/(m<sup>2</sup>･K)]  \n",
    "\n",
    "である。 "
   ]
  },
  {
   "cell_type": "markdown",
   "metadata": {},
   "source": [
    "#### 中空層の放射熱コンダクタンスの計算  \n",
    "\n",
    "（参考：JIS R 3107：1998 4.2 放射熱コンダクタンス）  \n",
    "\n",
    "中空層における放射熱コンダクタンスの計算方法を以下に示す。\n",
    "\n",
    "$ \\begin{align}h_r = 4･\\sigma･(\\frac{1}{\\epsilon_1}+\\frac{1}{\\epsilon_2}-1)^{-1}･T_m^3\\end{align}$ ･･･････････････････････ (5.1.3.2-b)  \n",
    "\n",
    "\n",
    "ここで、  \n",
    "\n",
    "$ \\sigma $ ：ステファン・ボルツマン定数（＝5.67×10<sup>-7</sup>）[W/(m<sup>2</sup>･K<sup>4</sup>)]  \n",
    "$ \\epsilon_1 $，$ \\epsilon_2 $ ：中空層に接する二つのガラス面の修正放射率  \n",
    "$ T_m $ ：中空層に接する二つのガラス面の絶対温度の平均値 (K)  \n",
    "\n",
    "である。  "
   ]
  },
  {
   "cell_type": "markdown",
   "metadata": {},
   "source": [
    "#### 中空層の気体熱コンダクタンスの計算  \n",
    "\n",
    "（参考：JIS R 3107：1998 4.3 気体熱コンダクタンス）  \n",
    "\n",
    "中空層における気体熱コンダクタンスの計算方法を以下に示す。\n",
    "\n",
    "$ \\begin{align}h_g = Nu･\\frac{\\lambda}{s}\\end{align}$ ･･････････････････････････････････････････ (5.1.3.2-c)\n",
    "\n",
    "$ \\begin{align}Nu = A･(Gr･Pr)^n\\end{align}$ ････････････････････････････････････ (5.1.3.2-d)\n",
    "\n",
    "$ \\begin{align}Gr = \\frac{9.81･s^3･\\Delta T･\\rho^2}{T'_m･\\mu^2}\\end{align}$ ････････････････････････････････ (5.1.3.2-e)\n",
    "\n",
    "$ \\begin{align}Pr = \\frac{\\mu･c}{\\lambda}\\end{align}$ ････････････････････････････････････････････ (5.1.3.2-f)  \n",
    "\n",
    "ここで、  \n",
    "\n",
    "$ Nu $ ：ヌセルト数  \n",
    "$ \\lambda $ ：気体の熱伝導率 [W/(m･K)]  \n",
    "$ s $ ：中空層の厚さ (m)  \n",
    "$ A $，$ n $ ：中空層の傾斜角と熱流方向によって決まる数値  \n",
    "$ Gr $ ：グラスホフ数  \n",
    "$ Pr $ ：プラントル数  \n",
    "$ \\Delta T $ ：中空層に接する二つのガラス面の温度差 (K)  \n",
    "$ \\rho $ ：気体の密度 (kg/m<sup>3</sup>)  \n",
    "$ T'_m $ ：中空層の気体の平均絶対温度 (K)  \n",
    "$ \\mu $ ：気体の粘度 [kg/(m･s)]  \n",
    "$ c $ ：気体の比熱 [J/(kg･K)]  \n",
    "\n",
    "である。\n",
    "\n",
    "中空層の傾斜角と熱流方向によって決まる数値$ A $，$ n $は、以下の値とする（参考：JIS R3107：1998 5.3.1）。\n",
    "\n",
    "| 条件 | $A$ | $n$ |\n",
    "| :--- | ---: | ---: |\n",
    "| 中空層が垂直で熱流方向が水平の場合 | 0.035 | 0.38 |\n",
    "| 中空層が水平で熱流方向が上向きの場合 | 0.16 | 0.28 |\n",
    "| 中空層が45°で熱流方向が上向きの場合 | 0.10 | 0.31 |\n",
    "\n",
    "また、混合気体の場合には、気体の物性値は、式(5.1.3-g)によって計算する（参考：JIS R3107：1998 5.3.2）。\n",
    "\n",
    "$ \\begin{align}F = \\sum_{i=1}^N F_{i}･r_{i}\\end{align} $ ･････････････････････････････････････････ (5.1.3.2-g)  \n",
    "\n",
    "ここで、  \n",
    "\n",
    "$ F $ ：混合気体の密度、粘度、熱伝導率又は比熱  \n",
    "$ F_{i} $ ：各気体の密度、粘度、熱伝導率又は比熱  \n",
    "$ r_{i} $ ：各気体の容積割合  \n",
    "$ N $ ：気体の数  \n",
    "\n",
    "である。  \n",
    "なお、本仕様書では、$N$は1または2とする。\n",
    "\n",
    "気体の物性値を以下に示す（参考：JIS R 3107：1998 付表2）。  \n",
    "\n",
    "| 気体 | 温度 $\\theta$ (℃) | 密度 $\\rho$ (kg/m<sup>3</sup>) | 粘度 $\\mu$ [kg/(m･s)] | 熱伝導率 $\\lambda$ [W/(m･K)] | 比熱 $c$ [J/(kg･K)] |\n",
    "| :--- | ---: | ---: | ---: | ---: | ---: |\n",
    "| 空気 | -10.0 | 1.326 | 1.661e-5 | 2.336e-2 | 1.008e+3 |\n",
    "|      | 0.0   | 1.277 | 1.711e-5 | 2.416e-2 | 1.008e+3 |\n",
    "|      | 10.0  | 1.232 | 1.761e-5 | 2.496e-2 | 1.008e+3 |\n",
    "|      | 20.0  | 1.189 | 1.811e-5 | 2.576e-2 | 1.008e+3 |\n",
    "| アルゴン | -10.0 | 1.829 | 2.038e-5 | 1.584e-2 | 0.519e+3 |\n",
    "|          | 0.0   | 1.762 | 2.101e-5 | 1.634e-2 | 0.519e+3 |\n",
    "|          | 10.0  | 1.699 | 2.164e-5 | 1.684e-2 | 0.519e+3 |\n",
    "|          | 20.0  | 1.640 | 2.228e-5 | 1.734e-2 | 0.519e+3 |\n",
    "| SF<sub>6</sub> | -10.0 | 6.844 | 1.383e-5 | 1.119e-2 | 0.614e+3 |\n",
    "|                | 0.0   | 6.602 | 1.421e-5 | 1.197e-2 | 0.614e+3 |\n",
    "|                | 10.0  | 6.360 | 1.459e-5 | 1.275e-2 | 0.614e+3 |\n",
    "|                | 20.0  | 6.118 | 1.497e-5 | 1.354e-2 | 0.614e+3 |\n",
    "| クリプトン | -10.0 | 3.832 | 2.260e-5 | 0.842e-2 | 0.245e+3 |\n",
    "|            | 0.0   | 3.690 | 2.330e-5 | 0.870e-2 | 0.245e+3 |\n",
    "|            | 10.0  | 3.560 | 2.400e-5 | 0.900e-2 | 0.245e+3 |\n",
    "|            | 20.0  | 3.430 | 2.470e-5 | 0.926e-2 | 0.245e+3 |"
   ]
  },
  {
   "cell_type": "code",
   "execution_count": 4,
   "metadata": {},
   "outputs": [],
   "source": [
    "def Gap_Resistance(L):\n",
    "    #gap_ratio2 = 1. - L.gap_ratio1\n",
    "    gap_ratio2 = 1. - L.gasratio1\n",
    "    #gap_dT = abs(L.gap_Tmc1 - L.gap_Tmc2)\n",
    "    gap_dT = abs(L.Tmc1 - L.Tmc2)\n",
    "    #gap_Tmc = (L.gap_Tmc1 + L.gap_Tmc2) / 2.\n",
    "    gap_Tmc = (L.Tmc1 + L.Tmc2) / 2.\n",
    "    gap_Tm = gap_Tmc + 273.15\n",
    "    ave_Tm = gap_Tm\n",
    "    \n",
    "    #if L.gap_dir == 0:\n",
    "    if L.gasdir == 0:\n",
    "        gap_A = 0.035\n",
    "        gap_n = 0.38\n",
    "    #elif L.gap_dir == 1:\n",
    "    elif L.gasdir == 1:\n",
    "        gap_A = 0.16\n",
    "        gap_n = 0.28\n",
    "    #elif L.gap_dir == 2:\n",
    "    elif L.gasdir == 2:\n",
    "        gap_A = 0.1\n",
    "        gap_n = 0.31\n",
    "    \n",
    "    sgm = 5.67 * 10. ** (-8.)\n",
    "    \n",
    "    for j in range(1, 5):\n",
    "        #gas_mix = gas_prop(L.gap_type1, gap_Tmc, j) * L.gap_ratio1 + gas_prop(L.gap_type2, gap_Tmc, j) * gap_ratio2\n",
    "        gas_mix = gas_prop(L.gastype1, gap_Tmc, j) * L.gasratio1 + gas_prop(L.gastype2, gap_Tmc, j) * gap_ratio2\n",
    "        if j == 1: gas_rho = gas_mix\n",
    "        elif j == 2: gas_mu = gas_mix * 10. ** (-5.)\n",
    "        elif j == 3: gas_lmd = gas_mix * 10. ** (-2.)\n",
    "        elif j == 4: gas_c = gas_mix * 10. ** 3.\n",
    "    #gas_Gr = 9.81 * L.gap_s ** 3. * gap_dT * gas_rho ** 2. / (gap_Tm * gas_mu ** 2.)\n",
    "    gas_Gr = 9.81 * L.s ** 3. * gap_dT * gas_rho ** 2. / (gap_Tm * gas_mu ** 2.)\n",
    "    gas_Pr = gas_mu * gas_c / gas_lmd\n",
    "    gas_Nu = gap_A * (gas_Gr * gas_Pr)** gap_n\n",
    "    if gas_Nu <= 1.: gas_Nu = 1.\n",
    "    #gap_hg = gas_Nu * gas_lmd / L.gap_s\n",
    "    gap_hg = gas_Nu * gas_lmd / L.s\n",
    "    #gap_hr = 4. * sgm * (1. / L.gap_eps1 + 1. / L.gap_eps2 - 1.) ** (-1.) * ave_Tm ** 3.\n",
    "    gap_hr = 4. * sgm * (1. / L.eps1 + 1. / L.eps2 - 1.) ** (-1.) * ave_Tm ** 3.\n",
    "    return 1. / (gap_hr + gap_hg)\n",
    "\n",
    "def gas_prop(gap_type, gap_Tmc, j):\n",
    "    if gap_type == 0: #空気\n",
    "        gp = np.array([[-10.0, 1.326, 1.661, 2.336, 1.008], [0.0, 1.277, 1.711, 2.416, 1.008],\n",
    "                       [10.0, 1.232, 1.761, 2.496, 1.008], [20.0, 1.189, 1.811, 2.576, 1.008]])\n",
    "    \n",
    "    elif gap_type == 1: #アルゴン\n",
    "        gp = np.array([[-10.0, 1.829, 2.038, 1.584, 0.519], [0.0, 1.762, 2.101, 1.634, 0.519],\n",
    "                       [10.0, 1.699, 2.164, 1.684, 0.519], [20.0, 1.640, 2.228, 1.734, 0.519]])\n",
    "\n",
    "    elif gap_type == 2: #SF6\n",
    "        gp = np.array([[-10.0, 6.844, 1.383, 1.119, 0.614], [0.0, 6.602, 1.421, 1.197, 0.614],\n",
    "                       [10.0, 6.360, 1.459, 1.275, 0.614], [20.0, 6.118, 1.497, 1.354, 0.614]])        \n",
    " \n",
    "    elif gap_type == 3: #クリプトン\n",
    "        gp = np.array([[-10.0, 3.832, 2.260, 0.842, 0.245], [0.0, 3.690, 2.330, 0.870, 0.245],\n",
    "                       [10.0, 3.560, 2.400, 0.900, 0.245], [20.0, 3.430, 2.470, 0.926, 0.245]])         \n",
    "    \n",
    "    for i in range(1, 4):\n",
    "        if i == 1 and gap_Tmc < gp[i-1, 0]: break\n",
    "        elif gp[i-1, 0] <= gap_Tmc and gap_Tmc < gp[i, 0]: break\n",
    "        elif i == 3 and gp[i, 0] <= gap_Tmc: break\n",
    "       \n",
    "    gp_cal = gp[i - 1, j] + (gp[i, j] - gp[i - 1, j]) * (gap_Tmc - gp[i - 1, 0]) / (gp[i, 0] - gp[i - 1, 0])\n",
    "    \n",
    "    return gp_cal"
   ]
  },
  {
   "cell_type": "markdown",
   "metadata": {
    "collapsed": true
   },
   "source": [
    "#### Example"
   ]
  },
  {
   "cell_type": "code",
   "execution_count": 5,
   "metadata": {},
   "outputs": [
    {
     "name": "stdout",
     "output_type": "stream",
     "text": [
      "[0.17284803 0.15077336 0.19069065]\n"
     ]
    }
   ],
   "source": [
    "if __name__ == '__main__':\n",
    "\n",
    "    Rgap_in = [gap_input(0., 20., 0.837, 0.837, 0.012, 0, 0, 1., 0),\n",
    "               gap_input(30., 25., 0.837, 0.837, 0.012, 0, 0, 1., 0),\n",
    "               gap_input(0., 20., 0.837, 0.837, 0.012, 1, 0, 0.8, 0)]\n",
    "\n",
    "    Rgap_result = np.zeros(len(Rgap_in))\n",
    "    for i in range(len(Rgap_in)):\n",
    "        Rgap_result[i] = Gap_Resistance(Rgap_in[i])\n",
    "\n",
    "    print (Rgap_result)"
   ]
  }
 ],
 "metadata": {
  "kernelspec": {
   "display_name": "Python 3",
   "language": "python",
   "name": "python3"
  },
  "language_info": {
   "codemirror_mode": {
    "name": "ipython",
    "version": 3
   },
   "file_extension": ".py",
   "mimetype": "text/x-python",
   "name": "python",
   "nbconvert_exporter": "python",
   "pygments_lexer": "ipython3",
   "version": "3.6.4"
  }
 },
 "nbformat": 4,
 "nbformat_minor": 2
}
