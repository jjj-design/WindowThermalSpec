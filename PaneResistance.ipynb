{
 "cells": [
  {
   "cell_type": "code",
   "execution_count": 1,
   "metadata": {},
   "outputs": [],
   "source": [
    "from collections import namedtuple\n",
    "import csv\n",
    "import math\n",
    "import numpy as np\n",
    "import matplotlib.pyplot as plt"
   ]
  },
  {
   "cell_type": "markdown",
   "metadata": {},
   "source": [
    "# 面材の熱抵抗を計算するモジュール"
   ]
  },
  {
   "cell_type": "markdown",
   "metadata": {},
   "source": [
    "## 1. Functions  "
   ]
  },
  {
   "cell_type": "markdown",
   "metadata": {},
   "source": [
    "面材の厚さと熱伝導率から面材の熱抵抗を計算する。"
   ]
  },
  {
   "cell_type": "markdown",
   "metadata": {},
   "source": [
    "### 入力値  \n",
    "$ d_{gl,l} $ ：面材を構成する材料$l$の厚さ (m)  \n",
    "$ \\lambda_{gl,l} $ ：面材を構成する材料$l$の熱伝導率 [W/(m･K)]     "
   ]
  },
  {
   "cell_type": "markdown",
   "metadata": {},
   "source": [
    "### 出力値\n",
    "$ R_{gl} $ ：面材の熱抵抗 (m<sup>2</sup>･K/W)  "
   ]
  },
  {
   "cell_type": "markdown",
   "metadata": {},
   "source": [
    "### 計算方法  \n",
    "\n",
    "#### データ構造と値の範囲  \n",
    "\n",
    "$ d_{gl} $・$ \\lambda_{gl} $の組み合わせを1つの変数（タプル）で表し\"gl_input\"とする。  "
   ]
  },
  {
   "cell_type": "code",
   "execution_count": 2,
   "metadata": {},
   "outputs": [],
   "source": [
    "#class gl_input(namedtuple('gl_input','gl_d gl_lmd')):\n",
    "#    __slots__ = ()\n",
    "\n",
    "#gl_d：グレージング層jの厚さ(m)\n",
    "#gl_lmd：グレージング層jの熱伝導率[W/(m・K)]"
   ]
  },
  {
   "cell_type": "code",
   "execution_count": 3,
   "metadata": {},
   "outputs": [],
   "source": [
    "class gl_input():\n",
    "    def __init__( self, d, lmd ):\n",
    "        self.d = d\n",
    "        self.lmd = lmd\n",
    "        \n",
    "#d：グレージング層jの厚さ(m)\n",
    "#lmd：グレージング層jの熱伝導率[W/(m・K)]"
   ]
  },
  {
   "cell_type": "markdown",
   "metadata": {},
   "source": [
    "#### 面材の熱抵抗の計算  \n",
    "\n",
    "（参考：JIS R 2103：2014 5.4.3 面材の熱抵抗）  \n",
    "\n",
    "面材の熱抵抗の計算方法を以下に示す。 \n",
    "\n",
    "$ \\begin{align}R_{gl} = \\sum_{l=1}^{L}\\frac{d_{gl,l}}{\\lambda_{gl,l}}\\end{align}$ ････････････････････････････････････････ (5.1.3.1-a)  \n",
    "\n",
    "ここで、  \n",
    "\n",
    "$ R_{gl} $ ：面材の熱抵抗 (m<sup>2</sup>･K/W)  \n",
    "$ d_{gl,l} $ ：面材を構成する材料$l$の厚さ (m)  \n",
    "$ \\lambda_{gl,l} $ ：面材を構成する材料$l$の熱伝導率 [W/(m･K)]   \n",
    "\n",
    "である。 "
   ]
  },
  {
   "cell_type": "code",
   "execution_count": 4,
   "metadata": {},
   "outputs": [],
   "source": [
    "def Glazing_Resistance(L):\n",
    "    \n",
    "    gl_R = 0.\n",
    "    #for l in range(len(L.gl_d)):\n",
    "    for l in range(len(L.d)):\n",
    "        #gl_R += L.gl_d[l] / L.gl_lmd[l]\n",
    "        gl_R += L.d[l] / L.lmd[l]\n",
    "\n",
    "    return gl_R"
   ]
  },
  {
   "cell_type": "markdown",
   "metadata": {},
   "source": [
    "#### Example"
   ]
  },
  {
   "cell_type": "code",
   "execution_count": 5,
   "metadata": {},
   "outputs": [
    {
     "name": "stdout",
     "output_type": "stream",
     "text": [
      "[0.015 0.005]\n"
     ]
    }
   ],
   "source": [
    "if __name__ == '__main__':\n",
    "\n",
    "    Rgl_in = [gl_input([0.003, 0.006], [1., 0.5]),\n",
    "              gl_input([0.005], [1.])]\n",
    "\n",
    "    Rgl_result = np.zeros(len(Rgl_in))\n",
    "    for j in range(len(Rgl_in)):\n",
    "        Rgl_result[j] = Glazing_Resistance(Rgl_in[j])\n",
    "\n",
    "    print (Rgl_result)"
   ]
  }
 ],
 "metadata": {
  "kernelspec": {
   "display_name": "Python 3",
   "language": "python",
   "name": "python3"
  },
  "language_info": {
   "codemirror_mode": {
    "name": "ipython",
    "version": 3
   },
   "file_extension": ".py",
   "mimetype": "text/x-python",
   "name": "python",
   "nbconvert_exporter": "python",
   "pygments_lexer": "ipython3",
   "version": "3.6.4"
  }
 },
 "nbformat": 4,
 "nbformat_minor": 2
}
